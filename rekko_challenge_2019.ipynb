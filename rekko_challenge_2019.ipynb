{
  "nbformat": 4,
  "nbformat_minor": 0,
  "metadata": {
    "kernelspec": {
      "name": "python3",
      "display_name": "Python 3"
    },
    "language_info": {
      "codemirror_mode": {
        "name": "ipython",
        "version": 3
      },
      "file_extension": ".py",
      "mimetype": "text/x-python",
      "name": "python",
      "nbconvert_exporter": "python",
      "pygments_lexer": "ipython3",
      "version": "3.7.3"
    },
    "colab": {
      "name": "rekko_challenge_2019.ipynb",
      "provenance": [],
      "collapsed_sections": [],
      "machine_shape": "hm"
    },
    "widgets": {
      "application/vnd.jupyter.widget-state+json": {
        "81f46af3f683465dbd660f713cc508d1": {
          "model_module": "@jupyter-widgets/controls",
          "model_name": "HBoxModel",
          "state": {
            "_view_name": "HBoxView",
            "_dom_classes": [],
            "_model_name": "HBoxModel",
            "_view_module": "@jupyter-widgets/controls",
            "_model_module_version": "1.5.0",
            "_view_count": null,
            "_view_module_version": "1.5.0",
            "box_style": "",
            "layout": "IPY_MODEL_168ad2b2c227411cb6b77a17e985f6b0",
            "_model_module": "@jupyter-widgets/controls",
            "children": [
              "IPY_MODEL_a657e30e6c39467987404ad7c9e263d4",
              "IPY_MODEL_aa2c62561fde402abddd0de0ddef7089"
            ]
          }
        },
        "168ad2b2c227411cb6b77a17e985f6b0": {
          "model_module": "@jupyter-widgets/base",
          "model_name": "LayoutModel",
          "state": {
            "_view_name": "LayoutView",
            "grid_template_rows": null,
            "right": null,
            "justify_content": null,
            "_view_module": "@jupyter-widgets/base",
            "overflow": null,
            "_model_module_version": "1.2.0",
            "_view_count": null,
            "flex_flow": null,
            "width": null,
            "min_width": null,
            "border": null,
            "align_items": null,
            "bottom": null,
            "_model_module": "@jupyter-widgets/base",
            "top": null,
            "grid_column": null,
            "overflow_y": null,
            "overflow_x": null,
            "grid_auto_flow": null,
            "grid_area": null,
            "grid_template_columns": null,
            "flex": null,
            "_model_name": "LayoutModel",
            "justify_items": null,
            "grid_row": null,
            "max_height": null,
            "align_content": null,
            "visibility": null,
            "align_self": null,
            "height": null,
            "min_height": null,
            "padding": null,
            "grid_auto_rows": null,
            "grid_gap": null,
            "max_width": null,
            "order": null,
            "_view_module_version": "1.2.0",
            "grid_template_areas": null,
            "object_position": null,
            "object_fit": null,
            "grid_auto_columns": null,
            "margin": null,
            "display": null,
            "left": null
          }
        },
        "a657e30e6c39467987404ad7c9e263d4": {
          "model_module": "@jupyter-widgets/controls",
          "model_name": "IntProgressModel",
          "state": {
            "_view_name": "ProgressView",
            "style": "IPY_MODEL_7995231f65d546f88452a231664a6345",
            "_dom_classes": [],
            "description": "100%",
            "_model_name": "IntProgressModel",
            "bar_style": "success",
            "max": 3383142,
            "_view_module": "@jupyter-widgets/controls",
            "_model_module_version": "1.5.0",
            "value": 3383142,
            "_view_count": null,
            "_view_module_version": "1.5.0",
            "orientation": "horizontal",
            "min": 0,
            "description_tooltip": null,
            "_model_module": "@jupyter-widgets/controls",
            "layout": "IPY_MODEL_aca4a4f9fa524c1c9be32c6cbadb8466"
          }
        },
        "aa2c62561fde402abddd0de0ddef7089": {
          "model_module": "@jupyter-widgets/controls",
          "model_name": "HTMLModel",
          "state": {
            "_view_name": "HTMLView",
            "style": "IPY_MODEL_62767be4ac8946139c6a6dda69e644f5",
            "_dom_classes": [],
            "description": "",
            "_model_name": "HTMLModel",
            "placeholder": "​",
            "_view_module": "@jupyter-widgets/controls",
            "_model_module_version": "1.5.0",
            "value": " 3383142/3383142 [00:07&lt;00:00, 470252.72it/s]",
            "_view_count": null,
            "_view_module_version": "1.5.0",
            "description_tooltip": null,
            "_model_module": "@jupyter-widgets/controls",
            "layout": "IPY_MODEL_af7810a0fa614b139c8922ab5267e9ad"
          }
        },
        "7995231f65d546f88452a231664a6345": {
          "model_module": "@jupyter-widgets/controls",
          "model_name": "ProgressStyleModel",
          "state": {
            "_view_name": "StyleView",
            "_model_name": "ProgressStyleModel",
            "description_width": "initial",
            "_view_module": "@jupyter-widgets/base",
            "_model_module_version": "1.5.0",
            "_view_count": null,
            "_view_module_version": "1.2.0",
            "bar_color": null,
            "_model_module": "@jupyter-widgets/controls"
          }
        },
        "aca4a4f9fa524c1c9be32c6cbadb8466": {
          "model_module": "@jupyter-widgets/base",
          "model_name": "LayoutModel",
          "state": {
            "_view_name": "LayoutView",
            "grid_template_rows": null,
            "right": null,
            "justify_content": null,
            "_view_module": "@jupyter-widgets/base",
            "overflow": null,
            "_model_module_version": "1.2.0",
            "_view_count": null,
            "flex_flow": null,
            "width": null,
            "min_width": null,
            "border": null,
            "align_items": null,
            "bottom": null,
            "_model_module": "@jupyter-widgets/base",
            "top": null,
            "grid_column": null,
            "overflow_y": null,
            "overflow_x": null,
            "grid_auto_flow": null,
            "grid_area": null,
            "grid_template_columns": null,
            "flex": null,
            "_model_name": "LayoutModel",
            "justify_items": null,
            "grid_row": null,
            "max_height": null,
            "align_content": null,
            "visibility": null,
            "align_self": null,
            "height": null,
            "min_height": null,
            "padding": null,
            "grid_auto_rows": null,
            "grid_gap": null,
            "max_width": null,
            "order": null,
            "_view_module_version": "1.2.0",
            "grid_template_areas": null,
            "object_position": null,
            "object_fit": null,
            "grid_auto_columns": null,
            "margin": null,
            "display": null,
            "left": null
          }
        },
        "62767be4ac8946139c6a6dda69e644f5": {
          "model_module": "@jupyter-widgets/controls",
          "model_name": "DescriptionStyleModel",
          "state": {
            "_view_name": "StyleView",
            "_model_name": "DescriptionStyleModel",
            "description_width": "",
            "_view_module": "@jupyter-widgets/base",
            "_model_module_version": "1.5.0",
            "_view_count": null,
            "_view_module_version": "1.2.0",
            "_model_module": "@jupyter-widgets/controls"
          }
        },
        "af7810a0fa614b139c8922ab5267e9ad": {
          "model_module": "@jupyter-widgets/base",
          "model_name": "LayoutModel",
          "state": {
            "_view_name": "LayoutView",
            "grid_template_rows": null,
            "right": null,
            "justify_content": null,
            "_view_module": "@jupyter-widgets/base",
            "overflow": null,
            "_model_module_version": "1.2.0",
            "_view_count": null,
            "flex_flow": null,
            "width": null,
            "min_width": null,
            "border": null,
            "align_items": null,
            "bottom": null,
            "_model_module": "@jupyter-widgets/base",
            "top": null,
            "grid_column": null,
            "overflow_y": null,
            "overflow_x": null,
            "grid_auto_flow": null,
            "grid_area": null,
            "grid_template_columns": null,
            "flex": null,
            "_model_name": "LayoutModel",
            "justify_items": null,
            "grid_row": null,
            "max_height": null,
            "align_content": null,
            "visibility": null,
            "align_self": null,
            "height": null,
            "min_height": null,
            "padding": null,
            "grid_auto_rows": null,
            "grid_gap": null,
            "max_width": null,
            "order": null,
            "_view_module_version": "1.2.0",
            "grid_template_areas": null,
            "object_position": null,
            "object_fit": null,
            "grid_auto_columns": null,
            "margin": null,
            "display": null,
            "left": null
          }
        },
        "a890ada4c7974b2eaace7cd649873a1d": {
          "model_module": "@jupyter-widgets/controls",
          "model_name": "HBoxModel",
          "state": {
            "_view_name": "HBoxView",
            "_dom_classes": [],
            "_model_name": "HBoxModel",
            "_view_module": "@jupyter-widgets/controls",
            "_model_module_version": "1.5.0",
            "_view_count": null,
            "_view_module_version": "1.5.0",
            "box_style": "",
            "layout": "IPY_MODEL_1805e8334cde4a1d936beaf6d70b5f5a",
            "_model_module": "@jupyter-widgets/controls",
            "children": [
              "IPY_MODEL_d5e722bee71444fb9c3e3595f3a4e61b",
              "IPY_MODEL_6fff6c5090834e26a88d91a921732592"
            ]
          }
        },
        "1805e8334cde4a1d936beaf6d70b5f5a": {
          "model_module": "@jupyter-widgets/base",
          "model_name": "LayoutModel",
          "state": {
            "_view_name": "LayoutView",
            "grid_template_rows": null,
            "right": null,
            "justify_content": null,
            "_view_module": "@jupyter-widgets/base",
            "overflow": null,
            "_model_module_version": "1.2.0",
            "_view_count": null,
            "flex_flow": null,
            "width": null,
            "min_width": null,
            "border": null,
            "align_items": null,
            "bottom": null,
            "_model_module": "@jupyter-widgets/base",
            "top": null,
            "grid_column": null,
            "overflow_y": null,
            "overflow_x": null,
            "grid_auto_flow": null,
            "grid_area": null,
            "grid_template_columns": null,
            "flex": null,
            "_model_name": "LayoutModel",
            "justify_items": null,
            "grid_row": null,
            "max_height": null,
            "align_content": null,
            "visibility": null,
            "align_self": null,
            "height": null,
            "min_height": null,
            "padding": null,
            "grid_auto_rows": null,
            "grid_gap": null,
            "max_width": null,
            "order": null,
            "_view_module_version": "1.2.0",
            "grid_template_areas": null,
            "object_position": null,
            "object_fit": null,
            "grid_auto_columns": null,
            "margin": null,
            "display": null,
            "left": null
          }
        },
        "d5e722bee71444fb9c3e3595f3a4e61b": {
          "model_module": "@jupyter-widgets/controls",
          "model_name": "IntProgressModel",
          "state": {
            "_view_name": "ProgressView",
            "style": "IPY_MODEL_91e04325d2484ba2af8dd12e8e191eea",
            "_dom_classes": [],
            "description": "100%",
            "_model_name": "IntProgressModel",
            "bar_style": "success",
            "max": 174148,
            "_view_module": "@jupyter-widgets/controls",
            "_model_module_version": "1.5.0",
            "value": 174148,
            "_view_count": null,
            "_view_module_version": "1.5.0",
            "orientation": "horizontal",
            "min": 0,
            "description_tooltip": null,
            "_model_module": "@jupyter-widgets/controls",
            "layout": "IPY_MODEL_c6bec144da2c46589d7f8fae97af74da"
          }
        },
        "6fff6c5090834e26a88d91a921732592": {
          "model_module": "@jupyter-widgets/controls",
          "model_name": "HTMLModel",
          "state": {
            "_view_name": "HTMLView",
            "style": "IPY_MODEL_cd357c6f49d24950aec01f9cbf245dd6",
            "_dom_classes": [],
            "description": "",
            "_model_name": "HTMLModel",
            "placeholder": "​",
            "_view_module": "@jupyter-widgets/controls",
            "_model_module_version": "1.5.0",
            "value": " 174148/174148 [00:01&lt;00:00, 131142.01it/s]",
            "_view_count": null,
            "_view_module_version": "1.5.0",
            "description_tooltip": null,
            "_model_module": "@jupyter-widgets/controls",
            "layout": "IPY_MODEL_36d731cc29e944db982336e66aec7d0c"
          }
        },
        "91e04325d2484ba2af8dd12e8e191eea": {
          "model_module": "@jupyter-widgets/controls",
          "model_name": "ProgressStyleModel",
          "state": {
            "_view_name": "StyleView",
            "_model_name": "ProgressStyleModel",
            "description_width": "initial",
            "_view_module": "@jupyter-widgets/base",
            "_model_module_version": "1.5.0",
            "_view_count": null,
            "_view_module_version": "1.2.0",
            "bar_color": null,
            "_model_module": "@jupyter-widgets/controls"
          }
        },
        "c6bec144da2c46589d7f8fae97af74da": {
          "model_module": "@jupyter-widgets/base",
          "model_name": "LayoutModel",
          "state": {
            "_view_name": "LayoutView",
            "grid_template_rows": null,
            "right": null,
            "justify_content": null,
            "_view_module": "@jupyter-widgets/base",
            "overflow": null,
            "_model_module_version": "1.2.0",
            "_view_count": null,
            "flex_flow": null,
            "width": null,
            "min_width": null,
            "border": null,
            "align_items": null,
            "bottom": null,
            "_model_module": "@jupyter-widgets/base",
            "top": null,
            "grid_column": null,
            "overflow_y": null,
            "overflow_x": null,
            "grid_auto_flow": null,
            "grid_area": null,
            "grid_template_columns": null,
            "flex": null,
            "_model_name": "LayoutModel",
            "justify_items": null,
            "grid_row": null,
            "max_height": null,
            "align_content": null,
            "visibility": null,
            "align_self": null,
            "height": null,
            "min_height": null,
            "padding": null,
            "grid_auto_rows": null,
            "grid_gap": null,
            "max_width": null,
            "order": null,
            "_view_module_version": "1.2.0",
            "grid_template_areas": null,
            "object_position": null,
            "object_fit": null,
            "grid_auto_columns": null,
            "margin": null,
            "display": null,
            "left": null
          }
        },
        "cd357c6f49d24950aec01f9cbf245dd6": {
          "model_module": "@jupyter-widgets/controls",
          "model_name": "DescriptionStyleModel",
          "state": {
            "_view_name": "StyleView",
            "_model_name": "DescriptionStyleModel",
            "description_width": "",
            "_view_module": "@jupyter-widgets/base",
            "_model_module_version": "1.5.0",
            "_view_count": null,
            "_view_module_version": "1.2.0",
            "_model_module": "@jupyter-widgets/controls"
          }
        },
        "36d731cc29e944db982336e66aec7d0c": {
          "model_module": "@jupyter-widgets/base",
          "model_name": "LayoutModel",
          "state": {
            "_view_name": "LayoutView",
            "grid_template_rows": null,
            "right": null,
            "justify_content": null,
            "_view_module": "@jupyter-widgets/base",
            "overflow": null,
            "_model_module_version": "1.2.0",
            "_view_count": null,
            "flex_flow": null,
            "width": null,
            "min_width": null,
            "border": null,
            "align_items": null,
            "bottom": null,
            "_model_module": "@jupyter-widgets/base",
            "top": null,
            "grid_column": null,
            "overflow_y": null,
            "overflow_x": null,
            "grid_auto_flow": null,
            "grid_area": null,
            "grid_template_columns": null,
            "flex": null,
            "_model_name": "LayoutModel",
            "justify_items": null,
            "grid_row": null,
            "max_height": null,
            "align_content": null,
            "visibility": null,
            "align_self": null,
            "height": null,
            "min_height": null,
            "padding": null,
            "grid_auto_rows": null,
            "grid_gap": null,
            "max_width": null,
            "order": null,
            "_view_module_version": "1.2.0",
            "grid_template_areas": null,
            "object_position": null,
            "object_fit": null,
            "grid_auto_columns": null,
            "margin": null,
            "display": null,
            "left": null
          }
        },
        "706ed1adac71429aade73aea01e84653": {
          "model_module": "@jupyter-widgets/controls",
          "model_name": "HBoxModel",
          "state": {
            "_view_name": "HBoxView",
            "_dom_classes": [],
            "_model_name": "HBoxModel",
            "_view_module": "@jupyter-widgets/controls",
            "_model_module_version": "1.5.0",
            "_view_count": null,
            "_view_module_version": "1.5.0",
            "box_style": "",
            "layout": "IPY_MODEL_b3cae5112ec84f7f93e97135ddafe604",
            "_model_module": "@jupyter-widgets/controls",
            "children": [
              "IPY_MODEL_559f75d8d7e64b8c8e5786047b81ea78",
              "IPY_MODEL_122244ae140c4c4cae2df0abb268dcad"
            ]
          }
        },
        "b3cae5112ec84f7f93e97135ddafe604": {
          "model_module": "@jupyter-widgets/base",
          "model_name": "LayoutModel",
          "state": {
            "_view_name": "LayoutView",
            "grid_template_rows": null,
            "right": null,
            "justify_content": null,
            "_view_module": "@jupyter-widgets/base",
            "overflow": null,
            "_model_module_version": "1.2.0",
            "_view_count": null,
            "flex_flow": null,
            "width": null,
            "min_width": null,
            "border": null,
            "align_items": null,
            "bottom": null,
            "_model_module": "@jupyter-widgets/base",
            "top": null,
            "grid_column": null,
            "overflow_y": null,
            "overflow_x": null,
            "grid_auto_flow": null,
            "grid_area": null,
            "grid_template_columns": null,
            "flex": null,
            "_model_name": "LayoutModel",
            "justify_items": null,
            "grid_row": null,
            "max_height": null,
            "align_content": null,
            "visibility": null,
            "align_self": null,
            "height": null,
            "min_height": null,
            "padding": null,
            "grid_auto_rows": null,
            "grid_gap": null,
            "max_width": null,
            "order": null,
            "_view_module_version": "1.2.0",
            "grid_template_areas": null,
            "object_position": null,
            "object_fit": null,
            "grid_auto_columns": null,
            "margin": null,
            "display": null,
            "left": null
          }
        },
        "559f75d8d7e64b8c8e5786047b81ea78": {
          "model_module": "@jupyter-widgets/controls",
          "model_name": "IntProgressModel",
          "state": {
            "_view_name": "ProgressView",
            "style": "IPY_MODEL_902b1eac65044e5c9192168e776a0b1d",
            "_dom_classes": [],
            "description": "100%",
            "_model_name": "IntProgressModel",
            "bar_style": "success",
            "max": 338214,
            "_view_module": "@jupyter-widgets/controls",
            "_model_module_version": "1.5.0",
            "value": 338214,
            "_view_count": null,
            "_view_module_version": "1.5.0",
            "orientation": "horizontal",
            "min": 0,
            "description_tooltip": null,
            "_model_module": "@jupyter-widgets/controls",
            "layout": "IPY_MODEL_405d3bae1f0b45f7a2b48b385be9876d"
          }
        },
        "122244ae140c4c4cae2df0abb268dcad": {
          "model_module": "@jupyter-widgets/controls",
          "model_name": "HTMLModel",
          "state": {
            "_view_name": "HTMLView",
            "style": "IPY_MODEL_3b0aafc8ff2f49a3b5418692fba8903a",
            "_dom_classes": [],
            "description": "",
            "_model_name": "HTMLModel",
            "placeholder": "​",
            "_view_module": "@jupyter-widgets/controls",
            "_model_module_version": "1.5.0",
            "value": " 338214/338214 [00:00&lt;00:00, 348868.87it/s]",
            "_view_count": null,
            "_view_module_version": "1.5.0",
            "description_tooltip": null,
            "_model_module": "@jupyter-widgets/controls",
            "layout": "IPY_MODEL_72c91511468f4ace810d4896deb21b3a"
          }
        },
        "902b1eac65044e5c9192168e776a0b1d": {
          "model_module": "@jupyter-widgets/controls",
          "model_name": "ProgressStyleModel",
          "state": {
            "_view_name": "StyleView",
            "_model_name": "ProgressStyleModel",
            "description_width": "initial",
            "_view_module": "@jupyter-widgets/base",
            "_model_module_version": "1.5.0",
            "_view_count": null,
            "_view_module_version": "1.2.0",
            "bar_color": null,
            "_model_module": "@jupyter-widgets/controls"
          }
        },
        "405d3bae1f0b45f7a2b48b385be9876d": {
          "model_module": "@jupyter-widgets/base",
          "model_name": "LayoutModel",
          "state": {
            "_view_name": "LayoutView",
            "grid_template_rows": null,
            "right": null,
            "justify_content": null,
            "_view_module": "@jupyter-widgets/base",
            "overflow": null,
            "_model_module_version": "1.2.0",
            "_view_count": null,
            "flex_flow": null,
            "width": null,
            "min_width": null,
            "border": null,
            "align_items": null,
            "bottom": null,
            "_model_module": "@jupyter-widgets/base",
            "top": null,
            "grid_column": null,
            "overflow_y": null,
            "overflow_x": null,
            "grid_auto_flow": null,
            "grid_area": null,
            "grid_template_columns": null,
            "flex": null,
            "_model_name": "LayoutModel",
            "justify_items": null,
            "grid_row": null,
            "max_height": null,
            "align_content": null,
            "visibility": null,
            "align_self": null,
            "height": null,
            "min_height": null,
            "padding": null,
            "grid_auto_rows": null,
            "grid_gap": null,
            "max_width": null,
            "order": null,
            "_view_module_version": "1.2.0",
            "grid_template_areas": null,
            "object_position": null,
            "object_fit": null,
            "grid_auto_columns": null,
            "margin": null,
            "display": null,
            "left": null
          }
        },
        "3b0aafc8ff2f49a3b5418692fba8903a": {
          "model_module": "@jupyter-widgets/controls",
          "model_name": "DescriptionStyleModel",
          "state": {
            "_view_name": "StyleView",
            "_model_name": "DescriptionStyleModel",
            "description_width": "",
            "_view_module": "@jupyter-widgets/base",
            "_model_module_version": "1.5.0",
            "_view_count": null,
            "_view_module_version": "1.2.0",
            "_model_module": "@jupyter-widgets/controls"
          }
        },
        "72c91511468f4ace810d4896deb21b3a": {
          "model_module": "@jupyter-widgets/base",
          "model_name": "LayoutModel",
          "state": {
            "_view_name": "LayoutView",
            "grid_template_rows": null,
            "right": null,
            "justify_content": null,
            "_view_module": "@jupyter-widgets/base",
            "overflow": null,
            "_model_module_version": "1.2.0",
            "_view_count": null,
            "flex_flow": null,
            "width": null,
            "min_width": null,
            "border": null,
            "align_items": null,
            "bottom": null,
            "_model_module": "@jupyter-widgets/base",
            "top": null,
            "grid_column": null,
            "overflow_y": null,
            "overflow_x": null,
            "grid_auto_flow": null,
            "grid_area": null,
            "grid_template_columns": null,
            "flex": null,
            "_model_name": "LayoutModel",
            "justify_items": null,
            "grid_row": null,
            "max_height": null,
            "align_content": null,
            "visibility": null,
            "align_self": null,
            "height": null,
            "min_height": null,
            "padding": null,
            "grid_auto_rows": null,
            "grid_gap": null,
            "max_width": null,
            "order": null,
            "_view_module_version": "1.2.0",
            "grid_template_areas": null,
            "object_position": null,
            "object_fit": null,
            "grid_auto_columns": null,
            "margin": null,
            "display": null,
            "left": null
          }
        },
        "f7502b5cac9743748e8ac9428eb5edc2": {
          "model_module": "@jupyter-widgets/controls",
          "model_name": "HBoxModel",
          "state": {
            "_view_name": "HBoxView",
            "_dom_classes": [],
            "_model_name": "HBoxModel",
            "_view_module": "@jupyter-widgets/controls",
            "_model_module_version": "1.5.0",
            "_view_count": null,
            "_view_module_version": "1.5.0",
            "box_style": "",
            "layout": "IPY_MODEL_77cb7884dbcb40a09fafdf92f3863a90",
            "_model_module": "@jupyter-widgets/controls",
            "children": [
              "IPY_MODEL_5c72f229319341ea8dcc83380518d623",
              "IPY_MODEL_0c6aa73eedc84a59a65183e30cd19387"
            ]
          }
        },
        "77cb7884dbcb40a09fafdf92f3863a90": {
          "model_module": "@jupyter-widgets/base",
          "model_name": "LayoutModel",
          "state": {
            "_view_name": "LayoutView",
            "grid_template_rows": null,
            "right": null,
            "justify_content": null,
            "_view_module": "@jupyter-widgets/base",
            "overflow": null,
            "_model_module_version": "1.2.0",
            "_view_count": null,
            "flex_flow": null,
            "width": null,
            "min_width": null,
            "border": null,
            "align_items": null,
            "bottom": null,
            "_model_module": "@jupyter-widgets/base",
            "top": null,
            "grid_column": null,
            "overflow_y": null,
            "overflow_x": null,
            "grid_auto_flow": null,
            "grid_area": null,
            "grid_template_columns": null,
            "flex": null,
            "_model_name": "LayoutModel",
            "justify_items": null,
            "grid_row": null,
            "max_height": null,
            "align_content": null,
            "visibility": null,
            "align_self": null,
            "height": null,
            "min_height": null,
            "padding": null,
            "grid_auto_rows": null,
            "grid_gap": null,
            "max_width": null,
            "order": null,
            "_view_module_version": "1.2.0",
            "grid_template_areas": null,
            "object_position": null,
            "object_fit": null,
            "grid_auto_columns": null,
            "margin": null,
            "display": null,
            "left": null
          }
        },
        "5c72f229319341ea8dcc83380518d623": {
          "model_module": "@jupyter-widgets/controls",
          "model_name": "IntProgressModel",
          "state": {
            "_view_name": "ProgressView",
            "style": "IPY_MODEL_9524282a388742a5ba0d79cd93d25729",
            "_dom_classes": [],
            "description": "100%",
            "_model_name": "IntProgressModel",
            "bar_style": "success",
            "max": 50000,
            "_view_module": "@jupyter-widgets/controls",
            "_model_module_version": "1.5.0",
            "value": 50000,
            "_view_count": null,
            "_view_module_version": "1.5.0",
            "orientation": "horizontal",
            "min": 0,
            "description_tooltip": null,
            "_model_module": "@jupyter-widgets/controls",
            "layout": "IPY_MODEL_62d49654cdab4e69aaf69d7e9ddb1375"
          }
        },
        "0c6aa73eedc84a59a65183e30cd19387": {
          "model_module": "@jupyter-widgets/controls",
          "model_name": "HTMLModel",
          "state": {
            "_view_name": "HTMLView",
            "style": "IPY_MODEL_8b02065f6faf4552ba99cb18ea6480b2",
            "_dom_classes": [],
            "description": "",
            "_model_name": "HTMLModel",
            "placeholder": "​",
            "_view_module": "@jupyter-widgets/controls",
            "_model_module_version": "1.5.0",
            "value": " 50000/50000 [00:13&lt;00:00, 3605.37it/s]",
            "_view_count": null,
            "_view_module_version": "1.5.0",
            "description_tooltip": null,
            "_model_module": "@jupyter-widgets/controls",
            "layout": "IPY_MODEL_145515d8492d4ddaad5504899546118e"
          }
        },
        "9524282a388742a5ba0d79cd93d25729": {
          "model_module": "@jupyter-widgets/controls",
          "model_name": "ProgressStyleModel",
          "state": {
            "_view_name": "StyleView",
            "_model_name": "ProgressStyleModel",
            "description_width": "initial",
            "_view_module": "@jupyter-widgets/base",
            "_model_module_version": "1.5.0",
            "_view_count": null,
            "_view_module_version": "1.2.0",
            "bar_color": null,
            "_model_module": "@jupyter-widgets/controls"
          }
        },
        "62d49654cdab4e69aaf69d7e9ddb1375": {
          "model_module": "@jupyter-widgets/base",
          "model_name": "LayoutModel",
          "state": {
            "_view_name": "LayoutView",
            "grid_template_rows": null,
            "right": null,
            "justify_content": null,
            "_view_module": "@jupyter-widgets/base",
            "overflow": null,
            "_model_module_version": "1.2.0",
            "_view_count": null,
            "flex_flow": null,
            "width": null,
            "min_width": null,
            "border": null,
            "align_items": null,
            "bottom": null,
            "_model_module": "@jupyter-widgets/base",
            "top": null,
            "grid_column": null,
            "overflow_y": null,
            "overflow_x": null,
            "grid_auto_flow": null,
            "grid_area": null,
            "grid_template_columns": null,
            "flex": null,
            "_model_name": "LayoutModel",
            "justify_items": null,
            "grid_row": null,
            "max_height": null,
            "align_content": null,
            "visibility": null,
            "align_self": null,
            "height": null,
            "min_height": null,
            "padding": null,
            "grid_auto_rows": null,
            "grid_gap": null,
            "max_width": null,
            "order": null,
            "_view_module_version": "1.2.0",
            "grid_template_areas": null,
            "object_position": null,
            "object_fit": null,
            "grid_auto_columns": null,
            "margin": null,
            "display": null,
            "left": null
          }
        },
        "8b02065f6faf4552ba99cb18ea6480b2": {
          "model_module": "@jupyter-widgets/controls",
          "model_name": "DescriptionStyleModel",
          "state": {
            "_view_name": "StyleView",
            "_model_name": "DescriptionStyleModel",
            "description_width": "",
            "_view_module": "@jupyter-widgets/base",
            "_model_module_version": "1.5.0",
            "_view_count": null,
            "_view_module_version": "1.2.0",
            "_model_module": "@jupyter-widgets/controls"
          }
        },
        "145515d8492d4ddaad5504899546118e": {
          "model_module": "@jupyter-widgets/base",
          "model_name": "LayoutModel",
          "state": {
            "_view_name": "LayoutView",
            "grid_template_rows": null,
            "right": null,
            "justify_content": null,
            "_view_module": "@jupyter-widgets/base",
            "overflow": null,
            "_model_module_version": "1.2.0",
            "_view_count": null,
            "flex_flow": null,
            "width": null,
            "min_width": null,
            "border": null,
            "align_items": null,
            "bottom": null,
            "_model_module": "@jupyter-widgets/base",
            "top": null,
            "grid_column": null,
            "overflow_y": null,
            "overflow_x": null,
            "grid_auto_flow": null,
            "grid_area": null,
            "grid_template_columns": null,
            "flex": null,
            "_model_name": "LayoutModel",
            "justify_items": null,
            "grid_row": null,
            "max_height": null,
            "align_content": null,
            "visibility": null,
            "align_self": null,
            "height": null,
            "min_height": null,
            "padding": null,
            "grid_auto_rows": null,
            "grid_gap": null,
            "max_width": null,
            "order": null,
            "_view_module_version": "1.2.0",
            "grid_template_areas": null,
            "object_position": null,
            "object_fit": null,
            "grid_auto_columns": null,
            "margin": null,
            "display": null,
            "left": null
          }
        },
        "f46c3035ea8f46f4ac7f5d07f551621e": {
          "model_module": "@jupyter-widgets/controls",
          "model_name": "HBoxModel",
          "state": {
            "_view_name": "HBoxView",
            "_dom_classes": [],
            "_model_name": "HBoxModel",
            "_view_module": "@jupyter-widgets/controls",
            "_model_module_version": "1.5.0",
            "_view_count": null,
            "_view_module_version": "1.5.0",
            "box_style": "",
            "layout": "IPY_MODEL_4570f8b99af649daa43217953aba7fec",
            "_model_module": "@jupyter-widgets/controls",
            "children": [
              "IPY_MODEL_122047e70356491e9a4038d23792499f",
              "IPY_MODEL_a9cd9984736b43e5b7239a60860e7e5c"
            ]
          }
        },
        "4570f8b99af649daa43217953aba7fec": {
          "model_module": "@jupyter-widgets/base",
          "model_name": "LayoutModel",
          "state": {
            "_view_name": "LayoutView",
            "grid_template_rows": null,
            "right": null,
            "justify_content": null,
            "_view_module": "@jupyter-widgets/base",
            "overflow": null,
            "_model_module_version": "1.2.0",
            "_view_count": null,
            "flex_flow": null,
            "width": null,
            "min_width": null,
            "border": null,
            "align_items": null,
            "bottom": null,
            "_model_module": "@jupyter-widgets/base",
            "top": null,
            "grid_column": null,
            "overflow_y": null,
            "overflow_x": null,
            "grid_auto_flow": null,
            "grid_area": null,
            "grid_template_columns": null,
            "flex": null,
            "_model_name": "LayoutModel",
            "justify_items": null,
            "grid_row": null,
            "max_height": null,
            "align_content": null,
            "visibility": null,
            "align_self": null,
            "height": null,
            "min_height": null,
            "padding": null,
            "grid_auto_rows": null,
            "grid_gap": null,
            "max_width": null,
            "order": null,
            "_view_module_version": "1.2.0",
            "grid_template_areas": null,
            "object_position": null,
            "object_fit": null,
            "grid_auto_columns": null,
            "margin": null,
            "display": null,
            "left": null
          }
        },
        "122047e70356491e9a4038d23792499f": {
          "model_module": "@jupyter-widgets/controls",
          "model_name": "IntProgressModel",
          "state": {
            "_view_name": "ProgressView",
            "style": "IPY_MODEL_a01b032be46b48ad923d49ceafe20897",
            "_dom_classes": [],
            "description": "100%",
            "_model_name": "IntProgressModel",
            "bar_style": "success",
            "max": 6437358,
            "_view_module": "@jupyter-widgets/controls",
            "_model_module_version": "1.5.0",
            "value": 6437358,
            "_view_count": null,
            "_view_module_version": "1.5.0",
            "orientation": "horizontal",
            "min": 0,
            "description_tooltip": null,
            "_model_module": "@jupyter-widgets/controls",
            "layout": "IPY_MODEL_43fd49a9cd20435f960428cea659982b"
          }
        },
        "a9cd9984736b43e5b7239a60860e7e5c": {
          "model_module": "@jupyter-widgets/controls",
          "model_name": "HTMLModel",
          "state": {
            "_view_name": "HTMLView",
            "style": "IPY_MODEL_14fae2f3f2d14ed29530308e4f901bd8",
            "_dom_classes": [],
            "description": "",
            "_model_name": "HTMLModel",
            "placeholder": "​",
            "_view_module": "@jupyter-widgets/controls",
            "_model_module_version": "1.5.0",
            "value": " 6437358/6437358 [00:13&lt;00:00, 492725.74it/s]",
            "_view_count": null,
            "_view_module_version": "1.5.0",
            "description_tooltip": null,
            "_model_module": "@jupyter-widgets/controls",
            "layout": "IPY_MODEL_2a948201ecd14de1b5060b42b6709a60"
          }
        },
        "a01b032be46b48ad923d49ceafe20897": {
          "model_module": "@jupyter-widgets/controls",
          "model_name": "ProgressStyleModel",
          "state": {
            "_view_name": "StyleView",
            "_model_name": "ProgressStyleModel",
            "description_width": "initial",
            "_view_module": "@jupyter-widgets/base",
            "_model_module_version": "1.5.0",
            "_view_count": null,
            "_view_module_version": "1.2.0",
            "bar_color": null,
            "_model_module": "@jupyter-widgets/controls"
          }
        },
        "43fd49a9cd20435f960428cea659982b": {
          "model_module": "@jupyter-widgets/base",
          "model_name": "LayoutModel",
          "state": {
            "_view_name": "LayoutView",
            "grid_template_rows": null,
            "right": null,
            "justify_content": null,
            "_view_module": "@jupyter-widgets/base",
            "overflow": null,
            "_model_module_version": "1.2.0",
            "_view_count": null,
            "flex_flow": null,
            "width": null,
            "min_width": null,
            "border": null,
            "align_items": null,
            "bottom": null,
            "_model_module": "@jupyter-widgets/base",
            "top": null,
            "grid_column": null,
            "overflow_y": null,
            "overflow_x": null,
            "grid_auto_flow": null,
            "grid_area": null,
            "grid_template_columns": null,
            "flex": null,
            "_model_name": "LayoutModel",
            "justify_items": null,
            "grid_row": null,
            "max_height": null,
            "align_content": null,
            "visibility": null,
            "align_self": null,
            "height": null,
            "min_height": null,
            "padding": null,
            "grid_auto_rows": null,
            "grid_gap": null,
            "max_width": null,
            "order": null,
            "_view_module_version": "1.2.0",
            "grid_template_areas": null,
            "object_position": null,
            "object_fit": null,
            "grid_auto_columns": null,
            "margin": null,
            "display": null,
            "left": null
          }
        },
        "14fae2f3f2d14ed29530308e4f901bd8": {
          "model_module": "@jupyter-widgets/controls",
          "model_name": "DescriptionStyleModel",
          "state": {
            "_view_name": "StyleView",
            "_model_name": "DescriptionStyleModel",
            "description_width": "",
            "_view_module": "@jupyter-widgets/base",
            "_model_module_version": "1.5.0",
            "_view_count": null,
            "_view_module_version": "1.2.0",
            "_model_module": "@jupyter-widgets/controls"
          }
        },
        "2a948201ecd14de1b5060b42b6709a60": {
          "model_module": "@jupyter-widgets/base",
          "model_name": "LayoutModel",
          "state": {
            "_view_name": "LayoutView",
            "grid_template_rows": null,
            "right": null,
            "justify_content": null,
            "_view_module": "@jupyter-widgets/base",
            "overflow": null,
            "_model_module_version": "1.2.0",
            "_view_count": null,
            "flex_flow": null,
            "width": null,
            "min_width": null,
            "border": null,
            "align_items": null,
            "bottom": null,
            "_model_module": "@jupyter-widgets/base",
            "top": null,
            "grid_column": null,
            "overflow_y": null,
            "overflow_x": null,
            "grid_auto_flow": null,
            "grid_area": null,
            "grid_template_columns": null,
            "flex": null,
            "_model_name": "LayoutModel",
            "justify_items": null,
            "grid_row": null,
            "max_height": null,
            "align_content": null,
            "visibility": null,
            "align_self": null,
            "height": null,
            "min_height": null,
            "padding": null,
            "grid_auto_rows": null,
            "grid_gap": null,
            "max_width": null,
            "order": null,
            "_view_module_version": "1.2.0",
            "grid_template_areas": null,
            "object_position": null,
            "object_fit": null,
            "grid_auto_columns": null,
            "margin": null,
            "display": null,
            "left": null
          }
        },
        "1086630650d2489fbcddbde8e8a0f565": {
          "model_module": "@jupyter-widgets/controls",
          "model_name": "HBoxModel",
          "state": {
            "_view_name": "HBoxView",
            "_dom_classes": [],
            "_model_name": "HBoxModel",
            "_view_module": "@jupyter-widgets/controls",
            "_model_module_version": "1.5.0",
            "_view_count": null,
            "_view_module_version": "1.5.0",
            "box_style": "",
            "layout": "IPY_MODEL_8676b0d9c73b4e23ba6a2e7c976c3c74",
            "_model_module": "@jupyter-widgets/controls",
            "children": [
              "IPY_MODEL_e71be5a83e9c4c0eb5fbab58342a8c7a",
              "IPY_MODEL_c3b7347019b9420a828555e373c8903d"
            ]
          }
        },
        "8676b0d9c73b4e23ba6a2e7c976c3c74": {
          "model_module": "@jupyter-widgets/base",
          "model_name": "LayoutModel",
          "state": {
            "_view_name": "LayoutView",
            "grid_template_rows": null,
            "right": null,
            "justify_content": null,
            "_view_module": "@jupyter-widgets/base",
            "overflow": null,
            "_model_module_version": "1.2.0",
            "_view_count": null,
            "flex_flow": null,
            "width": null,
            "min_width": null,
            "border": null,
            "align_items": null,
            "bottom": null,
            "_model_module": "@jupyter-widgets/base",
            "top": null,
            "grid_column": null,
            "overflow_y": null,
            "overflow_x": null,
            "grid_auto_flow": null,
            "grid_area": null,
            "grid_template_columns": null,
            "flex": null,
            "_model_name": "LayoutModel",
            "justify_items": null,
            "grid_row": null,
            "max_height": null,
            "align_content": null,
            "visibility": null,
            "align_self": null,
            "height": null,
            "min_height": null,
            "padding": null,
            "grid_auto_rows": null,
            "grid_gap": null,
            "max_width": null,
            "order": null,
            "_view_module_version": "1.2.0",
            "grid_template_areas": null,
            "object_position": null,
            "object_fit": null,
            "grid_auto_columns": null,
            "margin": null,
            "display": null,
            "left": null
          }
        },
        "e71be5a83e9c4c0eb5fbab58342a8c7a": {
          "model_module": "@jupyter-widgets/controls",
          "model_name": "IntProgressModel",
          "state": {
            "_view_name": "ProgressView",
            "style": "IPY_MODEL_c03f47a576a04811b78a3d0d8d70a01d",
            "_dom_classes": [],
            "description": "100%",
            "_model_name": "IntProgressModel",
            "bar_style": "success",
            "max": 317422,
            "_view_module": "@jupyter-widgets/controls",
            "_model_module_version": "1.5.0",
            "value": 317422,
            "_view_count": null,
            "_view_module_version": "1.5.0",
            "orientation": "horizontal",
            "min": 0,
            "description_tooltip": null,
            "_model_module": "@jupyter-widgets/controls",
            "layout": "IPY_MODEL_d77eaaa81f4946569ecb654b6e228003"
          }
        },
        "c3b7347019b9420a828555e373c8903d": {
          "model_module": "@jupyter-widgets/controls",
          "model_name": "HTMLModel",
          "state": {
            "_view_name": "HTMLView",
            "style": "IPY_MODEL_caf5683a3b30457eacf889d4d66bdc1b",
            "_dom_classes": [],
            "description": "",
            "_model_name": "HTMLModel",
            "placeholder": "​",
            "_view_module": "@jupyter-widgets/controls",
            "_model_module_version": "1.5.0",
            "value": " 317422/317422 [00:01&lt;00:00, 204342.16it/s]",
            "_view_count": null,
            "_view_module_version": "1.5.0",
            "description_tooltip": null,
            "_model_module": "@jupyter-widgets/controls",
            "layout": "IPY_MODEL_82ea9292d0774346b7849fc24c752343"
          }
        },
        "c03f47a576a04811b78a3d0d8d70a01d": {
          "model_module": "@jupyter-widgets/controls",
          "model_name": "ProgressStyleModel",
          "state": {
            "_view_name": "StyleView",
            "_model_name": "ProgressStyleModel",
            "description_width": "initial",
            "_view_module": "@jupyter-widgets/base",
            "_model_module_version": "1.5.0",
            "_view_count": null,
            "_view_module_version": "1.2.0",
            "bar_color": null,
            "_model_module": "@jupyter-widgets/controls"
          }
        },
        "d77eaaa81f4946569ecb654b6e228003": {
          "model_module": "@jupyter-widgets/base",
          "model_name": "LayoutModel",
          "state": {
            "_view_name": "LayoutView",
            "grid_template_rows": null,
            "right": null,
            "justify_content": null,
            "_view_module": "@jupyter-widgets/base",
            "overflow": null,
            "_model_module_version": "1.2.0",
            "_view_count": null,
            "flex_flow": null,
            "width": null,
            "min_width": null,
            "border": null,
            "align_items": null,
            "bottom": null,
            "_model_module": "@jupyter-widgets/base",
            "top": null,
            "grid_column": null,
            "overflow_y": null,
            "overflow_x": null,
            "grid_auto_flow": null,
            "grid_area": null,
            "grid_template_columns": null,
            "flex": null,
            "_model_name": "LayoutModel",
            "justify_items": null,
            "grid_row": null,
            "max_height": null,
            "align_content": null,
            "visibility": null,
            "align_self": null,
            "height": null,
            "min_height": null,
            "padding": null,
            "grid_auto_rows": null,
            "grid_gap": null,
            "max_width": null,
            "order": null,
            "_view_module_version": "1.2.0",
            "grid_template_areas": null,
            "object_position": null,
            "object_fit": null,
            "grid_auto_columns": null,
            "margin": null,
            "display": null,
            "left": null
          }
        },
        "caf5683a3b30457eacf889d4d66bdc1b": {
          "model_module": "@jupyter-widgets/controls",
          "model_name": "DescriptionStyleModel",
          "state": {
            "_view_name": "StyleView",
            "_model_name": "DescriptionStyleModel",
            "description_width": "",
            "_view_module": "@jupyter-widgets/base",
            "_model_module_version": "1.5.0",
            "_view_count": null,
            "_view_module_version": "1.2.0",
            "_model_module": "@jupyter-widgets/controls"
          }
        },
        "82ea9292d0774346b7849fc24c752343": {
          "model_module": "@jupyter-widgets/base",
          "model_name": "LayoutModel",
          "state": {
            "_view_name": "LayoutView",
            "grid_template_rows": null,
            "right": null,
            "justify_content": null,
            "_view_module": "@jupyter-widgets/base",
            "overflow": null,
            "_model_module_version": "1.2.0",
            "_view_count": null,
            "flex_flow": null,
            "width": null,
            "min_width": null,
            "border": null,
            "align_items": null,
            "bottom": null,
            "_model_module": "@jupyter-widgets/base",
            "top": null,
            "grid_column": null,
            "overflow_y": null,
            "overflow_x": null,
            "grid_auto_flow": null,
            "grid_area": null,
            "grid_template_columns": null,
            "flex": null,
            "_model_name": "LayoutModel",
            "justify_items": null,
            "grid_row": null,
            "max_height": null,
            "align_content": null,
            "visibility": null,
            "align_self": null,
            "height": null,
            "min_height": null,
            "padding": null,
            "grid_auto_rows": null,
            "grid_gap": null,
            "max_width": null,
            "order": null,
            "_view_module_version": "1.2.0",
            "grid_template_areas": null,
            "object_position": null,
            "object_fit": null,
            "grid_auto_columns": null,
            "margin": null,
            "display": null,
            "left": null
          }
        },
        "2c9661513b5e4567a16516a9848f6e17": {
          "model_module": "@jupyter-widgets/controls",
          "model_name": "HBoxModel",
          "state": {
            "_view_name": "HBoxView",
            "_dom_classes": [],
            "_model_name": "HBoxModel",
            "_view_module": "@jupyter-widgets/controls",
            "_model_module_version": "1.5.0",
            "_view_count": null,
            "_view_module_version": "1.5.0",
            "box_style": "",
            "layout": "IPY_MODEL_0a2c954a3d504e45a898b9321569c9e5",
            "_model_module": "@jupyter-widgets/controls",
            "children": [
              "IPY_MODEL_159b31ab76fe48f9a970deaa140bfb24",
              "IPY_MODEL_102ad6333ea74aa0b7dd9abe754daee7"
            ]
          }
        },
        "0a2c954a3d504e45a898b9321569c9e5": {
          "model_module": "@jupyter-widgets/base",
          "model_name": "LayoutModel",
          "state": {
            "_view_name": "LayoutView",
            "grid_template_rows": null,
            "right": null,
            "justify_content": null,
            "_view_module": "@jupyter-widgets/base",
            "overflow": null,
            "_model_module_version": "1.2.0",
            "_view_count": null,
            "flex_flow": null,
            "width": null,
            "min_width": null,
            "border": null,
            "align_items": null,
            "bottom": null,
            "_model_module": "@jupyter-widgets/base",
            "top": null,
            "grid_column": null,
            "overflow_y": null,
            "overflow_x": null,
            "grid_auto_flow": null,
            "grid_area": null,
            "grid_template_columns": null,
            "flex": null,
            "_model_name": "LayoutModel",
            "justify_items": null,
            "grid_row": null,
            "max_height": null,
            "align_content": null,
            "visibility": null,
            "align_self": null,
            "height": null,
            "min_height": null,
            "padding": null,
            "grid_auto_rows": null,
            "grid_gap": null,
            "max_width": null,
            "order": null,
            "_view_module_version": "1.2.0",
            "grid_template_areas": null,
            "object_position": null,
            "object_fit": null,
            "grid_auto_columns": null,
            "margin": null,
            "display": null,
            "left": null
          }
        },
        "159b31ab76fe48f9a970deaa140bfb24": {
          "model_module": "@jupyter-widgets/controls",
          "model_name": "IntProgressModel",
          "state": {
            "_view_name": "ProgressView",
            "style": "IPY_MODEL_3528614ff5ca4d2a81d69f7db79d2ae8",
            "_dom_classes": [],
            "description": "100%",
            "_model_name": "IntProgressModel",
            "bar_style": "success",
            "max": 664086,
            "_view_module": "@jupyter-widgets/controls",
            "_model_module_version": "1.5.0",
            "value": 664086,
            "_view_count": null,
            "_view_module_version": "1.5.0",
            "orientation": "horizontal",
            "min": 0,
            "description_tooltip": null,
            "_model_module": "@jupyter-widgets/controls",
            "layout": "IPY_MODEL_a063e0d6605d48fabfba83ab944e569f"
          }
        },
        "102ad6333ea74aa0b7dd9abe754daee7": {
          "model_module": "@jupyter-widgets/controls",
          "model_name": "HTMLModel",
          "state": {
            "_view_name": "HTMLView",
            "style": "IPY_MODEL_f1669a70365a42a5b7e8e6df419d1761",
            "_dom_classes": [],
            "description": "",
            "_model_name": "HTMLModel",
            "placeholder": "​",
            "_view_module": "@jupyter-widgets/controls",
            "_model_module_version": "1.5.0",
            "value": " 664086/664086 [00:21&lt;00:00, 30284.28it/s]",
            "_view_count": null,
            "_view_module_version": "1.5.0",
            "description_tooltip": null,
            "_model_module": "@jupyter-widgets/controls",
            "layout": "IPY_MODEL_4f30efac0aaf4c15932e2171ae2158d4"
          }
        },
        "3528614ff5ca4d2a81d69f7db79d2ae8": {
          "model_module": "@jupyter-widgets/controls",
          "model_name": "ProgressStyleModel",
          "state": {
            "_view_name": "StyleView",
            "_model_name": "ProgressStyleModel",
            "description_width": "initial",
            "_view_module": "@jupyter-widgets/base",
            "_model_module_version": "1.5.0",
            "_view_count": null,
            "_view_module_version": "1.2.0",
            "bar_color": null,
            "_model_module": "@jupyter-widgets/controls"
          }
        },
        "a063e0d6605d48fabfba83ab944e569f": {
          "model_module": "@jupyter-widgets/base",
          "model_name": "LayoutModel",
          "state": {
            "_view_name": "LayoutView",
            "grid_template_rows": null,
            "right": null,
            "justify_content": null,
            "_view_module": "@jupyter-widgets/base",
            "overflow": null,
            "_model_module_version": "1.2.0",
            "_view_count": null,
            "flex_flow": null,
            "width": null,
            "min_width": null,
            "border": null,
            "align_items": null,
            "bottom": null,
            "_model_module": "@jupyter-widgets/base",
            "top": null,
            "grid_column": null,
            "overflow_y": null,
            "overflow_x": null,
            "grid_auto_flow": null,
            "grid_area": null,
            "grid_template_columns": null,
            "flex": null,
            "_model_name": "LayoutModel",
            "justify_items": null,
            "grid_row": null,
            "max_height": null,
            "align_content": null,
            "visibility": null,
            "align_self": null,
            "height": null,
            "min_height": null,
            "padding": null,
            "grid_auto_rows": null,
            "grid_gap": null,
            "max_width": null,
            "order": null,
            "_view_module_version": "1.2.0",
            "grid_template_areas": null,
            "object_position": null,
            "object_fit": null,
            "grid_auto_columns": null,
            "margin": null,
            "display": null,
            "left": null
          }
        },
        "f1669a70365a42a5b7e8e6df419d1761": {
          "model_module": "@jupyter-widgets/controls",
          "model_name": "DescriptionStyleModel",
          "state": {
            "_view_name": "StyleView",
            "_model_name": "DescriptionStyleModel",
            "description_width": "",
            "_view_module": "@jupyter-widgets/base",
            "_model_module_version": "1.5.0",
            "_view_count": null,
            "_view_module_version": "1.2.0",
            "_model_module": "@jupyter-widgets/controls"
          }
        },
        "4f30efac0aaf4c15932e2171ae2158d4": {
          "model_module": "@jupyter-widgets/base",
          "model_name": "LayoutModel",
          "state": {
            "_view_name": "LayoutView",
            "grid_template_rows": null,
            "right": null,
            "justify_content": null,
            "_view_module": "@jupyter-widgets/base",
            "overflow": null,
            "_model_module_version": "1.2.0",
            "_view_count": null,
            "flex_flow": null,
            "width": null,
            "min_width": null,
            "border": null,
            "align_items": null,
            "bottom": null,
            "_model_module": "@jupyter-widgets/base",
            "top": null,
            "grid_column": null,
            "overflow_y": null,
            "overflow_x": null,
            "grid_auto_flow": null,
            "grid_area": null,
            "grid_template_columns": null,
            "flex": null,
            "_model_name": "LayoutModel",
            "justify_items": null,
            "grid_row": null,
            "max_height": null,
            "align_content": null,
            "visibility": null,
            "align_self": null,
            "height": null,
            "min_height": null,
            "padding": null,
            "grid_auto_rows": null,
            "grid_gap": null,
            "max_width": null,
            "order": null,
            "_view_module_version": "1.2.0",
            "grid_template_areas": null,
            "object_position": null,
            "object_fit": null,
            "grid_auto_columns": null,
            "margin": null,
            "display": null,
            "left": null
          }
        },
        "8e53745695404e2289962ba0fd536b8d": {
          "model_module": "@jupyter-widgets/controls",
          "model_name": "HBoxModel",
          "state": {
            "_view_name": "HBoxView",
            "_dom_classes": [],
            "_model_name": "HBoxModel",
            "_view_module": "@jupyter-widgets/controls",
            "_model_module_version": "1.5.0",
            "_view_count": null,
            "_view_module_version": "1.5.0",
            "box_style": "",
            "layout": "IPY_MODEL_8a991e722bf44d01adf0bdfdc1ce99ae",
            "_model_module": "@jupyter-widgets/controls",
            "children": [
              "IPY_MODEL_5cb1eb89d9b245d197ee35c2299ee84d",
              "IPY_MODEL_639ad9bff377466aa96944e520fe5cd0"
            ]
          }
        },
        "8a991e722bf44d01adf0bdfdc1ce99ae": {
          "model_module": "@jupyter-widgets/base",
          "model_name": "LayoutModel",
          "state": {
            "_view_name": "LayoutView",
            "grid_template_rows": null,
            "right": null,
            "justify_content": null,
            "_view_module": "@jupyter-widgets/base",
            "overflow": null,
            "_model_module_version": "1.2.0",
            "_view_count": null,
            "flex_flow": null,
            "width": null,
            "min_width": null,
            "border": null,
            "align_items": null,
            "bottom": null,
            "_model_module": "@jupyter-widgets/base",
            "top": null,
            "grid_column": null,
            "overflow_y": null,
            "overflow_x": null,
            "grid_auto_flow": null,
            "grid_area": null,
            "grid_template_columns": null,
            "flex": null,
            "_model_name": "LayoutModel",
            "justify_items": null,
            "grid_row": null,
            "max_height": null,
            "align_content": null,
            "visibility": null,
            "align_self": null,
            "height": null,
            "min_height": null,
            "padding": null,
            "grid_auto_rows": null,
            "grid_gap": null,
            "max_width": null,
            "order": null,
            "_view_module_version": "1.2.0",
            "grid_template_areas": null,
            "object_position": null,
            "object_fit": null,
            "grid_auto_columns": null,
            "margin": null,
            "display": null,
            "left": null
          }
        },
        "5cb1eb89d9b245d197ee35c2299ee84d": {
          "model_module": "@jupyter-widgets/controls",
          "model_name": "IntProgressModel",
          "state": {
            "_view_name": "ProgressView",
            "style": "IPY_MODEL_93f442b596bf47baa79adf0b18b10dbd",
            "_dom_classes": [],
            "description": "100%",
            "_model_name": "IntProgressModel",
            "bar_style": "success",
            "max": 50000,
            "_view_module": "@jupyter-widgets/controls",
            "_model_module_version": "1.5.0",
            "value": 50000,
            "_view_count": null,
            "_view_module_version": "1.5.0",
            "orientation": "horizontal",
            "min": 0,
            "description_tooltip": null,
            "_model_module": "@jupyter-widgets/controls",
            "layout": "IPY_MODEL_f742aebc814742509b7e73f7c911dd85"
          }
        },
        "639ad9bff377466aa96944e520fe5cd0": {
          "model_module": "@jupyter-widgets/controls",
          "model_name": "HTMLModel",
          "state": {
            "_view_name": "HTMLView",
            "style": "IPY_MODEL_ec8380a64d0d4b8bb008e5b16f543aac",
            "_dom_classes": [],
            "description": "",
            "_model_name": "HTMLModel",
            "placeholder": "​",
            "_view_module": "@jupyter-widgets/controls",
            "_model_module_version": "1.5.0",
            "value": " 50000/50000 [00:20&lt;00:00, 2467.25it/s]",
            "_view_count": null,
            "_view_module_version": "1.5.0",
            "description_tooltip": null,
            "_model_module": "@jupyter-widgets/controls",
            "layout": "IPY_MODEL_22d8a0b564b94845a2d0d258be18641b"
          }
        },
        "93f442b596bf47baa79adf0b18b10dbd": {
          "model_module": "@jupyter-widgets/controls",
          "model_name": "ProgressStyleModel",
          "state": {
            "_view_name": "StyleView",
            "_model_name": "ProgressStyleModel",
            "description_width": "initial",
            "_view_module": "@jupyter-widgets/base",
            "_model_module_version": "1.5.0",
            "_view_count": null,
            "_view_module_version": "1.2.0",
            "bar_color": null,
            "_model_module": "@jupyter-widgets/controls"
          }
        },
        "f742aebc814742509b7e73f7c911dd85": {
          "model_module": "@jupyter-widgets/base",
          "model_name": "LayoutModel",
          "state": {
            "_view_name": "LayoutView",
            "grid_template_rows": null,
            "right": null,
            "justify_content": null,
            "_view_module": "@jupyter-widgets/base",
            "overflow": null,
            "_model_module_version": "1.2.0",
            "_view_count": null,
            "flex_flow": null,
            "width": null,
            "min_width": null,
            "border": null,
            "align_items": null,
            "bottom": null,
            "_model_module": "@jupyter-widgets/base",
            "top": null,
            "grid_column": null,
            "overflow_y": null,
            "overflow_x": null,
            "grid_auto_flow": null,
            "grid_area": null,
            "grid_template_columns": null,
            "flex": null,
            "_model_name": "LayoutModel",
            "justify_items": null,
            "grid_row": null,
            "max_height": null,
            "align_content": null,
            "visibility": null,
            "align_self": null,
            "height": null,
            "min_height": null,
            "padding": null,
            "grid_auto_rows": null,
            "grid_gap": null,
            "max_width": null,
            "order": null,
            "_view_module_version": "1.2.0",
            "grid_template_areas": null,
            "object_position": null,
            "object_fit": null,
            "grid_auto_columns": null,
            "margin": null,
            "display": null,
            "left": null
          }
        },
        "ec8380a64d0d4b8bb008e5b16f543aac": {
          "model_module": "@jupyter-widgets/controls",
          "model_name": "DescriptionStyleModel",
          "state": {
            "_view_name": "StyleView",
            "_model_name": "DescriptionStyleModel",
            "description_width": "",
            "_view_module": "@jupyter-widgets/base",
            "_model_module_version": "1.5.0",
            "_view_count": null,
            "_view_module_version": "1.2.0",
            "_model_module": "@jupyter-widgets/controls"
          }
        },
        "22d8a0b564b94845a2d0d258be18641b": {
          "model_module": "@jupyter-widgets/base",
          "model_name": "LayoutModel",
          "state": {
            "_view_name": "LayoutView",
            "grid_template_rows": null,
            "right": null,
            "justify_content": null,
            "_view_module": "@jupyter-widgets/base",
            "overflow": null,
            "_model_module_version": "1.2.0",
            "_view_count": null,
            "flex_flow": null,
            "width": null,
            "min_width": null,
            "border": null,
            "align_items": null,
            "bottom": null,
            "_model_module": "@jupyter-widgets/base",
            "top": null,
            "grid_column": null,
            "overflow_y": null,
            "overflow_x": null,
            "grid_auto_flow": null,
            "grid_area": null,
            "grid_template_columns": null,
            "flex": null,
            "_model_name": "LayoutModel",
            "justify_items": null,
            "grid_row": null,
            "max_height": null,
            "align_content": null,
            "visibility": null,
            "align_self": null,
            "height": null,
            "min_height": null,
            "padding": null,
            "grid_auto_rows": null,
            "grid_gap": null,
            "max_width": null,
            "order": null,
            "_view_module_version": "1.2.0",
            "grid_template_areas": null,
            "object_position": null,
            "object_fit": null,
            "grid_auto_columns": null,
            "margin": null,
            "display": null,
            "left": null
          }
        },
        "10cb00ee94264d0eabdacf5c60aacc24": {
          "model_module": "@jupyter-widgets/controls",
          "model_name": "HBoxModel",
          "state": {
            "_view_name": "HBoxView",
            "_dom_classes": [],
            "_model_name": "HBoxModel",
            "_view_module": "@jupyter-widgets/controls",
            "_model_module_version": "1.5.0",
            "_view_count": null,
            "_view_module_version": "1.5.0",
            "box_style": "",
            "layout": "IPY_MODEL_a67fdc3cbd75489a8e987c1a1373bbff",
            "_model_module": "@jupyter-widgets/controls",
            "children": [
              "IPY_MODEL_05fe26b334a9423fb5adc3be45e6f4ff",
              "IPY_MODEL_e22f1d0d20584e74a8d5aa61a23d2abb"
            ]
          }
        },
        "a67fdc3cbd75489a8e987c1a1373bbff": {
          "model_module": "@jupyter-widgets/base",
          "model_name": "LayoutModel",
          "state": {
            "_view_name": "LayoutView",
            "grid_template_rows": null,
            "right": null,
            "justify_content": null,
            "_view_module": "@jupyter-widgets/base",
            "overflow": null,
            "_model_module_version": "1.2.0",
            "_view_count": null,
            "flex_flow": null,
            "width": null,
            "min_width": null,
            "border": null,
            "align_items": null,
            "bottom": null,
            "_model_module": "@jupyter-widgets/base",
            "top": null,
            "grid_column": null,
            "overflow_y": null,
            "overflow_x": null,
            "grid_auto_flow": null,
            "grid_area": null,
            "grid_template_columns": null,
            "flex": null,
            "_model_name": "LayoutModel",
            "justify_items": null,
            "grid_row": null,
            "max_height": null,
            "align_content": null,
            "visibility": null,
            "align_self": null,
            "height": null,
            "min_height": null,
            "padding": null,
            "grid_auto_rows": null,
            "grid_gap": null,
            "max_width": null,
            "order": null,
            "_view_module_version": "1.2.0",
            "grid_template_areas": null,
            "object_position": null,
            "object_fit": null,
            "grid_auto_columns": null,
            "margin": null,
            "display": null,
            "left": null
          }
        },
        "05fe26b334a9423fb5adc3be45e6f4ff": {
          "model_module": "@jupyter-widgets/controls",
          "model_name": "IntProgressModel",
          "state": {
            "_view_name": "ProgressView",
            "style": "IPY_MODEL_0e418f62167c42b7976654f2813497a5",
            "_dom_classes": [],
            "description": "100%",
            "_model_name": "IntProgressModel",
            "bar_style": "success",
            "max": 9643012,
            "_view_module": "@jupyter-widgets/controls",
            "_model_module_version": "1.5.0",
            "value": 9643012,
            "_view_count": null,
            "_view_module_version": "1.5.0",
            "orientation": "horizontal",
            "min": 0,
            "description_tooltip": null,
            "_model_module": "@jupyter-widgets/controls",
            "layout": "IPY_MODEL_dc70232e847245e69addb89ef3484cee"
          }
        },
        "e22f1d0d20584e74a8d5aa61a23d2abb": {
          "model_module": "@jupyter-widgets/controls",
          "model_name": "HTMLModel",
          "state": {
            "_view_name": "HTMLView",
            "style": "IPY_MODEL_294f8f2b20cf46caa36c6601b120af48",
            "_dom_classes": [],
            "description": "",
            "_model_name": "HTMLModel",
            "placeholder": "​",
            "_view_module": "@jupyter-widgets/controls",
            "_model_module_version": "1.5.0",
            "value": " 9643012/9643012 [00:19&lt;00:00, 493426.68it/s]",
            "_view_count": null,
            "_view_module_version": "1.5.0",
            "description_tooltip": null,
            "_model_module": "@jupyter-widgets/controls",
            "layout": "IPY_MODEL_762a00e3b3cd4a0fb2a2b1024ed76a32"
          }
        },
        "0e418f62167c42b7976654f2813497a5": {
          "model_module": "@jupyter-widgets/controls",
          "model_name": "ProgressStyleModel",
          "state": {
            "_view_name": "StyleView",
            "_model_name": "ProgressStyleModel",
            "description_width": "initial",
            "_view_module": "@jupyter-widgets/base",
            "_model_module_version": "1.5.0",
            "_view_count": null,
            "_view_module_version": "1.2.0",
            "bar_color": null,
            "_model_module": "@jupyter-widgets/controls"
          }
        },
        "dc70232e847245e69addb89ef3484cee": {
          "model_module": "@jupyter-widgets/base",
          "model_name": "LayoutModel",
          "state": {
            "_view_name": "LayoutView",
            "grid_template_rows": null,
            "right": null,
            "justify_content": null,
            "_view_module": "@jupyter-widgets/base",
            "overflow": null,
            "_model_module_version": "1.2.0",
            "_view_count": null,
            "flex_flow": null,
            "width": null,
            "min_width": null,
            "border": null,
            "align_items": null,
            "bottom": null,
            "_model_module": "@jupyter-widgets/base",
            "top": null,
            "grid_column": null,
            "overflow_y": null,
            "overflow_x": null,
            "grid_auto_flow": null,
            "grid_area": null,
            "grid_template_columns": null,
            "flex": null,
            "_model_name": "LayoutModel",
            "justify_items": null,
            "grid_row": null,
            "max_height": null,
            "align_content": null,
            "visibility": null,
            "align_self": null,
            "height": null,
            "min_height": null,
            "padding": null,
            "grid_auto_rows": null,
            "grid_gap": null,
            "max_width": null,
            "order": null,
            "_view_module_version": "1.2.0",
            "grid_template_areas": null,
            "object_position": null,
            "object_fit": null,
            "grid_auto_columns": null,
            "margin": null,
            "display": null,
            "left": null
          }
        },
        "294f8f2b20cf46caa36c6601b120af48": {
          "model_module": "@jupyter-widgets/controls",
          "model_name": "DescriptionStyleModel",
          "state": {
            "_view_name": "StyleView",
            "_model_name": "DescriptionStyleModel",
            "description_width": "",
            "_view_module": "@jupyter-widgets/base",
            "_model_module_version": "1.5.0",
            "_view_count": null,
            "_view_module_version": "1.2.0",
            "_model_module": "@jupyter-widgets/controls"
          }
        },
        "762a00e3b3cd4a0fb2a2b1024ed76a32": {
          "model_module": "@jupyter-widgets/base",
          "model_name": "LayoutModel",
          "state": {
            "_view_name": "LayoutView",
            "grid_template_rows": null,
            "right": null,
            "justify_content": null,
            "_view_module": "@jupyter-widgets/base",
            "overflow": null,
            "_model_module_version": "1.2.0",
            "_view_count": null,
            "flex_flow": null,
            "width": null,
            "min_width": null,
            "border": null,
            "align_items": null,
            "bottom": null,
            "_model_module": "@jupyter-widgets/base",
            "top": null,
            "grid_column": null,
            "overflow_y": null,
            "overflow_x": null,
            "grid_auto_flow": null,
            "grid_area": null,
            "grid_template_columns": null,
            "flex": null,
            "_model_name": "LayoutModel",
            "justify_items": null,
            "grid_row": null,
            "max_height": null,
            "align_content": null,
            "visibility": null,
            "align_self": null,
            "height": null,
            "min_height": null,
            "padding": null,
            "grid_auto_rows": null,
            "grid_gap": null,
            "max_width": null,
            "order": null,
            "_view_module_version": "1.2.0",
            "grid_template_areas": null,
            "object_position": null,
            "object_fit": null,
            "grid_auto_columns": null,
            "margin": null,
            "display": null,
            "left": null
          }
        },
        "8291275674a440e794133255ee33878d": {
          "model_module": "@jupyter-widgets/controls",
          "model_name": "HBoxModel",
          "state": {
            "_view_name": "HBoxView",
            "_dom_classes": [],
            "_model_name": "HBoxModel",
            "_view_module": "@jupyter-widgets/controls",
            "_model_module_version": "1.5.0",
            "_view_count": null,
            "_view_module_version": "1.5.0",
            "box_style": "",
            "layout": "IPY_MODEL_474aec2547b9419c9ab1feed1b973c08",
            "_model_module": "@jupyter-widgets/controls",
            "children": [
              "IPY_MODEL_2f49033497294528831c4b818bcc7481",
              "IPY_MODEL_37c88022c47443aeb01268fdf0800da6"
            ]
          }
        },
        "474aec2547b9419c9ab1feed1b973c08": {
          "model_module": "@jupyter-widgets/base",
          "model_name": "LayoutModel",
          "state": {
            "_view_name": "LayoutView",
            "grid_template_rows": null,
            "right": null,
            "justify_content": null,
            "_view_module": "@jupyter-widgets/base",
            "overflow": null,
            "_model_module_version": "1.2.0",
            "_view_count": null,
            "flex_flow": null,
            "width": null,
            "min_width": null,
            "border": null,
            "align_items": null,
            "bottom": null,
            "_model_module": "@jupyter-widgets/base",
            "top": null,
            "grid_column": null,
            "overflow_y": null,
            "overflow_x": null,
            "grid_auto_flow": null,
            "grid_area": null,
            "grid_template_columns": null,
            "flex": null,
            "_model_name": "LayoutModel",
            "justify_items": null,
            "grid_row": null,
            "max_height": null,
            "align_content": null,
            "visibility": null,
            "align_self": null,
            "height": null,
            "min_height": null,
            "padding": null,
            "grid_auto_rows": null,
            "grid_gap": null,
            "max_width": null,
            "order": null,
            "_view_module_version": "1.2.0",
            "grid_template_areas": null,
            "object_position": null,
            "object_fit": null,
            "grid_auto_columns": null,
            "margin": null,
            "display": null,
            "left": null
          }
        },
        "2f49033497294528831c4b818bcc7481": {
          "model_module": "@jupyter-widgets/controls",
          "model_name": "IntProgressModel",
          "state": {
            "_view_name": "ProgressView",
            "style": "IPY_MODEL_f42a099a85c14697a4dd161437fa0dff",
            "_dom_classes": [],
            "description": "100%",
            "_model_name": "IntProgressModel",
            "bar_style": "success",
            "max": 438790,
            "_view_module": "@jupyter-widgets/controls",
            "_model_module_version": "1.5.0",
            "value": 438790,
            "_view_count": null,
            "_view_module_version": "1.5.0",
            "orientation": "horizontal",
            "min": 0,
            "description_tooltip": null,
            "_model_module": "@jupyter-widgets/controls",
            "layout": "IPY_MODEL_68e0922861954efe8610764734aa8454"
          }
        },
        "37c88022c47443aeb01268fdf0800da6": {
          "model_module": "@jupyter-widgets/controls",
          "model_name": "HTMLModel",
          "state": {
            "_view_name": "HTMLView",
            "style": "IPY_MODEL_bf3f67d5f30b43cebd253fd7c11cb2c4",
            "_dom_classes": [],
            "description": "",
            "_model_name": "HTMLModel",
            "placeholder": "​",
            "_view_module": "@jupyter-widgets/controls",
            "_model_module_version": "1.5.0",
            "value": " 438790/438790 [00:02&lt;00:00, 168362.64it/s]",
            "_view_count": null,
            "_view_module_version": "1.5.0",
            "description_tooltip": null,
            "_model_module": "@jupyter-widgets/controls",
            "layout": "IPY_MODEL_d8912520d29a49a6938a2bcd4e30cd45"
          }
        },
        "f42a099a85c14697a4dd161437fa0dff": {
          "model_module": "@jupyter-widgets/controls",
          "model_name": "ProgressStyleModel",
          "state": {
            "_view_name": "StyleView",
            "_model_name": "ProgressStyleModel",
            "description_width": "initial",
            "_view_module": "@jupyter-widgets/base",
            "_model_module_version": "1.5.0",
            "_view_count": null,
            "_view_module_version": "1.2.0",
            "bar_color": null,
            "_model_module": "@jupyter-widgets/controls"
          }
        },
        "68e0922861954efe8610764734aa8454": {
          "model_module": "@jupyter-widgets/base",
          "model_name": "LayoutModel",
          "state": {
            "_view_name": "LayoutView",
            "grid_template_rows": null,
            "right": null,
            "justify_content": null,
            "_view_module": "@jupyter-widgets/base",
            "overflow": null,
            "_model_module_version": "1.2.0",
            "_view_count": null,
            "flex_flow": null,
            "width": null,
            "min_width": null,
            "border": null,
            "align_items": null,
            "bottom": null,
            "_model_module": "@jupyter-widgets/base",
            "top": null,
            "grid_column": null,
            "overflow_y": null,
            "overflow_x": null,
            "grid_auto_flow": null,
            "grid_area": null,
            "grid_template_columns": null,
            "flex": null,
            "_model_name": "LayoutModel",
            "justify_items": null,
            "grid_row": null,
            "max_height": null,
            "align_content": null,
            "visibility": null,
            "align_self": null,
            "height": null,
            "min_height": null,
            "padding": null,
            "grid_auto_rows": null,
            "grid_gap": null,
            "max_width": null,
            "order": null,
            "_view_module_version": "1.2.0",
            "grid_template_areas": null,
            "object_position": null,
            "object_fit": null,
            "grid_auto_columns": null,
            "margin": null,
            "display": null,
            "left": null
          }
        },
        "bf3f67d5f30b43cebd253fd7c11cb2c4": {
          "model_module": "@jupyter-widgets/controls",
          "model_name": "DescriptionStyleModel",
          "state": {
            "_view_name": "StyleView",
            "_model_name": "DescriptionStyleModel",
            "description_width": "",
            "_view_module": "@jupyter-widgets/base",
            "_model_module_version": "1.5.0",
            "_view_count": null,
            "_view_module_version": "1.2.0",
            "_model_module": "@jupyter-widgets/controls"
          }
        },
        "d8912520d29a49a6938a2bcd4e30cd45": {
          "model_module": "@jupyter-widgets/base",
          "model_name": "LayoutModel",
          "state": {
            "_view_name": "LayoutView",
            "grid_template_rows": null,
            "right": null,
            "justify_content": null,
            "_view_module": "@jupyter-widgets/base",
            "overflow": null,
            "_model_module_version": "1.2.0",
            "_view_count": null,
            "flex_flow": null,
            "width": null,
            "min_width": null,
            "border": null,
            "align_items": null,
            "bottom": null,
            "_model_module": "@jupyter-widgets/base",
            "top": null,
            "grid_column": null,
            "overflow_y": null,
            "overflow_x": null,
            "grid_auto_flow": null,
            "grid_area": null,
            "grid_template_columns": null,
            "flex": null,
            "_model_name": "LayoutModel",
            "justify_items": null,
            "grid_row": null,
            "max_height": null,
            "align_content": null,
            "visibility": null,
            "align_self": null,
            "height": null,
            "min_height": null,
            "padding": null,
            "grid_auto_rows": null,
            "grid_gap": null,
            "max_width": null,
            "order": null,
            "_view_module_version": "1.2.0",
            "grid_template_areas": null,
            "object_position": null,
            "object_fit": null,
            "grid_auto_columns": null,
            "margin": null,
            "display": null,
            "left": null
          }
        },
        "53a0468f88ef4384a87bcbd53897edbe": {
          "model_module": "@jupyter-widgets/controls",
          "model_name": "HBoxModel",
          "state": {
            "_view_name": "HBoxView",
            "_dom_classes": [],
            "_model_name": "HBoxModel",
            "_view_module": "@jupyter-widgets/controls",
            "_model_module_version": "1.5.0",
            "_view_count": null,
            "_view_module_version": "1.5.0",
            "box_style": "",
            "layout": "IPY_MODEL_30c9f65794cc44a586b6099994532ffa",
            "_model_module": "@jupyter-widgets/controls",
            "children": [
              "IPY_MODEL_f9ce17b8b0114e6e82fcba9ea9dc6766",
              "IPY_MODEL_41a6597efff84a7ba8592223b0dea6ca"
            ]
          }
        },
        "30c9f65794cc44a586b6099994532ffa": {
          "model_module": "@jupyter-widgets/base",
          "model_name": "LayoutModel",
          "state": {
            "_view_name": "LayoutView",
            "grid_template_rows": null,
            "right": null,
            "justify_content": null,
            "_view_module": "@jupyter-widgets/base",
            "overflow": null,
            "_model_module_version": "1.2.0",
            "_view_count": null,
            "flex_flow": null,
            "width": null,
            "min_width": null,
            "border": null,
            "align_items": null,
            "bottom": null,
            "_model_module": "@jupyter-widgets/base",
            "top": null,
            "grid_column": null,
            "overflow_y": null,
            "overflow_x": null,
            "grid_auto_flow": null,
            "grid_area": null,
            "grid_template_columns": null,
            "flex": null,
            "_model_name": "LayoutModel",
            "justify_items": null,
            "grid_row": null,
            "max_height": null,
            "align_content": null,
            "visibility": null,
            "align_self": null,
            "height": null,
            "min_height": null,
            "padding": null,
            "grid_auto_rows": null,
            "grid_gap": null,
            "max_width": null,
            "order": null,
            "_view_module_version": "1.2.0",
            "grid_template_areas": null,
            "object_position": null,
            "object_fit": null,
            "grid_auto_columns": null,
            "margin": null,
            "display": null,
            "left": null
          }
        },
        "f9ce17b8b0114e6e82fcba9ea9dc6766": {
          "model_module": "@jupyter-widgets/controls",
          "model_name": "IntProgressModel",
          "state": {
            "_view_name": "ProgressView",
            "style": "IPY_MODEL_0cdde372279641e1b8f8d37235e5e14d",
            "_dom_classes": [],
            "description": "100%",
            "_model_name": "IntProgressModel",
            "bar_style": "success",
            "max": 948216,
            "_view_module": "@jupyter-widgets/controls",
            "_model_module_version": "1.5.0",
            "value": 948216,
            "_view_count": null,
            "_view_module_version": "1.5.0",
            "orientation": "horizontal",
            "min": 0,
            "description_tooltip": null,
            "_model_module": "@jupyter-widgets/controls",
            "layout": "IPY_MODEL_94a4c7ab1158459397c3cd4b2fd29c52"
          }
        },
        "41a6597efff84a7ba8592223b0dea6ca": {
          "model_module": "@jupyter-widgets/controls",
          "model_name": "HTMLModel",
          "state": {
            "_view_name": "HTMLView",
            "style": "IPY_MODEL_348dc58ff7914370af6542233b8ced8f",
            "_dom_classes": [],
            "description": "",
            "_model_name": "HTMLModel",
            "placeholder": "​",
            "_view_module": "@jupyter-widgets/controls",
            "_model_module_version": "1.5.0",
            "value": " 948216/948216 [00:42&lt;00:00, 22330.04it/s]",
            "_view_count": null,
            "_view_module_version": "1.5.0",
            "description_tooltip": null,
            "_model_module": "@jupyter-widgets/controls",
            "layout": "IPY_MODEL_4340126942eb40179f4b308837129654"
          }
        },
        "0cdde372279641e1b8f8d37235e5e14d": {
          "model_module": "@jupyter-widgets/controls",
          "model_name": "ProgressStyleModel",
          "state": {
            "_view_name": "StyleView",
            "_model_name": "ProgressStyleModel",
            "description_width": "initial",
            "_view_module": "@jupyter-widgets/base",
            "_model_module_version": "1.5.0",
            "_view_count": null,
            "_view_module_version": "1.2.0",
            "bar_color": null,
            "_model_module": "@jupyter-widgets/controls"
          }
        },
        "94a4c7ab1158459397c3cd4b2fd29c52": {
          "model_module": "@jupyter-widgets/base",
          "model_name": "LayoutModel",
          "state": {
            "_view_name": "LayoutView",
            "grid_template_rows": null,
            "right": null,
            "justify_content": null,
            "_view_module": "@jupyter-widgets/base",
            "overflow": null,
            "_model_module_version": "1.2.0",
            "_view_count": null,
            "flex_flow": null,
            "width": null,
            "min_width": null,
            "border": null,
            "align_items": null,
            "bottom": null,
            "_model_module": "@jupyter-widgets/base",
            "top": null,
            "grid_column": null,
            "overflow_y": null,
            "overflow_x": null,
            "grid_auto_flow": null,
            "grid_area": null,
            "grid_template_columns": null,
            "flex": null,
            "_model_name": "LayoutModel",
            "justify_items": null,
            "grid_row": null,
            "max_height": null,
            "align_content": null,
            "visibility": null,
            "align_self": null,
            "height": null,
            "min_height": null,
            "padding": null,
            "grid_auto_rows": null,
            "grid_gap": null,
            "max_width": null,
            "order": null,
            "_view_module_version": "1.2.0",
            "grid_template_areas": null,
            "object_position": null,
            "object_fit": null,
            "grid_auto_columns": null,
            "margin": null,
            "display": null,
            "left": null
          }
        },
        "348dc58ff7914370af6542233b8ced8f": {
          "model_module": "@jupyter-widgets/controls",
          "model_name": "DescriptionStyleModel",
          "state": {
            "_view_name": "StyleView",
            "_model_name": "DescriptionStyleModel",
            "description_width": "",
            "_view_module": "@jupyter-widgets/base",
            "_model_module_version": "1.5.0",
            "_view_count": null,
            "_view_module_version": "1.2.0",
            "_model_module": "@jupyter-widgets/controls"
          }
        },
        "4340126942eb40179f4b308837129654": {
          "model_module": "@jupyter-widgets/base",
          "model_name": "LayoutModel",
          "state": {
            "_view_name": "LayoutView",
            "grid_template_rows": null,
            "right": null,
            "justify_content": null,
            "_view_module": "@jupyter-widgets/base",
            "overflow": null,
            "_model_module_version": "1.2.0",
            "_view_count": null,
            "flex_flow": null,
            "width": null,
            "min_width": null,
            "border": null,
            "align_items": null,
            "bottom": null,
            "_model_module": "@jupyter-widgets/base",
            "top": null,
            "grid_column": null,
            "overflow_y": null,
            "overflow_x": null,
            "grid_auto_flow": null,
            "grid_area": null,
            "grid_template_columns": null,
            "flex": null,
            "_model_name": "LayoutModel",
            "justify_items": null,
            "grid_row": null,
            "max_height": null,
            "align_content": null,
            "visibility": null,
            "align_self": null,
            "height": null,
            "min_height": null,
            "padding": null,
            "grid_auto_rows": null,
            "grid_gap": null,
            "max_width": null,
            "order": null,
            "_view_module_version": "1.2.0",
            "grid_template_areas": null,
            "object_position": null,
            "object_fit": null,
            "grid_auto_columns": null,
            "margin": null,
            "display": null,
            "left": null
          }
        },
        "e093f1b735a94de2b8b0ef3d9eafde80": {
          "model_module": "@jupyter-widgets/controls",
          "model_name": "HBoxModel",
          "state": {
            "_view_name": "HBoxView",
            "_dom_classes": [],
            "_model_name": "HBoxModel",
            "_view_module": "@jupyter-widgets/controls",
            "_model_module_version": "1.5.0",
            "_view_count": null,
            "_view_module_version": "1.5.0",
            "box_style": "",
            "layout": "IPY_MODEL_fcd02ac492234697b24e2dbb1e1d0b4f",
            "_model_module": "@jupyter-widgets/controls",
            "children": [
              "IPY_MODEL_34e4159200744722a21daa118d469a16",
              "IPY_MODEL_565837f240b14af0880d527f1672dbba"
            ]
          }
        },
        "fcd02ac492234697b24e2dbb1e1d0b4f": {
          "model_module": "@jupyter-widgets/base",
          "model_name": "LayoutModel",
          "state": {
            "_view_name": "LayoutView",
            "grid_template_rows": null,
            "right": null,
            "justify_content": null,
            "_view_module": "@jupyter-widgets/base",
            "overflow": null,
            "_model_module_version": "1.2.0",
            "_view_count": null,
            "flex_flow": null,
            "width": null,
            "min_width": null,
            "border": null,
            "align_items": null,
            "bottom": null,
            "_model_module": "@jupyter-widgets/base",
            "top": null,
            "grid_column": null,
            "overflow_y": null,
            "overflow_x": null,
            "grid_auto_flow": null,
            "grid_area": null,
            "grid_template_columns": null,
            "flex": null,
            "_model_name": "LayoutModel",
            "justify_items": null,
            "grid_row": null,
            "max_height": null,
            "align_content": null,
            "visibility": null,
            "align_self": null,
            "height": null,
            "min_height": null,
            "padding": null,
            "grid_auto_rows": null,
            "grid_gap": null,
            "max_width": null,
            "order": null,
            "_view_module_version": "1.2.0",
            "grid_template_areas": null,
            "object_position": null,
            "object_fit": null,
            "grid_auto_columns": null,
            "margin": null,
            "display": null,
            "left": null
          }
        },
        "34e4159200744722a21daa118d469a16": {
          "model_module": "@jupyter-widgets/controls",
          "model_name": "IntProgressModel",
          "state": {
            "_view_name": "ProgressView",
            "style": "IPY_MODEL_f35324d46d394b63a34bfb07c7ff50a8",
            "_dom_classes": [],
            "description": "100%",
            "_model_name": "IntProgressModel",
            "bar_style": "success",
            "max": 50000,
            "_view_module": "@jupyter-widgets/controls",
            "_model_module_version": "1.5.0",
            "value": 50000,
            "_view_count": null,
            "_view_module_version": "1.5.0",
            "orientation": "horizontal",
            "min": 0,
            "description_tooltip": null,
            "_model_module": "@jupyter-widgets/controls",
            "layout": "IPY_MODEL_1c9f5865358a4d0081521cf40519e748"
          }
        },
        "565837f240b14af0880d527f1672dbba": {
          "model_module": "@jupyter-widgets/controls",
          "model_name": "HTMLModel",
          "state": {
            "_view_name": "HTMLView",
            "style": "IPY_MODEL_f8c0edb4aa294d6994d74b55e6848396",
            "_dom_classes": [],
            "description": "",
            "_model_name": "HTMLModel",
            "placeholder": "​",
            "_view_module": "@jupyter-widgets/controls",
            "_model_module_version": "1.5.0",
            "value": " 50000/50000 [00:40&lt;00:00, 1248.48it/s]",
            "_view_count": null,
            "_view_module_version": "1.5.0",
            "description_tooltip": null,
            "_model_module": "@jupyter-widgets/controls",
            "layout": "IPY_MODEL_cb8fb7b5b0d347559719194765ced615"
          }
        },
        "f35324d46d394b63a34bfb07c7ff50a8": {
          "model_module": "@jupyter-widgets/controls",
          "model_name": "ProgressStyleModel",
          "state": {
            "_view_name": "StyleView",
            "_model_name": "ProgressStyleModel",
            "description_width": "initial",
            "_view_module": "@jupyter-widgets/base",
            "_model_module_version": "1.5.0",
            "_view_count": null,
            "_view_module_version": "1.2.0",
            "bar_color": null,
            "_model_module": "@jupyter-widgets/controls"
          }
        },
        "1c9f5865358a4d0081521cf40519e748": {
          "model_module": "@jupyter-widgets/base",
          "model_name": "LayoutModel",
          "state": {
            "_view_name": "LayoutView",
            "grid_template_rows": null,
            "right": null,
            "justify_content": null,
            "_view_module": "@jupyter-widgets/base",
            "overflow": null,
            "_model_module_version": "1.2.0",
            "_view_count": null,
            "flex_flow": null,
            "width": null,
            "min_width": null,
            "border": null,
            "align_items": null,
            "bottom": null,
            "_model_module": "@jupyter-widgets/base",
            "top": null,
            "grid_column": null,
            "overflow_y": null,
            "overflow_x": null,
            "grid_auto_flow": null,
            "grid_area": null,
            "grid_template_columns": null,
            "flex": null,
            "_model_name": "LayoutModel",
            "justify_items": null,
            "grid_row": null,
            "max_height": null,
            "align_content": null,
            "visibility": null,
            "align_self": null,
            "height": null,
            "min_height": null,
            "padding": null,
            "grid_auto_rows": null,
            "grid_gap": null,
            "max_width": null,
            "order": null,
            "_view_module_version": "1.2.0",
            "grid_template_areas": null,
            "object_position": null,
            "object_fit": null,
            "grid_auto_columns": null,
            "margin": null,
            "display": null,
            "left": null
          }
        },
        "f8c0edb4aa294d6994d74b55e6848396": {
          "model_module": "@jupyter-widgets/controls",
          "model_name": "DescriptionStyleModel",
          "state": {
            "_view_name": "StyleView",
            "_model_name": "DescriptionStyleModel",
            "description_width": "",
            "_view_module": "@jupyter-widgets/base",
            "_model_module_version": "1.5.0",
            "_view_count": null,
            "_view_module_version": "1.2.0",
            "_model_module": "@jupyter-widgets/controls"
          }
        },
        "cb8fb7b5b0d347559719194765ced615": {
          "model_module": "@jupyter-widgets/base",
          "model_name": "LayoutModel",
          "state": {
            "_view_name": "LayoutView",
            "grid_template_rows": null,
            "right": null,
            "justify_content": null,
            "_view_module": "@jupyter-widgets/base",
            "overflow": null,
            "_model_module_version": "1.2.0",
            "_view_count": null,
            "flex_flow": null,
            "width": null,
            "min_width": null,
            "border": null,
            "align_items": null,
            "bottom": null,
            "_model_module": "@jupyter-widgets/base",
            "top": null,
            "grid_column": null,
            "overflow_y": null,
            "overflow_x": null,
            "grid_auto_flow": null,
            "grid_area": null,
            "grid_template_columns": null,
            "flex": null,
            "_model_name": "LayoutModel",
            "justify_items": null,
            "grid_row": null,
            "max_height": null,
            "align_content": null,
            "visibility": null,
            "align_self": null,
            "height": null,
            "min_height": null,
            "padding": null,
            "grid_auto_rows": null,
            "grid_gap": null,
            "max_width": null,
            "order": null,
            "_view_module_version": "1.2.0",
            "grid_template_areas": null,
            "object_position": null,
            "object_fit": null,
            "grid_auto_columns": null,
            "margin": null,
            "display": null,
            "left": null
          }
        },
        "18421420b7694ed0aef2b0c3acec339e": {
          "model_module": "@jupyter-widgets/controls",
          "model_name": "HBoxModel",
          "state": {
            "_view_name": "HBoxView",
            "_dom_classes": [],
            "_model_name": "HBoxModel",
            "_view_module": "@jupyter-widgets/controls",
            "_model_module_version": "1.5.0",
            "_view_count": null,
            "_view_module_version": "1.5.0",
            "box_style": "",
            "layout": "IPY_MODEL_893d2632156442db84a59a27154565d1",
            "_model_module": "@jupyter-widgets/controls",
            "children": [
              "IPY_MODEL_f1604f3399ab433eba5eb1e841141212",
              "IPY_MODEL_42e3dbf29e624044ad7ded25ceba868f"
            ]
          }
        },
        "893d2632156442db84a59a27154565d1": {
          "model_module": "@jupyter-widgets/base",
          "model_name": "LayoutModel",
          "state": {
            "_view_name": "LayoutView",
            "grid_template_rows": null,
            "right": null,
            "justify_content": null,
            "_view_module": "@jupyter-widgets/base",
            "overflow": null,
            "_model_module_version": "1.2.0",
            "_view_count": null,
            "flex_flow": null,
            "width": null,
            "min_width": null,
            "border": null,
            "align_items": null,
            "bottom": null,
            "_model_module": "@jupyter-widgets/base",
            "top": null,
            "grid_column": null,
            "overflow_y": null,
            "overflow_x": null,
            "grid_auto_flow": null,
            "grid_area": null,
            "grid_template_columns": null,
            "flex": null,
            "_model_name": "LayoutModel",
            "justify_items": null,
            "grid_row": null,
            "max_height": null,
            "align_content": null,
            "visibility": null,
            "align_self": null,
            "height": null,
            "min_height": null,
            "padding": null,
            "grid_auto_rows": null,
            "grid_gap": null,
            "max_width": null,
            "order": null,
            "_view_module_version": "1.2.0",
            "grid_template_areas": null,
            "object_position": null,
            "object_fit": null,
            "grid_auto_columns": null,
            "margin": null,
            "display": null,
            "left": null
          }
        },
        "f1604f3399ab433eba5eb1e841141212": {
          "model_module": "@jupyter-widgets/controls",
          "model_name": "IntProgressModel",
          "state": {
            "_view_name": "ProgressView",
            "style": "IPY_MODEL_df6f92d42ef14c85b5f39656559aef3b",
            "_dom_classes": [],
            "description": "100%",
            "_model_name": "IntProgressModel",
            "bar_style": "success",
            "max": 6185,
            "_view_module": "@jupyter-widgets/controls",
            "_model_module_version": "1.5.0",
            "value": 6185,
            "_view_count": null,
            "_view_module_version": "1.5.0",
            "orientation": "horizontal",
            "min": 0,
            "description_tooltip": null,
            "_model_module": "@jupyter-widgets/controls",
            "layout": "IPY_MODEL_b377170bb6d3467dafe6443dddf0bb26"
          }
        },
        "42e3dbf29e624044ad7ded25ceba868f": {
          "model_module": "@jupyter-widgets/controls",
          "model_name": "HTMLModel",
          "state": {
            "_view_name": "HTMLView",
            "style": "IPY_MODEL_5f2f691dbd13428fb3c8000dc0ccca9c",
            "_dom_classes": [],
            "description": "",
            "_model_name": "HTMLModel",
            "placeholder": "​",
            "_view_module": "@jupyter-widgets/controls",
            "_model_module_version": "1.5.0",
            "value": " 6185/6185 [00:00&lt;00:00, 23409.22it/s]",
            "_view_count": null,
            "_view_module_version": "1.5.0",
            "description_tooltip": null,
            "_model_module": "@jupyter-widgets/controls",
            "layout": "IPY_MODEL_87629320e5fb4b5d826537cc250409cd"
          }
        },
        "df6f92d42ef14c85b5f39656559aef3b": {
          "model_module": "@jupyter-widgets/controls",
          "model_name": "ProgressStyleModel",
          "state": {
            "_view_name": "StyleView",
            "_model_name": "ProgressStyleModel",
            "description_width": "initial",
            "_view_module": "@jupyter-widgets/base",
            "_model_module_version": "1.5.0",
            "_view_count": null,
            "_view_module_version": "1.2.0",
            "bar_color": null,
            "_model_module": "@jupyter-widgets/controls"
          }
        },
        "b377170bb6d3467dafe6443dddf0bb26": {
          "model_module": "@jupyter-widgets/base",
          "model_name": "LayoutModel",
          "state": {
            "_view_name": "LayoutView",
            "grid_template_rows": null,
            "right": null,
            "justify_content": null,
            "_view_module": "@jupyter-widgets/base",
            "overflow": null,
            "_model_module_version": "1.2.0",
            "_view_count": null,
            "flex_flow": null,
            "width": null,
            "min_width": null,
            "border": null,
            "align_items": null,
            "bottom": null,
            "_model_module": "@jupyter-widgets/base",
            "top": null,
            "grid_column": null,
            "overflow_y": null,
            "overflow_x": null,
            "grid_auto_flow": null,
            "grid_area": null,
            "grid_template_columns": null,
            "flex": null,
            "_model_name": "LayoutModel",
            "justify_items": null,
            "grid_row": null,
            "max_height": null,
            "align_content": null,
            "visibility": null,
            "align_self": null,
            "height": null,
            "min_height": null,
            "padding": null,
            "grid_auto_rows": null,
            "grid_gap": null,
            "max_width": null,
            "order": null,
            "_view_module_version": "1.2.0",
            "grid_template_areas": null,
            "object_position": null,
            "object_fit": null,
            "grid_auto_columns": null,
            "margin": null,
            "display": null,
            "left": null
          }
        },
        "5f2f691dbd13428fb3c8000dc0ccca9c": {
          "model_module": "@jupyter-widgets/controls",
          "model_name": "DescriptionStyleModel",
          "state": {
            "_view_name": "StyleView",
            "_model_name": "DescriptionStyleModel",
            "description_width": "",
            "_view_module": "@jupyter-widgets/base",
            "_model_module_version": "1.5.0",
            "_view_count": null,
            "_view_module_version": "1.2.0",
            "_model_module": "@jupyter-widgets/controls"
          }
        },
        "87629320e5fb4b5d826537cc250409cd": {
          "model_module": "@jupyter-widgets/base",
          "model_name": "LayoutModel",
          "state": {
            "_view_name": "LayoutView",
            "grid_template_rows": null,
            "right": null,
            "justify_content": null,
            "_view_module": "@jupyter-widgets/base",
            "overflow": null,
            "_model_module_version": "1.2.0",
            "_view_count": null,
            "flex_flow": null,
            "width": null,
            "min_width": null,
            "border": null,
            "align_items": null,
            "bottom": null,
            "_model_module": "@jupyter-widgets/base",
            "top": null,
            "grid_column": null,
            "overflow_y": null,
            "overflow_x": null,
            "grid_auto_flow": null,
            "grid_area": null,
            "grid_template_columns": null,
            "flex": null,
            "_model_name": "LayoutModel",
            "justify_items": null,
            "grid_row": null,
            "max_height": null,
            "align_content": null,
            "visibility": null,
            "align_self": null,
            "height": null,
            "min_height": null,
            "padding": null,
            "grid_auto_rows": null,
            "grid_gap": null,
            "max_width": null,
            "order": null,
            "_view_module_version": "1.2.0",
            "grid_template_areas": null,
            "object_position": null,
            "object_fit": null,
            "grid_auto_columns": null,
            "margin": null,
            "display": null,
            "left": null
          }
        },
        "fc23c92a54e642edbe660be5c37b44ba": {
          "model_module": "@jupyter-widgets/controls",
          "model_name": "HBoxModel",
          "state": {
            "_view_name": "HBoxView",
            "_dom_classes": [],
            "_model_name": "HBoxModel",
            "_view_module": "@jupyter-widgets/controls",
            "_model_module_version": "1.5.0",
            "_view_count": null,
            "_view_module_version": "1.5.0",
            "box_style": "",
            "layout": "IPY_MODEL_2b645e536b9a433987e6491dd79159f3",
            "_model_module": "@jupyter-widgets/controls",
            "children": [
              "IPY_MODEL_a3651965f45c4bf3a0fc2b9434d4bbf6",
              "IPY_MODEL_808b7c9c50504927a6848be350e7c4e9"
            ]
          }
        },
        "2b645e536b9a433987e6491dd79159f3": {
          "model_module": "@jupyter-widgets/base",
          "model_name": "LayoutModel",
          "state": {
            "_view_name": "LayoutView",
            "grid_template_rows": null,
            "right": null,
            "justify_content": null,
            "_view_module": "@jupyter-widgets/base",
            "overflow": null,
            "_model_module_version": "1.2.0",
            "_view_count": null,
            "flex_flow": null,
            "width": null,
            "min_width": null,
            "border": null,
            "align_items": null,
            "bottom": null,
            "_model_module": "@jupyter-widgets/base",
            "top": null,
            "grid_column": null,
            "overflow_y": null,
            "overflow_x": null,
            "grid_auto_flow": null,
            "grid_area": null,
            "grid_template_columns": null,
            "flex": null,
            "_model_name": "LayoutModel",
            "justify_items": null,
            "grid_row": null,
            "max_height": null,
            "align_content": null,
            "visibility": null,
            "align_self": null,
            "height": null,
            "min_height": null,
            "padding": null,
            "grid_auto_rows": null,
            "grid_gap": null,
            "max_width": null,
            "order": null,
            "_view_module_version": "1.2.0",
            "grid_template_areas": null,
            "object_position": null,
            "object_fit": null,
            "grid_auto_columns": null,
            "margin": null,
            "display": null,
            "left": null
          }
        },
        "a3651965f45c4bf3a0fc2b9434d4bbf6": {
          "model_module": "@jupyter-widgets/controls",
          "model_name": "IntProgressModel",
          "state": {
            "_view_name": "ProgressView",
            "style": "IPY_MODEL_7613d628631c49f89c4a286c1a14b107",
            "_dom_classes": [],
            "description": "100%",
            "_model_name": "IntProgressModel",
            "bar_style": "success",
            "max": 8467,
            "_view_module": "@jupyter-widgets/controls",
            "_model_module_version": "1.5.0",
            "value": 8467,
            "_view_count": null,
            "_view_module_version": "1.5.0",
            "orientation": "horizontal",
            "min": 0,
            "description_tooltip": null,
            "_model_module": "@jupyter-widgets/controls",
            "layout": "IPY_MODEL_fde32498e8f4497c84b2c6bddad436d3"
          }
        },
        "808b7c9c50504927a6848be350e7c4e9": {
          "model_module": "@jupyter-widgets/controls",
          "model_name": "HTMLModel",
          "state": {
            "_view_name": "HTMLView",
            "style": "IPY_MODEL_52e1dbe927fd4dcea3f82ff7588ec176",
            "_dom_classes": [],
            "description": "",
            "_model_name": "HTMLModel",
            "placeholder": "​",
            "_view_module": "@jupyter-widgets/controls",
            "_model_module_version": "1.5.0",
            "value": " 8467/8467 [00:00&lt;00:00, 17511.05it/s]",
            "_view_count": null,
            "_view_module_version": "1.5.0",
            "description_tooltip": null,
            "_model_module": "@jupyter-widgets/controls",
            "layout": "IPY_MODEL_0f120d3f86bd4523899a81532d414e0f"
          }
        },
        "7613d628631c49f89c4a286c1a14b107": {
          "model_module": "@jupyter-widgets/controls",
          "model_name": "ProgressStyleModel",
          "state": {
            "_view_name": "StyleView",
            "_model_name": "ProgressStyleModel",
            "description_width": "initial",
            "_view_module": "@jupyter-widgets/base",
            "_model_module_version": "1.5.0",
            "_view_count": null,
            "_view_module_version": "1.2.0",
            "bar_color": null,
            "_model_module": "@jupyter-widgets/controls"
          }
        },
        "fde32498e8f4497c84b2c6bddad436d3": {
          "model_module": "@jupyter-widgets/base",
          "model_name": "LayoutModel",
          "state": {
            "_view_name": "LayoutView",
            "grid_template_rows": null,
            "right": null,
            "justify_content": null,
            "_view_module": "@jupyter-widgets/base",
            "overflow": null,
            "_model_module_version": "1.2.0",
            "_view_count": null,
            "flex_flow": null,
            "width": null,
            "min_width": null,
            "border": null,
            "align_items": null,
            "bottom": null,
            "_model_module": "@jupyter-widgets/base",
            "top": null,
            "grid_column": null,
            "overflow_y": null,
            "overflow_x": null,
            "grid_auto_flow": null,
            "grid_area": null,
            "grid_template_columns": null,
            "flex": null,
            "_model_name": "LayoutModel",
            "justify_items": null,
            "grid_row": null,
            "max_height": null,
            "align_content": null,
            "visibility": null,
            "align_self": null,
            "height": null,
            "min_height": null,
            "padding": null,
            "grid_auto_rows": null,
            "grid_gap": null,
            "max_width": null,
            "order": null,
            "_view_module_version": "1.2.0",
            "grid_template_areas": null,
            "object_position": null,
            "object_fit": null,
            "grid_auto_columns": null,
            "margin": null,
            "display": null,
            "left": null
          }
        },
        "52e1dbe927fd4dcea3f82ff7588ec176": {
          "model_module": "@jupyter-widgets/controls",
          "model_name": "DescriptionStyleModel",
          "state": {
            "_view_name": "StyleView",
            "_model_name": "DescriptionStyleModel",
            "description_width": "",
            "_view_module": "@jupyter-widgets/base",
            "_model_module_version": "1.5.0",
            "_view_count": null,
            "_view_module_version": "1.2.0",
            "_model_module": "@jupyter-widgets/controls"
          }
        },
        "0f120d3f86bd4523899a81532d414e0f": {
          "model_module": "@jupyter-widgets/base",
          "model_name": "LayoutModel",
          "state": {
            "_view_name": "LayoutView",
            "grid_template_rows": null,
            "right": null,
            "justify_content": null,
            "_view_module": "@jupyter-widgets/base",
            "overflow": null,
            "_model_module_version": "1.2.0",
            "_view_count": null,
            "flex_flow": null,
            "width": null,
            "min_width": null,
            "border": null,
            "align_items": null,
            "bottom": null,
            "_model_module": "@jupyter-widgets/base",
            "top": null,
            "grid_column": null,
            "overflow_y": null,
            "overflow_x": null,
            "grid_auto_flow": null,
            "grid_area": null,
            "grid_template_columns": null,
            "flex": null,
            "_model_name": "LayoutModel",
            "justify_items": null,
            "grid_row": null,
            "max_height": null,
            "align_content": null,
            "visibility": null,
            "align_self": null,
            "height": null,
            "min_height": null,
            "padding": null,
            "grid_auto_rows": null,
            "grid_gap": null,
            "max_width": null,
            "order": null,
            "_view_module_version": "1.2.0",
            "grid_template_areas": null,
            "object_position": null,
            "object_fit": null,
            "grid_auto_columns": null,
            "margin": null,
            "display": null,
            "left": null
          }
        },
        "ea3be8ca33a04dedb8f9d86c97229b86": {
          "model_module": "@jupyter-widgets/controls",
          "model_name": "HBoxModel",
          "state": {
            "_view_name": "HBoxView",
            "_dom_classes": [],
            "_model_name": "HBoxModel",
            "_view_module": "@jupyter-widgets/controls",
            "_model_module_version": "1.5.0",
            "_view_count": null,
            "_view_module_version": "1.5.0",
            "box_style": "",
            "layout": "IPY_MODEL_7d80f8548c3841bd94ad323bc3bd5d1f",
            "_model_module": "@jupyter-widgets/controls",
            "children": [
              "IPY_MODEL_331de8b6afe54ccca2438cdb4f9f5c3c",
              "IPY_MODEL_2fda91e14d0a408e982f2ae3e03aaa9b"
            ]
          }
        },
        "7d80f8548c3841bd94ad323bc3bd5d1f": {
          "model_module": "@jupyter-widgets/base",
          "model_name": "LayoutModel",
          "state": {
            "_view_name": "LayoutView",
            "grid_template_rows": null,
            "right": null,
            "justify_content": null,
            "_view_module": "@jupyter-widgets/base",
            "overflow": null,
            "_model_module_version": "1.2.0",
            "_view_count": null,
            "flex_flow": null,
            "width": null,
            "min_width": null,
            "border": null,
            "align_items": null,
            "bottom": null,
            "_model_module": "@jupyter-widgets/base",
            "top": null,
            "grid_column": null,
            "overflow_y": null,
            "overflow_x": null,
            "grid_auto_flow": null,
            "grid_area": null,
            "grid_template_columns": null,
            "flex": null,
            "_model_name": "LayoutModel",
            "justify_items": null,
            "grid_row": null,
            "max_height": null,
            "align_content": null,
            "visibility": null,
            "align_self": null,
            "height": null,
            "min_height": null,
            "padding": null,
            "grid_auto_rows": null,
            "grid_gap": null,
            "max_width": null,
            "order": null,
            "_view_module_version": "1.2.0",
            "grid_template_areas": null,
            "object_position": null,
            "object_fit": null,
            "grid_auto_columns": null,
            "margin": null,
            "display": null,
            "left": null
          }
        },
        "331de8b6afe54ccca2438cdb4f9f5c3c": {
          "model_module": "@jupyter-widgets/controls",
          "model_name": "IntProgressModel",
          "state": {
            "_view_name": "ProgressView",
            "style": "IPY_MODEL_d075ff29af394f8b981e0b408808bc5d",
            "_dom_classes": [],
            "description": "100%",
            "_model_name": "IntProgressModel",
            "bar_style": "success",
            "max": 7723,
            "_view_module": "@jupyter-widgets/controls",
            "_model_module_version": "1.5.0",
            "value": 7723,
            "_view_count": null,
            "_view_module_version": "1.5.0",
            "orientation": "horizontal",
            "min": 0,
            "description_tooltip": null,
            "_model_module": "@jupyter-widgets/controls",
            "layout": "IPY_MODEL_6deed778b6cc4b35bfb15105589b89d9"
          }
        },
        "2fda91e14d0a408e982f2ae3e03aaa9b": {
          "model_module": "@jupyter-widgets/controls",
          "model_name": "HTMLModel",
          "state": {
            "_view_name": "HTMLView",
            "style": "IPY_MODEL_297c343cefd24cbca12f449a48883316",
            "_dom_classes": [],
            "description": "",
            "_model_name": "HTMLModel",
            "placeholder": "​",
            "_view_module": "@jupyter-widgets/controls",
            "_model_module_version": "1.5.0",
            "value": " 7723/7723 [00:01&lt;00:00, 5847.67it/s]",
            "_view_count": null,
            "_view_module_version": "1.5.0",
            "description_tooltip": null,
            "_model_module": "@jupyter-widgets/controls",
            "layout": "IPY_MODEL_180a2ee3d2e04c35b807d33b4ce2bae7"
          }
        },
        "d075ff29af394f8b981e0b408808bc5d": {
          "model_module": "@jupyter-widgets/controls",
          "model_name": "ProgressStyleModel",
          "state": {
            "_view_name": "StyleView",
            "_model_name": "ProgressStyleModel",
            "description_width": "initial",
            "_view_module": "@jupyter-widgets/base",
            "_model_module_version": "1.5.0",
            "_view_count": null,
            "_view_module_version": "1.2.0",
            "bar_color": null,
            "_model_module": "@jupyter-widgets/controls"
          }
        },
        "6deed778b6cc4b35bfb15105589b89d9": {
          "model_module": "@jupyter-widgets/base",
          "model_name": "LayoutModel",
          "state": {
            "_view_name": "LayoutView",
            "grid_template_rows": null,
            "right": null,
            "justify_content": null,
            "_view_module": "@jupyter-widgets/base",
            "overflow": null,
            "_model_module_version": "1.2.0",
            "_view_count": null,
            "flex_flow": null,
            "width": null,
            "min_width": null,
            "border": null,
            "align_items": null,
            "bottom": null,
            "_model_module": "@jupyter-widgets/base",
            "top": null,
            "grid_column": null,
            "overflow_y": null,
            "overflow_x": null,
            "grid_auto_flow": null,
            "grid_area": null,
            "grid_template_columns": null,
            "flex": null,
            "_model_name": "LayoutModel",
            "justify_items": null,
            "grid_row": null,
            "max_height": null,
            "align_content": null,
            "visibility": null,
            "align_self": null,
            "height": null,
            "min_height": null,
            "padding": null,
            "grid_auto_rows": null,
            "grid_gap": null,
            "max_width": null,
            "order": null,
            "_view_module_version": "1.2.0",
            "grid_template_areas": null,
            "object_position": null,
            "object_fit": null,
            "grid_auto_columns": null,
            "margin": null,
            "display": null,
            "left": null
          }
        },
        "297c343cefd24cbca12f449a48883316": {
          "model_module": "@jupyter-widgets/controls",
          "model_name": "DescriptionStyleModel",
          "state": {
            "_view_name": "StyleView",
            "_model_name": "DescriptionStyleModel",
            "description_width": "",
            "_view_module": "@jupyter-widgets/base",
            "_model_module_version": "1.5.0",
            "_view_count": null,
            "_view_module_version": "1.2.0",
            "_model_module": "@jupyter-widgets/controls"
          }
        },
        "180a2ee3d2e04c35b807d33b4ce2bae7": {
          "model_module": "@jupyter-widgets/base",
          "model_name": "LayoutModel",
          "state": {
            "_view_name": "LayoutView",
            "grid_template_rows": null,
            "right": null,
            "justify_content": null,
            "_view_module": "@jupyter-widgets/base",
            "overflow": null,
            "_model_module_version": "1.2.0",
            "_view_count": null,
            "flex_flow": null,
            "width": null,
            "min_width": null,
            "border": null,
            "align_items": null,
            "bottom": null,
            "_model_module": "@jupyter-widgets/base",
            "top": null,
            "grid_column": null,
            "overflow_y": null,
            "overflow_x": null,
            "grid_auto_flow": null,
            "grid_area": null,
            "grid_template_columns": null,
            "flex": null,
            "_model_name": "LayoutModel",
            "justify_items": null,
            "grid_row": null,
            "max_height": null,
            "align_content": null,
            "visibility": null,
            "align_self": null,
            "height": null,
            "min_height": null,
            "padding": null,
            "grid_auto_rows": null,
            "grid_gap": null,
            "max_width": null,
            "order": null,
            "_view_module_version": "1.2.0",
            "grid_template_areas": null,
            "object_position": null,
            "object_fit": null,
            "grid_auto_columns": null,
            "margin": null,
            "display": null,
            "left": null
          }
        },
        "26a048d7b9d545c8b17193562c211b08": {
          "model_module": "@jupyter-widgets/controls",
          "model_name": "HBoxModel",
          "state": {
            "_view_name": "HBoxView",
            "_dom_classes": [],
            "_model_name": "HBoxModel",
            "_view_module": "@jupyter-widgets/controls",
            "_model_module_version": "1.5.0",
            "_view_count": null,
            "_view_module_version": "1.5.0",
            "box_style": "",
            "layout": "IPY_MODEL_9423c6ce6a5e4ef2843dcb62d4f87c92",
            "_model_module": "@jupyter-widgets/controls",
            "children": [
              "IPY_MODEL_669dab7bd9c04c4dacda18e210b69ea1",
              "IPY_MODEL_2c4fc35742f940e49d5d989cb54be99e"
            ]
          }
        },
        "9423c6ce6a5e4ef2843dcb62d4f87c92": {
          "model_module": "@jupyter-widgets/base",
          "model_name": "LayoutModel",
          "state": {
            "_view_name": "LayoutView",
            "grid_template_rows": null,
            "right": null,
            "justify_content": null,
            "_view_module": "@jupyter-widgets/base",
            "overflow": null,
            "_model_module_version": "1.2.0",
            "_view_count": null,
            "flex_flow": null,
            "width": null,
            "min_width": null,
            "border": null,
            "align_items": null,
            "bottom": null,
            "_model_module": "@jupyter-widgets/base",
            "top": null,
            "grid_column": null,
            "overflow_y": null,
            "overflow_x": null,
            "grid_auto_flow": null,
            "grid_area": null,
            "grid_template_columns": null,
            "flex": null,
            "_model_name": "LayoutModel",
            "justify_items": null,
            "grid_row": null,
            "max_height": null,
            "align_content": null,
            "visibility": null,
            "align_self": null,
            "height": null,
            "min_height": null,
            "padding": null,
            "grid_auto_rows": null,
            "grid_gap": null,
            "max_width": null,
            "order": null,
            "_view_module_version": "1.2.0",
            "grid_template_areas": null,
            "object_position": null,
            "object_fit": null,
            "grid_auto_columns": null,
            "margin": null,
            "display": null,
            "left": null
          }
        },
        "669dab7bd9c04c4dacda18e210b69ea1": {
          "model_module": "@jupyter-widgets/controls",
          "model_name": "IntProgressModel",
          "state": {
            "_view_name": "ProgressView",
            "style": "IPY_MODEL_6a5c5494b5c14084b41287fbf17a357f",
            "_dom_classes": [],
            "description": "100%",
            "_model_name": "IntProgressModel",
            "bar_style": "success",
            "max": 7066,
            "_view_module": "@jupyter-widgets/controls",
            "_model_module_version": "1.5.0",
            "value": 7066,
            "_view_count": null,
            "_view_module_version": "1.5.0",
            "orientation": "horizontal",
            "min": 0,
            "description_tooltip": null,
            "_model_module": "@jupyter-widgets/controls",
            "layout": "IPY_MODEL_5397ce8539cd44bd98d273a347ddaa4f"
          }
        },
        "2c4fc35742f940e49d5d989cb54be99e": {
          "model_module": "@jupyter-widgets/controls",
          "model_name": "HTMLModel",
          "state": {
            "_view_name": "HTMLView",
            "style": "IPY_MODEL_07dae42f4e4d430c9e68e812f0dbeb82",
            "_dom_classes": [],
            "description": "",
            "_model_name": "HTMLModel",
            "placeholder": "​",
            "_view_module": "@jupyter-widgets/controls",
            "_model_module_version": "1.5.0",
            "value": " 7066/7066 [01:14&lt;00:00, 95.21it/s]",
            "_view_count": null,
            "_view_module_version": "1.5.0",
            "description_tooltip": null,
            "_model_module": "@jupyter-widgets/controls",
            "layout": "IPY_MODEL_2439956219bc49c88727ee62a28a92d1"
          }
        },
        "6a5c5494b5c14084b41287fbf17a357f": {
          "model_module": "@jupyter-widgets/controls",
          "model_name": "ProgressStyleModel",
          "state": {
            "_view_name": "StyleView",
            "_model_name": "ProgressStyleModel",
            "description_width": "initial",
            "_view_module": "@jupyter-widgets/base",
            "_model_module_version": "1.5.0",
            "_view_count": null,
            "_view_module_version": "1.2.0",
            "bar_color": null,
            "_model_module": "@jupyter-widgets/controls"
          }
        },
        "5397ce8539cd44bd98d273a347ddaa4f": {
          "model_module": "@jupyter-widgets/base",
          "model_name": "LayoutModel",
          "state": {
            "_view_name": "LayoutView",
            "grid_template_rows": null,
            "right": null,
            "justify_content": null,
            "_view_module": "@jupyter-widgets/base",
            "overflow": null,
            "_model_module_version": "1.2.0",
            "_view_count": null,
            "flex_flow": null,
            "width": null,
            "min_width": null,
            "border": null,
            "align_items": null,
            "bottom": null,
            "_model_module": "@jupyter-widgets/base",
            "top": null,
            "grid_column": null,
            "overflow_y": null,
            "overflow_x": null,
            "grid_auto_flow": null,
            "grid_area": null,
            "grid_template_columns": null,
            "flex": null,
            "_model_name": "LayoutModel",
            "justify_items": null,
            "grid_row": null,
            "max_height": null,
            "align_content": null,
            "visibility": null,
            "align_self": null,
            "height": null,
            "min_height": null,
            "padding": null,
            "grid_auto_rows": null,
            "grid_gap": null,
            "max_width": null,
            "order": null,
            "_view_module_version": "1.2.0",
            "grid_template_areas": null,
            "object_position": null,
            "object_fit": null,
            "grid_auto_columns": null,
            "margin": null,
            "display": null,
            "left": null
          }
        },
        "07dae42f4e4d430c9e68e812f0dbeb82": {
          "model_module": "@jupyter-widgets/controls",
          "model_name": "DescriptionStyleModel",
          "state": {
            "_view_name": "StyleView",
            "_model_name": "DescriptionStyleModel",
            "description_width": "",
            "_view_module": "@jupyter-widgets/base",
            "_model_module_version": "1.5.0",
            "_view_count": null,
            "_view_module_version": "1.2.0",
            "_model_module": "@jupyter-widgets/controls"
          }
        },
        "2439956219bc49c88727ee62a28a92d1": {
          "model_module": "@jupyter-widgets/base",
          "model_name": "LayoutModel",
          "state": {
            "_view_name": "LayoutView",
            "grid_template_rows": null,
            "right": null,
            "justify_content": null,
            "_view_module": "@jupyter-widgets/base",
            "overflow": null,
            "_model_module_version": "1.2.0",
            "_view_count": null,
            "flex_flow": null,
            "width": null,
            "min_width": null,
            "border": null,
            "align_items": null,
            "bottom": null,
            "_model_module": "@jupyter-widgets/base",
            "top": null,
            "grid_column": null,
            "overflow_y": null,
            "overflow_x": null,
            "grid_auto_flow": null,
            "grid_area": null,
            "grid_template_columns": null,
            "flex": null,
            "_model_name": "LayoutModel",
            "justify_items": null,
            "grid_row": null,
            "max_height": null,
            "align_content": null,
            "visibility": null,
            "align_self": null,
            "height": null,
            "min_height": null,
            "padding": null,
            "grid_auto_rows": null,
            "grid_gap": null,
            "max_width": null,
            "order": null,
            "_view_module_version": "1.2.0",
            "grid_template_areas": null,
            "object_position": null,
            "object_fit": null,
            "grid_auto_columns": null,
            "margin": null,
            "display": null,
            "left": null
          }
        },
        "b51fc3a451f94625bdfede76d4b54891": {
          "model_module": "@jupyter-widgets/controls",
          "model_name": "HBoxModel",
          "state": {
            "_view_name": "HBoxView",
            "_dom_classes": [],
            "_model_name": "HBoxModel",
            "_view_module": "@jupyter-widgets/controls",
            "_model_module_version": "1.5.0",
            "_view_count": null,
            "_view_module_version": "1.5.0",
            "box_style": "",
            "layout": "IPY_MODEL_5b7af1957a46412390c2842bb724a0c0",
            "_model_module": "@jupyter-widgets/controls",
            "children": [
              "IPY_MODEL_cd94b11db9a74e8ca436ac31c935801e",
              "IPY_MODEL_a8c064c570e149aeaf28e8cd05e46734"
            ]
          }
        },
        "5b7af1957a46412390c2842bb724a0c0": {
          "model_module": "@jupyter-widgets/base",
          "model_name": "LayoutModel",
          "state": {
            "_view_name": "LayoutView",
            "grid_template_rows": null,
            "right": null,
            "justify_content": null,
            "_view_module": "@jupyter-widgets/base",
            "overflow": null,
            "_model_module_version": "1.2.0",
            "_view_count": null,
            "flex_flow": null,
            "width": null,
            "min_width": null,
            "border": null,
            "align_items": null,
            "bottom": null,
            "_model_module": "@jupyter-widgets/base",
            "top": null,
            "grid_column": null,
            "overflow_y": null,
            "overflow_x": null,
            "grid_auto_flow": null,
            "grid_area": null,
            "grid_template_columns": null,
            "flex": null,
            "_model_name": "LayoutModel",
            "justify_items": null,
            "grid_row": null,
            "max_height": null,
            "align_content": null,
            "visibility": null,
            "align_self": null,
            "height": null,
            "min_height": null,
            "padding": null,
            "grid_auto_rows": null,
            "grid_gap": null,
            "max_width": null,
            "order": null,
            "_view_module_version": "1.2.0",
            "grid_template_areas": null,
            "object_position": null,
            "object_fit": null,
            "grid_auto_columns": null,
            "margin": null,
            "display": null,
            "left": null
          }
        },
        "cd94b11db9a74e8ca436ac31c935801e": {
          "model_module": "@jupyter-widgets/controls",
          "model_name": "IntProgressModel",
          "state": {
            "_view_name": "ProgressView",
            "style": "IPY_MODEL_c16c6ae976d54d39ad5da0865c87b9af",
            "_dom_classes": [],
            "description": "100%",
            "_model_name": "IntProgressModel",
            "bar_style": "success",
            "max": 9169,
            "_view_module": "@jupyter-widgets/controls",
            "_model_module_version": "1.5.0",
            "value": 9169,
            "_view_count": null,
            "_view_module_version": "1.5.0",
            "orientation": "horizontal",
            "min": 0,
            "description_tooltip": null,
            "_model_module": "@jupyter-widgets/controls",
            "layout": "IPY_MODEL_7f736c6779c145e0868da574522aee29"
          }
        },
        "a8c064c570e149aeaf28e8cd05e46734": {
          "model_module": "@jupyter-widgets/controls",
          "model_name": "HTMLModel",
          "state": {
            "_view_name": "HTMLView",
            "style": "IPY_MODEL_ebb073e2f33547e3a5d0613474e17162",
            "_dom_classes": [],
            "description": "",
            "_model_name": "HTMLModel",
            "placeholder": "​",
            "_view_module": "@jupyter-widgets/controls",
            "_model_module_version": "1.5.0",
            "value": " 9169/9169 [00:01&lt;00:00, 5444.39it/s]",
            "_view_count": null,
            "_view_module_version": "1.5.0",
            "description_tooltip": null,
            "_model_module": "@jupyter-widgets/controls",
            "layout": "IPY_MODEL_ad3ca4ac978a4ecba52445e5222f26c6"
          }
        },
        "c16c6ae976d54d39ad5da0865c87b9af": {
          "model_module": "@jupyter-widgets/controls",
          "model_name": "ProgressStyleModel",
          "state": {
            "_view_name": "StyleView",
            "_model_name": "ProgressStyleModel",
            "description_width": "initial",
            "_view_module": "@jupyter-widgets/base",
            "_model_module_version": "1.5.0",
            "_view_count": null,
            "_view_module_version": "1.2.0",
            "bar_color": null,
            "_model_module": "@jupyter-widgets/controls"
          }
        },
        "7f736c6779c145e0868da574522aee29": {
          "model_module": "@jupyter-widgets/base",
          "model_name": "LayoutModel",
          "state": {
            "_view_name": "LayoutView",
            "grid_template_rows": null,
            "right": null,
            "justify_content": null,
            "_view_module": "@jupyter-widgets/base",
            "overflow": null,
            "_model_module_version": "1.2.0",
            "_view_count": null,
            "flex_flow": null,
            "width": null,
            "min_width": null,
            "border": null,
            "align_items": null,
            "bottom": null,
            "_model_module": "@jupyter-widgets/base",
            "top": null,
            "grid_column": null,
            "overflow_y": null,
            "overflow_x": null,
            "grid_auto_flow": null,
            "grid_area": null,
            "grid_template_columns": null,
            "flex": null,
            "_model_name": "LayoutModel",
            "justify_items": null,
            "grid_row": null,
            "max_height": null,
            "align_content": null,
            "visibility": null,
            "align_self": null,
            "height": null,
            "min_height": null,
            "padding": null,
            "grid_auto_rows": null,
            "grid_gap": null,
            "max_width": null,
            "order": null,
            "_view_module_version": "1.2.0",
            "grid_template_areas": null,
            "object_position": null,
            "object_fit": null,
            "grid_auto_columns": null,
            "margin": null,
            "display": null,
            "left": null
          }
        },
        "ebb073e2f33547e3a5d0613474e17162": {
          "model_module": "@jupyter-widgets/controls",
          "model_name": "DescriptionStyleModel",
          "state": {
            "_view_name": "StyleView",
            "_model_name": "DescriptionStyleModel",
            "description_width": "",
            "_view_module": "@jupyter-widgets/base",
            "_model_module_version": "1.5.0",
            "_view_count": null,
            "_view_module_version": "1.2.0",
            "_model_module": "@jupyter-widgets/controls"
          }
        },
        "ad3ca4ac978a4ecba52445e5222f26c6": {
          "model_module": "@jupyter-widgets/base",
          "model_name": "LayoutModel",
          "state": {
            "_view_name": "LayoutView",
            "grid_template_rows": null,
            "right": null,
            "justify_content": null,
            "_view_module": "@jupyter-widgets/base",
            "overflow": null,
            "_model_module_version": "1.2.0",
            "_view_count": null,
            "flex_flow": null,
            "width": null,
            "min_width": null,
            "border": null,
            "align_items": null,
            "bottom": null,
            "_model_module": "@jupyter-widgets/base",
            "top": null,
            "grid_column": null,
            "overflow_y": null,
            "overflow_x": null,
            "grid_auto_flow": null,
            "grid_area": null,
            "grid_template_columns": null,
            "flex": null,
            "_model_name": "LayoutModel",
            "justify_items": null,
            "grid_row": null,
            "max_height": null,
            "align_content": null,
            "visibility": null,
            "align_self": null,
            "height": null,
            "min_height": null,
            "padding": null,
            "grid_auto_rows": null,
            "grid_gap": null,
            "max_width": null,
            "order": null,
            "_view_module_version": "1.2.0",
            "grid_template_areas": null,
            "object_position": null,
            "object_fit": null,
            "grid_auto_columns": null,
            "margin": null,
            "display": null,
            "left": null
          }
        },
        "106b12b0c6474ec38f0aedc8937053f5": {
          "model_module": "@jupyter-widgets/controls",
          "model_name": "HBoxModel",
          "state": {
            "_view_name": "HBoxView",
            "_dom_classes": [],
            "_model_name": "HBoxModel",
            "_view_module": "@jupyter-widgets/controls",
            "_model_module_version": "1.5.0",
            "_view_count": null,
            "_view_module_version": "1.5.0",
            "box_style": "",
            "layout": "IPY_MODEL_834505789c87405e9cfa165255d48519",
            "_model_module": "@jupyter-widgets/controls",
            "children": [
              "IPY_MODEL_6f9b73a607e340838fc25c409c1590c5",
              "IPY_MODEL_49d0da79f600414a9b7ae85d33696895"
            ]
          }
        },
        "834505789c87405e9cfa165255d48519": {
          "model_module": "@jupyter-widgets/base",
          "model_name": "LayoutModel",
          "state": {
            "_view_name": "LayoutView",
            "grid_template_rows": null,
            "right": null,
            "justify_content": null,
            "_view_module": "@jupyter-widgets/base",
            "overflow": null,
            "_model_module_version": "1.2.0",
            "_view_count": null,
            "flex_flow": null,
            "width": null,
            "min_width": null,
            "border": null,
            "align_items": null,
            "bottom": null,
            "_model_module": "@jupyter-widgets/base",
            "top": null,
            "grid_column": null,
            "overflow_y": null,
            "overflow_x": null,
            "grid_auto_flow": null,
            "grid_area": null,
            "grid_template_columns": null,
            "flex": null,
            "_model_name": "LayoutModel",
            "justify_items": null,
            "grid_row": null,
            "max_height": null,
            "align_content": null,
            "visibility": null,
            "align_self": null,
            "height": null,
            "min_height": null,
            "padding": null,
            "grid_auto_rows": null,
            "grid_gap": null,
            "max_width": null,
            "order": null,
            "_view_module_version": "1.2.0",
            "grid_template_areas": null,
            "object_position": null,
            "object_fit": null,
            "grid_auto_columns": null,
            "margin": null,
            "display": null,
            "left": null
          }
        },
        "6f9b73a607e340838fc25c409c1590c5": {
          "model_module": "@jupyter-widgets/controls",
          "model_name": "IntProgressModel",
          "state": {
            "_view_name": "ProgressView",
            "style": "IPY_MODEL_4a35d3d8da2f4b798bdbda32813e9d40",
            "_dom_classes": [],
            "description": "100%",
            "_model_name": "IntProgressModel",
            "bar_style": "success",
            "max": 8079,
            "_view_module": "@jupyter-widgets/controls",
            "_model_module_version": "1.5.0",
            "value": 8079,
            "_view_count": null,
            "_view_module_version": "1.5.0",
            "orientation": "horizontal",
            "min": 0,
            "description_tooltip": null,
            "_model_module": "@jupyter-widgets/controls",
            "layout": "IPY_MODEL_dca97f4b93f841999214eba64c3d44be"
          }
        },
        "49d0da79f600414a9b7ae85d33696895": {
          "model_module": "@jupyter-widgets/controls",
          "model_name": "HTMLModel",
          "state": {
            "_view_name": "HTMLView",
            "style": "IPY_MODEL_f113bfec3d4d41d6b6a921f04da26d09",
            "_dom_classes": [],
            "description": "",
            "_model_name": "HTMLModel",
            "placeholder": "​",
            "_view_module": "@jupyter-widgets/controls",
            "_model_module_version": "1.5.0",
            "value": " 8079/8079 [00:02&lt;00:00, 3553.40it/s]",
            "_view_count": null,
            "_view_module_version": "1.5.0",
            "description_tooltip": null,
            "_model_module": "@jupyter-widgets/controls",
            "layout": "IPY_MODEL_346d40ad1a3741a9a214729f7c449a94"
          }
        },
        "4a35d3d8da2f4b798bdbda32813e9d40": {
          "model_module": "@jupyter-widgets/controls",
          "model_name": "ProgressStyleModel",
          "state": {
            "_view_name": "StyleView",
            "_model_name": "ProgressStyleModel",
            "description_width": "initial",
            "_view_module": "@jupyter-widgets/base",
            "_model_module_version": "1.5.0",
            "_view_count": null,
            "_view_module_version": "1.2.0",
            "bar_color": null,
            "_model_module": "@jupyter-widgets/controls"
          }
        },
        "dca97f4b93f841999214eba64c3d44be": {
          "model_module": "@jupyter-widgets/base",
          "model_name": "LayoutModel",
          "state": {
            "_view_name": "LayoutView",
            "grid_template_rows": null,
            "right": null,
            "justify_content": null,
            "_view_module": "@jupyter-widgets/base",
            "overflow": null,
            "_model_module_version": "1.2.0",
            "_view_count": null,
            "flex_flow": null,
            "width": null,
            "min_width": null,
            "border": null,
            "align_items": null,
            "bottom": null,
            "_model_module": "@jupyter-widgets/base",
            "top": null,
            "grid_column": null,
            "overflow_y": null,
            "overflow_x": null,
            "grid_auto_flow": null,
            "grid_area": null,
            "grid_template_columns": null,
            "flex": null,
            "_model_name": "LayoutModel",
            "justify_items": null,
            "grid_row": null,
            "max_height": null,
            "align_content": null,
            "visibility": null,
            "align_self": null,
            "height": null,
            "min_height": null,
            "padding": null,
            "grid_auto_rows": null,
            "grid_gap": null,
            "max_width": null,
            "order": null,
            "_view_module_version": "1.2.0",
            "grid_template_areas": null,
            "object_position": null,
            "object_fit": null,
            "grid_auto_columns": null,
            "margin": null,
            "display": null,
            "left": null
          }
        },
        "f113bfec3d4d41d6b6a921f04da26d09": {
          "model_module": "@jupyter-widgets/controls",
          "model_name": "DescriptionStyleModel",
          "state": {
            "_view_name": "StyleView",
            "_model_name": "DescriptionStyleModel",
            "description_width": "",
            "_view_module": "@jupyter-widgets/base",
            "_model_module_version": "1.5.0",
            "_view_count": null,
            "_view_module_version": "1.2.0",
            "_model_module": "@jupyter-widgets/controls"
          }
        },
        "346d40ad1a3741a9a214729f7c449a94": {
          "model_module": "@jupyter-widgets/base",
          "model_name": "LayoutModel",
          "state": {
            "_view_name": "LayoutView",
            "grid_template_rows": null,
            "right": null,
            "justify_content": null,
            "_view_module": "@jupyter-widgets/base",
            "overflow": null,
            "_model_module_version": "1.2.0",
            "_view_count": null,
            "flex_flow": null,
            "width": null,
            "min_width": null,
            "border": null,
            "align_items": null,
            "bottom": null,
            "_model_module": "@jupyter-widgets/base",
            "top": null,
            "grid_column": null,
            "overflow_y": null,
            "overflow_x": null,
            "grid_auto_flow": null,
            "grid_area": null,
            "grid_template_columns": null,
            "flex": null,
            "_model_name": "LayoutModel",
            "justify_items": null,
            "grid_row": null,
            "max_height": null,
            "align_content": null,
            "visibility": null,
            "align_self": null,
            "height": null,
            "min_height": null,
            "padding": null,
            "grid_auto_rows": null,
            "grid_gap": null,
            "max_width": null,
            "order": null,
            "_view_module_version": "1.2.0",
            "grid_template_areas": null,
            "object_position": null,
            "object_fit": null,
            "grid_auto_columns": null,
            "margin": null,
            "display": null,
            "left": null
          }
        },
        "195da1dd68c74549b93dd36fee302776": {
          "model_module": "@jupyter-widgets/controls",
          "model_name": "HBoxModel",
          "state": {
            "_view_name": "HBoxView",
            "_dom_classes": [],
            "_model_name": "HBoxModel",
            "_view_module": "@jupyter-widgets/controls",
            "_model_module_version": "1.5.0",
            "_view_count": null,
            "_view_module_version": "1.5.0",
            "box_style": "",
            "layout": "IPY_MODEL_9108424eac134e5ca35ee0a208703702",
            "_model_module": "@jupyter-widgets/controls",
            "children": [
              "IPY_MODEL_d366dd6628504238ae27f39f76394dd6",
              "IPY_MODEL_d809535e27434d5abab972d76087b280"
            ]
          }
        },
        "9108424eac134e5ca35ee0a208703702": {
          "model_module": "@jupyter-widgets/base",
          "model_name": "LayoutModel",
          "state": {
            "_view_name": "LayoutView",
            "grid_template_rows": null,
            "right": null,
            "justify_content": null,
            "_view_module": "@jupyter-widgets/base",
            "overflow": null,
            "_model_module_version": "1.2.0",
            "_view_count": null,
            "flex_flow": null,
            "width": null,
            "min_width": null,
            "border": null,
            "align_items": null,
            "bottom": null,
            "_model_module": "@jupyter-widgets/base",
            "top": null,
            "grid_column": null,
            "overflow_y": null,
            "overflow_x": null,
            "grid_auto_flow": null,
            "grid_area": null,
            "grid_template_columns": null,
            "flex": null,
            "_model_name": "LayoutModel",
            "justify_items": null,
            "grid_row": null,
            "max_height": null,
            "align_content": null,
            "visibility": null,
            "align_self": null,
            "height": null,
            "min_height": null,
            "padding": null,
            "grid_auto_rows": null,
            "grid_gap": null,
            "max_width": null,
            "order": null,
            "_view_module_version": "1.2.0",
            "grid_template_areas": null,
            "object_position": null,
            "object_fit": null,
            "grid_auto_columns": null,
            "margin": null,
            "display": null,
            "left": null
          }
        },
        "d366dd6628504238ae27f39f76394dd6": {
          "model_module": "@jupyter-widgets/controls",
          "model_name": "IntProgressModel",
          "state": {
            "_view_name": "ProgressView",
            "style": "IPY_MODEL_33fef8fbb1884fe698d8bb289392cf04",
            "_dom_classes": [],
            "description": "100%",
            "_model_name": "IntProgressModel",
            "bar_style": "success",
            "max": 7519,
            "_view_module": "@jupyter-widgets/controls",
            "_model_module_version": "1.5.0",
            "value": 7519,
            "_view_count": null,
            "_view_module_version": "1.5.0",
            "orientation": "horizontal",
            "min": 0,
            "description_tooltip": null,
            "_model_module": "@jupyter-widgets/controls",
            "layout": "IPY_MODEL_7dbab5b0a16b4ed29c031b9265b532d8"
          }
        },
        "d809535e27434d5abab972d76087b280": {
          "model_module": "@jupyter-widgets/controls",
          "model_name": "HTMLModel",
          "state": {
            "_view_name": "HTMLView",
            "style": "IPY_MODEL_70b3b80b75c74bb78a7e5c4bd210df64",
            "_dom_classes": [],
            "description": "",
            "_model_name": "HTMLModel",
            "placeholder": "​",
            "_view_module": "@jupyter-widgets/controls",
            "_model_module_version": "1.5.0",
            "value": " 7519/7519 [00:00&lt;00:00, 19583.12it/s]",
            "_view_count": null,
            "_view_module_version": "1.5.0",
            "description_tooltip": null,
            "_model_module": "@jupyter-widgets/controls",
            "layout": "IPY_MODEL_03d9b864b49f49658b61f4901be230a7"
          }
        },
        "33fef8fbb1884fe698d8bb289392cf04": {
          "model_module": "@jupyter-widgets/controls",
          "model_name": "ProgressStyleModel",
          "state": {
            "_view_name": "StyleView",
            "_model_name": "ProgressStyleModel",
            "description_width": "initial",
            "_view_module": "@jupyter-widgets/base",
            "_model_module_version": "1.5.0",
            "_view_count": null,
            "_view_module_version": "1.2.0",
            "bar_color": null,
            "_model_module": "@jupyter-widgets/controls"
          }
        },
        "7dbab5b0a16b4ed29c031b9265b532d8": {
          "model_module": "@jupyter-widgets/base",
          "model_name": "LayoutModel",
          "state": {
            "_view_name": "LayoutView",
            "grid_template_rows": null,
            "right": null,
            "justify_content": null,
            "_view_module": "@jupyter-widgets/base",
            "overflow": null,
            "_model_module_version": "1.2.0",
            "_view_count": null,
            "flex_flow": null,
            "width": null,
            "min_width": null,
            "border": null,
            "align_items": null,
            "bottom": null,
            "_model_module": "@jupyter-widgets/base",
            "top": null,
            "grid_column": null,
            "overflow_y": null,
            "overflow_x": null,
            "grid_auto_flow": null,
            "grid_area": null,
            "grid_template_columns": null,
            "flex": null,
            "_model_name": "LayoutModel",
            "justify_items": null,
            "grid_row": null,
            "max_height": null,
            "align_content": null,
            "visibility": null,
            "align_self": null,
            "height": null,
            "min_height": null,
            "padding": null,
            "grid_auto_rows": null,
            "grid_gap": null,
            "max_width": null,
            "order": null,
            "_view_module_version": "1.2.0",
            "grid_template_areas": null,
            "object_position": null,
            "object_fit": null,
            "grid_auto_columns": null,
            "margin": null,
            "display": null,
            "left": null
          }
        },
        "70b3b80b75c74bb78a7e5c4bd210df64": {
          "model_module": "@jupyter-widgets/controls",
          "model_name": "DescriptionStyleModel",
          "state": {
            "_view_name": "StyleView",
            "_model_name": "DescriptionStyleModel",
            "description_width": "",
            "_view_module": "@jupyter-widgets/base",
            "_model_module_version": "1.5.0",
            "_view_count": null,
            "_view_module_version": "1.2.0",
            "_model_module": "@jupyter-widgets/controls"
          }
        },
        "03d9b864b49f49658b61f4901be230a7": {
          "model_module": "@jupyter-widgets/base",
          "model_name": "LayoutModel",
          "state": {
            "_view_name": "LayoutView",
            "grid_template_rows": null,
            "right": null,
            "justify_content": null,
            "_view_module": "@jupyter-widgets/base",
            "overflow": null,
            "_model_module_version": "1.2.0",
            "_view_count": null,
            "flex_flow": null,
            "width": null,
            "min_width": null,
            "border": null,
            "align_items": null,
            "bottom": null,
            "_model_module": "@jupyter-widgets/base",
            "top": null,
            "grid_column": null,
            "overflow_y": null,
            "overflow_x": null,
            "grid_auto_flow": null,
            "grid_area": null,
            "grid_template_columns": null,
            "flex": null,
            "_model_name": "LayoutModel",
            "justify_items": null,
            "grid_row": null,
            "max_height": null,
            "align_content": null,
            "visibility": null,
            "align_self": null,
            "height": null,
            "min_height": null,
            "padding": null,
            "grid_auto_rows": null,
            "grid_gap": null,
            "max_width": null,
            "order": null,
            "_view_module_version": "1.2.0",
            "grid_template_areas": null,
            "object_position": null,
            "object_fit": null,
            "grid_auto_columns": null,
            "margin": null,
            "display": null,
            "left": null
          }
        },
        "7f5200f4a3db41a3a03cc9593ab62fd7": {
          "model_module": "@jupyter-widgets/controls",
          "model_name": "HBoxModel",
          "state": {
            "_view_name": "HBoxView",
            "_dom_classes": [],
            "_model_name": "HBoxModel",
            "_view_module": "@jupyter-widgets/controls",
            "_model_module_version": "1.5.0",
            "_view_count": null,
            "_view_module_version": "1.5.0",
            "box_style": "",
            "layout": "IPY_MODEL_7db7861d82f747158b980c405c901012",
            "_model_module": "@jupyter-widgets/controls",
            "children": [
              "IPY_MODEL_a5efc72e95434e6ca1ad09de63b8c4de",
              "IPY_MODEL_b83a27fcce7c4ea0a0f750811b7fe35f"
            ]
          }
        },
        "7db7861d82f747158b980c405c901012": {
          "model_module": "@jupyter-widgets/base",
          "model_name": "LayoutModel",
          "state": {
            "_view_name": "LayoutView",
            "grid_template_rows": null,
            "right": null,
            "justify_content": null,
            "_view_module": "@jupyter-widgets/base",
            "overflow": null,
            "_model_module_version": "1.2.0",
            "_view_count": null,
            "flex_flow": null,
            "width": null,
            "min_width": null,
            "border": null,
            "align_items": null,
            "bottom": null,
            "_model_module": "@jupyter-widgets/base",
            "top": null,
            "grid_column": null,
            "overflow_y": null,
            "overflow_x": null,
            "grid_auto_flow": null,
            "grid_area": null,
            "grid_template_columns": null,
            "flex": null,
            "_model_name": "LayoutModel",
            "justify_items": null,
            "grid_row": null,
            "max_height": null,
            "align_content": null,
            "visibility": null,
            "align_self": null,
            "height": null,
            "min_height": null,
            "padding": null,
            "grid_auto_rows": null,
            "grid_gap": null,
            "max_width": null,
            "order": null,
            "_view_module_version": "1.2.0",
            "grid_template_areas": null,
            "object_position": null,
            "object_fit": null,
            "grid_auto_columns": null,
            "margin": null,
            "display": null,
            "left": null
          }
        },
        "a5efc72e95434e6ca1ad09de63b8c4de": {
          "model_module": "@jupyter-widgets/controls",
          "model_name": "IntProgressModel",
          "state": {
            "_view_name": "ProgressView",
            "style": "IPY_MODEL_c0f7adaf08ec4e42b2d7c793c5cb0fe0",
            "_dom_classes": [],
            "description": "100%",
            "_model_name": "IntProgressModel",
            "bar_style": "success",
            "max": 9489,
            "_view_module": "@jupyter-widgets/controls",
            "_model_module_version": "1.5.0",
            "value": 9489,
            "_view_count": null,
            "_view_module_version": "1.5.0",
            "orientation": "horizontal",
            "min": 0,
            "description_tooltip": null,
            "_model_module": "@jupyter-widgets/controls",
            "layout": "IPY_MODEL_c434baa21ef94e8abb6f144f9d37a420"
          }
        },
        "b83a27fcce7c4ea0a0f750811b7fe35f": {
          "model_module": "@jupyter-widgets/controls",
          "model_name": "HTMLModel",
          "state": {
            "_view_name": "HTMLView",
            "style": "IPY_MODEL_81f3513d78024e988f06f05b4ecb6c15",
            "_dom_classes": [],
            "description": "",
            "_model_name": "HTMLModel",
            "placeholder": "​",
            "_view_module": "@jupyter-widgets/controls",
            "_model_module_version": "1.5.0",
            "value": " 9489/9489 [00:00&lt;00:00, 11310.81it/s]",
            "_view_count": null,
            "_view_module_version": "1.5.0",
            "description_tooltip": null,
            "_model_module": "@jupyter-widgets/controls",
            "layout": "IPY_MODEL_104801ca35cb4c1e9e187281e4c64483"
          }
        },
        "c0f7adaf08ec4e42b2d7c793c5cb0fe0": {
          "model_module": "@jupyter-widgets/controls",
          "model_name": "ProgressStyleModel",
          "state": {
            "_view_name": "StyleView",
            "_model_name": "ProgressStyleModel",
            "description_width": "initial",
            "_view_module": "@jupyter-widgets/base",
            "_model_module_version": "1.5.0",
            "_view_count": null,
            "_view_module_version": "1.2.0",
            "bar_color": null,
            "_model_module": "@jupyter-widgets/controls"
          }
        },
        "c434baa21ef94e8abb6f144f9d37a420": {
          "model_module": "@jupyter-widgets/base",
          "model_name": "LayoutModel",
          "state": {
            "_view_name": "LayoutView",
            "grid_template_rows": null,
            "right": null,
            "justify_content": null,
            "_view_module": "@jupyter-widgets/base",
            "overflow": null,
            "_model_module_version": "1.2.0",
            "_view_count": null,
            "flex_flow": null,
            "width": null,
            "min_width": null,
            "border": null,
            "align_items": null,
            "bottom": null,
            "_model_module": "@jupyter-widgets/base",
            "top": null,
            "grid_column": null,
            "overflow_y": null,
            "overflow_x": null,
            "grid_auto_flow": null,
            "grid_area": null,
            "grid_template_columns": null,
            "flex": null,
            "_model_name": "LayoutModel",
            "justify_items": null,
            "grid_row": null,
            "max_height": null,
            "align_content": null,
            "visibility": null,
            "align_self": null,
            "height": null,
            "min_height": null,
            "padding": null,
            "grid_auto_rows": null,
            "grid_gap": null,
            "max_width": null,
            "order": null,
            "_view_module_version": "1.2.0",
            "grid_template_areas": null,
            "object_position": null,
            "object_fit": null,
            "grid_auto_columns": null,
            "margin": null,
            "display": null,
            "left": null
          }
        },
        "81f3513d78024e988f06f05b4ecb6c15": {
          "model_module": "@jupyter-widgets/controls",
          "model_name": "DescriptionStyleModel",
          "state": {
            "_view_name": "StyleView",
            "_model_name": "DescriptionStyleModel",
            "description_width": "",
            "_view_module": "@jupyter-widgets/base",
            "_model_module_version": "1.5.0",
            "_view_count": null,
            "_view_module_version": "1.2.0",
            "_model_module": "@jupyter-widgets/controls"
          }
        },
        "104801ca35cb4c1e9e187281e4c64483": {
          "model_module": "@jupyter-widgets/base",
          "model_name": "LayoutModel",
          "state": {
            "_view_name": "LayoutView",
            "grid_template_rows": null,
            "right": null,
            "justify_content": null,
            "_view_module": "@jupyter-widgets/base",
            "overflow": null,
            "_model_module_version": "1.2.0",
            "_view_count": null,
            "flex_flow": null,
            "width": null,
            "min_width": null,
            "border": null,
            "align_items": null,
            "bottom": null,
            "_model_module": "@jupyter-widgets/base",
            "top": null,
            "grid_column": null,
            "overflow_y": null,
            "overflow_x": null,
            "grid_auto_flow": null,
            "grid_area": null,
            "grid_template_columns": null,
            "flex": null,
            "_model_name": "LayoutModel",
            "justify_items": null,
            "grid_row": null,
            "max_height": null,
            "align_content": null,
            "visibility": null,
            "align_self": null,
            "height": null,
            "min_height": null,
            "padding": null,
            "grid_auto_rows": null,
            "grid_gap": null,
            "max_width": null,
            "order": null,
            "_view_module_version": "1.2.0",
            "grid_template_areas": null,
            "object_position": null,
            "object_fit": null,
            "grid_auto_columns": null,
            "margin": null,
            "display": null,
            "left": null
          }
        },
        "2369be338a8042cda88f674e51aeb4cf": {
          "model_module": "@jupyter-widgets/controls",
          "model_name": "HBoxModel",
          "state": {
            "_view_name": "HBoxView",
            "_dom_classes": [],
            "_model_name": "HBoxModel",
            "_view_module": "@jupyter-widgets/controls",
            "_model_module_version": "1.5.0",
            "_view_count": null,
            "_view_module_version": "1.5.0",
            "box_style": "",
            "layout": "IPY_MODEL_0cfb2154590749cf8c3e0f51a2db7c4f",
            "_model_module": "@jupyter-widgets/controls",
            "children": [
              "IPY_MODEL_e54505ce576a4e2b9afd9d2a3509abf4",
              "IPY_MODEL_f1dae330a065484ab37bd590679ec1d3"
            ]
          }
        },
        "0cfb2154590749cf8c3e0f51a2db7c4f": {
          "model_module": "@jupyter-widgets/base",
          "model_name": "LayoutModel",
          "state": {
            "_view_name": "LayoutView",
            "grid_template_rows": null,
            "right": null,
            "justify_content": null,
            "_view_module": "@jupyter-widgets/base",
            "overflow": null,
            "_model_module_version": "1.2.0",
            "_view_count": null,
            "flex_flow": null,
            "width": null,
            "min_width": null,
            "border": null,
            "align_items": null,
            "bottom": null,
            "_model_module": "@jupyter-widgets/base",
            "top": null,
            "grid_column": null,
            "overflow_y": null,
            "overflow_x": null,
            "grid_auto_flow": null,
            "grid_area": null,
            "grid_template_columns": null,
            "flex": null,
            "_model_name": "LayoutModel",
            "justify_items": null,
            "grid_row": null,
            "max_height": null,
            "align_content": null,
            "visibility": null,
            "align_self": null,
            "height": null,
            "min_height": null,
            "padding": null,
            "grid_auto_rows": null,
            "grid_gap": null,
            "max_width": null,
            "order": null,
            "_view_module_version": "1.2.0",
            "grid_template_areas": null,
            "object_position": null,
            "object_fit": null,
            "grid_auto_columns": null,
            "margin": null,
            "display": null,
            "left": null
          }
        },
        "e54505ce576a4e2b9afd9d2a3509abf4": {
          "model_module": "@jupyter-widgets/controls",
          "model_name": "IntProgressModel",
          "state": {
            "_view_name": "ProgressView",
            "style": "IPY_MODEL_c90913bd6bf84b869805fd5873cf2061",
            "_dom_classes": [],
            "description": "100%",
            "_model_name": "IntProgressModel",
            "bar_style": "success",
            "max": 8296,
            "_view_module": "@jupyter-widgets/controls",
            "_model_module_version": "1.5.0",
            "value": 8296,
            "_view_count": null,
            "_view_module_version": "1.5.0",
            "orientation": "horizontal",
            "min": 0,
            "description_tooltip": null,
            "_model_module": "@jupyter-widgets/controls",
            "layout": "IPY_MODEL_98fc43f18bb24850b3150721a70d84ea"
          }
        },
        "f1dae330a065484ab37bd590679ec1d3": {
          "model_module": "@jupyter-widgets/controls",
          "model_name": "HTMLModel",
          "state": {
            "_view_name": "HTMLView",
            "style": "IPY_MODEL_12b0c9c2a3d14fffa135ab1770b3a774",
            "_dom_classes": [],
            "description": "",
            "_model_name": "HTMLModel",
            "placeholder": "​",
            "_view_module": "@jupyter-widgets/controls",
            "_model_module_version": "1.5.0",
            "value": " 8296/8296 [00:03&lt;00:00, 2407.85it/s]",
            "_view_count": null,
            "_view_module_version": "1.5.0",
            "description_tooltip": null,
            "_model_module": "@jupyter-widgets/controls",
            "layout": "IPY_MODEL_bbdd1eaddfdb4d9aaeeb74cacaf8e8d4"
          }
        },
        "c90913bd6bf84b869805fd5873cf2061": {
          "model_module": "@jupyter-widgets/controls",
          "model_name": "ProgressStyleModel",
          "state": {
            "_view_name": "StyleView",
            "_model_name": "ProgressStyleModel",
            "description_width": "initial",
            "_view_module": "@jupyter-widgets/base",
            "_model_module_version": "1.5.0",
            "_view_count": null,
            "_view_module_version": "1.2.0",
            "bar_color": null,
            "_model_module": "@jupyter-widgets/controls"
          }
        },
        "98fc43f18bb24850b3150721a70d84ea": {
          "model_module": "@jupyter-widgets/base",
          "model_name": "LayoutModel",
          "state": {
            "_view_name": "LayoutView",
            "grid_template_rows": null,
            "right": null,
            "justify_content": null,
            "_view_module": "@jupyter-widgets/base",
            "overflow": null,
            "_model_module_version": "1.2.0",
            "_view_count": null,
            "flex_flow": null,
            "width": null,
            "min_width": null,
            "border": null,
            "align_items": null,
            "bottom": null,
            "_model_module": "@jupyter-widgets/base",
            "top": null,
            "grid_column": null,
            "overflow_y": null,
            "overflow_x": null,
            "grid_auto_flow": null,
            "grid_area": null,
            "grid_template_columns": null,
            "flex": null,
            "_model_name": "LayoutModel",
            "justify_items": null,
            "grid_row": null,
            "max_height": null,
            "align_content": null,
            "visibility": null,
            "align_self": null,
            "height": null,
            "min_height": null,
            "padding": null,
            "grid_auto_rows": null,
            "grid_gap": null,
            "max_width": null,
            "order": null,
            "_view_module_version": "1.2.0",
            "grid_template_areas": null,
            "object_position": null,
            "object_fit": null,
            "grid_auto_columns": null,
            "margin": null,
            "display": null,
            "left": null
          }
        },
        "12b0c9c2a3d14fffa135ab1770b3a774": {
          "model_module": "@jupyter-widgets/controls",
          "model_name": "DescriptionStyleModel",
          "state": {
            "_view_name": "StyleView",
            "_model_name": "DescriptionStyleModel",
            "description_width": "",
            "_view_module": "@jupyter-widgets/base",
            "_model_module_version": "1.5.0",
            "_view_count": null,
            "_view_module_version": "1.2.0",
            "_model_module": "@jupyter-widgets/controls"
          }
        },
        "bbdd1eaddfdb4d9aaeeb74cacaf8e8d4": {
          "model_module": "@jupyter-widgets/base",
          "model_name": "LayoutModel",
          "state": {
            "_view_name": "LayoutView",
            "grid_template_rows": null,
            "right": null,
            "justify_content": null,
            "_view_module": "@jupyter-widgets/base",
            "overflow": null,
            "_model_module_version": "1.2.0",
            "_view_count": null,
            "flex_flow": null,
            "width": null,
            "min_width": null,
            "border": null,
            "align_items": null,
            "bottom": null,
            "_model_module": "@jupyter-widgets/base",
            "top": null,
            "grid_column": null,
            "overflow_y": null,
            "overflow_x": null,
            "grid_auto_flow": null,
            "grid_area": null,
            "grid_template_columns": null,
            "flex": null,
            "_model_name": "LayoutModel",
            "justify_items": null,
            "grid_row": null,
            "max_height": null,
            "align_content": null,
            "visibility": null,
            "align_self": null,
            "height": null,
            "min_height": null,
            "padding": null,
            "grid_auto_rows": null,
            "grid_gap": null,
            "max_width": null,
            "order": null,
            "_view_module_version": "1.2.0",
            "grid_template_areas": null,
            "object_position": null,
            "object_fit": null,
            "grid_auto_columns": null,
            "margin": null,
            "display": null,
            "left": null
          }
        },
        "5023dd14931c410caa7a34c209719d73": {
          "model_module": "@jupyter-widgets/controls",
          "model_name": "HBoxModel",
          "state": {
            "_view_name": "HBoxView",
            "_dom_classes": [],
            "_model_name": "HBoxModel",
            "_view_module": "@jupyter-widgets/controls",
            "_model_module_version": "1.5.0",
            "_view_count": null,
            "_view_module_version": "1.5.0",
            "box_style": "",
            "layout": "IPY_MODEL_170f930f15fe44b5853d94d54051895e",
            "_model_module": "@jupyter-widgets/controls",
            "children": [
              "IPY_MODEL_82e821e115d54e569321fb2b71b02378",
              "IPY_MODEL_0d77bc89507e4c5ca4f3df386fecb921"
            ]
          }
        },
        "170f930f15fe44b5853d94d54051895e": {
          "model_module": "@jupyter-widgets/base",
          "model_name": "LayoutModel",
          "state": {
            "_view_name": "LayoutView",
            "grid_template_rows": null,
            "right": null,
            "justify_content": null,
            "_view_module": "@jupyter-widgets/base",
            "overflow": null,
            "_model_module_version": "1.2.0",
            "_view_count": null,
            "flex_flow": null,
            "width": null,
            "min_width": null,
            "border": null,
            "align_items": null,
            "bottom": null,
            "_model_module": "@jupyter-widgets/base",
            "top": null,
            "grid_column": null,
            "overflow_y": null,
            "overflow_x": null,
            "grid_auto_flow": null,
            "grid_area": null,
            "grid_template_columns": null,
            "flex": null,
            "_model_name": "LayoutModel",
            "justify_items": null,
            "grid_row": null,
            "max_height": null,
            "align_content": null,
            "visibility": null,
            "align_self": null,
            "height": null,
            "min_height": null,
            "padding": null,
            "grid_auto_rows": null,
            "grid_gap": null,
            "max_width": null,
            "order": null,
            "_view_module_version": "1.2.0",
            "grid_template_areas": null,
            "object_position": null,
            "object_fit": null,
            "grid_auto_columns": null,
            "margin": null,
            "display": null,
            "left": null
          }
        },
        "82e821e115d54e569321fb2b71b02378": {
          "model_module": "@jupyter-widgets/controls",
          "model_name": "IntProgressModel",
          "state": {
            "_view_name": "ProgressView",
            "style": "IPY_MODEL_041ea7f404c344298fbbccb6a88cbdf0",
            "_dom_classes": [],
            "description": "100%",
            "_model_name": "IntProgressModel",
            "bar_style": "success",
            "max": 6185,
            "_view_module": "@jupyter-widgets/controls",
            "_model_module_version": "1.5.0",
            "value": 6185,
            "_view_count": null,
            "_view_module_version": "1.5.0",
            "orientation": "horizontal",
            "min": 0,
            "description_tooltip": null,
            "_model_module": "@jupyter-widgets/controls",
            "layout": "IPY_MODEL_324cb5fc0bea468da687f645ab59834e"
          }
        },
        "0d77bc89507e4c5ca4f3df386fecb921": {
          "model_module": "@jupyter-widgets/controls",
          "model_name": "HTMLModel",
          "state": {
            "_view_name": "HTMLView",
            "style": "IPY_MODEL_c9013b13ce334dd1b5ce01b106db4e8b",
            "_dom_classes": [],
            "description": "",
            "_model_name": "HTMLModel",
            "placeholder": "​",
            "_view_module": "@jupyter-widgets/controls",
            "_model_module_version": "1.5.0",
            "value": " 6185/6185 [00:00&lt;00:00, 19963.90it/s]",
            "_view_count": null,
            "_view_module_version": "1.5.0",
            "description_tooltip": null,
            "_model_module": "@jupyter-widgets/controls",
            "layout": "IPY_MODEL_0a7d2e3f83c0457f953b75b183bd99f8"
          }
        },
        "041ea7f404c344298fbbccb6a88cbdf0": {
          "model_module": "@jupyter-widgets/controls",
          "model_name": "ProgressStyleModel",
          "state": {
            "_view_name": "StyleView",
            "_model_name": "ProgressStyleModel",
            "description_width": "initial",
            "_view_module": "@jupyter-widgets/base",
            "_model_module_version": "1.5.0",
            "_view_count": null,
            "_view_module_version": "1.2.0",
            "bar_color": null,
            "_model_module": "@jupyter-widgets/controls"
          }
        },
        "324cb5fc0bea468da687f645ab59834e": {
          "model_module": "@jupyter-widgets/base",
          "model_name": "LayoutModel",
          "state": {
            "_view_name": "LayoutView",
            "grid_template_rows": null,
            "right": null,
            "justify_content": null,
            "_view_module": "@jupyter-widgets/base",
            "overflow": null,
            "_model_module_version": "1.2.0",
            "_view_count": null,
            "flex_flow": null,
            "width": null,
            "min_width": null,
            "border": null,
            "align_items": null,
            "bottom": null,
            "_model_module": "@jupyter-widgets/base",
            "top": null,
            "grid_column": null,
            "overflow_y": null,
            "overflow_x": null,
            "grid_auto_flow": null,
            "grid_area": null,
            "grid_template_columns": null,
            "flex": null,
            "_model_name": "LayoutModel",
            "justify_items": null,
            "grid_row": null,
            "max_height": null,
            "align_content": null,
            "visibility": null,
            "align_self": null,
            "height": null,
            "min_height": null,
            "padding": null,
            "grid_auto_rows": null,
            "grid_gap": null,
            "max_width": null,
            "order": null,
            "_view_module_version": "1.2.0",
            "grid_template_areas": null,
            "object_position": null,
            "object_fit": null,
            "grid_auto_columns": null,
            "margin": null,
            "display": null,
            "left": null
          }
        },
        "c9013b13ce334dd1b5ce01b106db4e8b": {
          "model_module": "@jupyter-widgets/controls",
          "model_name": "DescriptionStyleModel",
          "state": {
            "_view_name": "StyleView",
            "_model_name": "DescriptionStyleModel",
            "description_width": "",
            "_view_module": "@jupyter-widgets/base",
            "_model_module_version": "1.5.0",
            "_view_count": null,
            "_view_module_version": "1.2.0",
            "_model_module": "@jupyter-widgets/controls"
          }
        },
        "0a7d2e3f83c0457f953b75b183bd99f8": {
          "model_module": "@jupyter-widgets/base",
          "model_name": "LayoutModel",
          "state": {
            "_view_name": "LayoutView",
            "grid_template_rows": null,
            "right": null,
            "justify_content": null,
            "_view_module": "@jupyter-widgets/base",
            "overflow": null,
            "_model_module_version": "1.2.0",
            "_view_count": null,
            "flex_flow": null,
            "width": null,
            "min_width": null,
            "border": null,
            "align_items": null,
            "bottom": null,
            "_model_module": "@jupyter-widgets/base",
            "top": null,
            "grid_column": null,
            "overflow_y": null,
            "overflow_x": null,
            "grid_auto_flow": null,
            "grid_area": null,
            "grid_template_columns": null,
            "flex": null,
            "_model_name": "LayoutModel",
            "justify_items": null,
            "grid_row": null,
            "max_height": null,
            "align_content": null,
            "visibility": null,
            "align_self": null,
            "height": null,
            "min_height": null,
            "padding": null,
            "grid_auto_rows": null,
            "grid_gap": null,
            "max_width": null,
            "order": null,
            "_view_module_version": "1.2.0",
            "grid_template_areas": null,
            "object_position": null,
            "object_fit": null,
            "grid_auto_columns": null,
            "margin": null,
            "display": null,
            "left": null
          }
        },
        "ee495ae0aa42470ab424ec7ab897f3c9": {
          "model_module": "@jupyter-widgets/controls",
          "model_name": "HBoxModel",
          "state": {
            "_view_name": "HBoxView",
            "_dom_classes": [],
            "_model_name": "HBoxModel",
            "_view_module": "@jupyter-widgets/controls",
            "_model_module_version": "1.5.0",
            "_view_count": null,
            "_view_module_version": "1.5.0",
            "box_style": "",
            "layout": "IPY_MODEL_74fd50b32a944b2d9f476961c8e9d0a9",
            "_model_module": "@jupyter-widgets/controls",
            "children": [
              "IPY_MODEL_1b6d223ba25a4818b75741b63236b788",
              "IPY_MODEL_6159a80dbcb04be7b6d1164f6fd0298b"
            ]
          }
        },
        "74fd50b32a944b2d9f476961c8e9d0a9": {
          "model_module": "@jupyter-widgets/base",
          "model_name": "LayoutModel",
          "state": {
            "_view_name": "LayoutView",
            "grid_template_rows": null,
            "right": null,
            "justify_content": null,
            "_view_module": "@jupyter-widgets/base",
            "overflow": null,
            "_model_module_version": "1.2.0",
            "_view_count": null,
            "flex_flow": null,
            "width": null,
            "min_width": null,
            "border": null,
            "align_items": null,
            "bottom": null,
            "_model_module": "@jupyter-widgets/base",
            "top": null,
            "grid_column": null,
            "overflow_y": null,
            "overflow_x": null,
            "grid_auto_flow": null,
            "grid_area": null,
            "grid_template_columns": null,
            "flex": null,
            "_model_name": "LayoutModel",
            "justify_items": null,
            "grid_row": null,
            "max_height": null,
            "align_content": null,
            "visibility": null,
            "align_self": null,
            "height": null,
            "min_height": null,
            "padding": null,
            "grid_auto_rows": null,
            "grid_gap": null,
            "max_width": null,
            "order": null,
            "_view_module_version": "1.2.0",
            "grid_template_areas": null,
            "object_position": null,
            "object_fit": null,
            "grid_auto_columns": null,
            "margin": null,
            "display": null,
            "left": null
          }
        },
        "1b6d223ba25a4818b75741b63236b788": {
          "model_module": "@jupyter-widgets/controls",
          "model_name": "IntProgressModel",
          "state": {
            "_view_name": "ProgressView",
            "style": "IPY_MODEL_a14604e1d1cd4bedb500fc09f6c1dbcb",
            "_dom_classes": [],
            "description": "100%",
            "_model_name": "IntProgressModel",
            "bar_style": "success",
            "max": 8467,
            "_view_module": "@jupyter-widgets/controls",
            "_model_module_version": "1.5.0",
            "value": 8467,
            "_view_count": null,
            "_view_module_version": "1.5.0",
            "orientation": "horizontal",
            "min": 0,
            "description_tooltip": null,
            "_model_module": "@jupyter-widgets/controls",
            "layout": "IPY_MODEL_b3d66b0a12f747caa8e5b448a31d48f3"
          }
        },
        "6159a80dbcb04be7b6d1164f6fd0298b": {
          "model_module": "@jupyter-widgets/controls",
          "model_name": "HTMLModel",
          "state": {
            "_view_name": "HTMLView",
            "style": "IPY_MODEL_407a10bb695741f29ba7a1724417b16c",
            "_dom_classes": [],
            "description": "",
            "_model_name": "HTMLModel",
            "placeholder": "​",
            "_view_module": "@jupyter-widgets/controls",
            "_model_module_version": "1.5.0",
            "value": " 8467/8467 [00:00&lt;00:00, 21903.47it/s]",
            "_view_count": null,
            "_view_module_version": "1.5.0",
            "description_tooltip": null,
            "_model_module": "@jupyter-widgets/controls",
            "layout": "IPY_MODEL_5168e83433024cb3801a5210e8ac7c70"
          }
        },
        "a14604e1d1cd4bedb500fc09f6c1dbcb": {
          "model_module": "@jupyter-widgets/controls",
          "model_name": "ProgressStyleModel",
          "state": {
            "_view_name": "StyleView",
            "_model_name": "ProgressStyleModel",
            "description_width": "initial",
            "_view_module": "@jupyter-widgets/base",
            "_model_module_version": "1.5.0",
            "_view_count": null,
            "_view_module_version": "1.2.0",
            "bar_color": null,
            "_model_module": "@jupyter-widgets/controls"
          }
        },
        "b3d66b0a12f747caa8e5b448a31d48f3": {
          "model_module": "@jupyter-widgets/base",
          "model_name": "LayoutModel",
          "state": {
            "_view_name": "LayoutView",
            "grid_template_rows": null,
            "right": null,
            "justify_content": null,
            "_view_module": "@jupyter-widgets/base",
            "overflow": null,
            "_model_module_version": "1.2.0",
            "_view_count": null,
            "flex_flow": null,
            "width": null,
            "min_width": null,
            "border": null,
            "align_items": null,
            "bottom": null,
            "_model_module": "@jupyter-widgets/base",
            "top": null,
            "grid_column": null,
            "overflow_y": null,
            "overflow_x": null,
            "grid_auto_flow": null,
            "grid_area": null,
            "grid_template_columns": null,
            "flex": null,
            "_model_name": "LayoutModel",
            "justify_items": null,
            "grid_row": null,
            "max_height": null,
            "align_content": null,
            "visibility": null,
            "align_self": null,
            "height": null,
            "min_height": null,
            "padding": null,
            "grid_auto_rows": null,
            "grid_gap": null,
            "max_width": null,
            "order": null,
            "_view_module_version": "1.2.0",
            "grid_template_areas": null,
            "object_position": null,
            "object_fit": null,
            "grid_auto_columns": null,
            "margin": null,
            "display": null,
            "left": null
          }
        },
        "407a10bb695741f29ba7a1724417b16c": {
          "model_module": "@jupyter-widgets/controls",
          "model_name": "DescriptionStyleModel",
          "state": {
            "_view_name": "StyleView",
            "_model_name": "DescriptionStyleModel",
            "description_width": "",
            "_view_module": "@jupyter-widgets/base",
            "_model_module_version": "1.5.0",
            "_view_count": null,
            "_view_module_version": "1.2.0",
            "_model_module": "@jupyter-widgets/controls"
          }
        },
        "5168e83433024cb3801a5210e8ac7c70": {
          "model_module": "@jupyter-widgets/base",
          "model_name": "LayoutModel",
          "state": {
            "_view_name": "LayoutView",
            "grid_template_rows": null,
            "right": null,
            "justify_content": null,
            "_view_module": "@jupyter-widgets/base",
            "overflow": null,
            "_model_module_version": "1.2.0",
            "_view_count": null,
            "flex_flow": null,
            "width": null,
            "min_width": null,
            "border": null,
            "align_items": null,
            "bottom": null,
            "_model_module": "@jupyter-widgets/base",
            "top": null,
            "grid_column": null,
            "overflow_y": null,
            "overflow_x": null,
            "grid_auto_flow": null,
            "grid_area": null,
            "grid_template_columns": null,
            "flex": null,
            "_model_name": "LayoutModel",
            "justify_items": null,
            "grid_row": null,
            "max_height": null,
            "align_content": null,
            "visibility": null,
            "align_self": null,
            "height": null,
            "min_height": null,
            "padding": null,
            "grid_auto_rows": null,
            "grid_gap": null,
            "max_width": null,
            "order": null,
            "_view_module_version": "1.2.0",
            "grid_template_areas": null,
            "object_position": null,
            "object_fit": null,
            "grid_auto_columns": null,
            "margin": null,
            "display": null,
            "left": null
          }
        },
        "262e98624c4346f19dda4bcfb39f2762": {
          "model_module": "@jupyter-widgets/controls",
          "model_name": "HBoxModel",
          "state": {
            "_view_name": "HBoxView",
            "_dom_classes": [],
            "_model_name": "HBoxModel",
            "_view_module": "@jupyter-widgets/controls",
            "_model_module_version": "1.5.0",
            "_view_count": null,
            "_view_module_version": "1.5.0",
            "box_style": "",
            "layout": "IPY_MODEL_2ea061da578b43f2aa234f3bfc7d3d7c",
            "_model_module": "@jupyter-widgets/controls",
            "children": [
              "IPY_MODEL_c1f6348e526a4bf0a05652d7b3fe3a6d",
              "IPY_MODEL_d68f798319ed432094fcd254ab858c40"
            ]
          }
        },
        "2ea061da578b43f2aa234f3bfc7d3d7c": {
          "model_module": "@jupyter-widgets/base",
          "model_name": "LayoutModel",
          "state": {
            "_view_name": "LayoutView",
            "grid_template_rows": null,
            "right": null,
            "justify_content": null,
            "_view_module": "@jupyter-widgets/base",
            "overflow": null,
            "_model_module_version": "1.2.0",
            "_view_count": null,
            "flex_flow": null,
            "width": null,
            "min_width": null,
            "border": null,
            "align_items": null,
            "bottom": null,
            "_model_module": "@jupyter-widgets/base",
            "top": null,
            "grid_column": null,
            "overflow_y": null,
            "overflow_x": null,
            "grid_auto_flow": null,
            "grid_area": null,
            "grid_template_columns": null,
            "flex": null,
            "_model_name": "LayoutModel",
            "justify_items": null,
            "grid_row": null,
            "max_height": null,
            "align_content": null,
            "visibility": null,
            "align_self": null,
            "height": null,
            "min_height": null,
            "padding": null,
            "grid_auto_rows": null,
            "grid_gap": null,
            "max_width": null,
            "order": null,
            "_view_module_version": "1.2.0",
            "grid_template_areas": null,
            "object_position": null,
            "object_fit": null,
            "grid_auto_columns": null,
            "margin": null,
            "display": null,
            "left": null
          }
        },
        "c1f6348e526a4bf0a05652d7b3fe3a6d": {
          "model_module": "@jupyter-widgets/controls",
          "model_name": "IntProgressModel",
          "state": {
            "_view_name": "ProgressView",
            "style": "IPY_MODEL_f70e4feeefbc4eb7b4f8b4a9ac168fb2",
            "_dom_classes": [],
            "description": "100%",
            "_model_name": "IntProgressModel",
            "bar_style": "success",
            "max": 7723,
            "_view_module": "@jupyter-widgets/controls",
            "_model_module_version": "1.5.0",
            "value": 7723,
            "_view_count": null,
            "_view_module_version": "1.5.0",
            "orientation": "horizontal",
            "min": 0,
            "description_tooltip": null,
            "_model_module": "@jupyter-widgets/controls",
            "layout": "IPY_MODEL_4daf5e4a26954b6db6b36a81e5beed79"
          }
        },
        "d68f798319ed432094fcd254ab858c40": {
          "model_module": "@jupyter-widgets/controls",
          "model_name": "HTMLModel",
          "state": {
            "_view_name": "HTMLView",
            "style": "IPY_MODEL_786aa923a0264b01a1eb2f3027cee624",
            "_dom_classes": [],
            "description": "",
            "_model_name": "HTMLModel",
            "placeholder": "​",
            "_view_module": "@jupyter-widgets/controls",
            "_model_module_version": "1.5.0",
            "value": " 7723/7723 [00:01&lt;00:00, 6840.89it/s]",
            "_view_count": null,
            "_view_module_version": "1.5.0",
            "description_tooltip": null,
            "_model_module": "@jupyter-widgets/controls",
            "layout": "IPY_MODEL_40764c840e18450c8b637967e2b1eee1"
          }
        },
        "f70e4feeefbc4eb7b4f8b4a9ac168fb2": {
          "model_module": "@jupyter-widgets/controls",
          "model_name": "ProgressStyleModel",
          "state": {
            "_view_name": "StyleView",
            "_model_name": "ProgressStyleModel",
            "description_width": "initial",
            "_view_module": "@jupyter-widgets/base",
            "_model_module_version": "1.5.0",
            "_view_count": null,
            "_view_module_version": "1.2.0",
            "bar_color": null,
            "_model_module": "@jupyter-widgets/controls"
          }
        },
        "4daf5e4a26954b6db6b36a81e5beed79": {
          "model_module": "@jupyter-widgets/base",
          "model_name": "LayoutModel",
          "state": {
            "_view_name": "LayoutView",
            "grid_template_rows": null,
            "right": null,
            "justify_content": null,
            "_view_module": "@jupyter-widgets/base",
            "overflow": null,
            "_model_module_version": "1.2.0",
            "_view_count": null,
            "flex_flow": null,
            "width": null,
            "min_width": null,
            "border": null,
            "align_items": null,
            "bottom": null,
            "_model_module": "@jupyter-widgets/base",
            "top": null,
            "grid_column": null,
            "overflow_y": null,
            "overflow_x": null,
            "grid_auto_flow": null,
            "grid_area": null,
            "grid_template_columns": null,
            "flex": null,
            "_model_name": "LayoutModel",
            "justify_items": null,
            "grid_row": null,
            "max_height": null,
            "align_content": null,
            "visibility": null,
            "align_self": null,
            "height": null,
            "min_height": null,
            "padding": null,
            "grid_auto_rows": null,
            "grid_gap": null,
            "max_width": null,
            "order": null,
            "_view_module_version": "1.2.0",
            "grid_template_areas": null,
            "object_position": null,
            "object_fit": null,
            "grid_auto_columns": null,
            "margin": null,
            "display": null,
            "left": null
          }
        },
        "786aa923a0264b01a1eb2f3027cee624": {
          "model_module": "@jupyter-widgets/controls",
          "model_name": "DescriptionStyleModel",
          "state": {
            "_view_name": "StyleView",
            "_model_name": "DescriptionStyleModel",
            "description_width": "",
            "_view_module": "@jupyter-widgets/base",
            "_model_module_version": "1.5.0",
            "_view_count": null,
            "_view_module_version": "1.2.0",
            "_model_module": "@jupyter-widgets/controls"
          }
        },
        "40764c840e18450c8b637967e2b1eee1": {
          "model_module": "@jupyter-widgets/base",
          "model_name": "LayoutModel",
          "state": {
            "_view_name": "LayoutView",
            "grid_template_rows": null,
            "right": null,
            "justify_content": null,
            "_view_module": "@jupyter-widgets/base",
            "overflow": null,
            "_model_module_version": "1.2.0",
            "_view_count": null,
            "flex_flow": null,
            "width": null,
            "min_width": null,
            "border": null,
            "align_items": null,
            "bottom": null,
            "_model_module": "@jupyter-widgets/base",
            "top": null,
            "grid_column": null,
            "overflow_y": null,
            "overflow_x": null,
            "grid_auto_flow": null,
            "grid_area": null,
            "grid_template_columns": null,
            "flex": null,
            "_model_name": "LayoutModel",
            "justify_items": null,
            "grid_row": null,
            "max_height": null,
            "align_content": null,
            "visibility": null,
            "align_self": null,
            "height": null,
            "min_height": null,
            "padding": null,
            "grid_auto_rows": null,
            "grid_gap": null,
            "max_width": null,
            "order": null,
            "_view_module_version": "1.2.0",
            "grid_template_areas": null,
            "object_position": null,
            "object_fit": null,
            "grid_auto_columns": null,
            "margin": null,
            "display": null,
            "left": null
          }
        },
        "e1fea18ee557454594cdc1e30e3a3dea": {
          "model_module": "@jupyter-widgets/controls",
          "model_name": "HBoxModel",
          "state": {
            "_view_name": "HBoxView",
            "_dom_classes": [],
            "_model_name": "HBoxModel",
            "_view_module": "@jupyter-widgets/controls",
            "_model_module_version": "1.5.0",
            "_view_count": null,
            "_view_module_version": "1.5.0",
            "box_style": "",
            "layout": "IPY_MODEL_0279b3e6d3054d9eb91ebcf8b3084b81",
            "_model_module": "@jupyter-widgets/controls",
            "children": [
              "IPY_MODEL_b9387a56784140269e89943c1689873d",
              "IPY_MODEL_edaf4a46845e497db4710ec932e5c355"
            ]
          }
        },
        "0279b3e6d3054d9eb91ebcf8b3084b81": {
          "model_module": "@jupyter-widgets/base",
          "model_name": "LayoutModel",
          "state": {
            "_view_name": "LayoutView",
            "grid_template_rows": null,
            "right": null,
            "justify_content": null,
            "_view_module": "@jupyter-widgets/base",
            "overflow": null,
            "_model_module_version": "1.2.0",
            "_view_count": null,
            "flex_flow": null,
            "width": null,
            "min_width": null,
            "border": null,
            "align_items": null,
            "bottom": null,
            "_model_module": "@jupyter-widgets/base",
            "top": null,
            "grid_column": null,
            "overflow_y": null,
            "overflow_x": null,
            "grid_auto_flow": null,
            "grid_area": null,
            "grid_template_columns": null,
            "flex": null,
            "_model_name": "LayoutModel",
            "justify_items": null,
            "grid_row": null,
            "max_height": null,
            "align_content": null,
            "visibility": null,
            "align_self": null,
            "height": null,
            "min_height": null,
            "padding": null,
            "grid_auto_rows": null,
            "grid_gap": null,
            "max_width": null,
            "order": null,
            "_view_module_version": "1.2.0",
            "grid_template_areas": null,
            "object_position": null,
            "object_fit": null,
            "grid_auto_columns": null,
            "margin": null,
            "display": null,
            "left": null
          }
        },
        "b9387a56784140269e89943c1689873d": {
          "model_module": "@jupyter-widgets/controls",
          "model_name": "IntProgressModel",
          "state": {
            "_view_name": "ProgressView",
            "style": "IPY_MODEL_913d1da6c4824f08991e62f22e99c5e6",
            "_dom_classes": [],
            "description": "100%",
            "_model_name": "IntProgressModel",
            "bar_style": "success",
            "max": 7066,
            "_view_module": "@jupyter-widgets/controls",
            "_model_module_version": "1.5.0",
            "value": 7066,
            "_view_count": null,
            "_view_module_version": "1.5.0",
            "orientation": "horizontal",
            "min": 0,
            "description_tooltip": null,
            "_model_module": "@jupyter-widgets/controls",
            "layout": "IPY_MODEL_a6b4964cd8af4622962a5d82a6550d03"
          }
        },
        "edaf4a46845e497db4710ec932e5c355": {
          "model_module": "@jupyter-widgets/controls",
          "model_name": "HTMLModel",
          "state": {
            "_view_name": "HTMLView",
            "style": "IPY_MODEL_b9589350c5864d89a7db6c6c9a8ba608",
            "_dom_classes": [],
            "description": "",
            "_model_name": "HTMLModel",
            "placeholder": "​",
            "_view_module": "@jupyter-widgets/controls",
            "_model_module_version": "1.5.0",
            "value": " 7066/7066 [00:00&lt;00:00, 19262.00it/s]",
            "_view_count": null,
            "_view_module_version": "1.5.0",
            "description_tooltip": null,
            "_model_module": "@jupyter-widgets/controls",
            "layout": "IPY_MODEL_1254cd6de73148c1bb8da6c42462f1d0"
          }
        },
        "913d1da6c4824f08991e62f22e99c5e6": {
          "model_module": "@jupyter-widgets/controls",
          "model_name": "ProgressStyleModel",
          "state": {
            "_view_name": "StyleView",
            "_model_name": "ProgressStyleModel",
            "description_width": "initial",
            "_view_module": "@jupyter-widgets/base",
            "_model_module_version": "1.5.0",
            "_view_count": null,
            "_view_module_version": "1.2.0",
            "bar_color": null,
            "_model_module": "@jupyter-widgets/controls"
          }
        },
        "a6b4964cd8af4622962a5d82a6550d03": {
          "model_module": "@jupyter-widgets/base",
          "model_name": "LayoutModel",
          "state": {
            "_view_name": "LayoutView",
            "grid_template_rows": null,
            "right": null,
            "justify_content": null,
            "_view_module": "@jupyter-widgets/base",
            "overflow": null,
            "_model_module_version": "1.2.0",
            "_view_count": null,
            "flex_flow": null,
            "width": null,
            "min_width": null,
            "border": null,
            "align_items": null,
            "bottom": null,
            "_model_module": "@jupyter-widgets/base",
            "top": null,
            "grid_column": null,
            "overflow_y": null,
            "overflow_x": null,
            "grid_auto_flow": null,
            "grid_area": null,
            "grid_template_columns": null,
            "flex": null,
            "_model_name": "LayoutModel",
            "justify_items": null,
            "grid_row": null,
            "max_height": null,
            "align_content": null,
            "visibility": null,
            "align_self": null,
            "height": null,
            "min_height": null,
            "padding": null,
            "grid_auto_rows": null,
            "grid_gap": null,
            "max_width": null,
            "order": null,
            "_view_module_version": "1.2.0",
            "grid_template_areas": null,
            "object_position": null,
            "object_fit": null,
            "grid_auto_columns": null,
            "margin": null,
            "display": null,
            "left": null
          }
        },
        "b9589350c5864d89a7db6c6c9a8ba608": {
          "model_module": "@jupyter-widgets/controls",
          "model_name": "DescriptionStyleModel",
          "state": {
            "_view_name": "StyleView",
            "_model_name": "DescriptionStyleModel",
            "description_width": "",
            "_view_module": "@jupyter-widgets/base",
            "_model_module_version": "1.5.0",
            "_view_count": null,
            "_view_module_version": "1.2.0",
            "_model_module": "@jupyter-widgets/controls"
          }
        },
        "1254cd6de73148c1bb8da6c42462f1d0": {
          "model_module": "@jupyter-widgets/base",
          "model_name": "LayoutModel",
          "state": {
            "_view_name": "LayoutView",
            "grid_template_rows": null,
            "right": null,
            "justify_content": null,
            "_view_module": "@jupyter-widgets/base",
            "overflow": null,
            "_model_module_version": "1.2.0",
            "_view_count": null,
            "flex_flow": null,
            "width": null,
            "min_width": null,
            "border": null,
            "align_items": null,
            "bottom": null,
            "_model_module": "@jupyter-widgets/base",
            "top": null,
            "grid_column": null,
            "overflow_y": null,
            "overflow_x": null,
            "grid_auto_flow": null,
            "grid_area": null,
            "grid_template_columns": null,
            "flex": null,
            "_model_name": "LayoutModel",
            "justify_items": null,
            "grid_row": null,
            "max_height": null,
            "align_content": null,
            "visibility": null,
            "align_self": null,
            "height": null,
            "min_height": null,
            "padding": null,
            "grid_auto_rows": null,
            "grid_gap": null,
            "max_width": null,
            "order": null,
            "_view_module_version": "1.2.0",
            "grid_template_areas": null,
            "object_position": null,
            "object_fit": null,
            "grid_auto_columns": null,
            "margin": null,
            "display": null,
            "left": null
          }
        },
        "c134cac2de5445c39d7b845cc1a1b8d9": {
          "model_module": "@jupyter-widgets/controls",
          "model_name": "HBoxModel",
          "state": {
            "_view_name": "HBoxView",
            "_dom_classes": [],
            "_model_name": "HBoxModel",
            "_view_module": "@jupyter-widgets/controls",
            "_model_module_version": "1.5.0",
            "_view_count": null,
            "_view_module_version": "1.5.0",
            "box_style": "",
            "layout": "IPY_MODEL_d7c55a0e473445dd911401c21672a446",
            "_model_module": "@jupyter-widgets/controls",
            "children": [
              "IPY_MODEL_7018d5d3b1d84f3eaffe9496fdc99d72",
              "IPY_MODEL_16a37137ec524f42ab2cb89406dff03b"
            ]
          }
        },
        "d7c55a0e473445dd911401c21672a446": {
          "model_module": "@jupyter-widgets/base",
          "model_name": "LayoutModel",
          "state": {
            "_view_name": "LayoutView",
            "grid_template_rows": null,
            "right": null,
            "justify_content": null,
            "_view_module": "@jupyter-widgets/base",
            "overflow": null,
            "_model_module_version": "1.2.0",
            "_view_count": null,
            "flex_flow": null,
            "width": null,
            "min_width": null,
            "border": null,
            "align_items": null,
            "bottom": null,
            "_model_module": "@jupyter-widgets/base",
            "top": null,
            "grid_column": null,
            "overflow_y": null,
            "overflow_x": null,
            "grid_auto_flow": null,
            "grid_area": null,
            "grid_template_columns": null,
            "flex": null,
            "_model_name": "LayoutModel",
            "justify_items": null,
            "grid_row": null,
            "max_height": null,
            "align_content": null,
            "visibility": null,
            "align_self": null,
            "height": null,
            "min_height": null,
            "padding": null,
            "grid_auto_rows": null,
            "grid_gap": null,
            "max_width": null,
            "order": null,
            "_view_module_version": "1.2.0",
            "grid_template_areas": null,
            "object_position": null,
            "object_fit": null,
            "grid_auto_columns": null,
            "margin": null,
            "display": null,
            "left": null
          }
        },
        "7018d5d3b1d84f3eaffe9496fdc99d72": {
          "model_module": "@jupyter-widgets/controls",
          "model_name": "IntProgressModel",
          "state": {
            "_view_name": "ProgressView",
            "style": "IPY_MODEL_719816a51dca4dc4a47389233cd91a8f",
            "_dom_classes": [],
            "description": "100%",
            "_model_name": "IntProgressModel",
            "bar_style": "success",
            "max": 9169,
            "_view_module": "@jupyter-widgets/controls",
            "_model_module_version": "1.5.0",
            "value": 9169,
            "_view_count": null,
            "_view_module_version": "1.5.0",
            "orientation": "horizontal",
            "min": 0,
            "description_tooltip": null,
            "_model_module": "@jupyter-widgets/controls",
            "layout": "IPY_MODEL_33601e0972f5443785aa7cdc248e4f81"
          }
        },
        "16a37137ec524f42ab2cb89406dff03b": {
          "model_module": "@jupyter-widgets/controls",
          "model_name": "HTMLModel",
          "state": {
            "_view_name": "HTMLView",
            "style": "IPY_MODEL_da0ac11842a04f02bae9ef9c316311df",
            "_dom_classes": [],
            "description": "",
            "_model_name": "HTMLModel",
            "placeholder": "​",
            "_view_module": "@jupyter-widgets/controls",
            "_model_module_version": "1.5.0",
            "value": " 9169/9169 [00:00&lt;00:00, 16926.21it/s]",
            "_view_count": null,
            "_view_module_version": "1.5.0",
            "description_tooltip": null,
            "_model_module": "@jupyter-widgets/controls",
            "layout": "IPY_MODEL_1a6d4614dad84a22a86f0bf5741d86f0"
          }
        },
        "719816a51dca4dc4a47389233cd91a8f": {
          "model_module": "@jupyter-widgets/controls",
          "model_name": "ProgressStyleModel",
          "state": {
            "_view_name": "StyleView",
            "_model_name": "ProgressStyleModel",
            "description_width": "initial",
            "_view_module": "@jupyter-widgets/base",
            "_model_module_version": "1.5.0",
            "_view_count": null,
            "_view_module_version": "1.2.0",
            "bar_color": null,
            "_model_module": "@jupyter-widgets/controls"
          }
        },
        "33601e0972f5443785aa7cdc248e4f81": {
          "model_module": "@jupyter-widgets/base",
          "model_name": "LayoutModel",
          "state": {
            "_view_name": "LayoutView",
            "grid_template_rows": null,
            "right": null,
            "justify_content": null,
            "_view_module": "@jupyter-widgets/base",
            "overflow": null,
            "_model_module_version": "1.2.0",
            "_view_count": null,
            "flex_flow": null,
            "width": null,
            "min_width": null,
            "border": null,
            "align_items": null,
            "bottom": null,
            "_model_module": "@jupyter-widgets/base",
            "top": null,
            "grid_column": null,
            "overflow_y": null,
            "overflow_x": null,
            "grid_auto_flow": null,
            "grid_area": null,
            "grid_template_columns": null,
            "flex": null,
            "_model_name": "LayoutModel",
            "justify_items": null,
            "grid_row": null,
            "max_height": null,
            "align_content": null,
            "visibility": null,
            "align_self": null,
            "height": null,
            "min_height": null,
            "padding": null,
            "grid_auto_rows": null,
            "grid_gap": null,
            "max_width": null,
            "order": null,
            "_view_module_version": "1.2.0",
            "grid_template_areas": null,
            "object_position": null,
            "object_fit": null,
            "grid_auto_columns": null,
            "margin": null,
            "display": null,
            "left": null
          }
        },
        "da0ac11842a04f02bae9ef9c316311df": {
          "model_module": "@jupyter-widgets/controls",
          "model_name": "DescriptionStyleModel",
          "state": {
            "_view_name": "StyleView",
            "_model_name": "DescriptionStyleModel",
            "description_width": "",
            "_view_module": "@jupyter-widgets/base",
            "_model_module_version": "1.5.0",
            "_view_count": null,
            "_view_module_version": "1.2.0",
            "_model_module": "@jupyter-widgets/controls"
          }
        },
        "1a6d4614dad84a22a86f0bf5741d86f0": {
          "model_module": "@jupyter-widgets/base",
          "model_name": "LayoutModel",
          "state": {
            "_view_name": "LayoutView",
            "grid_template_rows": null,
            "right": null,
            "justify_content": null,
            "_view_module": "@jupyter-widgets/base",
            "overflow": null,
            "_model_module_version": "1.2.0",
            "_view_count": null,
            "flex_flow": null,
            "width": null,
            "min_width": null,
            "border": null,
            "align_items": null,
            "bottom": null,
            "_model_module": "@jupyter-widgets/base",
            "top": null,
            "grid_column": null,
            "overflow_y": null,
            "overflow_x": null,
            "grid_auto_flow": null,
            "grid_area": null,
            "grid_template_columns": null,
            "flex": null,
            "_model_name": "LayoutModel",
            "justify_items": null,
            "grid_row": null,
            "max_height": null,
            "align_content": null,
            "visibility": null,
            "align_self": null,
            "height": null,
            "min_height": null,
            "padding": null,
            "grid_auto_rows": null,
            "grid_gap": null,
            "max_width": null,
            "order": null,
            "_view_module_version": "1.2.0",
            "grid_template_areas": null,
            "object_position": null,
            "object_fit": null,
            "grid_auto_columns": null,
            "margin": null,
            "display": null,
            "left": null
          }
        },
        "2b06325b4e1e4e0aae00fdc68df75129": {
          "model_module": "@jupyter-widgets/controls",
          "model_name": "HBoxModel",
          "state": {
            "_view_name": "HBoxView",
            "_dom_classes": [],
            "_model_name": "HBoxModel",
            "_view_module": "@jupyter-widgets/controls",
            "_model_module_version": "1.5.0",
            "_view_count": null,
            "_view_module_version": "1.5.0",
            "box_style": "",
            "layout": "IPY_MODEL_d2f921ecb462478f9267b50e51dbdc76",
            "_model_module": "@jupyter-widgets/controls",
            "children": [
              "IPY_MODEL_0621e58bcd064ebabb7f2eaddd8d9990",
              "IPY_MODEL_40260c45b18e4bc7b91dcf726a098cb7"
            ]
          }
        },
        "d2f921ecb462478f9267b50e51dbdc76": {
          "model_module": "@jupyter-widgets/base",
          "model_name": "LayoutModel",
          "state": {
            "_view_name": "LayoutView",
            "grid_template_rows": null,
            "right": null,
            "justify_content": null,
            "_view_module": "@jupyter-widgets/base",
            "overflow": null,
            "_model_module_version": "1.2.0",
            "_view_count": null,
            "flex_flow": null,
            "width": null,
            "min_width": null,
            "border": null,
            "align_items": null,
            "bottom": null,
            "_model_module": "@jupyter-widgets/base",
            "top": null,
            "grid_column": null,
            "overflow_y": null,
            "overflow_x": null,
            "grid_auto_flow": null,
            "grid_area": null,
            "grid_template_columns": null,
            "flex": null,
            "_model_name": "LayoutModel",
            "justify_items": null,
            "grid_row": null,
            "max_height": null,
            "align_content": null,
            "visibility": null,
            "align_self": null,
            "height": null,
            "min_height": null,
            "padding": null,
            "grid_auto_rows": null,
            "grid_gap": null,
            "max_width": null,
            "order": null,
            "_view_module_version": "1.2.0",
            "grid_template_areas": null,
            "object_position": null,
            "object_fit": null,
            "grid_auto_columns": null,
            "margin": null,
            "display": null,
            "left": null
          }
        },
        "0621e58bcd064ebabb7f2eaddd8d9990": {
          "model_module": "@jupyter-widgets/controls",
          "model_name": "IntProgressModel",
          "state": {
            "_view_name": "ProgressView",
            "style": "IPY_MODEL_288b02dab9e44489840ed7ec9b4c9b68",
            "_dom_classes": [],
            "description": "100%",
            "_model_name": "IntProgressModel",
            "bar_style": "success",
            "max": 8079,
            "_view_module": "@jupyter-widgets/controls",
            "_model_module_version": "1.5.0",
            "value": 8079,
            "_view_count": null,
            "_view_module_version": "1.5.0",
            "orientation": "horizontal",
            "min": 0,
            "description_tooltip": null,
            "_model_module": "@jupyter-widgets/controls",
            "layout": "IPY_MODEL_f011464fb3e44609b42f1358581be3a3"
          }
        },
        "40260c45b18e4bc7b91dcf726a098cb7": {
          "model_module": "@jupyter-widgets/controls",
          "model_name": "HTMLModel",
          "state": {
            "_view_name": "HTMLView",
            "style": "IPY_MODEL_ba00706647db435aa253bedc58a45de6",
            "_dom_classes": [],
            "description": "",
            "_model_name": "HTMLModel",
            "placeholder": "​",
            "_view_module": "@jupyter-widgets/controls",
            "_model_module_version": "1.5.0",
            "value": " 8079/8079 [00:32&lt;00:00, 245.23it/s]",
            "_view_count": null,
            "_view_module_version": "1.5.0",
            "description_tooltip": null,
            "_model_module": "@jupyter-widgets/controls",
            "layout": "IPY_MODEL_c754c0615d534bdba282cfc93c54e098"
          }
        },
        "288b02dab9e44489840ed7ec9b4c9b68": {
          "model_module": "@jupyter-widgets/controls",
          "model_name": "ProgressStyleModel",
          "state": {
            "_view_name": "StyleView",
            "_model_name": "ProgressStyleModel",
            "description_width": "initial",
            "_view_module": "@jupyter-widgets/base",
            "_model_module_version": "1.5.0",
            "_view_count": null,
            "_view_module_version": "1.2.0",
            "bar_color": null,
            "_model_module": "@jupyter-widgets/controls"
          }
        },
        "f011464fb3e44609b42f1358581be3a3": {
          "model_module": "@jupyter-widgets/base",
          "model_name": "LayoutModel",
          "state": {
            "_view_name": "LayoutView",
            "grid_template_rows": null,
            "right": null,
            "justify_content": null,
            "_view_module": "@jupyter-widgets/base",
            "overflow": null,
            "_model_module_version": "1.2.0",
            "_view_count": null,
            "flex_flow": null,
            "width": null,
            "min_width": null,
            "border": null,
            "align_items": null,
            "bottom": null,
            "_model_module": "@jupyter-widgets/base",
            "top": null,
            "grid_column": null,
            "overflow_y": null,
            "overflow_x": null,
            "grid_auto_flow": null,
            "grid_area": null,
            "grid_template_columns": null,
            "flex": null,
            "_model_name": "LayoutModel",
            "justify_items": null,
            "grid_row": null,
            "max_height": null,
            "align_content": null,
            "visibility": null,
            "align_self": null,
            "height": null,
            "min_height": null,
            "padding": null,
            "grid_auto_rows": null,
            "grid_gap": null,
            "max_width": null,
            "order": null,
            "_view_module_version": "1.2.0",
            "grid_template_areas": null,
            "object_position": null,
            "object_fit": null,
            "grid_auto_columns": null,
            "margin": null,
            "display": null,
            "left": null
          }
        },
        "ba00706647db435aa253bedc58a45de6": {
          "model_module": "@jupyter-widgets/controls",
          "model_name": "DescriptionStyleModel",
          "state": {
            "_view_name": "StyleView",
            "_model_name": "DescriptionStyleModel",
            "description_width": "",
            "_view_module": "@jupyter-widgets/base",
            "_model_module_version": "1.5.0",
            "_view_count": null,
            "_view_module_version": "1.2.0",
            "_model_module": "@jupyter-widgets/controls"
          }
        },
        "c754c0615d534bdba282cfc93c54e098": {
          "model_module": "@jupyter-widgets/base",
          "model_name": "LayoutModel",
          "state": {
            "_view_name": "LayoutView",
            "grid_template_rows": null,
            "right": null,
            "justify_content": null,
            "_view_module": "@jupyter-widgets/base",
            "overflow": null,
            "_model_module_version": "1.2.0",
            "_view_count": null,
            "flex_flow": null,
            "width": null,
            "min_width": null,
            "border": null,
            "align_items": null,
            "bottom": null,
            "_model_module": "@jupyter-widgets/base",
            "top": null,
            "grid_column": null,
            "overflow_y": null,
            "overflow_x": null,
            "grid_auto_flow": null,
            "grid_area": null,
            "grid_template_columns": null,
            "flex": null,
            "_model_name": "LayoutModel",
            "justify_items": null,
            "grid_row": null,
            "max_height": null,
            "align_content": null,
            "visibility": null,
            "align_self": null,
            "height": null,
            "min_height": null,
            "padding": null,
            "grid_auto_rows": null,
            "grid_gap": null,
            "max_width": null,
            "order": null,
            "_view_module_version": "1.2.0",
            "grid_template_areas": null,
            "object_position": null,
            "object_fit": null,
            "grid_auto_columns": null,
            "margin": null,
            "display": null,
            "left": null
          }
        },
        "b2d0e554c26d4c19b7f128995dfc296c": {
          "model_module": "@jupyter-widgets/controls",
          "model_name": "HBoxModel",
          "state": {
            "_view_name": "HBoxView",
            "_dom_classes": [],
            "_model_name": "HBoxModel",
            "_view_module": "@jupyter-widgets/controls",
            "_model_module_version": "1.5.0",
            "_view_count": null,
            "_view_module_version": "1.5.0",
            "box_style": "",
            "layout": "IPY_MODEL_91e3380009834321978e85883a13770c",
            "_model_module": "@jupyter-widgets/controls",
            "children": [
              "IPY_MODEL_2ee8e02967024c00b58099342e1c1973",
              "IPY_MODEL_63caaddc537143dda2ea2aafcfd6406f"
            ]
          }
        },
        "91e3380009834321978e85883a13770c": {
          "model_module": "@jupyter-widgets/base",
          "model_name": "LayoutModel",
          "state": {
            "_view_name": "LayoutView",
            "grid_template_rows": null,
            "right": null,
            "justify_content": null,
            "_view_module": "@jupyter-widgets/base",
            "overflow": null,
            "_model_module_version": "1.2.0",
            "_view_count": null,
            "flex_flow": null,
            "width": null,
            "min_width": null,
            "border": null,
            "align_items": null,
            "bottom": null,
            "_model_module": "@jupyter-widgets/base",
            "top": null,
            "grid_column": null,
            "overflow_y": null,
            "overflow_x": null,
            "grid_auto_flow": null,
            "grid_area": null,
            "grid_template_columns": null,
            "flex": null,
            "_model_name": "LayoutModel",
            "justify_items": null,
            "grid_row": null,
            "max_height": null,
            "align_content": null,
            "visibility": null,
            "align_self": null,
            "height": null,
            "min_height": null,
            "padding": null,
            "grid_auto_rows": null,
            "grid_gap": null,
            "max_width": null,
            "order": null,
            "_view_module_version": "1.2.0",
            "grid_template_areas": null,
            "object_position": null,
            "object_fit": null,
            "grid_auto_columns": null,
            "margin": null,
            "display": null,
            "left": null
          }
        },
        "2ee8e02967024c00b58099342e1c1973": {
          "model_module": "@jupyter-widgets/controls",
          "model_name": "IntProgressModel",
          "state": {
            "_view_name": "ProgressView",
            "style": "IPY_MODEL_04661aaed2894807926d287afdb75a90",
            "_dom_classes": [],
            "description": "100%",
            "_model_name": "IntProgressModel",
            "bar_style": "success",
            "max": 7519,
            "_view_module": "@jupyter-widgets/controls",
            "_model_module_version": "1.5.0",
            "value": 7519,
            "_view_count": null,
            "_view_module_version": "1.5.0",
            "orientation": "horizontal",
            "min": 0,
            "description_tooltip": null,
            "_model_module": "@jupyter-widgets/controls",
            "layout": "IPY_MODEL_2a887529c5df47bea086ab031ec5f82a"
          }
        },
        "63caaddc537143dda2ea2aafcfd6406f": {
          "model_module": "@jupyter-widgets/controls",
          "model_name": "HTMLModel",
          "state": {
            "_view_name": "HTMLView",
            "style": "IPY_MODEL_ee8be0dac55b4133b7d26a995ce3e6f2",
            "_dom_classes": [],
            "description": "",
            "_model_name": "HTMLModel",
            "placeholder": "​",
            "_view_module": "@jupyter-widgets/controls",
            "_model_module_version": "1.5.0",
            "value": " 7519/7519 [01:09&lt;00:00, 108.80it/s]",
            "_view_count": null,
            "_view_module_version": "1.5.0",
            "description_tooltip": null,
            "_model_module": "@jupyter-widgets/controls",
            "layout": "IPY_MODEL_087e018fa26343748689a59f0fa78624"
          }
        },
        "04661aaed2894807926d287afdb75a90": {
          "model_module": "@jupyter-widgets/controls",
          "model_name": "ProgressStyleModel",
          "state": {
            "_view_name": "StyleView",
            "_model_name": "ProgressStyleModel",
            "description_width": "initial",
            "_view_module": "@jupyter-widgets/base",
            "_model_module_version": "1.5.0",
            "_view_count": null,
            "_view_module_version": "1.2.0",
            "bar_color": null,
            "_model_module": "@jupyter-widgets/controls"
          }
        },
        "2a887529c5df47bea086ab031ec5f82a": {
          "model_module": "@jupyter-widgets/base",
          "model_name": "LayoutModel",
          "state": {
            "_view_name": "LayoutView",
            "grid_template_rows": null,
            "right": null,
            "justify_content": null,
            "_view_module": "@jupyter-widgets/base",
            "overflow": null,
            "_model_module_version": "1.2.0",
            "_view_count": null,
            "flex_flow": null,
            "width": null,
            "min_width": null,
            "border": null,
            "align_items": null,
            "bottom": null,
            "_model_module": "@jupyter-widgets/base",
            "top": null,
            "grid_column": null,
            "overflow_y": null,
            "overflow_x": null,
            "grid_auto_flow": null,
            "grid_area": null,
            "grid_template_columns": null,
            "flex": null,
            "_model_name": "LayoutModel",
            "justify_items": null,
            "grid_row": null,
            "max_height": null,
            "align_content": null,
            "visibility": null,
            "align_self": null,
            "height": null,
            "min_height": null,
            "padding": null,
            "grid_auto_rows": null,
            "grid_gap": null,
            "max_width": null,
            "order": null,
            "_view_module_version": "1.2.0",
            "grid_template_areas": null,
            "object_position": null,
            "object_fit": null,
            "grid_auto_columns": null,
            "margin": null,
            "display": null,
            "left": null
          }
        },
        "ee8be0dac55b4133b7d26a995ce3e6f2": {
          "model_module": "@jupyter-widgets/controls",
          "model_name": "DescriptionStyleModel",
          "state": {
            "_view_name": "StyleView",
            "_model_name": "DescriptionStyleModel",
            "description_width": "",
            "_view_module": "@jupyter-widgets/base",
            "_model_module_version": "1.5.0",
            "_view_count": null,
            "_view_module_version": "1.2.0",
            "_model_module": "@jupyter-widgets/controls"
          }
        },
        "087e018fa26343748689a59f0fa78624": {
          "model_module": "@jupyter-widgets/base",
          "model_name": "LayoutModel",
          "state": {
            "_view_name": "LayoutView",
            "grid_template_rows": null,
            "right": null,
            "justify_content": null,
            "_view_module": "@jupyter-widgets/base",
            "overflow": null,
            "_model_module_version": "1.2.0",
            "_view_count": null,
            "flex_flow": null,
            "width": null,
            "min_width": null,
            "border": null,
            "align_items": null,
            "bottom": null,
            "_model_module": "@jupyter-widgets/base",
            "top": null,
            "grid_column": null,
            "overflow_y": null,
            "overflow_x": null,
            "grid_auto_flow": null,
            "grid_area": null,
            "grid_template_columns": null,
            "flex": null,
            "_model_name": "LayoutModel",
            "justify_items": null,
            "grid_row": null,
            "max_height": null,
            "align_content": null,
            "visibility": null,
            "align_self": null,
            "height": null,
            "min_height": null,
            "padding": null,
            "grid_auto_rows": null,
            "grid_gap": null,
            "max_width": null,
            "order": null,
            "_view_module_version": "1.2.0",
            "grid_template_areas": null,
            "object_position": null,
            "object_fit": null,
            "grid_auto_columns": null,
            "margin": null,
            "display": null,
            "left": null
          }
        },
        "d3a6cc9a51d04c289f4ee71403d663f6": {
          "model_module": "@jupyter-widgets/controls",
          "model_name": "HBoxModel",
          "state": {
            "_view_name": "HBoxView",
            "_dom_classes": [],
            "_model_name": "HBoxModel",
            "_view_module": "@jupyter-widgets/controls",
            "_model_module_version": "1.5.0",
            "_view_count": null,
            "_view_module_version": "1.5.0",
            "box_style": "",
            "layout": "IPY_MODEL_b73dadceb7ee4795b46e59fbea5aedc2",
            "_model_module": "@jupyter-widgets/controls",
            "children": [
              "IPY_MODEL_74c121cbd9f142e99576fdc6908bbe1b",
              "IPY_MODEL_8d57df5ac45a43d28aeeaf085be5e5a8"
            ]
          }
        },
        "b73dadceb7ee4795b46e59fbea5aedc2": {
          "model_module": "@jupyter-widgets/base",
          "model_name": "LayoutModel",
          "state": {
            "_view_name": "LayoutView",
            "grid_template_rows": null,
            "right": null,
            "justify_content": null,
            "_view_module": "@jupyter-widgets/base",
            "overflow": null,
            "_model_module_version": "1.2.0",
            "_view_count": null,
            "flex_flow": null,
            "width": null,
            "min_width": null,
            "border": null,
            "align_items": null,
            "bottom": null,
            "_model_module": "@jupyter-widgets/base",
            "top": null,
            "grid_column": null,
            "overflow_y": null,
            "overflow_x": null,
            "grid_auto_flow": null,
            "grid_area": null,
            "grid_template_columns": null,
            "flex": null,
            "_model_name": "LayoutModel",
            "justify_items": null,
            "grid_row": null,
            "max_height": null,
            "align_content": null,
            "visibility": null,
            "align_self": null,
            "height": null,
            "min_height": null,
            "padding": null,
            "grid_auto_rows": null,
            "grid_gap": null,
            "max_width": null,
            "order": null,
            "_view_module_version": "1.2.0",
            "grid_template_areas": null,
            "object_position": null,
            "object_fit": null,
            "grid_auto_columns": null,
            "margin": null,
            "display": null,
            "left": null
          }
        },
        "74c121cbd9f142e99576fdc6908bbe1b": {
          "model_module": "@jupyter-widgets/controls",
          "model_name": "IntProgressModel",
          "state": {
            "_view_name": "ProgressView",
            "style": "IPY_MODEL_c9bc1e6a20724918a1420aebf214e488",
            "_dom_classes": [],
            "description": "100%",
            "_model_name": "IntProgressModel",
            "bar_style": "success",
            "max": 9489,
            "_view_module": "@jupyter-widgets/controls",
            "_model_module_version": "1.5.0",
            "value": 9489,
            "_view_count": null,
            "_view_module_version": "1.5.0",
            "orientation": "horizontal",
            "min": 0,
            "description_tooltip": null,
            "_model_module": "@jupyter-widgets/controls",
            "layout": "IPY_MODEL_3409f5ce96f142888a71f932a461e23c"
          }
        },
        "8d57df5ac45a43d28aeeaf085be5e5a8": {
          "model_module": "@jupyter-widgets/controls",
          "model_name": "HTMLModel",
          "state": {
            "_view_name": "HTMLView",
            "style": "IPY_MODEL_e14bb46327b54bb09b10ee1a835a5da8",
            "_dom_classes": [],
            "description": "",
            "_model_name": "HTMLModel",
            "placeholder": "​",
            "_view_module": "@jupyter-widgets/controls",
            "_model_module_version": "1.5.0",
            "value": " 9489/9489 [00:00&lt;00:00, 13754.53it/s]",
            "_view_count": null,
            "_view_module_version": "1.5.0",
            "description_tooltip": null,
            "_model_module": "@jupyter-widgets/controls",
            "layout": "IPY_MODEL_2824f3dca30b4ca4819e4661df4973a0"
          }
        },
        "c9bc1e6a20724918a1420aebf214e488": {
          "model_module": "@jupyter-widgets/controls",
          "model_name": "ProgressStyleModel",
          "state": {
            "_view_name": "StyleView",
            "_model_name": "ProgressStyleModel",
            "description_width": "initial",
            "_view_module": "@jupyter-widgets/base",
            "_model_module_version": "1.5.0",
            "_view_count": null,
            "_view_module_version": "1.2.0",
            "bar_color": null,
            "_model_module": "@jupyter-widgets/controls"
          }
        },
        "3409f5ce96f142888a71f932a461e23c": {
          "model_module": "@jupyter-widgets/base",
          "model_name": "LayoutModel",
          "state": {
            "_view_name": "LayoutView",
            "grid_template_rows": null,
            "right": null,
            "justify_content": null,
            "_view_module": "@jupyter-widgets/base",
            "overflow": null,
            "_model_module_version": "1.2.0",
            "_view_count": null,
            "flex_flow": null,
            "width": null,
            "min_width": null,
            "border": null,
            "align_items": null,
            "bottom": null,
            "_model_module": "@jupyter-widgets/base",
            "top": null,
            "grid_column": null,
            "overflow_y": null,
            "overflow_x": null,
            "grid_auto_flow": null,
            "grid_area": null,
            "grid_template_columns": null,
            "flex": null,
            "_model_name": "LayoutModel",
            "justify_items": null,
            "grid_row": null,
            "max_height": null,
            "align_content": null,
            "visibility": null,
            "align_self": null,
            "height": null,
            "min_height": null,
            "padding": null,
            "grid_auto_rows": null,
            "grid_gap": null,
            "max_width": null,
            "order": null,
            "_view_module_version": "1.2.0",
            "grid_template_areas": null,
            "object_position": null,
            "object_fit": null,
            "grid_auto_columns": null,
            "margin": null,
            "display": null,
            "left": null
          }
        },
        "e14bb46327b54bb09b10ee1a835a5da8": {
          "model_module": "@jupyter-widgets/controls",
          "model_name": "DescriptionStyleModel",
          "state": {
            "_view_name": "StyleView",
            "_model_name": "DescriptionStyleModel",
            "description_width": "",
            "_view_module": "@jupyter-widgets/base",
            "_model_module_version": "1.5.0",
            "_view_count": null,
            "_view_module_version": "1.2.0",
            "_model_module": "@jupyter-widgets/controls"
          }
        },
        "2824f3dca30b4ca4819e4661df4973a0": {
          "model_module": "@jupyter-widgets/base",
          "model_name": "LayoutModel",
          "state": {
            "_view_name": "LayoutView",
            "grid_template_rows": null,
            "right": null,
            "justify_content": null,
            "_view_module": "@jupyter-widgets/base",
            "overflow": null,
            "_model_module_version": "1.2.0",
            "_view_count": null,
            "flex_flow": null,
            "width": null,
            "min_width": null,
            "border": null,
            "align_items": null,
            "bottom": null,
            "_model_module": "@jupyter-widgets/base",
            "top": null,
            "grid_column": null,
            "overflow_y": null,
            "overflow_x": null,
            "grid_auto_flow": null,
            "grid_area": null,
            "grid_template_columns": null,
            "flex": null,
            "_model_name": "LayoutModel",
            "justify_items": null,
            "grid_row": null,
            "max_height": null,
            "align_content": null,
            "visibility": null,
            "align_self": null,
            "height": null,
            "min_height": null,
            "padding": null,
            "grid_auto_rows": null,
            "grid_gap": null,
            "max_width": null,
            "order": null,
            "_view_module_version": "1.2.0",
            "grid_template_areas": null,
            "object_position": null,
            "object_fit": null,
            "grid_auto_columns": null,
            "margin": null,
            "display": null,
            "left": null
          }
        },
        "6df7d3ab63954a4392bc18df146ab219": {
          "model_module": "@jupyter-widgets/controls",
          "model_name": "HBoxModel",
          "state": {
            "_view_name": "HBoxView",
            "_dom_classes": [],
            "_model_name": "HBoxModel",
            "_view_module": "@jupyter-widgets/controls",
            "_model_module_version": "1.5.0",
            "_view_count": null,
            "_view_module_version": "1.5.0",
            "box_style": "",
            "layout": "IPY_MODEL_90dd233e428a4d76af546ac47dc13aab",
            "_model_module": "@jupyter-widgets/controls",
            "children": [
              "IPY_MODEL_b85e23638332485e95f09ddce717799c",
              "IPY_MODEL_a70c94b4e3734a9c89439be87c332a61"
            ]
          }
        },
        "90dd233e428a4d76af546ac47dc13aab": {
          "model_module": "@jupyter-widgets/base",
          "model_name": "LayoutModel",
          "state": {
            "_view_name": "LayoutView",
            "grid_template_rows": null,
            "right": null,
            "justify_content": null,
            "_view_module": "@jupyter-widgets/base",
            "overflow": null,
            "_model_module_version": "1.2.0",
            "_view_count": null,
            "flex_flow": null,
            "width": null,
            "min_width": null,
            "border": null,
            "align_items": null,
            "bottom": null,
            "_model_module": "@jupyter-widgets/base",
            "top": null,
            "grid_column": null,
            "overflow_y": null,
            "overflow_x": null,
            "grid_auto_flow": null,
            "grid_area": null,
            "grid_template_columns": null,
            "flex": null,
            "_model_name": "LayoutModel",
            "justify_items": null,
            "grid_row": null,
            "max_height": null,
            "align_content": null,
            "visibility": null,
            "align_self": null,
            "height": null,
            "min_height": null,
            "padding": null,
            "grid_auto_rows": null,
            "grid_gap": null,
            "max_width": null,
            "order": null,
            "_view_module_version": "1.2.0",
            "grid_template_areas": null,
            "object_position": null,
            "object_fit": null,
            "grid_auto_columns": null,
            "margin": null,
            "display": null,
            "left": null
          }
        },
        "b85e23638332485e95f09ddce717799c": {
          "model_module": "@jupyter-widgets/controls",
          "model_name": "IntProgressModel",
          "state": {
            "_view_name": "ProgressView",
            "style": "IPY_MODEL_10891383f1564ca1bb45994caf26cfd5",
            "_dom_classes": [],
            "description": "100%",
            "_model_name": "IntProgressModel",
            "bar_style": "success",
            "max": 8296,
            "_view_module": "@jupyter-widgets/controls",
            "_model_module_version": "1.5.0",
            "value": 8296,
            "_view_count": null,
            "_view_module_version": "1.5.0",
            "orientation": "horizontal",
            "min": 0,
            "description_tooltip": null,
            "_model_module": "@jupyter-widgets/controls",
            "layout": "IPY_MODEL_8e5b2b8cafab4ee78cfc8eb1ff030cc0"
          }
        },
        "a70c94b4e3734a9c89439be87c332a61": {
          "model_module": "@jupyter-widgets/controls",
          "model_name": "HTMLModel",
          "state": {
            "_view_name": "HTMLView",
            "style": "IPY_MODEL_d82ce6ae835e420993d3cd287655571e",
            "_dom_classes": [],
            "description": "",
            "_model_name": "HTMLModel",
            "placeholder": "​",
            "_view_module": "@jupyter-widgets/controls",
            "_model_module_version": "1.5.0",
            "value": " 8296/8296 [00:39&lt;00:00, 209.09it/s]",
            "_view_count": null,
            "_view_module_version": "1.5.0",
            "description_tooltip": null,
            "_model_module": "@jupyter-widgets/controls",
            "layout": "IPY_MODEL_28e366751414410ea9d3a15f06bcfe1e"
          }
        },
        "10891383f1564ca1bb45994caf26cfd5": {
          "model_module": "@jupyter-widgets/controls",
          "model_name": "ProgressStyleModel",
          "state": {
            "_view_name": "StyleView",
            "_model_name": "ProgressStyleModel",
            "description_width": "initial",
            "_view_module": "@jupyter-widgets/base",
            "_model_module_version": "1.5.0",
            "_view_count": null,
            "_view_module_version": "1.2.0",
            "bar_color": null,
            "_model_module": "@jupyter-widgets/controls"
          }
        },
        "8e5b2b8cafab4ee78cfc8eb1ff030cc0": {
          "model_module": "@jupyter-widgets/base",
          "model_name": "LayoutModel",
          "state": {
            "_view_name": "LayoutView",
            "grid_template_rows": null,
            "right": null,
            "justify_content": null,
            "_view_module": "@jupyter-widgets/base",
            "overflow": null,
            "_model_module_version": "1.2.0",
            "_view_count": null,
            "flex_flow": null,
            "width": null,
            "min_width": null,
            "border": null,
            "align_items": null,
            "bottom": null,
            "_model_module": "@jupyter-widgets/base",
            "top": null,
            "grid_column": null,
            "overflow_y": null,
            "overflow_x": null,
            "grid_auto_flow": null,
            "grid_area": null,
            "grid_template_columns": null,
            "flex": null,
            "_model_name": "LayoutModel",
            "justify_items": null,
            "grid_row": null,
            "max_height": null,
            "align_content": null,
            "visibility": null,
            "align_self": null,
            "height": null,
            "min_height": null,
            "padding": null,
            "grid_auto_rows": null,
            "grid_gap": null,
            "max_width": null,
            "order": null,
            "_view_module_version": "1.2.0",
            "grid_template_areas": null,
            "object_position": null,
            "object_fit": null,
            "grid_auto_columns": null,
            "margin": null,
            "display": null,
            "left": null
          }
        },
        "d82ce6ae835e420993d3cd287655571e": {
          "model_module": "@jupyter-widgets/controls",
          "model_name": "DescriptionStyleModel",
          "state": {
            "_view_name": "StyleView",
            "_model_name": "DescriptionStyleModel",
            "description_width": "",
            "_view_module": "@jupyter-widgets/base",
            "_model_module_version": "1.5.0",
            "_view_count": null,
            "_view_module_version": "1.2.0",
            "_model_module": "@jupyter-widgets/controls"
          }
        },
        "28e366751414410ea9d3a15f06bcfe1e": {
          "model_module": "@jupyter-widgets/base",
          "model_name": "LayoutModel",
          "state": {
            "_view_name": "LayoutView",
            "grid_template_rows": null,
            "right": null,
            "justify_content": null,
            "_view_module": "@jupyter-widgets/base",
            "overflow": null,
            "_model_module_version": "1.2.0",
            "_view_count": null,
            "flex_flow": null,
            "width": null,
            "min_width": null,
            "border": null,
            "align_items": null,
            "bottom": null,
            "_model_module": "@jupyter-widgets/base",
            "top": null,
            "grid_column": null,
            "overflow_y": null,
            "overflow_x": null,
            "grid_auto_flow": null,
            "grid_area": null,
            "grid_template_columns": null,
            "flex": null,
            "_model_name": "LayoutModel",
            "justify_items": null,
            "grid_row": null,
            "max_height": null,
            "align_content": null,
            "visibility": null,
            "align_self": null,
            "height": null,
            "min_height": null,
            "padding": null,
            "grid_auto_rows": null,
            "grid_gap": null,
            "max_width": null,
            "order": null,
            "_view_module_version": "1.2.0",
            "grid_template_areas": null,
            "object_position": null,
            "object_fit": null,
            "grid_auto_columns": null,
            "margin": null,
            "display": null,
            "left": null
          }
        }
      }
    }
  },
  "cells": [
    {
      "cell_type": "markdown",
      "metadata": {
        "id": "zLvS5QDbryur",
        "colab_type": "text"
      },
      "source": [
        "Описание задачи https://boosters.pro/championship/rekko_challenge/data\n",
        "\n",
        "Статья на хабре https://habr.com/ru/company/okko/blog/454224/\n"
      ]
    },
    {
      "cell_type": "code",
      "metadata": {
        "id": "payYmhx8zIPz",
        "colab_type": "code",
        "outputId": "27c693c0-e8f3-4e9f-ff78-f42615cf4cd5",
        "colab": {
          "base_uri": "https://localhost:8080/",
          "height": 124
        }
      },
      "source": [
        "from google.colab import drive\n",
        "drive.mount('/content/drive')"
      ],
      "execution_count": 0,
      "outputs": [
        {
          "output_type": "stream",
          "text": [
            "Go to this URL in a browser: https://accounts.google.com/o/oauth2/auth?client_id=947318989803-6bn6qk8qdgf4n4g3pfee6491hc0brc4i.apps.googleusercontent.com&redirect_uri=urn%3aietf%3awg%3aoauth%3a2.0%3aoob&response_type=code&scope=email%20https%3a%2f%2fwww.googleapis.com%2fauth%2fdocs.test%20https%3a%2f%2fwww.googleapis.com%2fauth%2fdrive%20https%3a%2f%2fwww.googleapis.com%2fauth%2fdrive.photos.readonly%20https%3a%2f%2fwww.googleapis.com%2fauth%2fpeopleapi.readonly\n",
            "\n",
            "Enter your authorization code:\n",
            "··········\n",
            "Mounted at /content/drive\n"
          ],
          "name": "stdout"
        }
      ]
    },
    {
      "cell_type": "code",
      "metadata": {
        "id": "Sf1oBRXUFKvs",
        "colab_type": "code",
        "outputId": "56dde34d-af22-4959-b453-4330c3dc904b",
        "colab": {
          "base_uri": "https://localhost:8080/",
          "height": 748
        }
      },
      "source": [
        "! pip install lightfm\n",
        "! pip install implicit\n",
        "\n",
        "! pip install -U scikit-learn==0.21.3\n",
        "\n",
        "# #Step 0: Change Colab runtime type to GPU\n",
        "# #Step 1: Download the source code, it will create LightGBM directory on your Colab instance:\n",
        "# !git clone --recursive https://github.com/Microsoft/LightGBM\n",
        "# #Step 2: Move the context to LightGBM directory\n",
        "# %cd /content/LightGBM\n",
        "# #Step 3: Create build directory under LightGBM (Installation notes also mentioned about going inside the build directory but that will not help in next step, so skipping it)\n",
        "# !mkdir build\n",
        "# #Step 4: Install cmake with GPU option and nproc:\n",
        "# !cmake -DUSE_GPU=1 #avoid ..\n",
        "# !make -j$(nproc)\n",
        "# #Step 5: Get python-pip\n",
        "# !sudo apt-get -y install python-pip\n",
        "# #Step 6: Install required packages (Here include all packages that you need e.g. if you dont mention pandas then it can give errors later):\n",
        "# !sudo -H pip install setuptools pandas numpy scipy scikit-learn -U\n",
        "# #Step 7: Move context to python-package:\n",
        "# %cd /content/LightGBM/python-package\n",
        "# #Step 8: Compile\n",
        "# !sudo python setup.py install --precompile"
      ],
      "execution_count": 0,
      "outputs": [
        {
          "output_type": "stream",
          "text": [
            "Collecting lightfm\n",
            "\u001b[?25l  Downloading https://files.pythonhosted.org/packages/e9/8e/5485ac5a8616abe1c673d1e033e2f232b4319ab95424b42499fabff2257f/lightfm-1.15.tar.gz (302kB)\n",
            "\r\u001b[K     |█                               | 10kB 16.8MB/s eta 0:00:01\r\u001b[K     |██▏                             | 20kB 2.2MB/s eta 0:00:01\r\u001b[K     |███▎                            | 30kB 3.3MB/s eta 0:00:01\r\u001b[K     |████▍                           | 40kB 2.1MB/s eta 0:00:01\r\u001b[K     |█████▍                          | 51kB 2.6MB/s eta 0:00:01\r\u001b[K     |██████▌                         | 61kB 3.1MB/s eta 0:00:01\r\u001b[K     |███████▋                        | 71kB 3.6MB/s eta 0:00:01\r\u001b[K     |████████▊                       | 81kB 4.1MB/s eta 0:00:01\r\u001b[K     |█████████▊                      | 92kB 4.6MB/s eta 0:00:01\r\u001b[K     |██████████▉                     | 102kB 3.5MB/s eta 0:00:01\r\u001b[K     |████████████                    | 112kB 3.5MB/s eta 0:00:01\r\u001b[K     |█████████████                   | 122kB 3.5MB/s eta 0:00:01\r\u001b[K     |██████████████                  | 133kB 3.5MB/s eta 0:00:01\r\u001b[K     |███████████████▏                | 143kB 3.5MB/s eta 0:00:01\r\u001b[K     |████████████████▎               | 153kB 3.5MB/s eta 0:00:01\r\u001b[K     |█████████████████▍              | 163kB 3.5MB/s eta 0:00:01\r\u001b[K     |██████████████████▍             | 174kB 3.5MB/s eta 0:00:01\r\u001b[K     |███████████████████▌            | 184kB 3.5MB/s eta 0:00:01\r\u001b[K     |████████████████████▋           | 194kB 3.5MB/s eta 0:00:01\r\u001b[K     |█████████████████████▊          | 204kB 3.5MB/s eta 0:00:01\r\u001b[K     |██████████████████████▊         | 215kB 3.5MB/s eta 0:00:01\r\u001b[K     |███████████████████████▉        | 225kB 3.5MB/s eta 0:00:01\r\u001b[K     |█████████████████████████       | 235kB 3.5MB/s eta 0:00:01\r\u001b[K     |██████████████████████████      | 245kB 3.5MB/s eta 0:00:01\r\u001b[K     |███████████████████████████     | 256kB 3.5MB/s eta 0:00:01\r\u001b[K     |████████████████████████████▏   | 266kB 3.5MB/s eta 0:00:01\r\u001b[K     |█████████████████████████████▎  | 276kB 3.5MB/s eta 0:00:01\r\u001b[K     |██████████████████████████████▍ | 286kB 3.5MB/s eta 0:00:01\r\u001b[K     |███████████████████████████████▍| 296kB 3.5MB/s eta 0:00:01\r\u001b[K     |████████████████████████████████| 307kB 3.5MB/s \n",
            "\u001b[?25hRequirement already satisfied: numpy in /usr/local/lib/python3.6/dist-packages (from lightfm) (1.18.2)\n",
            "Requirement already satisfied: scipy>=0.17.0 in /usr/local/lib/python3.6/dist-packages (from lightfm) (1.4.1)\n",
            "Requirement already satisfied: requests in /usr/local/lib/python3.6/dist-packages (from lightfm) (2.21.0)\n",
            "Requirement already satisfied: urllib3<1.25,>=1.21.1 in /usr/local/lib/python3.6/dist-packages (from requests->lightfm) (1.24.3)\n",
            "Requirement already satisfied: chardet<3.1.0,>=3.0.2 in /usr/local/lib/python3.6/dist-packages (from requests->lightfm) (3.0.4)\n",
            "Requirement already satisfied: certifi>=2017.4.17 in /usr/local/lib/python3.6/dist-packages (from requests->lightfm) (2019.11.28)\n",
            "Requirement already satisfied: idna<2.9,>=2.5 in /usr/local/lib/python3.6/dist-packages (from requests->lightfm) (2.8)\n",
            "Building wheels for collected packages: lightfm\n",
            "  Building wheel for lightfm (setup.py) ... \u001b[?25l\u001b[?25hdone\n",
            "  Created wheel for lightfm: filename=lightfm-1.15-cp36-cp36m-linux_x86_64.whl size=707619 sha256=c572df19ebc92ed4b6f8a7a344f3833d3d8f121e2add3b3d3aa9a702e5681359\n",
            "  Stored in directory: /root/.cache/pip/wheels/eb/bb/ac/188385a5da6627956be5d9663928483b36da576149ab5b8f79\n",
            "Successfully built lightfm\n",
            "Installing collected packages: lightfm\n",
            "Successfully installed lightfm-1.15\n",
            "Collecting implicit\n",
            "\u001b[?25l  Downloading https://files.pythonhosted.org/packages/5a/d8/6b4f1374ffa2647b72ac76960c71b984c6f3238090359fb419d03827d87a/implicit-0.4.2.tar.gz (1.1MB)\n",
            "\u001b[K     |████████████████████████████████| 1.1MB 3.5MB/s \n",
            "\u001b[?25hRequirement already satisfied: numpy in /usr/local/lib/python3.6/dist-packages (from implicit) (1.18.2)\n",
            "Requirement already satisfied: scipy>=0.16 in /usr/local/lib/python3.6/dist-packages (from implicit) (1.4.1)\n",
            "Requirement already satisfied: tqdm>=4.27 in /usr/local/lib/python3.6/dist-packages (from implicit) (4.38.0)\n",
            "Building wheels for collected packages: implicit\n",
            "  Building wheel for implicit (setup.py) ... \u001b[?25l\u001b[?25hdone\n",
            "  Created wheel for implicit: filename=implicit-0.4.2-cp36-cp36m-linux_x86_64.whl size=3471241 sha256=853245058be1834f321fbc6f010052550737afaa2e1bd738692f66cc99a05d62\n",
            "  Stored in directory: /root/.cache/pip/wheels/1b/48/b1/1aebe3acc3afb5589e72d3e7c3ffc3f637dc4721c1a974dff7\n",
            "Successfully built implicit\n",
            "Installing collected packages: implicit\n",
            "Successfully installed implicit-0.4.2\n",
            "Collecting scikit-learn==0.21.3\n",
            "\u001b[?25l  Downloading https://files.pythonhosted.org/packages/a0/c5/d2238762d780dde84a20b8c761f563fe882b88c5a5fb03c056547c442a19/scikit_learn-0.21.3-cp36-cp36m-manylinux1_x86_64.whl (6.7MB)\n",
            "\u001b[K     |████████████████████████████████| 6.7MB 3.1MB/s \n",
            "\u001b[?25hRequirement already satisfied, skipping upgrade: numpy>=1.11.0 in /usr/local/lib/python3.6/dist-packages (from scikit-learn==0.21.3) (1.18.2)\n",
            "Requirement already satisfied, skipping upgrade: joblib>=0.11 in /usr/local/lib/python3.6/dist-packages (from scikit-learn==0.21.3) (0.14.1)\n",
            "Requirement already satisfied, skipping upgrade: scipy>=0.17.0 in /usr/local/lib/python3.6/dist-packages (from scikit-learn==0.21.3) (1.4.1)\n",
            "Installing collected packages: scikit-learn\n",
            "  Found existing installation: scikit-learn 0.22.2.post1\n",
            "    Uninstalling scikit-learn-0.22.2.post1:\n",
            "      Successfully uninstalled scikit-learn-0.22.2.post1\n",
            "Successfully installed scikit-learn-0.21.3\n"
          ],
          "name": "stdout"
        }
      ]
    },
    {
      "cell_type": "code",
      "metadata": {
        "id": "GY3ER-AOryuv",
        "colab_type": "code",
        "outputId": "863ded7c-0b0b-4d57-dec8-e19182ad9ecb",
        "colab": {
          "base_uri": "https://localhost:8080/",
          "height": 72
        }
      },
      "source": [
        "import os\n",
        "import json\n",
        "import pandas as pd\n",
        "import numpy as np\n",
        "from scipy import stats\n",
        "\n",
        "from tqdm.notebook import tqdm\n",
        "import scipy.sparse as sp\n",
        "from pprint import pprint\n",
        "from collections import defaultdict, Counter\n",
        "from sklearn.preprocessing import StandardScaler\n",
        "from collections import defaultdict\n",
        "from itertools import product, permutations\n",
        "import multiprocessing\n",
        "from sklearn.externals import joblib\n",
        "\n",
        "from lightfm import LightFM\n",
        "from implicit.nearest_neighbours import TFIDFRecommender, BM25Recommender\n",
        "import lightgbm as lgb\n",
        "\n",
        "import seaborn as sns\n",
        "from matplotlib import pylab as plt\n",
        "%matplotlib inline"
      ],
      "execution_count": 0,
      "outputs": [
        {
          "output_type": "stream",
          "text": [
            "/usr/local/lib/python3.6/dist-packages/sklearn/externals/joblib/__init__.py:15: DeprecationWarning: sklearn.externals.joblib is deprecated in 0.21 and will be removed in 0.23. Please import this functionality directly from joblib, which can be installed with: pip install joblib. If this warning is raised when loading pickled models, you may need to re-serialize those models with scikit-learn 0.21+.\n",
            "  warnings.warn(msg, category=DeprecationWarning)\n"
          ],
          "name": "stderr"
        }
      ]
    },
    {
      "cell_type": "markdown",
      "metadata": {
        "id": "m4l2iXDDank1",
        "colab_type": "text"
      },
      "source": [
        "# Загрузка данных"
      ]
    },
    {
      "cell_type": "code",
      "metadata": {
        "id": "hnzpkxeozDvv",
        "colab_type": "code",
        "colab": {}
      },
      "source": [
        "DATA_PATH = '/content/drive/My Drive/Projects/Competitions/rekko_challenge_rekko_challenge_2019/data'"
      ],
      "execution_count": 0,
      "outputs": []
    },
    {
      "cell_type": "code",
      "metadata": {
        "id": "pb5AjJwLyqX3",
        "colab_type": "code",
        "outputId": "dc204753-ab72-4911-b562-8a93fe8cd688",
        "colab": {
          "base_uri": "https://localhost:8080/",
          "height": 52
        }
      },
      "source": [
        "%%time\n",
        "\n",
        "# данные о фильмах и сериалах\n",
        "with open(os.path.join(DATA_PATH, 'catalogue.json'), 'r') as f:\n",
        "    catalogue = pd.DataFrame(json.load(f)).T.reset_index().rename(columns={'index': 'element_uid'})\n",
        "catalogue['element_uid'] = catalogue['element_uid'].astype(int)\n",
        "\n",
        "# пользователи, по которым нужно сделать прогнозы\n",
        "with open(os.path.join(DATA_PATH, 'test_users.json'), 'r') as f:\n",
        "    test_users = set(json.load(f)['users'])\n",
        "\n",
        "# транзакции\n",
        "transactions = pd.read_csv(\n",
        "    os.path.join(DATA_PATH, 'transactions.csv'),\n",
        "    dtype={\n",
        "        'element_uid': np.uint16,\n",
        "        'user_uid': np.uint32,\n",
        "        'consumption_mode': 'category',\n",
        "        'ts': np.float64,\n",
        "        'watched_time': np.uint64,\n",
        "        'device_type': np.uint8,\n",
        "        'device_manufacturer': np.uint8\n",
        "    }\n",
        ")\n",
        "\n",
        "# рейтинги, оставленные пользователями\n",
        "ratings = pd.read_csv(\n",
        "    os.path.join(DATA_PATH, 'ratings.csv'),\n",
        "    dtype={\n",
        "        'element_uid': np.uint16,\n",
        "        'user_uid': np.uint32,\n",
        "        'ts': np.float64,\n",
        "        'rating': np.uint8\n",
        "    }\n",
        ")\n",
        "\n",
        "# сведения о добавлении фильма в закладки\n",
        "bookmarks = pd.read_csv(\n",
        "    os.path.join(DATA_PATH, 'bookmarks.csv'),\n",
        "    dtype={\n",
        "        'element_uid': np.uint16,\n",
        "        'user_uid': np.uint32,\n",
        "        'ts': np.float64\n",
        "    }\n",
        ")"
      ],
      "execution_count": 0,
      "outputs": [
        {
          "output_type": "stream",
          "text": [
            "CPU times: user 6.01 s, sys: 466 ms, total: 6.47 s\n",
            "Wall time: 9.91 s\n"
          ],
          "name": "stdout"
        }
      ]
    },
    {
      "cell_type": "markdown",
      "metadata": {
        "id": "L3WQG1CuOoWE",
        "colab_type": "text"
      },
      "source": [
        "# EDA"
      ]
    },
    {
      "cell_type": "markdown",
      "metadata": {
        "id": "2CeBf3CFEJO8",
        "colab_type": "text"
      },
      "source": [
        "Описание данных"
      ]
    },
    {
      "cell_type": "markdown",
      "metadata": {
        "id": "UlFlgVDCyqX1",
        "colab_type": "text"
      },
      "source": [
        "`catalogue.json` содержит анонимизированную метаинформацию о доступных в сервисе фильмах и сериалах."
      ]
    },
    {
      "cell_type": "markdown",
      "metadata": {
        "id": "3BDCGV2ZyqYK",
        "colab_type": "text"
      },
      "source": [
        " - `attributes` — мешок атрибутов\n",
        " - `availability` — доступность (может содержать значения `purchase`, `rent` и `subscription`)\n",
        " - `duration` — длительность в минутах, округлённая до десятков (продолжительность серии для сериалов и многосерийных фильмов)\n",
        " - `feature_1..5` — пять анонимизированных вещественных и порядковых признаков\n",
        " - `type` — принимает значения `movie`, `multipart_movie` или `series`"
      ]
    },
    {
      "cell_type": "markdown",
      "metadata": {
        "id": "girX9jb2yqYN",
        "colab_type": "text"
      },
      "source": [
        "`test_users.json` содержит список пользователей, для которых необходимо построить предсказание"
      ]
    },
    {
      "cell_type": "markdown",
      "metadata": {
        "id": "NhxMjbdGyqYX",
        "colab_type": "text"
      },
      "source": [
        "`transactions.csv` — список всех транзакций за определённый период времени"
      ]
    },
    {
      "cell_type": "markdown",
      "metadata": {
        "id": "ZJShPeQCsV3G",
        "colab_type": "text"
      },
      "source": [
        "Часть контента никто не смотрел никогда"
      ]
    },
    {
      "cell_type": "markdown",
      "metadata": {
        "id": "1xtJpSynyqYo",
        "colab_type": "text"
      },
      "source": [
        " - `element_uid` — идентификатор элемента\n",
        " - `user_uid` — идентификатор пользователя\n",
        " - `consumption_mode` — тип потребления (`P` — покупка, `R` — аренда, `S` — просмотр по подписке)\n",
        " - `ts` — время совершения транзакции или начала просмотра в случае просмотра по подписке\n",
        " - `watched_time` — число просмотренных по транзакции секунд\n",
        " - `device_type` — анонимизированный тип устройства, с которого была совершена транзакция или начат просмотр\n",
        " - `device_manufacturer` — анонимизированный производитель устройства, с которого была совершена транзакция или начат просмотр"
      ]
    },
    {
      "cell_type": "markdown",
      "metadata": {
        "id": "Y05hs3EIyqYr",
        "colab_type": "text"
      },
      "source": [
        "`ratings.csv` содержит информацию о поставленных пользователями оценках"
      ]
    },
    {
      "cell_type": "markdown",
      "metadata": {
        "id": "gjUKvZM7yqY2",
        "colab_type": "text"
      },
      "source": [
        " - `rating` — поставленный пользователем рейтинг (от `0` до `10`)"
      ]
    },
    {
      "cell_type": "markdown",
      "metadata": {
        "id": "9TfZM2atyqY5",
        "colab_type": "text"
      },
      "source": [
        "`bookmarks.csv` содержит информацию об элементах, добавленных пользователями в список «Избранное»"
      ]
    },
    {
      "cell_type": "code",
      "metadata": {
        "id": "EG0eJlwAGX5q",
        "colab_type": "code",
        "outputId": "81aebff8-ef84-4608-80f5-daaf9f9cc918",
        "colab": {
          "base_uri": "https://localhost:8080/",
          "height": 35
        }
      },
      "source": [
        "print('Количество единиц контента:', catalogue.shape[0])"
      ],
      "execution_count": 0,
      "outputs": [
        {
          "output_type": "stream",
          "text": [
            "Количество единиц контента: 10200\n"
          ],
          "name": "stdout"
        }
      ]
    },
    {
      "cell_type": "code",
      "metadata": {
        "id": "fBWfhoi-sG-c",
        "colab_type": "code",
        "outputId": "0158d8be-e5d8-4309-f117-4fefe5d20ea9",
        "colab": {
          "base_uri": "https://localhost:8080/",
          "height": 69
        }
      },
      "source": [
        "transactions[['element_uid','user_uid']].nunique()"
      ],
      "execution_count": 0,
      "outputs": [
        {
          "output_type": "execute_result",
          "data": {
            "text/plain": [
              "element_uid      8296\n",
              "user_uid       499663\n",
              "dtype: int64"
            ]
          },
          "metadata": {
            "tags": []
          },
          "execution_count": 17
        }
      ]
    },
    {
      "cell_type": "code",
      "metadata": {
        "id": "HVsqXI3gshd_",
        "colab_type": "code",
        "colab": {}
      },
      "source": [
        "user_cnt = transactions['user_uid'].nunique()\n",
        "watched_cnt = transactions.groupby('element_uid').size().to_frame('cnt')\n",
        "watched_cnt['cnt_proc'] = 100 * watched_cnt['cnt'] / user_cnt"
      ],
      "execution_count": 0,
      "outputs": []
    },
    {
      "cell_type": "code",
      "metadata": {
        "id": "4FnIXAfUuhXI",
        "colab_type": "code",
        "outputId": "5ea20226-cd81-46ad-98fb-9573f3ad05cb",
        "colab": {
          "base_uri": "https://localhost:8080/",
          "height": 110
        }
      },
      "source": [
        "watched_cnt.describe().T"
      ],
      "execution_count": 0,
      "outputs": [
        {
          "output_type": "execute_result",
          "data": {
            "text/html": [
              "<div>\n",
              "<style scoped>\n",
              "    .dataframe tbody tr th:only-of-type {\n",
              "        vertical-align: middle;\n",
              "    }\n",
              "\n",
              "    .dataframe tbody tr th {\n",
              "        vertical-align: top;\n",
              "    }\n",
              "\n",
              "    .dataframe thead th {\n",
              "        text-align: right;\n",
              "    }\n",
              "</style>\n",
              "<table border=\"1\" class=\"dataframe\">\n",
              "  <thead>\n",
              "    <tr style=\"text-align: right;\">\n",
              "      <th></th>\n",
              "      <th>count</th>\n",
              "      <th>mean</th>\n",
              "      <th>std</th>\n",
              "      <th>min</th>\n",
              "      <th>25%</th>\n",
              "      <th>50%</th>\n",
              "      <th>75%</th>\n",
              "      <th>max</th>\n",
              "    </tr>\n",
              "  </thead>\n",
              "  <tbody>\n",
              "    <tr>\n",
              "      <th>cnt</th>\n",
              "      <td>8296.0</td>\n",
              "      <td>1162.368852</td>\n",
              "      <td>3594.613450</td>\n",
              "      <td>1.0000</td>\n",
              "      <td>39.000000</td>\n",
              "      <td>179.000000</td>\n",
              "      <td>753.000000</td>\n",
              "      <td>68320.000000</td>\n",
              "    </tr>\n",
              "    <tr>\n",
              "      <th>cnt_proc</th>\n",
              "      <td>8296.0</td>\n",
              "      <td>0.232631</td>\n",
              "      <td>0.719408</td>\n",
              "      <td>0.0002</td>\n",
              "      <td>0.007805</td>\n",
              "      <td>0.035824</td>\n",
              "      <td>0.150702</td>\n",
              "      <td>13.673216</td>\n",
              "    </tr>\n",
              "  </tbody>\n",
              "</table>\n",
              "</div>"
            ],
            "text/plain": [
              "           count         mean  ...         75%           max\n",
              "cnt       8296.0  1162.368852  ...  753.000000  68320.000000\n",
              "cnt_proc  8296.0     0.232631  ...    0.150702     13.673216\n",
              "\n",
              "[2 rows x 8 columns]"
            ]
          },
          "metadata": {
            "tags": []
          },
          "execution_count": 19
        }
      ]
    },
    {
      "cell_type": "code",
      "metadata": {
        "id": "OIQ6-l0ODM5K",
        "colab_type": "code",
        "outputId": "9617a0b1-b26b-4b01-8a04-bffef3803b70",
        "colab": {
          "base_uri": "https://localhost:8080/",
          "height": 70
        }
      },
      "source": [
        "np.histogram(watched_cnt['cnt'], 5)"
      ],
      "execution_count": 0,
      "outputs": [
        {
          "output_type": "execute_result",
          "data": {
            "text/plain": [
              "(array([8172,   93,   16,   11,    4]),\n",
              " array([1.00000e+00, 1.36648e+04, 2.73286e+04, 4.09924e+04, 5.46562e+04,\n",
              "        6.83200e+04]))"
            ]
          },
          "metadata": {
            "tags": []
          },
          "execution_count": 23
        }
      ]
    },
    {
      "cell_type": "code",
      "metadata": {
        "id": "dnhTjJxBuLXH",
        "colab_type": "code",
        "outputId": "7021bd49-220b-4649-b1ff-9b0b5cc49781",
        "colab": {
          "base_uri": "https://localhost:8080/",
          "height": 350
        }
      },
      "source": [
        "fig, ax = plt.subplots(figsize=(17, 4))\n",
        "plt.xlabel(\"Reconstruction error\")\n",
        "plt.xlabel(\"Data point index\")\n",
        "ax = watched_cnt[watched_cnt < watched_cnt.quantile(0.95)].hist(bins=30, figsize=(17, 4), ax=ax)\n",
        "ax[0][0].set_xlabel('Количество просмотров, чел')\n",
        "ax[0][1].set_xlabel('Доля просмотров от всех пользователей, %')\n",
        "ax[0][0].set_ylabel('Количество контента')\n",
        "plt.show()"
      ],
      "execution_count": 0,
      "outputs": [
        {
          "output_type": "stream",
          "text": [
            "/usr/local/lib/python3.6/dist-packages/ipykernel_launcher.py:4: UserWarning: To output multiple subplots, the figure containing the passed axes is being cleared\n",
            "  after removing the cwd from sys.path.\n"
          ],
          "name": "stderr"
        },
        {
          "output_type": "display_data",
          "data": {
            "image/png": "[encoded data removed]",
            "text/plain": [
              "<Figure size 1224x288 with 2 Axes>"
            ]
          },
          "metadata": {
            "tags": []
          }
        }
      ]
    },
    {
      "cell_type": "markdown",
      "metadata": {
        "id": "ci8UbxMP1xoy",
        "colab_type": "text"
      },
      "source": [
        "**Следует убрать из списка рекомендаций те фильмы, которые посмотрело менее 0.1% пользователей**"
      ]
    },
    {
      "cell_type": "code",
      "metadata": {
        "id": "JGlTgq1l2qP7",
        "colab_type": "code",
        "outputId": "1748af5d-f39a-4d9e-a8c3-d8d0272936b4",
        "colab": {
          "base_uri": "https://localhost:8080/",
          "height": 424
        }
      },
      "source": [
        "transactions['ts_large'] = (transactions['ts'] / 100).round()\n",
        "transactions.groupby('ts_large').size().rolling(100, center=True).mean().plot(figsize=(20, 6), title='Просмотры по времени')\n",
        "plt.ylabel('Количество просмотров')\n",
        "plt.xlabel('Время')\n",
        "plt.show()\n",
        "\n",
        "transactions.drop('ts_large', axis=1, inplace=True)"
      ],
      "execution_count": 0,
      "outputs": [
        {
          "output_type": "display_data",
          "data": {
            "image/png": "[encoded data removed]",
            "text/plain": [
              "<Figure size 1440x432 with 1 Axes>"
            ]
          },
          "metadata": {
            "tags": []
          }
        }
      ]
    },
    {
      "cell_type": "markdown",
      "metadata": {
        "id": "MZuVh9EyEf21",
        "colab_type": "text"
      },
      "source": [
        "В получившимся графике отчетливо прослеживаются выходные дни. В эти дни число просмотров больше, чем в будни.\n",
        "В тестовом датасете данные за 60 дней. По имеющимся данным возможно примерно оценить, какую часть выборки нужно отложить, чтобы сохранить пропорции между train и test.\n",
        "\n",
        "В предоставленной выборке всего около 28 недель или 196 дней.\n",
        "60 дней от этой выборки - это около 30%.\n",
        "\n",
        "**Значит для теста оставим 30% выборки**\n"
      ]
    },
    {
      "cell_type": "markdown",
      "metadata": {
        "id": "jtQz2hm7IBNq",
        "colab_type": "text"
      },
      "source": [
        "У каждого фильма есть набор закодированных атрибутов в виде списка. Для предварительного анализа будем использовать только топ из них"
      ]
    },
    {
      "cell_type": "code",
      "metadata": {
        "id": "FUUCzaBaM9rw",
        "colab_type": "code",
        "outputId": "336e2611-1025-46ed-bed6-f40602c177b6",
        "colab": {
          "base_uri": "https://localhost:8080/",
          "height": 374
        }
      },
      "source": [
        "counts_attributes = Counter(np.hstack(catalogue['attributes'].values))\n",
        "top_attributes = pd.DataFrame(counts_attributes.most_common(), \n",
        "                              columns=['attribute', 'n'], \n",
        "                              index=range(1, len(counts_attributes)+1))\n",
        "top_attributes['n'] = top_attributes['n'] / len(counts_attributes)\n",
        "top_attributes.loc[:200, 'n'].plot(figsize=(10, 6), grid=True);"
      ],
      "execution_count": 0,
      "outputs": [
        {
          "output_type": "display_data",
          "data": {
            "image/png": "[encoded data removed]",
            "text/plain": [
              "<Figure size 720x432 with 1 Axes>"
            ]
          },
          "metadata": {
            "tags": []
          }
        }
      ]
    },
    {
      "cell_type": "markdown",
      "metadata": {
        "id": "FqugGCmQeZ_g",
        "colab_type": "text"
      },
      "source": [
        "**Возьмем топ 150 атрибутов**"
      ]
    },
    {
      "cell_type": "code",
      "metadata": {
        "id": "yOZh6-9fISgy",
        "colab_type": "code",
        "colab": {}
      },
      "source": [
        ""
      ],
      "execution_count": 0,
      "outputs": []
    },
    {
      "cell_type": "code",
      "metadata": {
        "id": "oNr7ISpZISpT",
        "colab_type": "code",
        "colab": {}
      },
      "source": [
        ""
      ],
      "execution_count": 0,
      "outputs": []
    },
    {
      "cell_type": "code",
      "metadata": {
        "id": "NJKfGDDgISnU",
        "colab_type": "code",
        "colab": {}
      },
      "source": [
        "# пользователи, по просмотрам сериалов"
      ],
      "execution_count": 0,
      "outputs": []
    },
    {
      "cell_type": "code",
      "metadata": {
        "id": "hRw8fYeq2qJ5",
        "colab_type": "code",
        "colab": {}
      },
      "source": [
        ""
      ],
      "execution_count": 0,
      "outputs": []
    },
    {
      "cell_type": "code",
      "metadata": {
        "id": "usCtwBlT2qGS",
        "colab_type": "code",
        "colab": {}
      },
      "source": [
        ""
      ],
      "execution_count": 0,
      "outputs": []
    },
    {
      "cell_type": "code",
      "metadata": {
        "id": "8doAbtA52qCS",
        "colab_type": "code",
        "colab": {}
      },
      "source": [
        "# добавим к транзакциям инфу о самих объектах и рейтингах пользователей\n",
        "bookmarks['add_bookmark'] = 1\n",
        "transactions_ext = (transactions.merge(catalogue, on=['element_uid'])\n",
        "                                .merge(ratings, on=['element_uid', 'user_uid'], how='left', suffixes=['', '_rating'])\n",
        "                                .merge(bookmarks, on=['element_uid', 'user_uid'], how='left', suffixes=['', '_bookmarks'])\n",
        "                                .fillna(value={'add_bookmark': 0})\n",
        "                                )\n",
        "transactions_ext = transactions_ext.join(pd.get_dummies(transactions_ext['type']))\n",
        "\n",
        "# добавим медианные рейтинги\n",
        "ratings_element = ratings.groupby('element_uid')['rating'].median().to_frame('rating_median').reset_index()\n",
        "transactions_ext = transactions_ext.merge(ratings_element, on='element_uid', how='left')\n",
        "transactions_ext['rating_median_round'] = transactions_ext['rating_median'].round()"
      ],
      "execution_count": 0,
      "outputs": []
    },
    {
      "cell_type": "code",
      "metadata": {
        "id": "06KX5CLiot-O",
        "colab_type": "code",
        "outputId": "132c80f2-7cbf-4c7c-a336-e384109cb8f0",
        "colab": {
          "base_uri": "https://localhost:8080/",
          "height": 243
        }
      },
      "source": [
        "# без рейтинга вообще\n",
        "transactions_ext[transactions_ext['rating_median'].isnull()].groupby(['element_uid', 'type']).size().sort_values(ascending=False)"
      ],
      "execution_count": 0,
      "outputs": [
        {
          "output_type": "execute_result",
          "data": {
            "text/plain": [
              "element_uid  type           \n",
              "10175        series             2642\n",
              "7372         multipart_movie    1182\n",
              "6455         series              870\n",
              "5015         series              846\n",
              "3909         series              746\n",
              "                                ... \n",
              "5537         movie                 1\n",
              "5728         movie                 1\n",
              "6545         movie                 1\n",
              "8217         movie                 1\n",
              "4772         series                1\n",
              "Length: 1151, dtype: int64"
            ]
          },
          "metadata": {
            "tags": []
          },
          "execution_count": 21
        }
      ]
    },
    {
      "cell_type": "code",
      "metadata": {
        "id": "wOIpbW55DBRP",
        "colab_type": "code",
        "outputId": "a67feb0b-9578-40cf-8f19-bb7d7ff4f332",
        "colab": {
          "base_uri": "https://localhost:8080/",
          "height": 171
        }
      },
      "source": [
        "# нулевые продолжительности\n",
        "(transactions_ext.query('duration == 0')\n",
        "                .groupby(['element_uid', 'duration', 'type']).size()\n",
        "                .to_frame('cnt')\n",
        "                .reset_index()\n",
        "                .groupby('type').agg({'element_uid': 'count', 'cnt': 'max'}))"
      ],
      "execution_count": 0,
      "outputs": [
        {
          "output_type": "execute_result",
          "data": {
            "text/html": [
              "<div>\n",
              "<style scoped>\n",
              "    .dataframe tbody tr th:only-of-type {\n",
              "        vertical-align: middle;\n",
              "    }\n",
              "\n",
              "    .dataframe tbody tr th {\n",
              "        vertical-align: top;\n",
              "    }\n",
              "\n",
              "    .dataframe thead th {\n",
              "        text-align: right;\n",
              "    }\n",
              "</style>\n",
              "<table border=\"1\" class=\"dataframe\">\n",
              "  <thead>\n",
              "    <tr style=\"text-align: right;\">\n",
              "      <th></th>\n",
              "      <th>element_uid</th>\n",
              "      <th>cnt</th>\n",
              "    </tr>\n",
              "    <tr>\n",
              "      <th>type</th>\n",
              "      <th></th>\n",
              "      <th></th>\n",
              "    </tr>\n",
              "  </thead>\n",
              "  <tbody>\n",
              "    <tr>\n",
              "      <th>movie</th>\n",
              "      <td>4</td>\n",
              "      <td>1525</td>\n",
              "    </tr>\n",
              "    <tr>\n",
              "      <th>multipart_movie</th>\n",
              "      <td>5</td>\n",
              "      <td>1591</td>\n",
              "    </tr>\n",
              "    <tr>\n",
              "      <th>series</th>\n",
              "      <td>82</td>\n",
              "      <td>13396</td>\n",
              "    </tr>\n",
              "  </tbody>\n",
              "</table>\n",
              "</div>"
            ],
            "text/plain": [
              "                 element_uid    cnt\n",
              "type                               \n",
              "movie                      4   1525\n",
              "multipart_movie            5   1591\n",
              "series                    82  13396"
            ]
          },
          "metadata": {
            "tags": []
          },
          "execution_count": 28
        }
      ]
    },
    {
      "cell_type": "markdown",
      "metadata": {
        "id": "2PZrHkfl0NJS",
        "colab_type": "text"
      },
      "source": [
        "Для некоторых объектов продолжительность по времени = 0, причем они могут быть популярны"
      ]
    },
    {
      "cell_type": "code",
      "metadata": {
        "id": "ZBNYVmEoz4xm",
        "colab_type": "code",
        "colab": {}
      },
      "source": [
        "real_duration = ((transactions_ext.groupby(['element_uid', 'type', 'duration'])['watched_time']\n",
        "                                    .quantile(0.95) / 60)\n",
        "                                    .round()\n",
        "                                    .to_frame('all_duration')\n",
        "                                    .reset_index())\n",
        "\n",
        "q = real_duration.eval('duration > 0 & type == \"movie\" & all_duration > duration')\n",
        "real_duration.loc[q, 'all_duration'] = real_duration['duration']\n",
        "q = real_duration.eval('duration > 0 & all_duration < duration')\n",
        "real_duration.loc[q, 'all_duration'] = real_duration['duration']\n",
        "real_duration['all_duration'] = real_duration['all_duration'] * 60\n",
        "\n",
        "transactions_ext = transactions_ext.merge(real_duration[['element_uid', 'all_duration']], on='element_uid')"
      ],
      "execution_count": 0,
      "outputs": []
    },
    {
      "cell_type": "code",
      "metadata": {
        "id": "Jkwmp-ZeTBbg",
        "colab_type": "code",
        "outputId": "0c1adfb5-f430-4f5e-cd6b-af841e8146da",
        "colab": {
          "base_uri": "https://localhost:8080/",
          "height": 421
        }
      },
      "source": [
        "transactions_ext.head(3)"
      ],
      "execution_count": 0,
      "outputs": [
        {
          "output_type": "execute_result",
          "data": {
            "text/html": [
              "<div>\n",
              "<style scoped>\n",
              "    .dataframe tbody tr th:only-of-type {\n",
              "        vertical-align: middle;\n",
              "    }\n",
              "\n",
              "    .dataframe tbody tr th {\n",
              "        vertical-align: top;\n",
              "    }\n",
              "\n",
              "    .dataframe thead th {\n",
              "        text-align: right;\n",
              "    }\n",
              "</style>\n",
              "<table border=\"1\" class=\"dataframe\">\n",
              "  <thead>\n",
              "    <tr style=\"text-align: right;\">\n",
              "      <th></th>\n",
              "      <th>element_uid</th>\n",
              "      <th>user_uid</th>\n",
              "      <th>consumption_mode</th>\n",
              "      <th>ts</th>\n",
              "      <th>watched_time</th>\n",
              "      <th>device_type</th>\n",
              "      <th>device_manufacturer</th>\n",
              "      <th>ts_large</th>\n",
              "      <th>type</th>\n",
              "      <th>availability</th>\n",
              "      <th>duration</th>\n",
              "      <th>feature_1</th>\n",
              "      <th>feature_2</th>\n",
              "      <th>feature_3</th>\n",
              "      <th>feature_4</th>\n",
              "      <th>feature_5</th>\n",
              "      <th>attributes</th>\n",
              "      <th>rating</th>\n",
              "      <th>ts_rating</th>\n",
              "      <th>ts_bookmarks</th>\n",
              "      <th>add_bookmark</th>\n",
              "      <th>movie</th>\n",
              "      <th>multipart_movie</th>\n",
              "      <th>series</th>\n",
              "      <th>rating_median</th>\n",
              "      <th>rating_median_round</th>\n",
              "      <th>all_duration</th>\n",
              "    </tr>\n",
              "  </thead>\n",
              "  <tbody>\n",
              "    <tr>\n",
              "      <th>0</th>\n",
              "      <td>3336</td>\n",
              "      <td>5177</td>\n",
              "      <td>S</td>\n",
              "      <td>4.430518e+07</td>\n",
              "      <td>4282</td>\n",
              "      <td>0</td>\n",
              "      <td>50</td>\n",
              "      <td>443052.0</td>\n",
              "      <td>movie</td>\n",
              "      <td>[purchase, rent, subscription]</td>\n",
              "      <td>90</td>\n",
              "      <td>4.16611e+07</td>\n",
              "      <td>0.739609</td>\n",
              "      <td>45</td>\n",
              "      <td>1.14193</td>\n",
              "      <td>0.654707</td>\n",
              "      <td>[19924, 28181, 6732, 23032, 270, 24805, 43, 14...</td>\n",
              "      <td>9.0</td>\n",
              "      <td>4.430415e+07</td>\n",
              "      <td>NaN</td>\n",
              "      <td>0.0</td>\n",
              "      <td>1</td>\n",
              "      <td>0</td>\n",
              "      <td>0</td>\n",
              "      <td>8.0</td>\n",
              "      <td>8.0</td>\n",
              "      <td>5400.0</td>\n",
              "    </tr>\n",
              "    <tr>\n",
              "      <th>1</th>\n",
              "      <td>3336</td>\n",
              "      <td>349202</td>\n",
              "      <td>S</td>\n",
              "      <td>4.430503e+07</td>\n",
              "      <td>3291</td>\n",
              "      <td>0</td>\n",
              "      <td>50</td>\n",
              "      <td>443050.0</td>\n",
              "      <td>movie</td>\n",
              "      <td>[purchase, rent, subscription]</td>\n",
              "      <td>90</td>\n",
              "      <td>4.16611e+07</td>\n",
              "      <td>0.739609</td>\n",
              "      <td>45</td>\n",
              "      <td>1.14193</td>\n",
              "      <td>0.654707</td>\n",
              "      <td>[19924, 28181, 6732, 23032, 270, 24805, 43, 14...</td>\n",
              "      <td>NaN</td>\n",
              "      <td>NaN</td>\n",
              "      <td>NaN</td>\n",
              "      <td>0.0</td>\n",
              "      <td>1</td>\n",
              "      <td>0</td>\n",
              "      <td>0</td>\n",
              "      <td>8.0</td>\n",
              "      <td>8.0</td>\n",
              "      <td>5400.0</td>\n",
              "    </tr>\n",
              "    <tr>\n",
              "      <th>2</th>\n",
              "      <td>3336</td>\n",
              "      <td>117582</td>\n",
              "      <td>S</td>\n",
              "      <td>4.430488e+07</td>\n",
              "      <td>5727</td>\n",
              "      <td>3</td>\n",
              "      <td>99</td>\n",
              "      <td>443049.0</td>\n",
              "      <td>movie</td>\n",
              "      <td>[purchase, rent, subscription]</td>\n",
              "      <td>90</td>\n",
              "      <td>4.16611e+07</td>\n",
              "      <td>0.739609</td>\n",
              "      <td>45</td>\n",
              "      <td>1.14193</td>\n",
              "      <td>0.654707</td>\n",
              "      <td>[19924, 28181, 6732, 23032, 270, 24805, 43, 14...</td>\n",
              "      <td>NaN</td>\n",
              "      <td>NaN</td>\n",
              "      <td>NaN</td>\n",
              "      <td>0.0</td>\n",
              "      <td>1</td>\n",
              "      <td>0</td>\n",
              "      <td>0</td>\n",
              "      <td>8.0</td>\n",
              "      <td>8.0</td>\n",
              "      <td>5400.0</td>\n",
              "    </tr>\n",
              "  </tbody>\n",
              "</table>\n",
              "</div>"
            ],
            "text/plain": [
              "   element_uid  user_uid  ... rating_median_round  all_duration\n",
              "0         3336      5177  ...                 8.0        5400.0\n",
              "1         3336    349202  ...                 8.0        5400.0\n",
              "2         3336    117582  ...                 8.0        5400.0\n",
              "\n",
              "[3 rows x 27 columns]"
            ]
          },
          "metadata": {
            "tags": []
          },
          "execution_count": 30
        }
      ]
    },
    {
      "cell_type": "code",
      "metadata": {
        "id": "20A45EtvTBYI",
        "colab_type": "code",
        "outputId": "378f3d99-5846-49d9-cf64-8bfef0a9bc67",
        "colab": {
          "base_uri": "https://localhost:8080/",
          "height": 35
        }
      },
      "source": [
        "transactions_ext['add_bookmark'].mean()"
      ],
      "execution_count": 0,
      "outputs": [
        {
          "output_type": "execute_result",
          "data": {
            "text/plain": [
              "0.02745221098967833"
            ]
          },
          "metadata": {
            "tags": []
          },
          "execution_count": 31
        }
      ]
    },
    {
      "cell_type": "code",
      "metadata": {
        "id": "TOZuvof8TBJL",
        "colab_type": "code",
        "colab": {}
      },
      "source": [
        ""
      ],
      "execution_count": 0,
      "outputs": []
    },
    {
      "cell_type": "code",
      "metadata": {
        "id": "zxTqB2AJTBFy",
        "colab_type": "code",
        "colab": {}
      },
      "source": [
        ""
      ],
      "execution_count": 0,
      "outputs": []
    },
    {
      "cell_type": "code",
      "metadata": {
        "id": "ZO-gopQCJAAF",
        "colab_type": "code",
        "outputId": "3dfd168b-9026-4cd6-88ef-93a8dac0a86f",
        "colab": {
          "base_uri": "https://localhost:8080/",
          "height": 526
        }
      },
      "source": [
        "fig, ax = plt.subplots(figsize=(12, 8))\n",
        "(transactions_ext.groupby('rating_median_round')['type']\n",
        "                    .value_counts().unstack('type')\n",
        "                    .apply(lambda x: x / x.sum())\n",
        "                    .plot(kind='bar', ax=ax, title='Просмотр в зависимости от рейтинга'))\n",
        "ax.set_ylabel('Количество, %');"
      ],
      "execution_count": 0,
      "outputs": [
        {
          "output_type": "display_data",
          "data": {
            "image/png": "[encoded data removed]",
            "text/plain": [
              "<Figure size 864x576 with 1 Axes>"
            ]
          },
          "metadata": {
            "tags": []
          }
        }
      ]
    },
    {
      "cell_type": "code",
      "metadata": {
        "id": "qQvFXWPJXxeK",
        "colab_type": "code",
        "outputId": "02609618-b704-493f-fecd-35e3f010044c",
        "colab": {
          "base_uri": "https://localhost:8080/",
          "height": 525
        }
      },
      "source": [
        "fig, ax = plt.subplots(figsize=(12, 8))\n",
        "(catalogue.merge(bookmarks.groupby('element_uid').size().to_frame('cnt_bookmark').reset_index(), on='element_uid')\n",
        "            .merge(ratings.groupby('element_uid')[['rating']].median().round().reset_index(), on='element_uid')\n",
        "            .groupby('rating')['cnt_bookmark'].sum()\n",
        "            .plot(kind='bar', title='Добавили в закладки по рейтингу')\n",
        ")\n",
        "ax.set_ylabel('Количество добавленных в закладки');"
      ],
      "execution_count": 0,
      "outputs": [
        {
          "output_type": "display_data",
          "data": {
            "image/png": "[encoded data removed]",
            "text/plain": [
              "<Figure size 864x576 with 1 Axes>"
            ]
          },
          "metadata": {
            "tags": []
          }
        }
      ]
    },
    {
      "cell_type": "markdown",
      "metadata": {
        "id": "smTfdWK6NeLq",
        "colab_type": "text"
      },
      "source": [
        "**Фильмы с рейтингом ниже 6 рекомендовать не будем**"
      ]
    },
    {
      "cell_type": "code",
      "metadata": {
        "id": "sro8itDR1PZW",
        "colab_type": "code",
        "outputId": "70951c90-b771-46f9-9cbe-51d6fda76c48",
        "colab": {
          "base_uri": "https://localhost:8080/",
          "height": 513
        }
      },
      "source": [
        "fig, ax = plt.subplots(figsize=(12, 8))\n",
        "\n",
        "transactions['watched'] = 1\n",
        "(transactions.merge(\n",
        "                bookmarks, \n",
        "                on=['element_uid', 'user_uid'], \n",
        "                how='right', \n",
        "                suffixes=['_trans', '_bookmark'])\n",
        "            .fillna(value={'ts_trans': 0, 'watched': 0})\n",
        "            .query('ts_bookmark < ts_trans or ts_trans == 0')\n",
        "            .groupby('user_uid')['watched'].mean()\n",
        "            .hist(bins=50, ax=ax)\n",
        ")\n",
        "ax.set_title('Доли просмотров после добавления в закладки')\n",
        "ax.set_ylabel('Количество пользователей')\n",
        "ax.set_xlabel('Доля фильмов, которые были просмотрены после добавления в закладки');\n",
        "\n",
        "transactions.drop('watched', axis=1, inplace=True)"
      ],
      "execution_count": 0,
      "outputs": [
        {
          "output_type": "display_data",
          "data": {
            "image/png": "[encoded data removed]",
            "text/plain": [
              "<Figure size 864x576 with 1 Axes>"
            ]
          },
          "metadata": {
            "tags": []
          }
        }
      ]
    },
    {
      "cell_type": "code",
      "metadata": {
        "id": "Y_VImbx3oyQj",
        "colab_type": "code",
        "outputId": "02aaa39d-0b91-43be-c6bb-3f83044b2006",
        "colab": {
          "base_uri": "https://localhost:8080/",
          "height": 514
        }
      },
      "source": [
        "fig, ax = plt.subplots(figsize=(12, 8))\n",
        "sns.countplot(x='consumption_mode', data=transactions)\n",
        "plt.title('Просмотр по типу подписки');"
      ],
      "execution_count": 0,
      "outputs": [
        {
          "output_type": "display_data",
          "data": {
            "image/png": "[encoded data removed]",
            "text/plain": [
              "<Figure size 864x576 with 1 Axes>"
            ]
          },
          "metadata": {
            "tags": []
          }
        }
      ]
    },
    {
      "cell_type": "code",
      "metadata": {
        "id": "vSXJxOkcpWHq",
        "colab_type": "code",
        "outputId": "95287779-7f1c-4a21-faa2-1a5654eef321",
        "colab": {
          "base_uri": "https://localhost:8080/",
          "height": 514
        }
      },
      "source": [
        "fig, ax = plt.subplots(figsize=(12, 8))\n",
        "sns.countplot(x='device_type', data=transactions)\n",
        "plt.title('Просмотр по типу устройства');"
      ],
      "execution_count": 0,
      "outputs": [
        {
          "output_type": "display_data",
          "data": {
            "image/png": "[encoded data removed]",
            "text/plain": [
              "<Figure size 864x576 with 1 Axes>"
            ]
          },
          "metadata": {
            "tags": []
          }
        }
      ]
    },
    {
      "cell_type": "code",
      "metadata": {
        "id": "ZAMeputOpjvk",
        "colab_type": "code",
        "outputId": "959a7a09-4d8c-48b5-a285-ad48e4386c13",
        "colab": {
          "base_uri": "https://localhost:8080/",
          "height": 534
        }
      },
      "source": [
        "fig, ax = plt.subplots(figsize=(20, 8))\n",
        "sns.countplot(x='device_manufacturer', data=transactions)\n",
        "plt.title('Просмотр по производителю устройства');"
      ],
      "execution_count": 0,
      "outputs": [
        {
          "output_type": "display_data",
          "data": {
            "image/png": "[encoded data removed]",
            "text/plain": [
              "<Figure size 1440x576 with 1 Axes>"
            ]
          },
          "metadata": {
            "tags": []
          }
        }
      ]
    },
    {
      "cell_type": "code",
      "metadata": {
        "id": "gHi9o9pkLtyp",
        "colab_type": "code",
        "outputId": "5e6666d1-bd61-4fd8-cd98-0622c8f552b1",
        "colab": {
          "base_uri": "https://localhost:8080/",
          "height": 514
        }
      },
      "source": [
        "fig, ax = plt.subplots(figsize=(12, 8))\n",
        "sns.countplot(x='type', data=transactions_ext)\n",
        "plt.title('Просмотр по типу контента');"
      ],
      "execution_count": 0,
      "outputs": [
        {
          "output_type": "display_data",
          "data": {
            "image/png": "[encoded data removed]",
            "text/plain": [
              "<Figure size 864x576 with 1 Axes>"
            ]
          },
          "metadata": {
            "tags": []
          }
        }
      ]
    },
    {
      "cell_type": "code",
      "metadata": {
        "id": "VIqTfvjwlNiJ",
        "colab_type": "code",
        "outputId": "a85857a5-5de3-4b2e-d2d5-f75cb125133b",
        "colab": {
          "base_uri": "https://localhost:8080/",
          "height": 608
        }
      },
      "source": [
        "transactions_ext.groupby('user_uid')[['movie', 'multipart_movie', 'series']].mean().hist(figsize=(16, 10), bins=100);"
      ],
      "execution_count": 0,
      "outputs": [
        {
          "output_type": "display_data",
          "data": {
            "image/png": "[encoded data removed]",
            "text/plain": [
              "<Figure size 1152x720 with 4 Axes>"
            ]
          },
          "metadata": {
            "tags": []
          }
        }
      ]
    },
    {
      "cell_type": "markdown",
      "metadata": {
        "id": "r2mM35oVxQFs",
        "colab_type": "text"
      },
      "source": [
        "Просмотров сериалов больше, чем фильмов. Это происходит потому что на просмотр сериала уходит значительно больше времени.\n",
        "Можно рассматривать разные сценарии.\n",
        "\n",
        "Для упрощения модели, можно делать рекомендации только на фильмы.\n",
        "Отдельно построим модель для рекомендации сериалов."
      ]
    },
    {
      "cell_type": "code",
      "metadata": {
        "id": "LRkobN9ujMP-",
        "colab_type": "code",
        "colab": {}
      },
      "source": [
        "# transactions_ext['watched_time_movie'] = transactions_ext['movie'] * transactions_ext['watched_time']\n",
        "# transactions_ext['watched_time_series'] = transactions_ext['series'] * transactions_ext['watched_time']\n",
        "\n",
        "# (transactions_ext.query('movie + series > 0')\n",
        "#                 .groupby('user_uid')[['watched_time_movie', 'watched_time_series']].sum()\n",
        "#                 .eval('watched_time_series / watched_time_movie')\n",
        "#                 .replace([np.inf, np.nan])\n",
        "#                 .fillna(1))#.hist(bins=100)\n",
        "\n",
        "# (transactions_ext.query('type == \"series\"').groupby('user_uid')['watched_time'].sum() / \n",
        "# transactions_ext.query('type == \"movie\"').groupby('user_uid')['watched_time'].sum())#.fillna(1)"
      ],
      "execution_count": 0,
      "outputs": []
    },
    {
      "cell_type": "markdown",
      "metadata": {
        "id": "O4PKPrF2bUQL",
        "colab_type": "text"
      },
      "source": [
        "# Построение моделей"
      ]
    },
    {
      "cell_type": "markdown",
      "metadata": {
        "id": "YbWSa283stjP",
        "colab_type": "text"
      },
      "source": [
        "Функция для расчета метрики, код взят с https://habr.com/ru/company/okko/blog/439180/"
      ]
    },
    {
      "cell_type": "code",
      "metadata": {
        "colab_type": "code",
        "id": "nu63K0mhwndA",
        "colab": {}
      },
      "source": [
        "%load_ext Cython"
      ],
      "execution_count": 0,
      "outputs": []
    },
    {
      "cell_type": "code",
      "metadata": {
        "id": "iVZX_U_VsInd",
        "colab_type": "code",
        "colab": {}
      },
      "source": [
        "%%cython\n",
        "\n",
        "def average_precision(\n",
        "        dict data_true,\n",
        "        dict data_predicted,\n",
        "        const unsigned long int k\n",
        ") -> float:\n",
        "    cdef:\n",
        "        unsigned long int n_items_predicted\n",
        "        unsigned long int n_items_true\n",
        "        unsigned long int n_correct_items\n",
        "        unsigned long int item_idx\n",
        "\n",
        "        double average_precision_sum\n",
        "        double precision\n",
        "\n",
        "        set items_true\n",
        "        list items_predicted\n",
        "\n",
        "    if not data_true:\n",
        "        raise ValueError('data_true is empty')\n",
        "\n",
        "    average_precision_sum = 0.0\n",
        "\n",
        "    for key, items_true in data_true.items():\n",
        "        items_predicted = data_predicted.get(key, [])\n",
        "\n",
        "        n_items_true = len(items_true)\n",
        "        n_items_predicted = min(len(items_predicted), k)\n",
        "\n",
        "        if n_items_true == 0 or n_items_predicted == 0:\n",
        "            continue\n",
        "\n",
        "        n_correct_items = 0\n",
        "        precision = 0.0\n",
        "\n",
        "        for item_idx in range(n_items_predicted):\n",
        "            if items_predicted[item_idx] in items_true:\n",
        "                n_correct_items += 1\n",
        "                precision += <double>n_correct_items / <double>(item_idx + 1)\n",
        "\n",
        "        average_precision_sum += <double>precision / <double>min(n_items_true, k)\n",
        "\n",
        "    return average_precision_sum / <double>len(data_true)\n",
        "\n",
        "def metric(true_data, predicted_data, k=20):\n",
        "    true_data_set = {k: set(v) for k, v in true_data.items()}\n",
        "\n",
        "    return average_precision(true_data_set, predicted_data, k=k)"
      ],
      "execution_count": 0,
      "outputs": []
    },
    {
      "cell_type": "markdown",
      "metadata": {
        "id": "7tbBbVTH6-d0",
        "colab_type": "text"
      },
      "source": [
        "Функции для работы с данными"
      ]
    },
    {
      "cell_type": "code",
      "metadata": {
        "id": "HRey9vDw9b3N",
        "colab_type": "code",
        "colab": {}
      },
      "source": [
        "def split_data(transactions, ratings, bookmarks, test_size=0.3):\n",
        "    '''функция разбивает данные на train и test'''\n",
        "\n",
        "    ts_min = transactions['ts'].min()\n",
        "    ts_max = transactions['ts'].max()\n",
        "    ts_test = ts_min + (ts_max-ts_min) * (1-test_size)\n",
        "\n",
        "    transactions_train = transactions.query('ts < @ts_test')\n",
        "    transactions_test = transactions.query('ts >= @ts_test')\n",
        "\n",
        "    ratings_train = ratings.query('ts < @ts_test')\n",
        "    ratings_test = ratings.query('ts >= @ts_test')\n",
        "\n",
        "    bookmarks_train = bookmarks.query('ts < @ts_test')\n",
        "    bookmarks_test = bookmarks.query('ts >= @ts_test')\n",
        "\n",
        "    return transactions_train, ratings_train, bookmarks_train, transactions_test, ratings_test, bookmarks_test\n",
        "\n",
        "def add_attr_catalogue(catalogue, n_top=25):\n",
        "    '''функция \"разворачивает\" атрибуты для фильмов'''\n",
        "\n",
        "    catalogue_ext = catalogue.copy()\n",
        "    counts_attributes = Counter(np.hstack(catalogue['attributes'].values))\n",
        "    top_attributes = set(attribute for attribute, _ in counts_attributes.most_common(n_top))\n",
        "\n",
        "    attributes_in_top = (catalogue['attributes'].apply(lambda x: pd.Series(list(top_attributes & set(x)))) # добавляем столбцы, где значения - атрибуты из топ\n",
        "                                                .stack() # столбцы в индекс\n",
        "                                                .astype(int)\n",
        "                                                .to_frame('attribute')\n",
        "                                                .reset_index()\n",
        "                                                .set_index(['level_0', 'attribute']) # вместо индекс строки+индекс № бывш. столбца атрибута - индекс строки+значение атрибута\n",
        "                                                .unstack('attribute')['level_1'] # из значение атрибута индекса в столбцы\n",
        "                                                .applymap(lambda x: (x+1) / (x+1))) # если атрибут попадает в топ, то значение соотв. стобца = 1\n",
        "    columns = list(map(lambda x: 'attribute_%s' % x, attributes_in_top.columns))\n",
        "    attributes_in_top.columns = columns\n",
        "    catalogue_ext[columns] = attributes_in_top\n",
        "    catalogue_ext[columns] = catalogue_ext[columns].fillna(0).astype(np.uint8)\n",
        "\n",
        "    availability = (catalogue_ext['availability'].apply(lambda x: pd.Series(x))\n",
        "                                                .stack()\n",
        "                                                .to_frame('availability')\n",
        "                                                .reset_index()\n",
        "                                                .set_index(['level_0', 'availability'])\n",
        "                                                .unstack('availability')['level_1']\n",
        "                                                .applymap(lambda x: (x+1) / (x+1)))                                   \n",
        "    columns = list(map(lambda x: 'available_%s' % x, availability.columns))\n",
        "    availability.columns = columns\n",
        "    catalogue_ext[columns] = availability\n",
        "    catalogue_ext[columns] = catalogue_ext[columns].fillna(0).astype(np.uint8)\n",
        "\n",
        "    catalogue_ext.drop(['availability', 'attributes'], axis=1, inplace=True)\n",
        "\n",
        "    return catalogue_ext\n",
        "\n",
        "def get_poor_films(catalogue, transactions, ratings):\n",
        "    '''Функция возвращает список \"плохих\" фильмов'''\n",
        "\n",
        "    # с плохим рейтингом\n",
        "    ratings_element = ratings.groupby('element_uid')['rating'].median().round().to_frame('rating_median').reset_index()\n",
        "    poor_rating = ratings_element.query('rating_median < 5')['element_uid'].tolist()\n",
        "\n",
        "    # с малым числом просмотров\n",
        "    user_cnt = transactions['user_uid'].nunique()\n",
        "    watched_cnt = transactions.groupby('element_uid').size().to_frame('cnt')\n",
        "    watched_cnt['cnt_proc'] = 100 * watched_cnt['cnt'] / user_cnt\n",
        "    poor_watched = watched_cnt[watched_cnt['cnt_proc'] < 0.1].index.to_list()\n",
        "\n",
        "    # фильм никто никогда не смотрел\n",
        "    no_watched = list(set(catalogue['element_uid']) - set(transactions['element_uid']))\n",
        "\n",
        "    poor_films = set(poor_rating + poor_watched + no_watched)\n",
        "\n",
        "    return poor_films\n",
        "\n",
        "def union_data(transactions, catalogue, ratings, bookmarks):\n",
        "    '''функция объединяет все данные'''\n",
        "\n",
        "    # добавим к транзакциям инфу о самих объектах и рейтингах, закладках\n",
        "    transactions_ext = (transactions.merge(catalogue, on=['element_uid'])\n",
        "                                    .merge(ratings, on=['element_uid', 'user_uid'], how='left', suffixes=['', '_rating'])\n",
        "                                    .merge(bookmarks, on=['element_uid', 'user_uid'], how='left', suffixes=['', '_bookmarks'])\n",
        "                                    .fillna(value={'add_bookmark': 0})\n",
        "                                    )\n",
        "    #transactions_ext = transactions_ext.join(pd.get_dummies(transactions_ext[['type', 'consumption_mode']]))\n",
        "\n",
        "    # добавим медианные рейтинги\n",
        "    ratings_element = ratings.groupby('element_uid')['rating'].median().round().to_frame('rating_median').reset_index()\n",
        "    transactions_ext = transactions_ext.merge(ratings_element, on='element_uid', how='left')\n",
        "\n",
        "    # добавим общие длительности для каждого объекта\n",
        "    real_duration = ((transactions_ext.groupby(['element_uid', 'type', 'duration'])['watched_time'].quantile(0.95) / 60)\n",
        "                                        .to_frame('all_duration').reset_index())\n",
        "    q = real_duration.eval('duration > 0 & type == \"movie\" & all_duration > duration')\n",
        "    real_duration.loc[q, 'all_duration'] = real_duration['duration']\n",
        "    q = real_duration.eval('duration > 0 & all_duration < duration')\n",
        "    real_duration.loc[q, 'all_duration'] = real_duration['duration']\n",
        "    real_duration['all_duration'] = real_duration['all_duration'] * 60\n",
        "\n",
        "    transactions_ext = transactions_ext.merge(real_duration[['element_uid', 'all_duration']], on='element_uid')\n",
        "    transactions_ext['watched_share'] = transactions_ext.eval('watched_time / all_duration').apply(lambda x: x if x <= 1 else 1)\n",
        "\n",
        "    # сделаем признаки тип устройства и производитель категориальными\n",
        "    transactions_ext[['device_type_cat', 'device_manufacturer_cat']] = transactions_ext[['device_type', 'device_manufacturer']].astype('category')\n",
        "\n",
        "    return transactions_ext\n",
        "\n",
        "\n",
        "def create_filtered_elements(df, users):\n",
        "    '''\n",
        "    функция возвращает словарь со списоком фильмов для каждого пользователя из датасета\n",
        "    '''\n",
        "\n",
        "    filtered_elements = defaultdict(set)\n",
        "\n",
        "    for user_uid, element_uid in tqdm(df.loc[:, ['user_uid', 'element_uid']].values):\n",
        "        if user_uid not in users:\n",
        "            continue\n",
        "        filtered_elements[user_uid].add(element_uid)\n",
        "    return filtered_elements\n",
        "\n",
        "def create_filtered_elements_all(films_in_transactions, films_in_ratings, users):\n",
        "\n",
        "    filtered_elements = defaultdict(set)\n",
        "\n",
        "    for user_uid in tqdm(users):\n",
        "        filtered = []\n",
        "        if user_uid in films_in_transactions:\n",
        "            filtered += list(films_in_transactions[user_uid])\n",
        "\n",
        "        if user_uid in films_in_ratings:\n",
        "            filtered += list(films_in_ratings[user_uid])\n",
        "\n",
        "        filtered_elements[user_uid] = set(filtered)\n",
        "\n",
        "    return filtered_elements\n",
        "\n",
        "def create_true_data(transactions, test_users):\n",
        "    '''\n",
        "    функция возвращает список фильмов которые пользователь посмотрел\n",
        "    '''\n",
        "\n",
        "    # Считается, что пользователь потребил контент, если он:\n",
        "    # - Купил его или взял в аренду\n",
        "    # - Посмотрел больше половины фильма по подписке\n",
        "    # - Посмотрел больше трети сериала по подписке\n",
        "\n",
        "    # transactions_ext = union_data(transactions, catalogue, ratings, bookmarks)\n",
        "    # q1 = transactions_ext['consumption_mode'].isin(['P', 'R'])\n",
        "    # q2 = (transactions_ext['type'].isin(['movie', 'multipart_movie'])) & (transactions_ext['watched_share'] > 0.5)\n",
        "    # q3 = (transactions_ext['type'] == 'series') & (transactions_ext['watched_share'] > 1.0/3.0)\n",
        "    # q4 = transactions_ext['user_uid'].isin(test_users)\n",
        "    # true_data = transactions_ext[q1 | q2 | q3 | q4].copy()\n",
        "\n",
        "    q = transactions['user_uid'].isin(test_users)\n",
        "    true_data = transactions[q].copy()\n",
        "\n",
        "    true_data['rank'] = true_data.groupby('user_uid')['ts'].rank('dense')\n",
        "    true_data = (true_data.query('rank <= 20')\n",
        "                        .sort_values(by=['user_uid', 'rank'])\n",
        "                        .groupby('user_uid', sort=False)\n",
        "                        .apply(lambda x: x['element_uid'].tolist())\n",
        "                        .to_dict()\n",
        "                )\n",
        "    return true_data"
      ],
      "execution_count": 0,
      "outputs": []
    },
    {
      "cell_type": "markdown",
      "metadata": {
        "id": "QfDkoJJl7OFv",
        "colab_type": "text"
      },
      "source": [
        "Функции для LightFM"
      ]
    },
    {
      "cell_type": "markdown",
      "metadata": {
        "id": "ATBjFdFgxRfw",
        "colab_type": "text"
      },
      "source": [
        "*   Документация по LightFM https://making.lyst.com/lightfm/docs/lightfm.html\n",
        "*   Пример https://towardsdatascience.com/how-to-build-a-movie-recommender-system-in-python-using-lightfm-8fa49d7cbe3b\n",
        "*   Пример https://www.kaggle.com/shivendra91/recommendation-lightfm\n",
        "*   Пример https://www.machinelearningmastery.ru/solving-business-usecases-by-recommender-system-using-lightfm-4ba7b3ac8e62/"
      ]
    },
    {
      "cell_type": "code",
      "metadata": {
        "id": "clPE_hePXqZY",
        "colab_type": "code",
        "colab": {}
      },
      "source": [
        "def create_interaction_matrix(user_uid_series, element_uid_series, rating_series, catalogue_ext):\n",
        "    '''\n",
        "    функция возвращает данные для обучения модели:\n",
        "    - матрицу взаимодействия пользователей с контентом,\n",
        "    - матрицу признаков контента\n",
        "    - словари для перевода из кода категории в id \n",
        "    '''\n",
        "\n",
        "    # построим матрицу, где: \n",
        "    # - строкам будут соответствовать пользователи \n",
        "    # - столбцам — элементы \n",
        "    # - на пересечении пользователя и элемента - количественная оценка степени их взаимодействия, если таковое имело место.\n",
        "\n",
        "    user_uid = user_uid_series.astype('category')\n",
        "    element_uid = element_uid_series.astype('category')\n",
        "\n",
        "    ratings_matrix = sp.coo_matrix(\n",
        "        (rating_series.astype(np.float32) + 1,\n",
        "            (\n",
        "                user_uid.cat.codes.copy(),\n",
        "                element_uid.cat.codes.copy()\n",
        "            )\n",
        "        )\n",
        "    )\n",
        "\n",
        "    ratings_matrix = ratings_matrix.tocsr()\n",
        "\n",
        "    # таблица признаков фильмов\n",
        "    item_features = pd.DataFrame(\n",
        "            StandardScaler().fit_transform(catalogue_ext.drop('element_uid', axis=1)), \n",
        "            index=catalogue_ext['element_uid'])\\\n",
        "        .loc[element_uid.unique()]\\\n",
        "        .values\n",
        "    item_features = sp.csr_matrix(item_features)\n",
        "\n",
        "    # словари для перевода из кода категории в id\n",
        "    cat_to_user_uid = dict(zip(\n",
        "        range(len(user_uid.cat.categories)),\n",
        "        user_uid.cat.categories\n",
        "    ))\n",
        "\n",
        "    cat_to_element_uid = dict(zip(\n",
        "        range(len(element_uid.cat.categories)),\n",
        "        element_uid.cat.categories\n",
        "    ))\n",
        "\n",
        "    return ratings_matrix, item_features, cat_to_user_uid, cat_to_element_uid\n",
        "\n",
        "def create_user_dict(model_lfm, test_users, cat_to_user_uid, cat_to_element_uid, item_features, \n",
        "                     filtered_elements, poor_films, top_pred=100):\n",
        "    '''функция возвращает предсказания в виде словаря'''\n",
        "    \n",
        "    user_pred = dict()\n",
        "    for user_id_cat, user_id in cat_to_user_uid.items():\n",
        "        if user_id in test_users:\n",
        "            scores = model_lfm.predict(\n",
        "                user_ids=user_id_cat, \n",
        "                item_ids=np.arange(len(cat_to_element_uid)),\n",
        "                item_features=item_features, \n",
        "                num_threads=4,\n",
        "            )\n",
        "            # user_pred[user_id] = [cat_to_element_uid[cod] for cod in np.argsort(-scores)[:top_pred]]\n",
        "\n",
        "            elements_coded_ranked = np.argsort(-scores)\n",
        "            elements_uid_ranked = []\n",
        "            i = 0\n",
        "            for cod in elements_coded_ranked:\n",
        "                element_uid = cat_to_element_uid[cod]\n",
        "                # рекомендованный фильм не в транзакциях, пользователь не проставил рейтинг, фильм не среди \"плохих\" фильмов\n",
        "                if element_uid not in filtered_elements[user_id] and element_uid not in poor_films:\n",
        "                    elements_uid_ranked.append(element_uid)\n",
        "                    i += 1\n",
        "                if i == top_pred:\n",
        "                    break\n",
        "            user_pred[user_id] = elements_uid_ranked\n",
        "    \n",
        "    return user_pred\n",
        "\n",
        "\n",
        "\n",
        "\n",
        "def fit_model(model_lfm, model_name, start_epochs, max_epochs, step_epochs,\n",
        "              ratings_matrix, item_features, cat_to_user_uid, cat_to_element_uid,  \n",
        "              filtered_elements, poor_films, true_data, top_pred, results_path):\n",
        "    '''\n",
        "    функция обучает модель и сохраняет ее состояние на каждой итерации, кратно 5. Сохраняет результат.\n",
        "    '''\n",
        "\n",
        "    # получаем список пользователей, для которых нужно сделать пронозы\n",
        "    users = set(true_data)\n",
        "\n",
        "    # если файла с результатами испытаний нет, то создать его\n",
        "    if not os.path.isfile(results_path):\n",
        "        #print('ttt')\n",
        "        pd.DataFrame(columns=LightFM().get_params().keys()).to_csv(results_path, index=False)\n",
        "\n",
        "    # получаем параметры переданной модели\n",
        "    current_result = pd.DataFrame({k: [v] for k, v in model_lfm.get_params().items()})\n",
        "\n",
        "    # обучаем модель. После каждой итерации записываем результаты\n",
        "    for i in tqdm(range(1, int(max_epochs/step_epochs) + 1)):\n",
        "        model_lfm.fit_partial(\n",
        "            interactions=ratings_matrix, \n",
        "            item_features=item_features, \n",
        "            epochs=step_epochs,\n",
        "            num_threads=multiprocessing.cpu_count(),\n",
        "            verbose=False\n",
        "        )\n",
        "        \n",
        "        # считываем прошлые результаты\n",
        "        all_results = pd.read_csv(results_path)\n",
        "\n",
        "        # сохраняем модель\n",
        "        n_model = all_results.shape[0] + 1\n",
        "\n",
        "        if model_name is not None:\n",
        "            model_path = os.path.join(\n",
        "                DATA_PATH, \n",
        "                'models', \n",
        "                '{model_name}_{n_model}.pkl'.format(model_name=model_name, n_model=n_model))\n",
        "            joblib.dump(model_lfm, model_path)\n",
        "\n",
        "        # получаем результаты прогноза\n",
        "        user_pred = create_user_dict(\n",
        "            model_lfm, users, cat_to_user_uid, cat_to_element_uid, item_features, \n",
        "            filtered_elements, poor_films, top_pred=top_pred)\n",
        "\n",
        "        # получаем скор\n",
        "        score = metric(true_data, user_pred, k=20)\n",
        "\n",
        "        # сколько всего эпох пройдено моделью\n",
        "        all_epochs = step_epochs*i + start_epochs\n",
        "\n",
        "        # сохраняем результаты\n",
        "        current_result['use_item_features'] = int(item_features is not None)\n",
        "        current_result['epochs'] = all_epochs\n",
        "        current_result['score'] = score\n",
        "        current_result['n_model'] = n_model\n",
        "        pd.concat([all_results, current_result], sort=False).to_csv(results_path, index=False)\n",
        "\n",
        "        print('all_epochs: {all_epochs}, score: {score}'.format(all_epochs=all_epochs, score=score))\n",
        "\n",
        "def search_param_lfm(user_uid_series_train, element_uid_series_train, rating_series_train, catalogue_ext, \n",
        "                     transactions_test, users, filtered_elements_train, poor_films, use_item_features,\n",
        "                     max_epochs, step_epochs, params, results_path):\n",
        "    '''\n",
        "    функция делает перебор параметров и сохраняет результаты\n",
        "    '''\n",
        "\n",
        "    # получаем необходимые данные для модели\n",
        "    ratings_matrix, item_features, cat_to_user_uid, cat_to_element_uid = create_interaction_matrix(\n",
        "        user_uid_series_train, \n",
        "        element_uid_series_train, \n",
        "        rating_series_train,\n",
        "        catalogue_ext\n",
        "    )\n",
        "\n",
        "    # использовать или нет параметры фильмов в модели\n",
        "    item_features = item_features if use_item_features else None\n",
        "\n",
        "    # фактические просмотры\n",
        "    true_data = create_true_data(transactions_test, users)\n",
        "\n",
        "    for alpha, learning_rate, no_components, max_sampled, learning_schedule in tqdm(params):\n",
        "\n",
        "        # создаем модель\n",
        "        # при необходимости ее можно обучить, но тогда для start_epochs указать значение пройденных epochs\n",
        "        model_lfm = LightFM(\n",
        "            no_components=no_components, \n",
        "            learning_rate=learning_rate, \n",
        "            loss='warp', \n",
        "            max_sampled=max_sampled, \n",
        "            user_alpha=alpha, \n",
        "            item_alpha=alpha,\n",
        "            learning_schedule=learning_schedule,\n",
        "            random_state=42\n",
        "        )\n",
        "\n",
        "        # обучаем модель и получаем скор\n",
        "        fit_model(\n",
        "            model_lfm=model_lfm, \n",
        "            model_name=None, # если передать имя, то модели будут сохраняться\n",
        "            start_epochs=0, \n",
        "            max_epochs=max_epochs, \n",
        "            step_epochs=step_epochs,\n",
        "            ratings_matrix=ratings_matrix, \n",
        "            item_features=item_features, \n",
        "            cat_to_user_uid=cat_to_user_uid, \n",
        "            cat_to_element_uid=cat_to_element_uid,  \n",
        "            filtered_elements=filtered_elements_train,\n",
        "            poor_films=poor_films,\n",
        "            true_data=true_data, \n",
        "            top_pred=20,\n",
        "            results_path=results_path\n",
        "        )\n",
        "\n",
        "def create_user_dict_from_data_lfm(user_uid_series, element_uid_series, rating_series, catalogue_ext, \n",
        "                                   filtered_elements, poor_films, test_users, best_params, top_pred):\n",
        "    '''\n",
        "    построение прогнозов по данным при помощи light_fm\n",
        "    '''\n",
        "\n",
        "    # создаем модель\n",
        "    model_lfm = LightFM(\n",
        "        no_components=best_params['no_components'], \n",
        "        learning_rate=best_params['learning_rate'], \n",
        "        loss='warp', \n",
        "        max_sampled=best_params['max_sampled'], \n",
        "        user_alpha=best_params['user_alpha'], \n",
        "        item_alpha=best_params['item_alpha'],\n",
        "        learning_schedule=best_params['learning_schedule'],\n",
        "        random_state=42\n",
        "    )\n",
        "\n",
        "    # получаем необходимые данные для модели\n",
        "    ratings_matrix, item_features, cat_to_user_uid, cat_to_element_uid = create_interaction_matrix(\n",
        "        user_uid_series, \n",
        "        element_uid_series, \n",
        "        rating_series,\n",
        "        catalogue_ext\n",
        "    )\n",
        "    item_features = item_features if best_params['use_item_features'] else None\n",
        "\n",
        "    # обучаем модель\n",
        "    model_lfm.fit(\n",
        "        interactions=ratings_matrix, \n",
        "        item_features=item_features, \n",
        "        epochs=int(best_params['epochs']),\n",
        "        num_threads=multiprocessing.cpu_count(),\n",
        "        verbose=False\n",
        "    )\n",
        "\n",
        "    # получаем результаты прогноза\n",
        "    user_pred = create_user_dict(\n",
        "        model_lfm, test_users, cat_to_user_uid, cat_to_element_uid, item_features, \n",
        "        filtered_elements, poor_films, top_pred=top_pred\n",
        "    )\n",
        "    \n",
        "    return user_pred\n",
        "\n",
        "def merge_user_pred(user_pred_list, test_users, agg_func, top_pred=100):\n",
        "    '''\n",
        "    функция объединяет прогнозы разных моделей\n",
        "    '''\n",
        "\n",
        "    user_pred_merged = dict()\n",
        "    for user_uid in test_users:\n",
        "        # объединение всех прогнозов по всем источникам предсказаний для каждого пользователя\n",
        "        all_elements = []\n",
        "        for user_pred in user_pred_list:\n",
        "            all_elements.append(pd.DataFrame(user_pred.get(user_uid, []), columns=['element_uid'])\n",
        "                                .reset_index()\n",
        "                                .set_index('element_uid')\n",
        "            )\n",
        "\n",
        "        # результирующий список топ фильмов для конкретного пользователя\n",
        "        merged_elements = (pd.concat(all_elements, axis=1)\n",
        "                                .fillna(0)\n",
        "                                .agg(agg_func, axis=1)\n",
        "                                .sort_values()\n",
        "                                .index.tolist()[:top_pred]\n",
        "        )\n",
        "\n",
        "        user_pred_merged[user_uid] = merged_elements\n",
        "\n",
        "    return user_pred_merged\n",
        "\n",
        "def merge_user_pred_prior(user_pred_list, order, test_users):\n",
        "    '''функция выбирает прогнозы в порядке очередности'''\n",
        "\n",
        "    user_pred_merged = dict()\n",
        "    for user_uid in test_users:\n",
        "        for i in order:\n",
        "            if user_uid in user_pred_list[i]:\n",
        "                user_pred_merged[user_uid] = user_pred_list[i][user_uid]\n",
        "                break\n",
        "    return user_pred_merged\n",
        "\n",
        "def create_merged_user_dict_lfm(ratings_train, bookmarks_train, watched_share_train, \n",
        "                                transactions_test, catalogue_ext,\n",
        "                                file_params_rating, file_params_bookmarks, file_params_watched,\n",
        "                                filtered_elements_train, test_users, top_pred):\n",
        "    '''функция возвращает итоговый прогноз по трем омделям LightFM'''\n",
        "\n",
        "    # по данным рейтинга\n",
        "    # получение параметров\n",
        "    all_params = pd.read_csv(file_params_rating)\n",
        "    best_params = all_params.loc[all_params['score'].idxmax()]\n",
        "\n",
        "    # получение прогнозов\n",
        "    user_pred_ratings_lfm = create_user_dict_from_data_lfm(\n",
        "        user_uid_series=ratings_train['user_uid'], \n",
        "        element_uid_series=ratings_train['element_uid'], \n",
        "        rating_series=ratings_train['rating'],\n",
        "        catalogue_ext=catalogue_ext, \n",
        "        filtered_elements=filtered_elements_train, \n",
        "        poor_films=[], \n",
        "        test_users=test_users, \n",
        "        best_params=best_params, \n",
        "        top_pred=100)\n",
        "\n",
        "    # по данным закладок\n",
        "    # получение параметров\n",
        "    all_params = pd.read_csv(file_params_bookmarks)\n",
        "    best_params = all_params.loc[all_params['score'].idxmax()]\n",
        "\n",
        "    # получение прогнозов\n",
        "    user_pred_bookmarks_lfm = create_user_dict_from_data_lfm(\n",
        "        user_uid_series=bookmarks_train['user_uid'], \n",
        "        element_uid_series=bookmarks_train['element_uid'], \n",
        "        rating_series=bookmarks_train['add_bookmark'], \n",
        "        catalogue_ext=catalogue_ext, \n",
        "        filtered_elements=filtered_elements_train, \n",
        "        poor_films=[], \n",
        "        test_users=test_users, \n",
        "        best_params=best_params, \n",
        "        top_pred=100)\n",
        "\n",
        "    # по данным просмотров\n",
        "    # получение параметров\n",
        "    all_params = pd.read_csv(file_params_watched)\n",
        "    best_params = all_params.loc[all_params['score'].idxmax()]\n",
        "\n",
        "    # получение прогнозов\n",
        "    user_pred_watched_lfm = create_user_dict_from_data_lfm(\n",
        "        user_uid_series=watched_share_train['user_uid'], \n",
        "        element_uid_series=watched_share_train['element_uid'], \n",
        "        rating_series=watched_share_train['watched_share'], \n",
        "        catalogue_ext=catalogue_ext, \n",
        "        filtered_elements=filtered_elements_train, \n",
        "        poor_films=[], \n",
        "        test_users=test_users, \n",
        "        best_params=best_params, \n",
        "        top_pred=100)\n",
        "\n",
        "    # if transactions_test is not None:\n",
        "\n",
        "    # true_data = create_true_data(transactions_test, test_users)\n",
        "\n",
        "    # order_list = list(permutations([0, 1, 2]))\n",
        "    # score_list = []\n",
        "    # user_pred_list=[user_pred_ratings_lfm, user_pred_bookmarks_lfm, user_pred_watched_lfm]\n",
        "    # for order in order_list:\n",
        "    #     user_pred_merged_prior = merge_user_pred_prior(\n",
        "    #         user_pred_list=user_pred_list, \n",
        "    #         order=order,\n",
        "    #         test_users=test_users\n",
        "    #     )\n",
        "    #     score = metric(true_data, user_pred_merged_prior, k=20)\n",
        "    #     score_list.append(score)\n",
        "    # best_i = np.argmax(score_list)\n",
        "\n",
        "    user_pred_merged_lfm = merge_user_pred_prior(\n",
        "        user_pred_list=[user_pred_ratings_lfm, user_pred_bookmarks_lfm, user_pred_watched_lfm], \n",
        "        order=[0, 1, 2],\n",
        "        test_users=test_users\n",
        "    )\n",
        "\n",
        "    return user_pred_merged_lfm"
      ],
      "execution_count": 0,
      "outputs": []
    },
    {
      "cell_type": "markdown",
      "metadata": {
        "id": "m5CbDrDs0f0T",
        "colab_type": "text"
      },
      "source": [
        "Подготовка данных"
      ]
    },
    {
      "cell_type": "code",
      "metadata": {
        "id": "Kx0nrZgFW9YY",
        "colab_type": "code",
        "outputId": "7639d657-8d31-401c-c41b-7bb1b0ce1551",
        "colab": {
          "base_uri": "https://localhost:8080/",
          "height": 609,
          "referenced_widgets": [
            "81f46af3f683465dbd660f713cc508d1",
            "168ad2b2c227411cb6b77a17e985f6b0",
            "a657e30e6c39467987404ad7c9e263d4",
            "aa2c62561fde402abddd0de0ddef7089",
            "7995231f65d546f88452a231664a6345",
            "aca4a4f9fa524c1c9be32c6cbadb8466",
            "62767be4ac8946139c6a6dda69e644f5",
            "af7810a0fa614b139c8922ab5267e9ad",
            "a890ada4c7974b2eaace7cd649873a1d",
            "1805e8334cde4a1d936beaf6d70b5f5a",
            "d5e722bee71444fb9c3e3595f3a4e61b",
            "6fff6c5090834e26a88d91a921732592",
            "91e04325d2484ba2af8dd12e8e191eea",
            "c6bec144da2c46589d7f8fae97af74da",
            "cd357c6f49d24950aec01f9cbf245dd6",
            "36d731cc29e944db982336e66aec7d0c",
            "706ed1adac71429aade73aea01e84653",
            "b3cae5112ec84f7f93e97135ddafe604",
            "559f75d8d7e64b8c8e5786047b81ea78",
            "122244ae140c4c4cae2df0abb268dcad",
            "902b1eac65044e5c9192168e776a0b1d",
            "405d3bae1f0b45f7a2b48b385be9876d",
            "3b0aafc8ff2f49a3b5418692fba8903a",
            "72c91511468f4ace810d4896deb21b3a",
            "f7502b5cac9743748e8ac9428eb5edc2",
            "77cb7884dbcb40a09fafdf92f3863a90",
            "5c72f229319341ea8dcc83380518d623",
            "0c6aa73eedc84a59a65183e30cd19387",
            "9524282a388742a5ba0d79cd93d25729",
            "62d49654cdab4e69aaf69d7e9ddb1375",
            "8b02065f6faf4552ba99cb18ea6480b2",
            "145515d8492d4ddaad5504899546118e",
            "f46c3035ea8f46f4ac7f5d07f551621e",
            "4570f8b99af649daa43217953aba7fec",
            "122047e70356491e9a4038d23792499f",
            "a9cd9984736b43e5b7239a60860e7e5c",
            "a01b032be46b48ad923d49ceafe20897",
            "43fd49a9cd20435f960428cea659982b",
            "14fae2f3f2d14ed29530308e4f901bd8",
            "2a948201ecd14de1b5060b42b6709a60",
            "1086630650d2489fbcddbde8e8a0f565",
            "8676b0d9c73b4e23ba6a2e7c976c3c74",
            "e71be5a83e9c4c0eb5fbab58342a8c7a",
            "c3b7347019b9420a828555e373c8903d",
            "c03f47a576a04811b78a3d0d8d70a01d",
            "d77eaaa81f4946569ecb654b6e228003",
            "caf5683a3b30457eacf889d4d66bdc1b",
            "82ea9292d0774346b7849fc24c752343",
            "2c9661513b5e4567a16516a9848f6e17",
            "0a2c954a3d504e45a898b9321569c9e5",
            "159b31ab76fe48f9a970deaa140bfb24",
            "102ad6333ea74aa0b7dd9abe754daee7",
            "3528614ff5ca4d2a81d69f7db79d2ae8",
            "a063e0d6605d48fabfba83ab944e569f",
            "f1669a70365a42a5b7e8e6df419d1761",
            "4f30efac0aaf4c15932e2171ae2158d4",
            "8e53745695404e2289962ba0fd536b8d",
            "8a991e722bf44d01adf0bdfdc1ce99ae",
            "5cb1eb89d9b245d197ee35c2299ee84d",
            "639ad9bff377466aa96944e520fe5cd0",
            "93f442b596bf47baa79adf0b18b10dbd",
            "f742aebc814742509b7e73f7c911dd85",
            "ec8380a64d0d4b8bb008e5b16f543aac",
            "22d8a0b564b94845a2d0d258be18641b",
            "10cb00ee94264d0eabdacf5c60aacc24",
            "a67fdc3cbd75489a8e987c1a1373bbff",
            "05fe26b334a9423fb5adc3be45e6f4ff",
            "e22f1d0d20584e74a8d5aa61a23d2abb",
            "0e418f62167c42b7976654f2813497a5",
            "dc70232e847245e69addb89ef3484cee",
            "294f8f2b20cf46caa36c6601b120af48",
            "762a00e3b3cd4a0fb2a2b1024ed76a32",
            "8291275674a440e794133255ee33878d",
            "474aec2547b9419c9ab1feed1b973c08",
            "2f49033497294528831c4b818bcc7481",
            "37c88022c47443aeb01268fdf0800da6",
            "f42a099a85c14697a4dd161437fa0dff",
            "68e0922861954efe8610764734aa8454",
            "bf3f67d5f30b43cebd253fd7c11cb2c4",
            "d8912520d29a49a6938a2bcd4e30cd45",
            "53a0468f88ef4384a87bcbd53897edbe",
            "30c9f65794cc44a586b6099994532ffa",
            "f9ce17b8b0114e6e82fcba9ea9dc6766",
            "41a6597efff84a7ba8592223b0dea6ca",
            "0cdde372279641e1b8f8d37235e5e14d",
            "94a4c7ab1158459397c3cd4b2fd29c52",
            "348dc58ff7914370af6542233b8ced8f",
            "4340126942eb40179f4b308837129654",
            "e093f1b735a94de2b8b0ef3d9eafde80",
            "fcd02ac492234697b24e2dbb1e1d0b4f",
            "34e4159200744722a21daa118d469a16",
            "565837f240b14af0880d527f1672dbba",
            "f35324d46d394b63a34bfb07c7ff50a8",
            "1c9f5865358a4d0081521cf40519e748",
            "f8c0edb4aa294d6994d74b55e6848396",
            "cb8fb7b5b0d347559719194765ced615"
          ]
        }
      },
      "source": [
        "# добавим к данным вспомогательные поля\n",
        "bookmarks['add_bookmark'] = 1\n",
        "transactions['watched_reality'] = 1\n",
        "\n",
        "# разбиваем выборку на train/test\n",
        "transactions_train, ratings_train, bookmarks_train, \\\n",
        "transactions_test, ratings_test, bookmarks_test = split_data(transactions, \n",
        "                                                             ratings, \n",
        "                                                             bookmarks, \n",
        "                                                             test_size=0.3)\n",
        "\n",
        "transactions_train1, ratings_train1, bookmarks_train1, \\\n",
        "transactions_train2, ratings_train2, bookmarks_train2 = split_data(transactions_train, \n",
        "                                                                   ratings_train, \n",
        "                                                                   bookmarks_train, \n",
        "                                                                   test_size=0.3/0.7)\n",
        "\n",
        "\n",
        "# объединяем данные о транзакциях с остальными\n",
        "transactions_ext_train1 = union_data(transactions_train1, catalogue, ratings_train1, bookmarks_train1)\n",
        "transactions_ext_train2 = union_data(transactions_train2, catalogue, ratings_train2, bookmarks_train1)\n",
        "transactions_ext_train = union_data(transactions_train, catalogue, ratings_train, bookmarks_train)\n",
        "transactions_ext_test = union_data(transactions_test, catalogue, ratings_test, bookmarks_test)\n",
        "transactions_ext = union_data(transactions, catalogue, ratings, bookmarks)\n",
        "\n",
        "# данные о доли времени просмотра каждого фильма по каждому пользователю\n",
        "watched_share_train1 = transactions_ext_train1.groupby(['element_uid', 'user_uid'])[['watched_share']].mean().reset_index()\n",
        "watched_share_train2 = transactions_ext_train2.groupby(['element_uid', 'user_uid'])[['watched_share']].mean().reset_index()\n",
        "watched_share_train = transactions_ext_train.groupby(['element_uid', 'user_uid'])[['watched_share']].mean().reset_index()\n",
        "watched_share_test = transactions_ext_test.groupby(['element_uid', 'user_uid'])[['watched_share']].mean().reset_index()\n",
        "watched_share = transactions_ext.groupby(['element_uid', 'user_uid'])[['watched_share']].mean().reset_index()\n",
        "\n",
        "# каталог фильмов с \"распакованными\" атрибутами\n",
        "catalogue_ext = add_attr_catalogue(catalogue, n_top=25)\n",
        "catalogue_ext = catalogue_ext.join(pd.get_dummies(catalogue_ext['type'])).drop('type', axis=1)\n",
        "\n",
        "# получаем список \"плохих\" фильмов\n",
        "poor_films = get_poor_films(catalogue, transactions, ratings)\n",
        "\n",
        "# для каждого пользователя: наличие фильма в транзакциях, закладках, рейтинге\n",
        "films_in_transactions_train1 = create_filtered_elements(transactions_train1, test_users)\n",
        "films_in_ratings_train1 = create_filtered_elements(ratings_train1, test_users)\n",
        "films_in_bookmarks_train1 = create_filtered_elements(bookmarks_train1, test_users)\n",
        "filtered_elements_train1 = create_filtered_elements_all(films_in_transactions_train1, films_in_ratings_train1, test_users)\n",
        "\n",
        "films_in_transactions_train = create_filtered_elements(transactions_train, test_users)\n",
        "films_in_ratings_train = create_filtered_elements(ratings_train, test_users)\n",
        "films_in_bookmarks_train = create_filtered_elements(bookmarks_train, test_users)\n",
        "filtered_elements_train = create_filtered_elements_all(films_in_transactions_train, films_in_ratings_train, test_users)\n",
        "\n",
        "films_in_transactions = create_filtered_elements(transactions, test_users)\n",
        "films_in_ratings = create_filtered_elements(ratings, test_users)\n",
        "films_in_bookmarks = create_filtered_elements(bookmarks, test_users)\n",
        "filtered_elements = create_filtered_elements_all(films_in_transactions, films_in_ratings, test_users)"
      ],
      "execution_count": 0,
      "outputs": [
        {
          "output_type": "display_data",
          "data": {
            "application/vnd.jupyter.widget-view+json": {
              "model_id": "81f46af3f683465dbd660f713cc508d1",
              "version_minor": 0,
              "version_major": 2
            },
            "text/plain": [
              "HBox(children=(IntProgress(value=0, max=3383142), HTML(value='')))"
            ]
          },
          "metadata": {
            "tags": []
          }
        },
        {
          "output_type": "stream",
          "text": [
            "\n"
          ],
          "name": "stdout"
        },
        {
          "output_type": "display_data",
          "data": {
            "application/vnd.jupyter.widget-view+json": {
              "model_id": "a890ada4c7974b2eaace7cd649873a1d",
              "version_minor": 0,
              "version_major": 2
            },
            "text/plain": [
              "HBox(children=(IntProgress(value=0, max=174148), HTML(value='')))"
            ]
          },
          "metadata": {
            "tags": []
          }
        },
        {
          "output_type": "stream",
          "text": [
            "\n"
          ],
          "name": "stdout"
        },
        {
          "output_type": "display_data",
          "data": {
            "application/vnd.jupyter.widget-view+json": {
              "model_id": "706ed1adac71429aade73aea01e84653",
              "version_minor": 0,
              "version_major": 2
            },
            "text/plain": [
              "HBox(children=(IntProgress(value=0, max=338214), HTML(value='')))"
            ]
          },
          "metadata": {
            "tags": []
          }
        },
        {
          "output_type": "stream",
          "text": [
            "\n"
          ],
          "name": "stdout"
        },
        {
          "output_type": "display_data",
          "data": {
            "application/vnd.jupyter.widget-view+json": {
              "model_id": "f7502b5cac9743748e8ac9428eb5edc2",
              "version_minor": 0,
              "version_major": 2
            },
            "text/plain": [
              "HBox(children=(IntProgress(value=0, max=50000), HTML(value='')))"
            ]
          },
          "metadata": {
            "tags": []
          }
        },
        {
          "output_type": "stream",
          "text": [
            "\n"
          ],
          "name": "stdout"
        },
        {
          "output_type": "display_data",
          "data": {
            "application/vnd.jupyter.widget-view+json": {
              "model_id": "f46c3035ea8f46f4ac7f5d07f551621e",
              "version_minor": 0,
              "version_major": 2
            },
            "text/plain": [
              "HBox(children=(IntProgress(value=0, max=6437358), HTML(value='')))"
            ]
          },
          "metadata": {
            "tags": []
          }
        },
        {
          "output_type": "stream",
          "text": [
            "\n"
          ],
          "name": "stdout"
        },
        {
          "output_type": "display_data",
          "data": {
            "application/vnd.jupyter.widget-view+json": {
              "model_id": "1086630650d2489fbcddbde8e8a0f565",
              "version_minor": 0,
              "version_major": 2
            },
            "text/plain": [
              "HBox(children=(IntProgress(value=0, max=317422), HTML(value='')))"
            ]
          },
          "metadata": {
            "tags": []
          }
        },
        {
          "output_type": "stream",
          "text": [
            "\n"
          ],
          "name": "stdout"
        },
        {
          "output_type": "display_data",
          "data": {
            "application/vnd.jupyter.widget-view+json": {
              "model_id": "2c9661513b5e4567a16516a9848f6e17",
              "version_minor": 0,
              "version_major": 2
            },
            "text/plain": [
              "HBox(children=(IntProgress(value=0, max=664086), HTML(value='')))"
            ]
          },
          "metadata": {
            "tags": []
          }
        },
        {
          "output_type": "stream",
          "text": [
            "\n"
          ],
          "name": "stdout"
        },
        {
          "output_type": "display_data",
          "data": {
            "application/vnd.jupyter.widget-view+json": {
              "model_id": "8e53745695404e2289962ba0fd536b8d",
              "version_minor": 0,
              "version_major": 2
            },
            "text/plain": [
              "HBox(children=(IntProgress(value=0, max=50000), HTML(value='')))"
            ]
          },
          "metadata": {
            "tags": []
          }
        },
        {
          "output_type": "stream",
          "text": [
            "\n"
          ],
          "name": "stdout"
        },
        {
          "output_type": "display_data",
          "data": {
            "application/vnd.jupyter.widget-view+json": {
              "model_id": "10cb00ee94264d0eabdacf5c60aacc24",
              "version_minor": 0,
              "version_major": 2
            },
            "text/plain": [
              "HBox(children=(IntProgress(value=0, max=9643012), HTML(value='')))"
            ]
          },
          "metadata": {
            "tags": []
          }
        },
        {
          "output_type": "stream",
          "text": [
            "\n"
          ],
          "name": "stdout"
        },
        {
          "output_type": "display_data",
          "data": {
            "application/vnd.jupyter.widget-view+json": {
              "model_id": "8291275674a440e794133255ee33878d",
              "version_minor": 0,
              "version_major": 2
            },
            "text/plain": [
              "HBox(children=(IntProgress(value=0, max=438790), HTML(value='')))"
            ]
          },
          "metadata": {
            "tags": []
          }
        },
        {
          "output_type": "stream",
          "text": [
            "\n"
          ],
          "name": "stdout"
        },
        {
          "output_type": "display_data",
          "data": {
            "application/vnd.jupyter.widget-view+json": {
              "model_id": "53a0468f88ef4384a87bcbd53897edbe",
              "version_minor": 0,
              "version_major": 2
            },
            "text/plain": [
              "HBox(children=(IntProgress(value=0, max=948216), HTML(value='')))"
            ]
          },
          "metadata": {
            "tags": []
          }
        },
        {
          "output_type": "stream",
          "text": [
            "\n"
          ],
          "name": "stdout"
        },
        {
          "output_type": "display_data",
          "data": {
            "application/vnd.jupyter.widget-view+json": {
              "model_id": "e093f1b735a94de2b8b0ef3d9eafde80",
              "version_minor": 0,
              "version_major": 2
            },
            "text/plain": [
              "HBox(children=(IntProgress(value=0, max=50000), HTML(value='')))"
            ]
          },
          "metadata": {
            "tags": []
          }
        },
        {
          "output_type": "stream",
          "text": [
            "\n"
          ],
          "name": "stdout"
        }
      ]
    },
    {
      "cell_type": "markdown",
      "metadata": {
        "id": "6qqFMJsI0swe",
        "colab_type": "text"
      },
      "source": [
        "Построение моделей"
      ]
    },
    {
      "cell_type": "markdown",
      "metadata": {
        "id": "zQ4z3P36uICb",
        "colab_type": "text"
      },
      "source": [
        "Пользователи ведут себя по разному: одни ставят рейтинги, вторые пользуются закладками, третьи просто смотрят фильмы, а четвертые делают несколько вещей из перечисленных. Поэтому будем строить три модели и на вход подавать разные данные.   "
      ]
    },
    {
      "cell_type": "markdown",
      "metadata": {
        "id": "SCsjCbVaEtad",
        "colab_type": "text"
      },
      "source": [
        "Подбор параметров для LightFM"
      ]
    },
    {
      "cell_type": "code",
      "metadata": {
        "id": "lR78MyKScS0g",
        "colab_type": "code",
        "outputId": "a6e6cfca-b7a5-4f9c-86a5-964b9b25133c",
        "colab": {
          "base_uri": "https://localhost:8080/",
          "height": 34
        }
      },
      "source": [
        "alpha_list = [0.001, 0.005] # 0.001\n",
        "learning_rate_list = [0.01, 0.05] # 0.01\n",
        "learning_schedule_list = ['adadelta'] # adagrad adadelta\n",
        "no_components_list = [10, 100, 200]\n",
        "max_sampled_list = [10, 100] # 10\n",
        "\n",
        "params = list(product(alpha_list, learning_rate_list, no_components_list, max_sampled_list, learning_schedule_list))\n",
        "len(params)"
      ],
      "execution_count": 0,
      "outputs": [
        {
          "output_type": "execute_result",
          "data": {
            "text/plain": [
              "24"
            ]
          },
          "metadata": {
            "tags": []
          },
          "execution_count": 13
        }
      ]
    },
    {
      "cell_type": "markdown",
      "metadata": {
        "id": "db5ObjMGgx60",
        "colab_type": "text"
      },
      "source": [
        "Модель по данным о рейтингах"
      ]
    },
    {
      "cell_type": "code",
      "metadata": {
        "id": "X5RDdKyWEx4j",
        "colab_type": "code",
        "colab": {}
      },
      "source": [
        "%%time\n",
        "\n",
        "search_param_lfm(\n",
        "    user_uid_series_train=ratings_train['user_uid'], \n",
        "    element_uid_series_train=ratings_train['element_uid'], \n",
        "    rating_series_train=ratings_train['rating'], \n",
        "    catalogue_ext=catalogue_ext,\n",
        "    transactions_test=transactions_test, \n",
        "    users=set(test_users) & set(ratings_train['user_uid']) & set(ratings_test['user_uid']), # пользователи встречаются train & test\n",
        "    filtered_elements_train=filtered_elements_train, \n",
        "    poor_films=[], \n",
        "    use_item_features=False,\n",
        "    max_epochs=40, \n",
        "    step_epochs=5, \n",
        "    params=params, \n",
        "    results_path=os.path.join(DATA_PATH, 'models', 'result_rating.csv')\n",
        ")"
      ],
      "execution_count": 0,
      "outputs": []
    },
    {
      "cell_type": "code",
      "metadata": {
        "id": "H0APQ39dq2V7",
        "colab_type": "code",
        "outputId": "834b598c-c0bd-4999-c060-0be80ca6b3e9",
        "colab": {
          "base_uri": "https://localhost:8080/",
          "height": 371
        }
      },
      "source": [
        "result_rating = pd.read_csv(os.path.join(DATA_PATH, 'models', 'result_rating.csv'))\n",
        "result_rating.sort_values(by='score', ascending=False).head(10)"
      ],
      "execution_count": 0,
      "outputs": [
        {
          "output_type": "execute_result",
          "data": {
            "text/html": [
              "<div>\n",
              "<style scoped>\n",
              "    .dataframe tbody tr th:only-of-type {\n",
              "        vertical-align: middle;\n",
              "    }\n",
              "\n",
              "    .dataframe tbody tr th {\n",
              "        vertical-align: top;\n",
              "    }\n",
              "\n",
              "    .dataframe thead th {\n",
              "        text-align: right;\n",
              "    }\n",
              "</style>\n",
              "<table border=\"1\" class=\"dataframe\">\n",
              "  <thead>\n",
              "    <tr style=\"text-align: right;\">\n",
              "      <th></th>\n",
              "      <th>loss</th>\n",
              "      <th>learning_schedule</th>\n",
              "      <th>no_components</th>\n",
              "      <th>learning_rate</th>\n",
              "      <th>k</th>\n",
              "      <th>n</th>\n",
              "      <th>rho</th>\n",
              "      <th>epsilon</th>\n",
              "      <th>max_sampled</th>\n",
              "      <th>item_alpha</th>\n",
              "      <th>user_alpha</th>\n",
              "      <th>random_state</th>\n",
              "      <th>use_item_features</th>\n",
              "      <th>epochs</th>\n",
              "      <th>score</th>\n",
              "      <th>n_model</th>\n",
              "    </tr>\n",
              "  </thead>\n",
              "  <tbody>\n",
              "    <tr>\n",
              "      <th>225</th>\n",
              "      <td>warp</td>\n",
              "      <td>adadelta</td>\n",
              "      <td>10</td>\n",
              "      <td>0.01</td>\n",
              "      <td>5</td>\n",
              "      <td>10</td>\n",
              "      <td>0.95</td>\n",
              "      <td>0.000001</td>\n",
              "      <td>10</td>\n",
              "      <td>0.005</td>\n",
              "      <td>0.005</td>\n",
              "      <td>RandomState(MT19937)</td>\n",
              "      <td>0.0</td>\n",
              "      <td>35.0</td>\n",
              "      <td>0.023269</td>\n",
              "      <td>226.0</td>\n",
              "    </tr>\n",
              "    <tr>\n",
              "      <th>385</th>\n",
              "      <td>warp</td>\n",
              "      <td>adadelta</td>\n",
              "      <td>200</td>\n",
              "      <td>0.05</td>\n",
              "      <td>5</td>\n",
              "      <td>10</td>\n",
              "      <td>0.95</td>\n",
              "      <td>0.000001</td>\n",
              "      <td>10</td>\n",
              "      <td>0.005</td>\n",
              "      <td>0.005</td>\n",
              "      <td>RandomState(MT19937)</td>\n",
              "      <td>0.0</td>\n",
              "      <td>35.0</td>\n",
              "      <td>0.022568</td>\n",
              "      <td>386.0</td>\n",
              "    </tr>\n",
              "    <tr>\n",
              "      <th>128</th>\n",
              "      <td>warp</td>\n",
              "      <td>adadelta</td>\n",
              "      <td>10</td>\n",
              "      <td>0.05</td>\n",
              "      <td>5</td>\n",
              "      <td>10</td>\n",
              "      <td>0.95</td>\n",
              "      <td>0.000001</td>\n",
              "      <td>10</td>\n",
              "      <td>0.001</td>\n",
              "      <td>0.001</td>\n",
              "      <td>RandomState(MT19937)</td>\n",
              "      <td>0.0</td>\n",
              "      <td>30.0</td>\n",
              "      <td>0.021246</td>\n",
              "      <td>129.0</td>\n",
              "    </tr>\n",
              "    <tr>\n",
              "      <th>78</th>\n",
              "      <td>warp</td>\n",
              "      <td>adadelta</td>\n",
              "      <td>100</td>\n",
              "      <td>0.01</td>\n",
              "      <td>5</td>\n",
              "      <td>10</td>\n",
              "      <td>0.95</td>\n",
              "      <td>0.000001</td>\n",
              "      <td>100</td>\n",
              "      <td>0.001</td>\n",
              "      <td>0.001</td>\n",
              "      <td>RandomState(MT19937)</td>\n",
              "      <td>0.0</td>\n",
              "      <td>20.0</td>\n",
              "      <td>0.021170</td>\n",
              "      <td>79.0</td>\n",
              "    </tr>\n",
              "    <tr>\n",
              "      <th>120</th>\n",
              "      <td>warp</td>\n",
              "      <td>adagrad</td>\n",
              "      <td>10</td>\n",
              "      <td>0.05</td>\n",
              "      <td>5</td>\n",
              "      <td>10</td>\n",
              "      <td>0.95</td>\n",
              "      <td>0.000001</td>\n",
              "      <td>10</td>\n",
              "      <td>0.001</td>\n",
              "      <td>0.001</td>\n",
              "      <td>RandomState(MT19937)</td>\n",
              "      <td>0.0</td>\n",
              "      <td>30.0</td>\n",
              "      <td>0.021060</td>\n",
              "      <td>121.0</td>\n",
              "    </tr>\n",
              "    <tr>\n",
              "      <th>239</th>\n",
              "      <td>warp</td>\n",
              "      <td>adadelta</td>\n",
              "      <td>10</td>\n",
              "      <td>0.01</td>\n",
              "      <td>5</td>\n",
              "      <td>10</td>\n",
              "      <td>0.95</td>\n",
              "      <td>0.000001</td>\n",
              "      <td>100</td>\n",
              "      <td>0.005</td>\n",
              "      <td>0.005</td>\n",
              "      <td>RandomState(MT19937)</td>\n",
              "      <td>0.0</td>\n",
              "      <td>25.0</td>\n",
              "      <td>0.021056</td>\n",
              "      <td>240.0</td>\n",
              "    </tr>\n",
              "    <tr>\n",
              "      <th>15</th>\n",
              "      <td>warp</td>\n",
              "      <td>adadelta</td>\n",
              "      <td>10</td>\n",
              "      <td>0.01</td>\n",
              "      <td>5</td>\n",
              "      <td>10</td>\n",
              "      <td>0.95</td>\n",
              "      <td>0.000001</td>\n",
              "      <td>10</td>\n",
              "      <td>0.001</td>\n",
              "      <td>0.001</td>\n",
              "      <td>RandomState(MT19937)</td>\n",
              "      <td>0.0</td>\n",
              "      <td>40.0</td>\n",
              "      <td>0.020973</td>\n",
              "      <td>16.0</td>\n",
              "    </tr>\n",
              "    <tr>\n",
              "      <th>121</th>\n",
              "      <td>warp</td>\n",
              "      <td>adagrad</td>\n",
              "      <td>10</td>\n",
              "      <td>0.05</td>\n",
              "      <td>5</td>\n",
              "      <td>10</td>\n",
              "      <td>0.95</td>\n",
              "      <td>0.000001</td>\n",
              "      <td>10</td>\n",
              "      <td>0.001</td>\n",
              "      <td>0.001</td>\n",
              "      <td>RandomState(MT19937)</td>\n",
              "      <td>0.0</td>\n",
              "      <td>35.0</td>\n",
              "      <td>0.020942</td>\n",
              "      <td>122.0</td>\n",
              "    </tr>\n",
              "    <tr>\n",
              "      <th>119</th>\n",
              "      <td>warp</td>\n",
              "      <td>adagrad</td>\n",
              "      <td>10</td>\n",
              "      <td>0.05</td>\n",
              "      <td>5</td>\n",
              "      <td>10</td>\n",
              "      <td>0.95</td>\n",
              "      <td>0.000001</td>\n",
              "      <td>10</td>\n",
              "      <td>0.001</td>\n",
              "      <td>0.001</td>\n",
              "      <td>RandomState(MT19937)</td>\n",
              "      <td>0.0</td>\n",
              "      <td>25.0</td>\n",
              "      <td>0.020937</td>\n",
              "      <td>120.0</td>\n",
              "    </tr>\n",
              "    <tr>\n",
              "      <th>122</th>\n",
              "      <td>warp</td>\n",
              "      <td>adagrad</td>\n",
              "      <td>10</td>\n",
              "      <td>0.05</td>\n",
              "      <td>5</td>\n",
              "      <td>10</td>\n",
              "      <td>0.95</td>\n",
              "      <td>0.000001</td>\n",
              "      <td>10</td>\n",
              "      <td>0.001</td>\n",
              "      <td>0.001</td>\n",
              "      <td>RandomState(MT19937)</td>\n",
              "      <td>0.0</td>\n",
              "      <td>40.0</td>\n",
              "      <td>0.020935</td>\n",
              "      <td>123.0</td>\n",
              "    </tr>\n",
              "  </tbody>\n",
              "</table>\n",
              "</div>"
            ],
            "text/plain": [
              "     loss learning_schedule  no_components  ...  epochs     score  n_model\n",
              "225  warp          adadelta             10  ...    35.0  0.023269    226.0\n",
              "385  warp          adadelta            200  ...    35.0  0.022568    386.0\n",
              "128  warp          adadelta             10  ...    30.0  0.021246    129.0\n",
              "78   warp          adadelta            100  ...    20.0  0.021170     79.0\n",
              "120  warp           adagrad             10  ...    30.0  0.021060    121.0\n",
              "239  warp          adadelta             10  ...    25.0  0.021056    240.0\n",
              "15   warp          adadelta             10  ...    40.0  0.020973     16.0\n",
              "121  warp           adagrad             10  ...    35.0  0.020942    122.0\n",
              "119  warp           adagrad             10  ...    25.0  0.020937    120.0\n",
              "122  warp           adagrad             10  ...    40.0  0.020935    123.0\n",
              "\n",
              "[10 rows x 16 columns]"
            ]
          },
          "metadata": {
            "tags": []
          },
          "execution_count": 28
        }
      ]
    },
    {
      "cell_type": "markdown",
      "metadata": {
        "id": "ezy_ClSlg5le",
        "colab_type": "text"
      },
      "source": [
        "Модель по добавленным фильмам в закладки"
      ]
    },
    {
      "cell_type": "code",
      "metadata": {
        "id": "IhbblBxIfLUA",
        "colab_type": "code",
        "colab": {}
      },
      "source": [
        "%%time\n",
        "\n",
        "search_param_lfm(\n",
        "    user_uid_series_train=bookmarks_train['user_uid'], \n",
        "    element_uid_series_train=bookmarks_train['element_uid'], \n",
        "    rating_series_train=bookmarks_train['add_bookmark'], \n",
        "    catalogue_ext=catalogue_ext,\n",
        "    transactions_test=transactions_test, \n",
        "    users=set(test_users) & set(bookmarks_train['user_uid']) & set(bookmarks_test['user_uid']), # пользователи встречаются train & test\n",
        "    filtered_elements_train=filtered_elements_train, \n",
        "    poor_films=[], \n",
        "    use_item_features=False,\n",
        "    max_epochs=40, \n",
        "    step_epochs=5, \n",
        "    params=params[13:], \n",
        "    results_path=os.path.join(DATA_PATH, 'models', 'result_bookmarks.csv')\n",
        ")"
      ],
      "execution_count": 0,
      "outputs": []
    },
    {
      "cell_type": "code",
      "metadata": {
        "id": "tjs0owodgSSb",
        "colab_type": "code",
        "outputId": "5df40c6c-cc05-480e-836b-020cb34c6436",
        "colab": {
          "base_uri": "https://localhost:8080/",
          "height": 371
        }
      },
      "source": [
        "result_bookmarks = pd.read_csv(os.path.join(DATA_PATH, 'models', 'result_bookmarks.csv'))\n",
        "result_bookmarks.sort_values(by='score', ascending=False).head(10)"
      ],
      "execution_count": 0,
      "outputs": [
        {
          "output_type": "execute_result",
          "data": {
            "text/html": [
              "<div>\n",
              "<style scoped>\n",
              "    .dataframe tbody tr th:only-of-type {\n",
              "        vertical-align: middle;\n",
              "    }\n",
              "\n",
              "    .dataframe tbody tr th {\n",
              "        vertical-align: top;\n",
              "    }\n",
              "\n",
              "    .dataframe thead th {\n",
              "        text-align: right;\n",
              "    }\n",
              "</style>\n",
              "<table border=\"1\" class=\"dataframe\">\n",
              "  <thead>\n",
              "    <tr style=\"text-align: right;\">\n",
              "      <th></th>\n",
              "      <th>loss</th>\n",
              "      <th>learning_schedule</th>\n",
              "      <th>no_components</th>\n",
              "      <th>learning_rate</th>\n",
              "      <th>k</th>\n",
              "      <th>n</th>\n",
              "      <th>rho</th>\n",
              "      <th>epsilon</th>\n",
              "      <th>max_sampled</th>\n",
              "      <th>item_alpha</th>\n",
              "      <th>user_alpha</th>\n",
              "      <th>random_state</th>\n",
              "      <th>use_item_features</th>\n",
              "      <th>epochs</th>\n",
              "      <th>score</th>\n",
              "      <th>n_model</th>\n",
              "    </tr>\n",
              "  </thead>\n",
              "  <tbody>\n",
              "    <tr>\n",
              "      <th>51</th>\n",
              "      <td>warp</td>\n",
              "      <td>adadelta</td>\n",
              "      <td>10</td>\n",
              "      <td>0.05</td>\n",
              "      <td>5</td>\n",
              "      <td>10</td>\n",
              "      <td>0.95</td>\n",
              "      <td>0.000001</td>\n",
              "      <td>10</td>\n",
              "      <td>0.001</td>\n",
              "      <td>0.001</td>\n",
              "      <td>RandomState(MT19937)</td>\n",
              "      <td>0.0</td>\n",
              "      <td>20.0</td>\n",
              "      <td>0.025828</td>\n",
              "      <td>52.0</td>\n",
              "    </tr>\n",
              "    <tr>\n",
              "      <th>55</th>\n",
              "      <td>warp</td>\n",
              "      <td>adadelta</td>\n",
              "      <td>10</td>\n",
              "      <td>0.05</td>\n",
              "      <td>5</td>\n",
              "      <td>10</td>\n",
              "      <td>0.95</td>\n",
              "      <td>0.000001</td>\n",
              "      <td>10</td>\n",
              "      <td>0.001</td>\n",
              "      <td>0.001</td>\n",
              "      <td>RandomState(MT19937)</td>\n",
              "      <td>0.0</td>\n",
              "      <td>40.0</td>\n",
              "      <td>0.025758</td>\n",
              "      <td>56.0</td>\n",
              "    </tr>\n",
              "    <tr>\n",
              "      <th>240</th>\n",
              "      <td>warp</td>\n",
              "      <td>adadelta</td>\n",
              "      <td>10</td>\n",
              "      <td>0.05</td>\n",
              "      <td>5</td>\n",
              "      <td>10</td>\n",
              "      <td>0.95</td>\n",
              "      <td>0.000001</td>\n",
              "      <td>100</td>\n",
              "      <td>0.005</td>\n",
              "      <td>0.005</td>\n",
              "      <td>RandomState(MT19937)</td>\n",
              "      <td>0.0</td>\n",
              "      <td>5.0</td>\n",
              "      <td>0.022511</td>\n",
              "      <td>241.0</td>\n",
              "    </tr>\n",
              "    <tr>\n",
              "      <th>33</th>\n",
              "      <td>warp</td>\n",
              "      <td>adadelta</td>\n",
              "      <td>200</td>\n",
              "      <td>0.01</td>\n",
              "      <td>5</td>\n",
              "      <td>10</td>\n",
              "      <td>0.95</td>\n",
              "      <td>0.000001</td>\n",
              "      <td>10</td>\n",
              "      <td>0.001</td>\n",
              "      <td>0.001</td>\n",
              "      <td>RandomState(MT19937)</td>\n",
              "      <td>0.0</td>\n",
              "      <td>10.0</td>\n",
              "      <td>0.021342</td>\n",
              "      <td>34.0</td>\n",
              "    </tr>\n",
              "    <tr>\n",
              "      <th>210</th>\n",
              "      <td>warp</td>\n",
              "      <td>adadelta</td>\n",
              "      <td>100</td>\n",
              "      <td>0.01</td>\n",
              "      <td>5</td>\n",
              "      <td>10</td>\n",
              "      <td>0.95</td>\n",
              "      <td>0.000001</td>\n",
              "      <td>100</td>\n",
              "      <td>0.005</td>\n",
              "      <td>0.005</td>\n",
              "      <td>RandomState(MT19937)</td>\n",
              "      <td>0.0</td>\n",
              "      <td>15.0</td>\n",
              "      <td>0.020062</td>\n",
              "      <td>211.0</td>\n",
              "    </tr>\n",
              "    <tr>\n",
              "      <th>62</th>\n",
              "      <td>warp</td>\n",
              "      <td>adadelta</td>\n",
              "      <td>10</td>\n",
              "      <td>0.05</td>\n",
              "      <td>5</td>\n",
              "      <td>10</td>\n",
              "      <td>0.95</td>\n",
              "      <td>0.000001</td>\n",
              "      <td>100</td>\n",
              "      <td>0.001</td>\n",
              "      <td>0.001</td>\n",
              "      <td>RandomState(MT19937)</td>\n",
              "      <td>0.0</td>\n",
              "      <td>35.0</td>\n",
              "      <td>0.020045</td>\n",
              "      <td>63.0</td>\n",
              "    </tr>\n",
              "    <tr>\n",
              "      <th>208</th>\n",
              "      <td>warp</td>\n",
              "      <td>adadelta</td>\n",
              "      <td>100</td>\n",
              "      <td>0.01</td>\n",
              "      <td>5</td>\n",
              "      <td>10</td>\n",
              "      <td>0.95</td>\n",
              "      <td>0.000001</td>\n",
              "      <td>100</td>\n",
              "      <td>0.005</td>\n",
              "      <td>0.005</td>\n",
              "      <td>RandomState(MT19937)</td>\n",
              "      <td>0.0</td>\n",
              "      <td>5.0</td>\n",
              "      <td>0.018943</td>\n",
              "      <td>209.0</td>\n",
              "    </tr>\n",
              "    <tr>\n",
              "      <th>38</th>\n",
              "      <td>warp</td>\n",
              "      <td>adadelta</td>\n",
              "      <td>200</td>\n",
              "      <td>0.01</td>\n",
              "      <td>5</td>\n",
              "      <td>10</td>\n",
              "      <td>0.95</td>\n",
              "      <td>0.000001</td>\n",
              "      <td>10</td>\n",
              "      <td>0.001</td>\n",
              "      <td>0.001</td>\n",
              "      <td>RandomState(MT19937)</td>\n",
              "      <td>0.0</td>\n",
              "      <td>35.0</td>\n",
              "      <td>0.018730</td>\n",
              "      <td>39.0</td>\n",
              "    </tr>\n",
              "    <tr>\n",
              "      <th>74</th>\n",
              "      <td>warp</td>\n",
              "      <td>adadelta</td>\n",
              "      <td>100</td>\n",
              "      <td>0.05</td>\n",
              "      <td>5</td>\n",
              "      <td>10</td>\n",
              "      <td>0.95</td>\n",
              "      <td>0.000001</td>\n",
              "      <td>100</td>\n",
              "      <td>0.001</td>\n",
              "      <td>0.001</td>\n",
              "      <td>RandomState(MT19937)</td>\n",
              "      <td>0.0</td>\n",
              "      <td>15.0</td>\n",
              "      <td>0.018518</td>\n",
              "      <td>75.0</td>\n",
              "    </tr>\n",
              "    <tr>\n",
              "      <th>168</th>\n",
              "      <td>warp</td>\n",
              "      <td>adadelta</td>\n",
              "      <td>100</td>\n",
              "      <td>0.05</td>\n",
              "      <td>5</td>\n",
              "      <td>10</td>\n",
              "      <td>0.95</td>\n",
              "      <td>0.000001</td>\n",
              "      <td>100</td>\n",
              "      <td>0.005</td>\n",
              "      <td>0.005</td>\n",
              "      <td>RandomState(MT19937)</td>\n",
              "      <td>0.0</td>\n",
              "      <td>5.0</td>\n",
              "      <td>0.018421</td>\n",
              "      <td>169.0</td>\n",
              "    </tr>\n",
              "  </tbody>\n",
              "</table>\n",
              "</div>"
            ],
            "text/plain": [
              "     loss learning_schedule  no_components  ...  epochs     score  n_model\n",
              "51   warp          adadelta             10  ...    20.0  0.025828     52.0\n",
              "55   warp          adadelta             10  ...    40.0  0.025758     56.0\n",
              "240  warp          adadelta             10  ...     5.0  0.022511    241.0\n",
              "33   warp          adadelta            200  ...    10.0  0.021342     34.0\n",
              "210  warp          adadelta            100  ...    15.0  0.020062    211.0\n",
              "62   warp          adadelta             10  ...    35.0  0.020045     63.0\n",
              "208  warp          adadelta            100  ...     5.0  0.018943    209.0\n",
              "38   warp          adadelta            200  ...    35.0  0.018730     39.0\n",
              "74   warp          adadelta            100  ...    15.0  0.018518     75.0\n",
              "168  warp          adadelta            100  ...     5.0  0.018421    169.0\n",
              "\n",
              "[10 rows x 16 columns]"
            ]
          },
          "metadata": {
            "tags": []
          },
          "execution_count": 15
        }
      ]
    },
    {
      "cell_type": "markdown",
      "metadata": {
        "id": "TbVXZUCdgw6C",
        "colab_type": "text"
      },
      "source": [
        "Модель по данным о доли времени просмотренных фильмов"
      ]
    },
    {
      "cell_type": "code",
      "metadata": {
        "id": "GxMxL4O7exkU",
        "colab_type": "code",
        "colab": {}
      },
      "source": [
        "%%time\n",
        "\n",
        "search_param_lfm(\n",
        "    user_uid_series_train=watched_share_train['user_uid'], \n",
        "    element_uid_series_train=watched_share_train['element_uid'], \n",
        "    rating_series_train=watched_share_train['watched_share'], \n",
        "    catalogue_ext=catalogue_ext,\n",
        "    transactions_test=transactions_test, \n",
        "    users=set(test_users) & set(watched_share_train['user_uid']) & set(watched_share_test['user_uid']), # пользователи встречаются train & test\n",
        "    filtered_elements_train=filtered_elements_train, \n",
        "    poor_films=[], \n",
        "    use_item_features=False,\n",
        "    max_epochs=40, \n",
        "    step_epochs=5, \n",
        "    params=params, \n",
        "    results_path=os.path.join(DATA_PATH, 'models', 'result_watched.csv')\n",
        ")"
      ],
      "execution_count": 0,
      "outputs": []
    },
    {
      "cell_type": "code",
      "metadata": {
        "id": "-OLDLnGQexf_",
        "colab_type": "code",
        "outputId": "38657957-85ce-4491-e641-5847adf4c291",
        "colab": {
          "base_uri": "https://localhost:8080/",
          "height": 371
        }
      },
      "source": [
        "result_watched = pd.read_csv(os.path.join(DATA_PATH, 'models', 'result_watched.csv'))\n",
        "result_watched.sort_values(by='score', ascending=False).head(10)"
      ],
      "execution_count": 0,
      "outputs": [
        {
          "output_type": "execute_result",
          "data": {
            "text/html": [
              "<div>\n",
              "<style scoped>\n",
              "    .dataframe tbody tr th:only-of-type {\n",
              "        vertical-align: middle;\n",
              "    }\n",
              "\n",
              "    .dataframe tbody tr th {\n",
              "        vertical-align: top;\n",
              "    }\n",
              "\n",
              "    .dataframe thead th {\n",
              "        text-align: right;\n",
              "    }\n",
              "</style>\n",
              "<table border=\"1\" class=\"dataframe\">\n",
              "  <thead>\n",
              "    <tr style=\"text-align: right;\">\n",
              "      <th></th>\n",
              "      <th>loss</th>\n",
              "      <th>learning_schedule</th>\n",
              "      <th>no_components</th>\n",
              "      <th>learning_rate</th>\n",
              "      <th>k</th>\n",
              "      <th>n</th>\n",
              "      <th>rho</th>\n",
              "      <th>epsilon</th>\n",
              "      <th>max_sampled</th>\n",
              "      <th>item_alpha</th>\n",
              "      <th>user_alpha</th>\n",
              "      <th>random_state</th>\n",
              "      <th>use_item_features</th>\n",
              "      <th>epochs</th>\n",
              "      <th>score</th>\n",
              "      <th>n_model</th>\n",
              "    </tr>\n",
              "  </thead>\n",
              "  <tbody>\n",
              "    <tr>\n",
              "      <th>1</th>\n",
              "      <td>warp</td>\n",
              "      <td>adadelta</td>\n",
              "      <td>10</td>\n",
              "      <td>0.01</td>\n",
              "      <td>5</td>\n",
              "      <td>10</td>\n",
              "      <td>0.95</td>\n",
              "      <td>0.000001</td>\n",
              "      <td>10</td>\n",
              "      <td>0.001</td>\n",
              "      <td>0.001</td>\n",
              "      <td>RandomState(MT19937)</td>\n",
              "      <td>0.0</td>\n",
              "      <td>10.0</td>\n",
              "      <td>0.016264</td>\n",
              "      <td>2.0</td>\n",
              "    </tr>\n",
              "    <tr>\n",
              "      <th>6</th>\n",
              "      <td>warp</td>\n",
              "      <td>adadelta</td>\n",
              "      <td>10</td>\n",
              "      <td>0.01</td>\n",
              "      <td>5</td>\n",
              "      <td>10</td>\n",
              "      <td>0.95</td>\n",
              "      <td>0.000001</td>\n",
              "      <td>10</td>\n",
              "      <td>0.001</td>\n",
              "      <td>0.001</td>\n",
              "      <td>RandomState(MT19937)</td>\n",
              "      <td>0.0</td>\n",
              "      <td>35.0</td>\n",
              "      <td>0.015582</td>\n",
              "      <td>7.0</td>\n",
              "    </tr>\n",
              "    <tr>\n",
              "      <th>52</th>\n",
              "      <td>warp</td>\n",
              "      <td>adadelta</td>\n",
              "      <td>10</td>\n",
              "      <td>0.05</td>\n",
              "      <td>5</td>\n",
              "      <td>10</td>\n",
              "      <td>0.95</td>\n",
              "      <td>0.000001</td>\n",
              "      <td>10</td>\n",
              "      <td>0.001</td>\n",
              "      <td>0.001</td>\n",
              "      <td>RandomState(MT19937)</td>\n",
              "      <td>0.0</td>\n",
              "      <td>25.0</td>\n",
              "      <td>0.015537</td>\n",
              "      <td>53.0</td>\n",
              "    </tr>\n",
              "    <tr>\n",
              "      <th>7</th>\n",
              "      <td>warp</td>\n",
              "      <td>adadelta</td>\n",
              "      <td>10</td>\n",
              "      <td>0.01</td>\n",
              "      <td>5</td>\n",
              "      <td>10</td>\n",
              "      <td>0.95</td>\n",
              "      <td>0.000001</td>\n",
              "      <td>10</td>\n",
              "      <td>0.001</td>\n",
              "      <td>0.001</td>\n",
              "      <td>RandomState(MT19937)</td>\n",
              "      <td>0.0</td>\n",
              "      <td>40.0</td>\n",
              "      <td>0.014828</td>\n",
              "      <td>8.0</td>\n",
              "    </tr>\n",
              "    <tr>\n",
              "      <th>100</th>\n",
              "      <td>warp</td>\n",
              "      <td>adadelta</td>\n",
              "      <td>10</td>\n",
              "      <td>0.01</td>\n",
              "      <td>5</td>\n",
              "      <td>10</td>\n",
              "      <td>0.95</td>\n",
              "      <td>0.000001</td>\n",
              "      <td>10</td>\n",
              "      <td>0.005</td>\n",
              "      <td>0.005</td>\n",
              "      <td>RandomState(MT19937)</td>\n",
              "      <td>0.0</td>\n",
              "      <td>25.0</td>\n",
              "      <td>0.014669</td>\n",
              "      <td>101.0</td>\n",
              "    </tr>\n",
              "    <tr>\n",
              "      <th>55</th>\n",
              "      <td>warp</td>\n",
              "      <td>adadelta</td>\n",
              "      <td>10</td>\n",
              "      <td>0.05</td>\n",
              "      <td>5</td>\n",
              "      <td>10</td>\n",
              "      <td>0.95</td>\n",
              "      <td>0.000001</td>\n",
              "      <td>10</td>\n",
              "      <td>0.001</td>\n",
              "      <td>0.001</td>\n",
              "      <td>RandomState(MT19937)</td>\n",
              "      <td>0.0</td>\n",
              "      <td>40.0</td>\n",
              "      <td>0.014004</td>\n",
              "      <td>56.0</td>\n",
              "    </tr>\n",
              "    <tr>\n",
              "      <th>61</th>\n",
              "      <td>warp</td>\n",
              "      <td>adadelta</td>\n",
              "      <td>10</td>\n",
              "      <td>0.05</td>\n",
              "      <td>5</td>\n",
              "      <td>10</td>\n",
              "      <td>0.95</td>\n",
              "      <td>0.000001</td>\n",
              "      <td>100</td>\n",
              "      <td>0.001</td>\n",
              "      <td>0.001</td>\n",
              "      <td>RandomState(MT19937)</td>\n",
              "      <td>0.0</td>\n",
              "      <td>30.0</td>\n",
              "      <td>0.013982</td>\n",
              "      <td>62.0</td>\n",
              "    </tr>\n",
              "    <tr>\n",
              "      <th>54</th>\n",
              "      <td>warp</td>\n",
              "      <td>adadelta</td>\n",
              "      <td>10</td>\n",
              "      <td>0.05</td>\n",
              "      <td>5</td>\n",
              "      <td>10</td>\n",
              "      <td>0.95</td>\n",
              "      <td>0.000001</td>\n",
              "      <td>10</td>\n",
              "      <td>0.001</td>\n",
              "      <td>0.001</td>\n",
              "      <td>RandomState(MT19937)</td>\n",
              "      <td>0.0</td>\n",
              "      <td>35.0</td>\n",
              "      <td>0.013682</td>\n",
              "      <td>55.0</td>\n",
              "    </tr>\n",
              "    <tr>\n",
              "      <th>53</th>\n",
              "      <td>warp</td>\n",
              "      <td>adadelta</td>\n",
              "      <td>10</td>\n",
              "      <td>0.05</td>\n",
              "      <td>5</td>\n",
              "      <td>10</td>\n",
              "      <td>0.95</td>\n",
              "      <td>0.000001</td>\n",
              "      <td>10</td>\n",
              "      <td>0.001</td>\n",
              "      <td>0.001</td>\n",
              "      <td>RandomState(MT19937)</td>\n",
              "      <td>0.0</td>\n",
              "      <td>30.0</td>\n",
              "      <td>0.013577</td>\n",
              "      <td>54.0</td>\n",
              "    </tr>\n",
              "    <tr>\n",
              "      <th>96</th>\n",
              "      <td>warp</td>\n",
              "      <td>adadelta</td>\n",
              "      <td>10</td>\n",
              "      <td>0.01</td>\n",
              "      <td>5</td>\n",
              "      <td>10</td>\n",
              "      <td>0.95</td>\n",
              "      <td>0.000001</td>\n",
              "      <td>10</td>\n",
              "      <td>0.005</td>\n",
              "      <td>0.005</td>\n",
              "      <td>RandomState(MT19937)</td>\n",
              "      <td>0.0</td>\n",
              "      <td>5.0</td>\n",
              "      <td>0.013559</td>\n",
              "      <td>97.0</td>\n",
              "    </tr>\n",
              "  </tbody>\n",
              "</table>\n",
              "</div>"
            ],
            "text/plain": [
              "     loss learning_schedule  no_components  ...  epochs     score  n_model\n",
              "1    warp          adadelta             10  ...    10.0  0.016264      2.0\n",
              "6    warp          adadelta             10  ...    35.0  0.015582      7.0\n",
              "52   warp          adadelta             10  ...    25.0  0.015537     53.0\n",
              "7    warp          adadelta             10  ...    40.0  0.014828      8.0\n",
              "100  warp          adadelta             10  ...    25.0  0.014669    101.0\n",
              "55   warp          adadelta             10  ...    40.0  0.014004     56.0\n",
              "61   warp          adadelta             10  ...    30.0  0.013982     62.0\n",
              "54   warp          adadelta             10  ...    35.0  0.013682     55.0\n",
              "53   warp          adadelta             10  ...    30.0  0.013577     54.0\n",
              "96   warp          adadelta             10  ...     5.0  0.013559     97.0\n",
              "\n",
              "[10 rows x 16 columns]"
            ]
          },
          "metadata": {
            "tags": []
          },
          "execution_count": 18
        }
      ]
    },
    {
      "cell_type": "markdown",
      "metadata": {
        "id": "C3qU1sSwCMPu",
        "colab_type": "text"
      },
      "source": [
        "Получение прогнозов от LightFM"
      ]
    },
    {
      "cell_type": "code",
      "metadata": {
        "id": "SvHDblQIfH3H",
        "colab_type": "code",
        "outputId": "080f2a66-2485-4b02-e460-d572d9a2e7ac",
        "colab": {
          "base_uri": "https://localhost:8080/",
          "height": 52
        }
      },
      "source": [
        "%%time\n",
        "\n",
        "user_pred_merged_lfm_train1 = create_merged_user_dict_lfm(\n",
        "    ratings_train=ratings_train1, \n",
        "    bookmarks_train=bookmarks_train1, \n",
        "    watched_share_train=watched_share_train1, \n",
        "    transactions_test=transactions_train2, \n",
        "    catalogue_ext=catalogue_ext,\n",
        "    file_params_rating=os.path.join(DATA_PATH, 'models', 'result_rating.csv'), \n",
        "    file_params_bookmarks=os.path.join(DATA_PATH, 'models', 'result_bookmarks.csv'), \n",
        "    file_params_watched=os.path.join(DATA_PATH, 'models', 'result_watched.csv'),\n",
        "    filtered_elements_train=filtered_elements_train1, \n",
        "    test_users=test_users, \n",
        "    top_pred=200\n",
        ")\n",
        "joblib.dump(user_pred_merged_lfm_train1, os.path.join(DATA_PATH, 'models', 'user_pred_merged_lfm_train1.pkl'))"
      ],
      "execution_count": 0,
      "outputs": [
        {
          "output_type": "stream",
          "text": [
            "CPU times: user 7min 38s, sys: 2.06 s, total: 7min 40s\n",
            "Wall time: 2min 6s\n"
          ],
          "name": "stdout"
        }
      ]
    },
    {
      "cell_type": "code",
      "metadata": {
        "id": "7iOjCQKnTu0i",
        "colab_type": "code",
        "outputId": "2fb3a080-681a-4446-ac52-b670904878c9",
        "colab": {
          "base_uri": "https://localhost:8080/",
          "height": 52
        }
      },
      "source": [
        "%%time\n",
        "\n",
        "user_pred_merged_lfm_train = create_merged_user_dict_lfm(\n",
        "    ratings_train=ratings_train, \n",
        "    bookmarks_train=bookmarks_train, \n",
        "    watched_share_train=watched_share_train, \n",
        "    transactions_test=transactions_test, \n",
        "    catalogue_ext=catalogue_ext,\n",
        "    file_params_rating=os.path.join(DATA_PATH, 'models', 'result_rating.csv'), \n",
        "    file_params_bookmarks=os.path.join(DATA_PATH, 'models', 'result_bookmarks.csv'), \n",
        "    file_params_watched=os.path.join(DATA_PATH, 'models', 'result_watched.csv'),\n",
        "    filtered_elements_train=filtered_elements_train, \n",
        "    test_users=test_users, \n",
        "    top_pred=200\n",
        ")\n",
        "joblib.dump(user_pred_merged_lfm_train, os.path.join(DATA_PATH, 'models', 'user_pred_merged_lfm_train.pkl'))"
      ],
      "execution_count": 0,
      "outputs": [
        {
          "output_type": "stream",
          "text": [
            "CPU times: user 12min 20s, sys: 3.57 s, total: 12min 24s\n",
            "Wall time: 3min 18s\n"
          ],
          "name": "stdout"
        }
      ]
    },
    {
      "cell_type": "code",
      "metadata": {
        "id": "LDmezvxnm1IW",
        "colab_type": "code",
        "outputId": "399cfba8-2e38-4ca4-c8a9-e8f5b9a068e1",
        "colab": {
          "base_uri": "https://localhost:8080/",
          "height": 52
        }
      },
      "source": [
        "%%time\n",
        "\n",
        "user_pred_merged_lfm = create_merged_user_dict_lfm(\n",
        "    ratings_train=ratings, \n",
        "    bookmarks_train=bookmarks, \n",
        "    watched_share_train=watched_share, \n",
        "    transactions_test=None, \n",
        "    catalogue_ext=catalogue_ext,\n",
        "    file_params_rating=os.path.join(DATA_PATH, 'models', 'result_rating.csv'), \n",
        "    file_params_bookmarks=os.path.join(DATA_PATH, 'models', 'result_bookmarks.csv'), \n",
        "    file_params_watched=os.path.join(DATA_PATH, 'models', 'result_watched.csv'),\n",
        "    filtered_elements_train=filtered_elements, \n",
        "    test_users=test_users, \n",
        "    top_pred=200\n",
        ")\n",
        "joblib.dump(user_pred_merged_lfm, os.path.join(DATA_PATH, 'models', 'user_pred_merged_lfm.pkl'))"
      ],
      "execution_count": 0,
      "outputs": [
        {
          "output_type": "stream",
          "text": [
            "CPU times: user 16min 55s, sys: 4.54 s, total: 17min\n",
            "Wall time: 4min 33s\n"
          ],
          "name": "stdout"
        }
      ]
    },
    {
      "cell_type": "code",
      "metadata": {
        "id": "xcB-nzsTurQl",
        "colab_type": "code",
        "colab": {}
      },
      "source": [
        ""
      ],
      "execution_count": 0,
      "outputs": []
    },
    {
      "cell_type": "code",
      "metadata": {
        "id": "TqF_wE4R-qGE",
        "colab_type": "code",
        "colab": {}
      },
      "source": [
        ""
      ],
      "execution_count": 0,
      "outputs": []
    },
    {
      "cell_type": "code",
      "metadata": {
        "id": "xqQ23VvH-qcS",
        "colab_type": "code",
        "colab": {}
      },
      "source": [
        ""
      ],
      "execution_count": 0,
      "outputs": []
    },
    {
      "cell_type": "code",
      "metadata": {
        "id": "rKIMHotpureJ",
        "colab_type": "code",
        "colab": {}
      },
      "source": [
        ""
      ],
      "execution_count": 0,
      "outputs": []
    },
    {
      "cell_type": "markdown",
      "metadata": {
        "id": "51NKATak8MQ_",
        "colab_type": "text"
      },
      "source": [
        "Подбор параметров для B25"
      ]
    },
    {
      "cell_type": "code",
      "metadata": {
        "id": "Uun6VWYVxYET",
        "colab_type": "code",
        "colab": {}
      },
      "source": [
        "def create_user_dict_from_data_TFIDF(model, user_uid_series, element_uid_series, rating_series, \n",
        "                                     filtered_elements, poor_films, users, top_pred=20):\n",
        "    '''Получение прогнозов от модели TFIDF'''\n",
        "\n",
        "    # подготовка данных для модели\n",
        "    user_uid = user_uid_series.astype('category')\n",
        "    element_uid = element_uid_series.astype('category')\n",
        "\n",
        "    ratings_matrix = sp.coo_matrix(\n",
        "        (rating_series.astype(np.float32) + 1,\n",
        "            (\n",
        "                element_uid.cat.codes.copy(),\n",
        "                user_uid.cat.codes.copy()\n",
        "            )\n",
        "        )\n",
        "    )\n",
        "    ratings_matrix = ratings_matrix.tocsr()\n",
        "\n",
        "    # обучение модели\n",
        "    #model_TFIDF = TFIDFRecommender(K=K)\n",
        "    model.fit(ratings_matrix)\n",
        "\n",
        "    # подготовка данных для прогноза\n",
        "    ratings_matrix_T = ratings_matrix.T.tocsr()\n",
        "\n",
        "    user_uid_to_cat = dict(zip(\n",
        "        user_uid.cat.categories,\n",
        "        range(len(user_uid.cat.categories))\n",
        "    ))\n",
        "\n",
        "    element_uid_to_cat = dict(zip(\n",
        "        element_uid.cat.categories,\n",
        "        range(len(element_uid.cat.categories))\n",
        "    ))\n",
        "\n",
        "    filtered_elements_cat = {k: [element_uid_to_cat.get(x, None) for x in v] for k, v in filtered_elements.items()}\n",
        "\n",
        "    # построение прогноза\n",
        "    result = {}\n",
        "\n",
        "    for user_uid in users:\n",
        "        # transform user_uid to model's internal user category\n",
        "        try:\n",
        "            user_cat = user_uid_to_cat[user_uid]\n",
        "        except LookupError:\n",
        "            continue\n",
        "        \n",
        "        # perform inference\n",
        "        recs = model.recommend(\n",
        "            user_cat,\n",
        "            ratings_matrix_T,\n",
        "            N=top_pred,\n",
        "            filter_already_liked_items=True,\n",
        "            filter_items=set(filtered_elements_cat.get(user_uid, set())) | set(poor_films)\n",
        "        )\n",
        "        \n",
        "        # drop scores and transform model's internal elelemnt category to element_uid for every prediction\n",
        "        # also convert np.uint64 to int so it could be json serialized later\n",
        "        result[user_uid] = [int(element_uid.cat.categories[i]) for i, _ in recs]\n",
        "\n",
        "    return result\n",
        "\n",
        "def create_merged_user_dict_TFIDF(ratings, bookmarks, watched_share,\n",
        "                                  model_ratings, model_bookmarks, model_watched,\n",
        "                                  filtered_elements, test_users, top_pred):\n",
        "\n",
        "    user_pred_rating = create_user_dict_from_data_TFIDF(\n",
        "        model_ratings,\n",
        "        ratings['user_uid'], \n",
        "        ratings['element_uid'], \n",
        "        ratings['rating'], \n",
        "        filtered_elements, \n",
        "        [],\n",
        "        test_users,\n",
        "        top_pred\n",
        "    )\n",
        "\n",
        "    user_pred_bookmarks = create_user_dict_from_data_TFIDF(\n",
        "        model_bookmarks,\n",
        "        bookmarks['user_uid'], \n",
        "        bookmarks['element_uid'], \n",
        "        bookmarks['add_bookmark'], \n",
        "        filtered_elements, \n",
        "        [],\n",
        "        test_users,\n",
        "        top_pred\n",
        "    )\n",
        "\n",
        "    user_pred_watched = create_user_dict_from_data_TFIDF(\n",
        "        model_watched,\n",
        "        watched_share['user_uid'], \n",
        "        watched_share['element_uid'], \n",
        "        watched_share['watched_share'], \n",
        "        filtered_elements, \n",
        "        [],\n",
        "        test_users,\n",
        "        top_pred\n",
        "    )\n",
        "\n",
        "    user_pred_merged = merge_user_pred_prior(\n",
        "        user_pred_list=[user_pred_watched, user_pred_rating, user_pred_bookmarks], \n",
        "        order=[0, 1, 2],\n",
        "        test_users=test_users\n",
        "    )\n",
        "\n",
        "    return user_pred_merged"
      ],
      "execution_count": 0,
      "outputs": []
    },
    {
      "cell_type": "code",
      "metadata": {
        "id": "I1XBF5U9yRDn",
        "colab_type": "code",
        "colab": {}
      },
      "source": [
        "K_list = np.arange(50, 500, 50)\n",
        "B_list = np.arange(0.1, 1, 0.2)\n",
        "params = list(product(K_list, B_list))"
      ],
      "execution_count": 0,
      "outputs": []
    },
    {
      "cell_type": "code",
      "metadata": {
        "id": "rvpEm6hmHcko",
        "colab_type": "code",
        "colab": {}
      },
      "source": [
        "%%time\n",
        "\n",
        "result = pd.DataFrame(params, columns=['K', 'B'])\n",
        "\n",
        "for index, rec in tqdm(result.iterrows(), total=result.shape[0]):\n",
        "    K = int(rec['K'])\n",
        "    B = rec['B']\n",
        "\n",
        "    users = set(test_users) & set(ratings_train['user_uid']) & set(ratings_test['user_uid'])\n",
        "    user_pred = create_user_dict_from_data_TFIDF(\n",
        "        #TFIDFRecommender(K=K),\n",
        "        BM25Recommender(K=K, B=B),\n",
        "        ratings_train['user_uid'], \n",
        "        ratings_train['element_uid'], \n",
        "        ratings_train['rating'], \n",
        "        filtered_elements_train, \n",
        "        [],\n",
        "        users,\n",
        "    )\n",
        "    true_data = create_true_data(transactions_test, users)\n",
        "    result.loc[index, 'score'] = metric(true_data, user_pred, k=20)\n",
        "\n",
        "result.sort_values(by='score', ascending=False).head(10)"
      ],
      "execution_count": 0,
      "outputs": []
    },
    {
      "cell_type": "code",
      "metadata": {
        "id": "YUrgf3_heEoJ",
        "colab_type": "code",
        "outputId": "955e29c8-def3-47c3-9c0d-d5c40dbbec14",
        "colab": {
          "base_uri": "https://localhost:8080/",
          "height": 355
        }
      },
      "source": [
        "result.sort_values(by='score', ascending=False).head(10)"
      ],
      "execution_count": 0,
      "outputs": [
        {
          "output_type": "execute_result",
          "data": {
            "text/html": [
              "<div>\n",
              "<style scoped>\n",
              "    .dataframe tbody tr th:only-of-type {\n",
              "        vertical-align: middle;\n",
              "    }\n",
              "\n",
              "    .dataframe tbody tr th {\n",
              "        vertical-align: top;\n",
              "    }\n",
              "\n",
              "    .dataframe thead th {\n",
              "        text-align: right;\n",
              "    }\n",
              "</style>\n",
              "<table border=\"1\" class=\"dataframe\">\n",
              "  <thead>\n",
              "    <tr style=\"text-align: right;\">\n",
              "      <th></th>\n",
              "      <th>K</th>\n",
              "      <th>B</th>\n",
              "      <th>score</th>\n",
              "    </tr>\n",
              "  </thead>\n",
              "  <tbody>\n",
              "    <tr>\n",
              "      <th>26</th>\n",
              "      <td>300</td>\n",
              "      <td>0.3</td>\n",
              "      <td>0.020211</td>\n",
              "    </tr>\n",
              "    <tr>\n",
              "      <th>36</th>\n",
              "      <td>400</td>\n",
              "      <td>0.3</td>\n",
              "      <td>0.020210</td>\n",
              "    </tr>\n",
              "    <tr>\n",
              "      <th>21</th>\n",
              "      <td>250</td>\n",
              "      <td>0.3</td>\n",
              "      <td>0.020210</td>\n",
              "    </tr>\n",
              "    <tr>\n",
              "      <th>31</th>\n",
              "      <td>350</td>\n",
              "      <td>0.3</td>\n",
              "      <td>0.020197</td>\n",
              "    </tr>\n",
              "    <tr>\n",
              "      <th>41</th>\n",
              "      <td>450</td>\n",
              "      <td>0.3</td>\n",
              "      <td>0.020189</td>\n",
              "    </tr>\n",
              "    <tr>\n",
              "      <th>16</th>\n",
              "      <td>200</td>\n",
              "      <td>0.3</td>\n",
              "      <td>0.020141</td>\n",
              "    </tr>\n",
              "    <tr>\n",
              "      <th>6</th>\n",
              "      <td>100</td>\n",
              "      <td>0.3</td>\n",
              "      <td>0.020102</td>\n",
              "    </tr>\n",
              "    <tr>\n",
              "      <th>1</th>\n",
              "      <td>50</td>\n",
              "      <td>0.3</td>\n",
              "      <td>0.019957</td>\n",
              "    </tr>\n",
              "    <tr>\n",
              "      <th>15</th>\n",
              "      <td>200</td>\n",
              "      <td>0.1</td>\n",
              "      <td>0.019931</td>\n",
              "    </tr>\n",
              "    <tr>\n",
              "      <th>10</th>\n",
              "      <td>150</td>\n",
              "      <td>0.1</td>\n",
              "      <td>0.019930</td>\n",
              "    </tr>\n",
              "  </tbody>\n",
              "</table>\n",
              "</div>"
            ],
            "text/plain": [
              "      K    B     score\n",
              "26  300  0.3  0.020211\n",
              "36  400  0.3  0.020210\n",
              "21  250  0.3  0.020210\n",
              "31  350  0.3  0.020197\n",
              "41  450  0.3  0.020189\n",
              "16  200  0.3  0.020141\n",
              "6   100  0.3  0.020102\n",
              "1    50  0.3  0.019957\n",
              "15  200  0.1  0.019931\n",
              "10  150  0.1  0.019930"
            ]
          },
          "metadata": {
            "tags": []
          },
          "execution_count": 66
        }
      ]
    },
    {
      "cell_type": "code",
      "metadata": {
        "id": "5ip26jsL2gMZ",
        "colab_type": "code",
        "colab": {}
      },
      "source": [
        "K_list = np.arange(50, 500, 50)\n",
        "B_list = np.arange(0.1, 1, 0.2)\n",
        "params = list(product(K_list, B_list))"
      ],
      "execution_count": 0,
      "outputs": []
    },
    {
      "cell_type": "code",
      "metadata": {
        "id": "p7dqGHMJItF7",
        "colab_type": "code",
        "colab": {}
      },
      "source": [
        "%%time\n",
        "\n",
        "result = pd.DataFrame(params, columns=['K', 'B'])\n",
        "for index, rec in tqdm(result.iterrows(), total=result.shape[0]):\n",
        "    K = int(rec['K'])\n",
        "    B = rec['B']\n",
        "\n",
        "    users = set(test_users) & set(bookmarks_train['user_uid']) & set(bookmarks_test['user_uid'])\n",
        "    user_pred = create_user_dict_from_data_TFIDF(\n",
        "        BM25Recommender(K=K, B=B),\n",
        "        bookmarks_train['user_uid'], \n",
        "        bookmarks_train['element_uid'], \n",
        "        bookmarks_train['add_bookmark'], \n",
        "        filtered_elements_train, \n",
        "        [],\n",
        "        users,\n",
        "    )\n",
        "    true_data = create_true_data(transactions_test, users)\n",
        "    result.loc[index, 'score'] = metric(true_data, user_pred, k=20)"
      ],
      "execution_count": 0,
      "outputs": []
    },
    {
      "cell_type": "code",
      "metadata": {
        "id": "EVIm_amDYXNS",
        "colab_type": "code",
        "outputId": "cd676fd2-f995-4bea-8948-c1aefc317f60",
        "colab": {
          "base_uri": "https://localhost:8080/",
          "height": 355
        }
      },
      "source": [
        "result.sort_values(by='score', ascending=False).head(10)"
      ],
      "execution_count": 0,
      "outputs": [
        {
          "output_type": "execute_result",
          "data": {
            "text/html": [
              "<div>\n",
              "<style scoped>\n",
              "    .dataframe tbody tr th:only-of-type {\n",
              "        vertical-align: middle;\n",
              "    }\n",
              "\n",
              "    .dataframe tbody tr th {\n",
              "        vertical-align: top;\n",
              "    }\n",
              "\n",
              "    .dataframe thead th {\n",
              "        text-align: right;\n",
              "    }\n",
              "</style>\n",
              "<table border=\"1\" class=\"dataframe\">\n",
              "  <thead>\n",
              "    <tr style=\"text-align: right;\">\n",
              "      <th></th>\n",
              "      <th>K</th>\n",
              "      <th>B</th>\n",
              "      <th>score</th>\n",
              "    </tr>\n",
              "  </thead>\n",
              "  <tbody>\n",
              "    <tr>\n",
              "      <th>40</th>\n",
              "      <td>450</td>\n",
              "      <td>0.1</td>\n",
              "      <td>0.012928</td>\n",
              "    </tr>\n",
              "    <tr>\n",
              "      <th>30</th>\n",
              "      <td>350</td>\n",
              "      <td>0.1</td>\n",
              "      <td>0.012927</td>\n",
              "    </tr>\n",
              "    <tr>\n",
              "      <th>35</th>\n",
              "      <td>400</td>\n",
              "      <td>0.1</td>\n",
              "      <td>0.012927</td>\n",
              "    </tr>\n",
              "    <tr>\n",
              "      <th>25</th>\n",
              "      <td>300</td>\n",
              "      <td>0.1</td>\n",
              "      <td>0.012915</td>\n",
              "    </tr>\n",
              "    <tr>\n",
              "      <th>20</th>\n",
              "      <td>250</td>\n",
              "      <td>0.1</td>\n",
              "      <td>0.012794</td>\n",
              "    </tr>\n",
              "    <tr>\n",
              "      <th>15</th>\n",
              "      <td>200</td>\n",
              "      <td>0.1</td>\n",
              "      <td>0.012775</td>\n",
              "    </tr>\n",
              "    <tr>\n",
              "      <th>5</th>\n",
              "      <td>100</td>\n",
              "      <td>0.1</td>\n",
              "      <td>0.012738</td>\n",
              "    </tr>\n",
              "    <tr>\n",
              "      <th>10</th>\n",
              "      <td>150</td>\n",
              "      <td>0.1</td>\n",
              "      <td>0.012719</td>\n",
              "    </tr>\n",
              "    <tr>\n",
              "      <th>0</th>\n",
              "      <td>50</td>\n",
              "      <td>0.1</td>\n",
              "      <td>0.012243</td>\n",
              "    </tr>\n",
              "    <tr>\n",
              "      <th>31</th>\n",
              "      <td>350</td>\n",
              "      <td>0.3</td>\n",
              "      <td>0.011077</td>\n",
              "    </tr>\n",
              "  </tbody>\n",
              "</table>\n",
              "</div>"
            ],
            "text/plain": [
              "      K    B     score\n",
              "40  450  0.1  0.012928\n",
              "30  350  0.1  0.012927\n",
              "35  400  0.1  0.012927\n",
              "25  300  0.1  0.012915\n",
              "20  250  0.1  0.012794\n",
              "15  200  0.1  0.012775\n",
              "5   100  0.1  0.012738\n",
              "10  150  0.1  0.012719\n",
              "0    50  0.1  0.012243\n",
              "31  350  0.3  0.011077"
            ]
          },
          "metadata": {
            "tags": []
          },
          "execution_count": 69
        }
      ]
    },
    {
      "cell_type": "code",
      "metadata": {
        "id": "lZY4xi7Waw5c",
        "colab_type": "code",
        "colab": {}
      },
      "source": [
        "K_list = np.arange(50, 500, 50)\n",
        "B_list = np.arange(0.1, 1, 0.2)\n",
        "params = list(product(K_list, B_list))"
      ],
      "execution_count": 0,
      "outputs": []
    },
    {
      "cell_type": "code",
      "metadata": {
        "id": "v5aVixM-aw2j",
        "colab_type": "code",
        "colab": {}
      },
      "source": [
        "%%time\n",
        "\n",
        "result = pd.DataFrame(params, columns=['K', 'B'])\n",
        "for index, rec in tqdm(result.iterrows(), total=result.shape[0]):\n",
        "    K = int(rec['K'])\n",
        "    B = rec['B']\n",
        "\n",
        "    users = set(test_users) & set(watched_share_train['user_uid']) & set(watched_share_test['user_uid'])\n",
        "    user_pred = create_user_dict_from_data_TFIDF(\n",
        "        BM25Recommender(K=K, B=B),\n",
        "        watched_share_train['user_uid'], \n",
        "        watched_share_train['element_uid'], \n",
        "        watched_share_train['watched_share'], \n",
        "        filtered_elements_train, \n",
        "        [],\n",
        "        users,\n",
        "    )\n",
        "    true_data = create_true_data(transactions_test, users)\n",
        "    result.loc[index, 'score'] = metric(true_data, user_pred, k=20)"
      ],
      "execution_count": 0,
      "outputs": []
    },
    {
      "cell_type": "code",
      "metadata": {
        "id": "gmRCYwomhAV3",
        "colab_type": "code",
        "outputId": "1b4c92c9-c3c1-4e23-8565-d6c21b65ac00",
        "colab": {
          "base_uri": "https://localhost:8080/",
          "height": 355
        }
      },
      "source": [
        "result.sort_values(by='score', ascending=False).head(10)"
      ],
      "execution_count": 0,
      "outputs": [
        {
          "output_type": "execute_result",
          "data": {
            "text/html": [
              "<div>\n",
              "<style scoped>\n",
              "    .dataframe tbody tr th:only-of-type {\n",
              "        vertical-align: middle;\n",
              "    }\n",
              "\n",
              "    .dataframe tbody tr th {\n",
              "        vertical-align: top;\n",
              "    }\n",
              "\n",
              "    .dataframe thead th {\n",
              "        text-align: right;\n",
              "    }\n",
              "</style>\n",
              "<table border=\"1\" class=\"dataframe\">\n",
              "  <thead>\n",
              "    <tr style=\"text-align: right;\">\n",
              "      <th></th>\n",
              "      <th>K</th>\n",
              "      <th>B</th>\n",
              "      <th>score</th>\n",
              "    </tr>\n",
              "  </thead>\n",
              "  <tbody>\n",
              "    <tr>\n",
              "      <th>41</th>\n",
              "      <td>450</td>\n",
              "      <td>0.3</td>\n",
              "      <td>0.024168</td>\n",
              "    </tr>\n",
              "    <tr>\n",
              "      <th>31</th>\n",
              "      <td>350</td>\n",
              "      <td>0.3</td>\n",
              "      <td>0.024148</td>\n",
              "    </tr>\n",
              "    <tr>\n",
              "      <th>36</th>\n",
              "      <td>400</td>\n",
              "      <td>0.3</td>\n",
              "      <td>0.024141</td>\n",
              "    </tr>\n",
              "    <tr>\n",
              "      <th>16</th>\n",
              "      <td>200</td>\n",
              "      <td>0.3</td>\n",
              "      <td>0.024135</td>\n",
              "    </tr>\n",
              "    <tr>\n",
              "      <th>26</th>\n",
              "      <td>300</td>\n",
              "      <td>0.3</td>\n",
              "      <td>0.024100</td>\n",
              "    </tr>\n",
              "    <tr>\n",
              "      <th>21</th>\n",
              "      <td>250</td>\n",
              "      <td>0.3</td>\n",
              "      <td>0.024068</td>\n",
              "    </tr>\n",
              "    <tr>\n",
              "      <th>11</th>\n",
              "      <td>150</td>\n",
              "      <td>0.3</td>\n",
              "      <td>0.024002</td>\n",
              "    </tr>\n",
              "    <tr>\n",
              "      <th>40</th>\n",
              "      <td>450</td>\n",
              "      <td>0.1</td>\n",
              "      <td>0.023977</td>\n",
              "    </tr>\n",
              "    <tr>\n",
              "      <th>6</th>\n",
              "      <td>100</td>\n",
              "      <td>0.3</td>\n",
              "      <td>0.023972</td>\n",
              "    </tr>\n",
              "    <tr>\n",
              "      <th>35</th>\n",
              "      <td>400</td>\n",
              "      <td>0.1</td>\n",
              "      <td>0.023968</td>\n",
              "    </tr>\n",
              "  </tbody>\n",
              "</table>\n",
              "</div>"
            ],
            "text/plain": [
              "      K    B     score\n",
              "41  450  0.3  0.024168\n",
              "31  350  0.3  0.024148\n",
              "36  400  0.3  0.024141\n",
              "16  200  0.3  0.024135\n",
              "26  300  0.3  0.024100\n",
              "21  250  0.3  0.024068\n",
              "11  150  0.3  0.024002\n",
              "40  450  0.1  0.023977\n",
              "6   100  0.3  0.023972\n",
              "35  400  0.1  0.023968"
            ]
          },
          "metadata": {
            "tags": []
          },
          "execution_count": 72
        }
      ]
    },
    {
      "cell_type": "markdown",
      "metadata": {
        "id": "CHqfu8SjB5gq",
        "colab_type": "text"
      },
      "source": [
        "Построение прогнозов"
      ]
    },
    {
      "cell_type": "code",
      "metadata": {
        "id": "SIFTpQsk8jIC",
        "colab_type": "code",
        "outputId": "64d9354e-8bcf-461a-b99f-c69bf78bd2fe",
        "colab": {
          "base_uri": "https://localhost:8080/",
          "height": 200,
          "referenced_widgets": [
            "18421420b7694ed0aef2b0c3acec339e",
            "893d2632156442db84a59a27154565d1",
            "f1604f3399ab433eba5eb1e841141212",
            "42e3dbf29e624044ad7ded25ceba868f",
            "df6f92d42ef14c85b5f39656559aef3b",
            "b377170bb6d3467dafe6443dddf0bb26",
            "5f2f691dbd13428fb3c8000dc0ccca9c",
            "87629320e5fb4b5d826537cc250409cd",
            "fc23c92a54e642edbe660be5c37b44ba",
            "2b645e536b9a433987e6491dd79159f3",
            "a3651965f45c4bf3a0fc2b9434d4bbf6",
            "808b7c9c50504927a6848be350e7c4e9",
            "7613d628631c49f89c4a286c1a14b107",
            "fde32498e8f4497c84b2c6bddad436d3",
            "52e1dbe927fd4dcea3f82ff7588ec176",
            "0f120d3f86bd4523899a81532d414e0f",
            "ea3be8ca33a04dedb8f9d86c97229b86",
            "7d80f8548c3841bd94ad323bc3bd5d1f",
            "331de8b6afe54ccca2438cdb4f9f5c3c",
            "2fda91e14d0a408e982f2ae3e03aaa9b",
            "d075ff29af394f8b981e0b408808bc5d",
            "6deed778b6cc4b35bfb15105589b89d9",
            "297c343cefd24cbca12f449a48883316",
            "180a2ee3d2e04c35b807d33b4ce2bae7"
          ]
        }
      },
      "source": [
        "%%time\n",
        "\n",
        "user_pred_merged_B25_train1 = create_merged_user_dict_TFIDF(\n",
        "    ratings=ratings_train1, \n",
        "    bookmarks=bookmarks_train1, \n",
        "    watched_share=watched_share_train1,\n",
        "    model_ratings=BM25Recommender(K=300, B=0.3), \n",
        "    model_bookmarks=BM25Recommender(K=450, B=0.1), \n",
        "    model_watched=BM25Recommender(K=450, B=0.3),\n",
        "    filtered_elements=filtered_elements_train1, \n",
        "    test_users=test_users, \n",
        "    top_pred=200\n",
        ")\n",
        "joblib.dump(user_pred_merged_B25_train1, os.path.join(DATA_PATH, 'models', 'user_pred_merged_B25_train1.pkl'))"
      ],
      "execution_count": 0,
      "outputs": [
        {
          "output_type": "display_data",
          "data": {
            "application/vnd.jupyter.widget-view+json": {
              "model_id": "18421420b7694ed0aef2b0c3acec339e",
              "version_minor": 0,
              "version_major": 2
            },
            "text/plain": [
              "HBox(children=(IntProgress(value=0, max=6185), HTML(value='')))"
            ]
          },
          "metadata": {
            "tags": []
          }
        },
        {
          "output_type": "stream",
          "text": [
            "\n"
          ],
          "name": "stdout"
        },
        {
          "output_type": "display_data",
          "data": {
            "application/vnd.jupyter.widget-view+json": {
              "model_id": "fc23c92a54e642edbe660be5c37b44ba",
              "version_minor": 0,
              "version_major": 2
            },
            "text/plain": [
              "HBox(children=(IntProgress(value=0, max=8467), HTML(value='')))"
            ]
          },
          "metadata": {
            "tags": []
          }
        },
        {
          "output_type": "stream",
          "text": [
            "\n"
          ],
          "name": "stdout"
        },
        {
          "output_type": "display_data",
          "data": {
            "application/vnd.jupyter.widget-view+json": {
              "model_id": "ea3be8ca33a04dedb8f9d86c97229b86",
              "version_minor": 0,
              "version_major": 2
            },
            "text/plain": [
              "HBox(children=(IntProgress(value=0, max=7723), HTML(value='')))"
            ]
          },
          "metadata": {
            "tags": []
          }
        },
        {
          "output_type": "stream",
          "text": [
            "\n",
            "CPU times: user 53.1 s, sys: 521 ms, total: 53.6 s\n",
            "Wall time: 51.5 s\n"
          ],
          "name": "stdout"
        }
      ]
    },
    {
      "cell_type": "code",
      "metadata": {
        "id": "-YlTLv6l8jWS",
        "colab_type": "code",
        "outputId": "616ab999-30ca-4e29-bb7e-5a3c975690e1",
        "colab": {
          "base_uri": "https://localhost:8080/",
          "height": 200,
          "referenced_widgets": [
            "26a048d7b9d545c8b17193562c211b08",
            "9423c6ce6a5e4ef2843dcb62d4f87c92",
            "669dab7bd9c04c4dacda18e210b69ea1",
            "2c4fc35742f940e49d5d989cb54be99e",
            "6a5c5494b5c14084b41287fbf17a357f",
            "5397ce8539cd44bd98d273a347ddaa4f",
            "07dae42f4e4d430c9e68e812f0dbeb82",
            "2439956219bc49c88727ee62a28a92d1",
            "b51fc3a451f94625bdfede76d4b54891",
            "5b7af1957a46412390c2842bb724a0c0",
            "cd94b11db9a74e8ca436ac31c935801e",
            "a8c064c570e149aeaf28e8cd05e46734",
            "c16c6ae976d54d39ad5da0865c87b9af",
            "7f736c6779c145e0868da574522aee29",
            "ebb073e2f33547e3a5d0613474e17162",
            "ad3ca4ac978a4ecba52445e5222f26c6",
            "106b12b0c6474ec38f0aedc8937053f5",
            "834505789c87405e9cfa165255d48519",
            "6f9b73a607e340838fc25c409c1590c5",
            "49d0da79f600414a9b7ae85d33696895",
            "4a35d3d8da2f4b798bdbda32813e9d40",
            "dca97f4b93f841999214eba64c3d44be",
            "f113bfec3d4d41d6b6a921f04da26d09",
            "346d40ad1a3741a9a214729f7c449a94"
          ]
        }
      },
      "source": [
        "%%time\n",
        "\n",
        "user_pred_merged_B25_train = create_merged_user_dict_TFIDF(\n",
        "    ratings=ratings_train, \n",
        "    bookmarks=bookmarks_train, \n",
        "    watched_share=watched_share_train,\n",
        "    model_ratings=BM25Recommender(K=300, B=0.3), \n",
        "    model_bookmarks=BM25Recommender(K=450, B=0.1), \n",
        "    model_watched=BM25Recommender(K=450, B=0.3),\n",
        "    filtered_elements=filtered_elements_train, \n",
        "    test_users=test_users, \n",
        "    top_pred=200\n",
        ")\n",
        "joblib.dump(user_pred_merged_B25_train, os.path.join(DATA_PATH, 'models', 'user_pred_merged_B25_train.pkl'))"
      ],
      "execution_count": 0,
      "outputs": [
        {
          "output_type": "display_data",
          "data": {
            "application/vnd.jupyter.widget-view+json": {
              "model_id": "26a048d7b9d545c8b17193562c211b08",
              "version_minor": 0,
              "version_major": 2
            },
            "text/plain": [
              "HBox(children=(IntProgress(value=0, max=7066), HTML(value='')))"
            ]
          },
          "metadata": {
            "tags": []
          }
        },
        {
          "output_type": "stream",
          "text": [
            "\n"
          ],
          "name": "stdout"
        },
        {
          "output_type": "display_data",
          "data": {
            "application/vnd.jupyter.widget-view+json": {
              "model_id": "b51fc3a451f94625bdfede76d4b54891",
              "version_minor": 0,
              "version_major": 2
            },
            "text/plain": [
              "HBox(children=(IntProgress(value=0, max=9169), HTML(value='')))"
            ]
          },
          "metadata": {
            "tags": []
          }
        },
        {
          "output_type": "stream",
          "text": [
            "\n"
          ],
          "name": "stdout"
        },
        {
          "output_type": "display_data",
          "data": {
            "application/vnd.jupyter.widget-view+json": {
              "model_id": "106b12b0c6474ec38f0aedc8937053f5",
              "version_minor": 0,
              "version_major": 2
            },
            "text/plain": [
              "HBox(children=(IntProgress(value=0, max=8079), HTML(value='')))"
            ]
          },
          "metadata": {
            "tags": []
          }
        },
        {
          "output_type": "stream",
          "text": [
            "\n",
            "CPU times: user 1min 15s, sys: 704 ms, total: 1min 15s\n",
            "Wall time: 1min 11s\n"
          ],
          "name": "stdout"
        }
      ]
    },
    {
      "cell_type": "code",
      "metadata": {
        "id": "_8f_Q8bv8jgG",
        "colab_type": "code",
        "outputId": "30afe19d-6ab9-474e-9ece-952a3499cbae",
        "colab": {
          "base_uri": "https://localhost:8080/",
          "height": 200,
          "referenced_widgets": [
            "195da1dd68c74549b93dd36fee302776",
            "9108424eac134e5ca35ee0a208703702",
            "d366dd6628504238ae27f39f76394dd6",
            "d809535e27434d5abab972d76087b280",
            "33fef8fbb1884fe698d8bb289392cf04",
            "7dbab5b0a16b4ed29c031b9265b532d8",
            "70b3b80b75c74bb78a7e5c4bd210df64",
            "03d9b864b49f49658b61f4901be230a7",
            "7f5200f4a3db41a3a03cc9593ab62fd7",
            "7db7861d82f747158b980c405c901012",
            "a5efc72e95434e6ca1ad09de63b8c4de",
            "b83a27fcce7c4ea0a0f750811b7fe35f",
            "c0f7adaf08ec4e42b2d7c793c5cb0fe0",
            "c434baa21ef94e8abb6f144f9d37a420",
            "81f3513d78024e988f06f05b4ecb6c15",
            "104801ca35cb4c1e9e187281e4c64483",
            "2369be338a8042cda88f674e51aeb4cf",
            "0cfb2154590749cf8c3e0f51a2db7c4f",
            "e54505ce576a4e2b9afd9d2a3509abf4",
            "f1dae330a065484ab37bd590679ec1d3",
            "c90913bd6bf84b869805fd5873cf2061",
            "98fc43f18bb24850b3150721a70d84ea",
            "12b0c9c2a3d14fffa135ab1770b3a774",
            "bbdd1eaddfdb4d9aaeeb74cacaf8e8d4"
          ]
        }
      },
      "source": [
        "%%time\n",
        "\n",
        "user_pred_merged_B25 = create_merged_user_dict_TFIDF(\n",
        "    ratings=ratings, \n",
        "    bookmarks=bookmarks, \n",
        "    watched_share=watched_share,\n",
        "    model_ratings=BM25Recommender(K=300, B=0.3), \n",
        "    model_bookmarks=BM25Recommender(K=450, B=0.1), \n",
        "    model_watched=BM25Recommender(K=450, B=0.3),\n",
        "    filtered_elements=filtered_elements, \n",
        "    test_users=test_users, \n",
        "    top_pred=200\n",
        ")\n",
        "joblib.dump(user_pred_merged_B25, os.path.join(DATA_PATH, 'models', 'user_pred_merged_B25.pkl'))"
      ],
      "execution_count": 0,
      "outputs": [
        {
          "output_type": "display_data",
          "data": {
            "application/vnd.jupyter.widget-view+json": {
              "model_id": "195da1dd68c74549b93dd36fee302776",
              "version_minor": 0,
              "version_major": 2
            },
            "text/plain": [
              "HBox(children=(IntProgress(value=0, max=7519), HTML(value='')))"
            ]
          },
          "metadata": {
            "tags": []
          }
        },
        {
          "output_type": "stream",
          "text": [
            "\n"
          ],
          "name": "stdout"
        },
        {
          "output_type": "display_data",
          "data": {
            "application/vnd.jupyter.widget-view+json": {
              "model_id": "7f5200f4a3db41a3a03cc9593ab62fd7",
              "version_minor": 0,
              "version_major": 2
            },
            "text/plain": [
              "HBox(children=(IntProgress(value=0, max=9489), HTML(value='')))"
            ]
          },
          "metadata": {
            "tags": []
          }
        },
        {
          "output_type": "stream",
          "text": [
            "\n"
          ],
          "name": "stdout"
        },
        {
          "output_type": "display_data",
          "data": {
            "application/vnd.jupyter.widget-view+json": {
              "model_id": "2369be338a8042cda88f674e51aeb4cf",
              "version_minor": 0,
              "version_major": 2
            },
            "text/plain": [
              "HBox(children=(IntProgress(value=0, max=8296), HTML(value='')))"
            ]
          },
          "metadata": {
            "tags": []
          }
        },
        {
          "output_type": "stream",
          "text": [
            "\n",
            "CPU times: user 1min 39s, sys: 1.03 s, total: 1min 40s\n",
            "Wall time: 1min 33s\n"
          ],
          "name": "stdout"
        }
      ]
    },
    {
      "cell_type": "code",
      "metadata": {
        "id": "-2tzSVwJ8jnw",
        "colab_type": "code",
        "colab": {}
      },
      "source": [
        ""
      ],
      "execution_count": 0,
      "outputs": []
    },
    {
      "cell_type": "code",
      "metadata": {
        "id": "UMeGuVIm8jwl",
        "colab_type": "code",
        "colab": {}
      },
      "source": [
        ""
      ],
      "execution_count": 0,
      "outputs": []
    },
    {
      "cell_type": "code",
      "metadata": {
        "id": "Ra1fxhoi8j9n",
        "colab_type": "code",
        "colab": {}
      },
      "source": [
        ""
      ],
      "execution_count": 0,
      "outputs": []
    },
    {
      "cell_type": "code",
      "metadata": {
        "id": "R9hpeGmP8kS3",
        "colab_type": "code",
        "colab": {}
      },
      "source": [
        ""
      ],
      "execution_count": 0,
      "outputs": []
    },
    {
      "cell_type": "markdown",
      "metadata": {
        "id": "V9ir9ttkDD_H",
        "colab_type": "text"
      },
      "source": [
        "Подбор параметров для TFIDF"
      ]
    },
    {
      "cell_type": "code",
      "metadata": {
        "id": "D4HWqgetCRla",
        "colab_type": "code",
        "colab": {}
      },
      "source": [
        "K_list = np.arange(50, 500, 50)"
      ],
      "execution_count": 0,
      "outputs": []
    },
    {
      "cell_type": "code",
      "metadata": {
        "id": "eMF88OUPCR3O",
        "colab_type": "code",
        "colab": {}
      },
      "source": [
        "%%time\n",
        "\n",
        "result = pd.DataFrame(K_list, columns=['K'])\n",
        "\n",
        "for index, rec in tqdm(result.iterrows(), total=result.shape[0]):\n",
        "    K = int(rec['K'])\n",
        "\n",
        "    users = set(test_users) & set(ratings_train['user_uid']) & set(ratings_test['user_uid'])\n",
        "    user_pred = create_user_dict_from_data_TFIDF(\n",
        "        TFIDFRecommender(K=K),\n",
        "        ratings_train['user_uid'], \n",
        "        ratings_train['element_uid'], \n",
        "        ratings_train['rating'], \n",
        "        filtered_elements_train, \n",
        "        [],\n",
        "        users,\n",
        "    )\n",
        "    true_data = create_true_data(transactions_test, users)\n",
        "    result.loc[index, 'score'] = metric(true_data, user_pred, k=20)\n",
        "\n",
        "result.sort_values(by='score', ascending=False).head(10)"
      ],
      "execution_count": 0,
      "outputs": []
    },
    {
      "cell_type": "code",
      "metadata": {
        "id": "JXJ8-s2dCRx_",
        "colab_type": "code",
        "outputId": "f9463ceb-32cf-4d4e-bcc7-383c149dfdaa",
        "colab": {
          "base_uri": "https://localhost:8080/",
          "height": 325
        }
      },
      "source": [
        "result.sort_values(by='score', ascending=False).head(10)"
      ],
      "execution_count": 0,
      "outputs": [
        {
          "output_type": "execute_result",
          "data": {
            "text/html": [
              "<div>\n",
              "<style scoped>\n",
              "    .dataframe tbody tr th:only-of-type {\n",
              "        vertical-align: middle;\n",
              "    }\n",
              "\n",
              "    .dataframe tbody tr th {\n",
              "        vertical-align: top;\n",
              "    }\n",
              "\n",
              "    .dataframe thead th {\n",
              "        text-align: right;\n",
              "    }\n",
              "</style>\n",
              "<table border=\"1\" class=\"dataframe\">\n",
              "  <thead>\n",
              "    <tr style=\"text-align: right;\">\n",
              "      <th></th>\n",
              "      <th>K</th>\n",
              "      <th>score</th>\n",
              "    </tr>\n",
              "  </thead>\n",
              "  <tbody>\n",
              "    <tr>\n",
              "      <th>8</th>\n",
              "      <td>450</td>\n",
              "      <td>0.015075</td>\n",
              "    </tr>\n",
              "    <tr>\n",
              "      <th>7</th>\n",
              "      <td>400</td>\n",
              "      <td>0.015051</td>\n",
              "    </tr>\n",
              "    <tr>\n",
              "      <th>4</th>\n",
              "      <td>250</td>\n",
              "      <td>0.014999</td>\n",
              "    </tr>\n",
              "    <tr>\n",
              "      <th>6</th>\n",
              "      <td>350</td>\n",
              "      <td>0.014980</td>\n",
              "    </tr>\n",
              "    <tr>\n",
              "      <th>5</th>\n",
              "      <td>300</td>\n",
              "      <td>0.014931</td>\n",
              "    </tr>\n",
              "    <tr>\n",
              "      <th>3</th>\n",
              "      <td>200</td>\n",
              "      <td>0.014873</td>\n",
              "    </tr>\n",
              "    <tr>\n",
              "      <th>2</th>\n",
              "      <td>150</td>\n",
              "      <td>0.014770</td>\n",
              "    </tr>\n",
              "    <tr>\n",
              "      <th>1</th>\n",
              "      <td>100</td>\n",
              "      <td>0.014399</td>\n",
              "    </tr>\n",
              "    <tr>\n",
              "      <th>0</th>\n",
              "      <td>50</td>\n",
              "      <td>0.013537</td>\n",
              "    </tr>\n",
              "  </tbody>\n",
              "</table>\n",
              "</div>"
            ],
            "text/plain": [
              "     K     score\n",
              "8  450  0.015075\n",
              "7  400  0.015051\n",
              "4  250  0.014999\n",
              "6  350  0.014980\n",
              "5  300  0.014931\n",
              "3  200  0.014873\n",
              "2  150  0.014770\n",
              "1  100  0.014399\n",
              "0   50  0.013537"
            ]
          },
          "metadata": {
            "tags": []
          },
          "execution_count": 81
        }
      ]
    },
    {
      "cell_type": "code",
      "metadata": {
        "id": "Ob0hGtR9C75Y",
        "colab_type": "code",
        "colab": {}
      },
      "source": [
        "%%time\n",
        "\n",
        "result = pd.DataFrame(K_list, columns=['K'])\n",
        "\n",
        "for index, rec in tqdm(result.iterrows(), total=result.shape[0]):\n",
        "    K = int(rec['K'])\n",
        "\n",
        "    users = set(test_users) & set(bookmarks_train['user_uid']) & set(bookmarks_test['user_uid'])\n",
        "    user_pred = create_user_dict_from_data_TFIDF(\n",
        "        TFIDFRecommender(K=K),\n",
        "        bookmarks_train['user_uid'], \n",
        "        bookmarks_train['element_uid'], \n",
        "        bookmarks_train['add_bookmark'], \n",
        "        filtered_elements_train, \n",
        "        [],\n",
        "        users,\n",
        "    )\n",
        "    true_data = create_true_data(transactions_test, users)\n",
        "    result.loc[index, 'score'] = metric(true_data, user_pred, k=20)\n",
        "\n",
        "result.sort_values(by='score', ascending=False).head(10)"
      ],
      "execution_count": 0,
      "outputs": []
    },
    {
      "cell_type": "code",
      "metadata": {
        "id": "5ZM1lxLxC708",
        "colab_type": "code",
        "outputId": "dae7d9f8-2ab4-4fb4-f8cb-348d29d73385",
        "colab": {
          "base_uri": "https://localhost:8080/",
          "height": 325
        }
      },
      "source": [
        "result.sort_values(by='score', ascending=False).head(10)"
      ],
      "execution_count": 0,
      "outputs": [
        {
          "output_type": "execute_result",
          "data": {
            "text/html": [
              "<div>\n",
              "<style scoped>\n",
              "    .dataframe tbody tr th:only-of-type {\n",
              "        vertical-align: middle;\n",
              "    }\n",
              "\n",
              "    .dataframe tbody tr th {\n",
              "        vertical-align: top;\n",
              "    }\n",
              "\n",
              "    .dataframe thead th {\n",
              "        text-align: right;\n",
              "    }\n",
              "</style>\n",
              "<table border=\"1\" class=\"dataframe\">\n",
              "  <thead>\n",
              "    <tr style=\"text-align: right;\">\n",
              "      <th></th>\n",
              "      <th>K</th>\n",
              "      <th>score</th>\n",
              "    </tr>\n",
              "  </thead>\n",
              "  <tbody>\n",
              "    <tr>\n",
              "      <th>6</th>\n",
              "      <td>350</td>\n",
              "      <td>0.010375</td>\n",
              "    </tr>\n",
              "    <tr>\n",
              "      <th>8</th>\n",
              "      <td>450</td>\n",
              "      <td>0.010312</td>\n",
              "    </tr>\n",
              "    <tr>\n",
              "      <th>5</th>\n",
              "      <td>300</td>\n",
              "      <td>0.010305</td>\n",
              "    </tr>\n",
              "    <tr>\n",
              "      <th>4</th>\n",
              "      <td>250</td>\n",
              "      <td>0.010235</td>\n",
              "    </tr>\n",
              "    <tr>\n",
              "      <th>7</th>\n",
              "      <td>400</td>\n",
              "      <td>0.010212</td>\n",
              "    </tr>\n",
              "    <tr>\n",
              "      <th>3</th>\n",
              "      <td>200</td>\n",
              "      <td>0.010092</td>\n",
              "    </tr>\n",
              "    <tr>\n",
              "      <th>2</th>\n",
              "      <td>150</td>\n",
              "      <td>0.010091</td>\n",
              "    </tr>\n",
              "    <tr>\n",
              "      <th>1</th>\n",
              "      <td>100</td>\n",
              "      <td>0.009921</td>\n",
              "    </tr>\n",
              "    <tr>\n",
              "      <th>0</th>\n",
              "      <td>50</td>\n",
              "      <td>0.009683</td>\n",
              "    </tr>\n",
              "  </tbody>\n",
              "</table>\n",
              "</div>"
            ],
            "text/plain": [
              "     K     score\n",
              "6  350  0.010375\n",
              "8  450  0.010312\n",
              "5  300  0.010305\n",
              "4  250  0.010235\n",
              "7  400  0.010212\n",
              "3  200  0.010092\n",
              "2  150  0.010091\n",
              "1  100  0.009921\n",
              "0   50  0.009683"
            ]
          },
          "metadata": {
            "tags": []
          },
          "execution_count": 83
        }
      ]
    },
    {
      "cell_type": "code",
      "metadata": {
        "id": "FzNIWXjpC7yG",
        "colab_type": "code",
        "colab": {}
      },
      "source": [
        "%%time\n",
        "\n",
        "result = pd.DataFrame(K_list, columns=['K'])\n",
        "\n",
        "for index, rec in tqdm(result.iterrows(), total=result.shape[0]):\n",
        "    K = int(rec['K'])\n",
        "\n",
        "    users = set(test_users) & set(watched_share_train['user_uid']) & set(watched_share_test['user_uid'])\n",
        "    user_pred = create_user_dict_from_data_TFIDF(\n",
        "        TFIDFRecommender(K=K),\n",
        "        watched_share_train['user_uid'], \n",
        "        watched_share_train['element_uid'], \n",
        "        watched_share_train['watched_share'], \n",
        "        filtered_elements_train, \n",
        "        [],\n",
        "        users,\n",
        "    )\n",
        "    true_data = create_true_data(transactions_test, users)\n",
        "    result.loc[index, 'score'] = metric(true_data, user_pred, k=20)\n",
        "\n",
        "result.sort_values(by='score', ascending=False).head(10)"
      ],
      "execution_count": 0,
      "outputs": []
    },
    {
      "cell_type": "code",
      "metadata": {
        "id": "xGZ35x9-C7uS",
        "colab_type": "code",
        "outputId": "a7c48bd4-623d-44d6-ee10-913649458ddf",
        "colab": {
          "base_uri": "https://localhost:8080/",
          "height": 325
        }
      },
      "source": [
        "result.sort_values(by='score', ascending=False).head(10)"
      ],
      "execution_count": 0,
      "outputs": [
        {
          "output_type": "execute_result",
          "data": {
            "text/html": [
              "<div>\n",
              "<style scoped>\n",
              "    .dataframe tbody tr th:only-of-type {\n",
              "        vertical-align: middle;\n",
              "    }\n",
              "\n",
              "    .dataframe tbody tr th {\n",
              "        vertical-align: top;\n",
              "    }\n",
              "\n",
              "    .dataframe thead th {\n",
              "        text-align: right;\n",
              "    }\n",
              "</style>\n",
              "<table border=\"1\" class=\"dataframe\">\n",
              "  <thead>\n",
              "    <tr style=\"text-align: right;\">\n",
              "      <th></th>\n",
              "      <th>K</th>\n",
              "      <th>score</th>\n",
              "    </tr>\n",
              "  </thead>\n",
              "  <tbody>\n",
              "    <tr>\n",
              "      <th>6</th>\n",
              "      <td>350</td>\n",
              "      <td>0.024112</td>\n",
              "    </tr>\n",
              "    <tr>\n",
              "      <th>7</th>\n",
              "      <td>400</td>\n",
              "      <td>0.024093</td>\n",
              "    </tr>\n",
              "    <tr>\n",
              "      <th>8</th>\n",
              "      <td>450</td>\n",
              "      <td>0.024077</td>\n",
              "    </tr>\n",
              "    <tr>\n",
              "      <th>5</th>\n",
              "      <td>300</td>\n",
              "      <td>0.024036</td>\n",
              "    </tr>\n",
              "    <tr>\n",
              "      <th>3</th>\n",
              "      <td>200</td>\n",
              "      <td>0.023990</td>\n",
              "    </tr>\n",
              "    <tr>\n",
              "      <th>4</th>\n",
              "      <td>250</td>\n",
              "      <td>0.023953</td>\n",
              "    </tr>\n",
              "    <tr>\n",
              "      <th>2</th>\n",
              "      <td>150</td>\n",
              "      <td>0.023815</td>\n",
              "    </tr>\n",
              "    <tr>\n",
              "      <th>0</th>\n",
              "      <td>50</td>\n",
              "      <td>0.023781</td>\n",
              "    </tr>\n",
              "    <tr>\n",
              "      <th>1</th>\n",
              "      <td>100</td>\n",
              "      <td>0.023727</td>\n",
              "    </tr>\n",
              "  </tbody>\n",
              "</table>\n",
              "</div>"
            ],
            "text/plain": [
              "     K     score\n",
              "6  350  0.024112\n",
              "7  400  0.024093\n",
              "8  450  0.024077\n",
              "5  300  0.024036\n",
              "3  200  0.023990\n",
              "4  250  0.023953\n",
              "2  150  0.023815\n",
              "0   50  0.023781\n",
              "1  100  0.023727"
            ]
          },
          "metadata": {
            "tags": []
          },
          "execution_count": 85
        }
      ]
    },
    {
      "cell_type": "markdown",
      "metadata": {
        "colab_type": "text",
        "id": "ejibJeqHGevY"
      },
      "source": [
        "Построение прогнозов"
      ]
    },
    {
      "cell_type": "code",
      "metadata": {
        "colab_type": "code",
        "id": "O0MXfxyiGevd",
        "outputId": "7d054e95-2f28-412d-c3e5-66b2bd73868f",
        "colab": {
          "base_uri": "https://localhost:8080/",
          "height": 200,
          "referenced_widgets": [
            "5023dd14931c410caa7a34c209719d73",
            "170f930f15fe44b5853d94d54051895e",
            "82e821e115d54e569321fb2b71b02378",
            "0d77bc89507e4c5ca4f3df386fecb921",
            "041ea7f404c344298fbbccb6a88cbdf0",
            "324cb5fc0bea468da687f645ab59834e",
            "c9013b13ce334dd1b5ce01b106db4e8b",
            "0a7d2e3f83c0457f953b75b183bd99f8",
            "ee495ae0aa42470ab424ec7ab897f3c9",
            "74fd50b32a944b2d9f476961c8e9d0a9",
            "1b6d223ba25a4818b75741b63236b788",
            "6159a80dbcb04be7b6d1164f6fd0298b",
            "a14604e1d1cd4bedb500fc09f6c1dbcb",
            "b3d66b0a12f747caa8e5b448a31d48f3",
            "407a10bb695741f29ba7a1724417b16c",
            "5168e83433024cb3801a5210e8ac7c70",
            "262e98624c4346f19dda4bcfb39f2762",
            "2ea061da578b43f2aa234f3bfc7d3d7c",
            "c1f6348e526a4bf0a05652d7b3fe3a6d",
            "d68f798319ed432094fcd254ab858c40",
            "f70e4feeefbc4eb7b4f8b4a9ac168fb2",
            "4daf5e4a26954b6db6b36a81e5beed79",
            "786aa923a0264b01a1eb2f3027cee624",
            "40764c840e18450c8b637967e2b1eee1"
          ]
        }
      },
      "source": [
        "%%time\n",
        "\n",
        "user_pred_merged_TFIDF_train1 = create_merged_user_dict_TFIDF(\n",
        "    ratings=ratings_train1, \n",
        "    bookmarks=bookmarks_train1, \n",
        "    watched_share=watched_share_train1,\n",
        "    model_ratings=TFIDFRecommender(K=450), \n",
        "    model_bookmarks=TFIDFRecommender(K=350), \n",
        "    model_watched=TFIDFRecommender(K=350),\n",
        "    filtered_elements=filtered_elements_train1, \n",
        "    test_users=test_users, \n",
        "    top_pred=200\n",
        ")\n",
        "joblib.dump(user_pred_merged_TFIDF_train1, os.path.join(DATA_PATH, 'models', 'user_pred_merged_TFIDF_train1.pkl'))"
      ],
      "execution_count": 0,
      "outputs": [
        {
          "output_type": "display_data",
          "data": {
            "application/vnd.jupyter.widget-view+json": {
              "model_id": "5023dd14931c410caa7a34c209719d73",
              "version_minor": 0,
              "version_major": 2
            },
            "text/plain": [
              "HBox(children=(IntProgress(value=0, max=6185), HTML(value='')))"
            ]
          },
          "metadata": {
            "tags": []
          }
        },
        {
          "output_type": "stream",
          "text": [
            "\n"
          ],
          "name": "stdout"
        },
        {
          "output_type": "display_data",
          "data": {
            "application/vnd.jupyter.widget-view+json": {
              "model_id": "ee495ae0aa42470ab424ec7ab897f3c9",
              "version_minor": 0,
              "version_major": 2
            },
            "text/plain": [
              "HBox(children=(IntProgress(value=0, max=8467), HTML(value='')))"
            ]
          },
          "metadata": {
            "tags": []
          }
        },
        {
          "output_type": "stream",
          "text": [
            "\n"
          ],
          "name": "stdout"
        },
        {
          "output_type": "display_data",
          "data": {
            "application/vnd.jupyter.widget-view+json": {
              "model_id": "262e98624c4346f19dda4bcfb39f2762",
              "version_minor": 0,
              "version_major": 2
            },
            "text/plain": [
              "HBox(children=(IntProgress(value=0, max=7723), HTML(value='')))"
            ]
          },
          "metadata": {
            "tags": []
          }
        },
        {
          "output_type": "stream",
          "text": [
            "\n",
            "CPU times: user 53.3 s, sys: 470 ms, total: 53.8 s\n",
            "Wall time: 51.8 s\n"
          ],
          "name": "stdout"
        }
      ]
    },
    {
      "cell_type": "code",
      "metadata": {
        "colab_type": "code",
        "id": "LL261iOBGevi",
        "outputId": "04b1b9c3-0443-4c63-cafc-097de2a3a6de",
        "colab": {
          "base_uri": "https://localhost:8080/",
          "height": 200,
          "referenced_widgets": [
            "e1fea18ee557454594cdc1e30e3a3dea",
            "0279b3e6d3054d9eb91ebcf8b3084b81",
            "b9387a56784140269e89943c1689873d",
            "edaf4a46845e497db4710ec932e5c355",
            "913d1da6c4824f08991e62f22e99c5e6",
            "a6b4964cd8af4622962a5d82a6550d03",
            "b9589350c5864d89a7db6c6c9a8ba608",
            "1254cd6de73148c1bb8da6c42462f1d0",
            "c134cac2de5445c39d7b845cc1a1b8d9",
            "d7c55a0e473445dd911401c21672a446",
            "7018d5d3b1d84f3eaffe9496fdc99d72",
            "16a37137ec524f42ab2cb89406dff03b",
            "719816a51dca4dc4a47389233cd91a8f",
            "33601e0972f5443785aa7cdc248e4f81",
            "da0ac11842a04f02bae9ef9c316311df",
            "1a6d4614dad84a22a86f0bf5741d86f0",
            "2b06325b4e1e4e0aae00fdc68df75129",
            "d2f921ecb462478f9267b50e51dbdc76",
            "0621e58bcd064ebabb7f2eaddd8d9990",
            "40260c45b18e4bc7b91dcf726a098cb7",
            "288b02dab9e44489840ed7ec9b4c9b68",
            "f011464fb3e44609b42f1358581be3a3",
            "ba00706647db435aa253bedc58a45de6",
            "c754c0615d534bdba282cfc93c54e098"
          ]
        }
      },
      "source": [
        "%%time\n",
        "\n",
        "user_pred_merged_TFIDF_train = create_merged_user_dict_TFIDF(\n",
        "    ratings=ratings_train, \n",
        "    bookmarks=bookmarks_train, \n",
        "    watched_share=watched_share_train,\n",
        "    model_ratings=TFIDFRecommender(K=450), \n",
        "    model_bookmarks=TFIDFRecommender(K=350), \n",
        "    model_watched=TFIDFRecommender(K=350),\n",
        "    filtered_elements=filtered_elements_train, \n",
        "    test_users=test_users, \n",
        "    top_pred=200\n",
        ")\n",
        "joblib.dump(user_pred_merged_TFIDF_train, os.path.join(DATA_PATH, 'models', 'user_pred_merged_TFIDF_train.pkl'))"
      ],
      "execution_count": 0,
      "outputs": [
        {
          "output_type": "display_data",
          "data": {
            "application/vnd.jupyter.widget-view+json": {
              "model_id": "e1fea18ee557454594cdc1e30e3a3dea",
              "version_minor": 0,
              "version_major": 2
            },
            "text/plain": [
              "HBox(children=(IntProgress(value=0, max=7066), HTML(value='')))"
            ]
          },
          "metadata": {
            "tags": []
          }
        },
        {
          "output_type": "stream",
          "text": [
            "\n"
          ],
          "name": "stdout"
        },
        {
          "output_type": "display_data",
          "data": {
            "application/vnd.jupyter.widget-view+json": {
              "model_id": "c134cac2de5445c39d7b845cc1a1b8d9",
              "version_minor": 0,
              "version_major": 2
            },
            "text/plain": [
              "HBox(children=(IntProgress(value=0, max=9169), HTML(value='')))"
            ]
          },
          "metadata": {
            "tags": []
          }
        },
        {
          "output_type": "stream",
          "text": [
            "\n"
          ],
          "name": "stdout"
        },
        {
          "output_type": "display_data",
          "data": {
            "application/vnd.jupyter.widget-view+json": {
              "model_id": "2b06325b4e1e4e0aae00fdc68df75129",
              "version_minor": 0,
              "version_major": 2
            },
            "text/plain": [
              "HBox(children=(IntProgress(value=0, max=8079), HTML(value='')))"
            ]
          },
          "metadata": {
            "tags": []
          }
        },
        {
          "output_type": "stream",
          "text": [
            "\n",
            "CPU times: user 1min 15s, sys: 779 ms, total: 1min 16s\n",
            "Wall time: 1min 12s\n"
          ],
          "name": "stdout"
        }
      ]
    },
    {
      "cell_type": "code",
      "metadata": {
        "colab_type": "code",
        "id": "j3nbGhEdGevm",
        "outputId": "de95cc90-8080-406e-ad3d-9dc154a71f89",
        "colab": {
          "base_uri": "https://localhost:8080/",
          "height": 200,
          "referenced_widgets": [
            "b2d0e554c26d4c19b7f128995dfc296c",
            "91e3380009834321978e85883a13770c",
            "2ee8e02967024c00b58099342e1c1973",
            "63caaddc537143dda2ea2aafcfd6406f",
            "04661aaed2894807926d287afdb75a90",
            "2a887529c5df47bea086ab031ec5f82a",
            "ee8be0dac55b4133b7d26a995ce3e6f2",
            "087e018fa26343748689a59f0fa78624",
            "d3a6cc9a51d04c289f4ee71403d663f6",
            "b73dadceb7ee4795b46e59fbea5aedc2",
            "74c121cbd9f142e99576fdc6908bbe1b",
            "8d57df5ac45a43d28aeeaf085be5e5a8",
            "c9bc1e6a20724918a1420aebf214e488",
            "3409f5ce96f142888a71f932a461e23c",
            "e14bb46327b54bb09b10ee1a835a5da8",
            "2824f3dca30b4ca4819e4661df4973a0",
            "6df7d3ab63954a4392bc18df146ab219",
            "90dd233e428a4d76af546ac47dc13aab",
            "b85e23638332485e95f09ddce717799c",
            "a70c94b4e3734a9c89439be87c332a61",
            "10891383f1564ca1bb45994caf26cfd5",
            "8e5b2b8cafab4ee78cfc8eb1ff030cc0",
            "d82ce6ae835e420993d3cd287655571e",
            "28e366751414410ea9d3a15f06bcfe1e"
          ]
        }
      },
      "source": [
        "%%time\n",
        "\n",
        "user_pred_merged_TFIDF = create_merged_user_dict_TFIDF(\n",
        "    ratings=ratings, \n",
        "    bookmarks=bookmarks, \n",
        "    watched_share=watched_share,\n",
        "    model_ratings=TFIDFRecommender(K=450), \n",
        "    model_bookmarks=TFIDFRecommender(K=350), \n",
        "    model_watched=TFIDFRecommender(K=350),\n",
        "    filtered_elements=filtered_elements, \n",
        "    test_users=test_users, \n",
        "    top_pred=200\n",
        ")\n",
        "joblib.dump(user_pred_merged_TFIDF, os.path.join(DATA_PATH, 'models', 'user_pred_merged_TFIDF.pkl'))"
      ],
      "execution_count": 0,
      "outputs": [
        {
          "output_type": "display_data",
          "data": {
            "application/vnd.jupyter.widget-view+json": {
              "model_id": "b2d0e554c26d4c19b7f128995dfc296c",
              "version_minor": 0,
              "version_major": 2
            },
            "text/plain": [
              "HBox(children=(IntProgress(value=0, max=7519), HTML(value='')))"
            ]
          },
          "metadata": {
            "tags": []
          }
        },
        {
          "output_type": "stream",
          "text": [
            "\n"
          ],
          "name": "stdout"
        },
        {
          "output_type": "display_data",
          "data": {
            "application/vnd.jupyter.widget-view+json": {
              "model_id": "d3a6cc9a51d04c289f4ee71403d663f6",
              "version_minor": 0,
              "version_major": 2
            },
            "text/plain": [
              "HBox(children=(IntProgress(value=0, max=9489), HTML(value='')))"
            ]
          },
          "metadata": {
            "tags": []
          }
        },
        {
          "output_type": "stream",
          "text": [
            "\n"
          ],
          "name": "stdout"
        },
        {
          "output_type": "display_data",
          "data": {
            "application/vnd.jupyter.widget-view+json": {
              "model_id": "6df7d3ab63954a4392bc18df146ab219",
              "version_minor": 0,
              "version_major": 2
            },
            "text/plain": [
              "HBox(children=(IntProgress(value=0, max=8296), HTML(value='')))"
            ]
          },
          "metadata": {
            "tags": []
          }
        },
        {
          "output_type": "stream",
          "text": [
            "\n",
            "CPU times: user 1min 38s, sys: 1.03 s, total: 1min 39s\n",
            "Wall time: 1min 33s\n"
          ],
          "name": "stdout"
        }
      ]
    },
    {
      "cell_type": "code",
      "metadata": {
        "id": "RB2a577-HYCU",
        "colab_type": "code",
        "colab": {}
      },
      "source": [
        ""
      ],
      "execution_count": 0,
      "outputs": []
    },
    {
      "cell_type": "markdown",
      "metadata": {
        "id": "d8vfZRkFHmqA",
        "colab_type": "text"
      },
      "source": [
        "Получение сохраненных прогнозов со всех моделей 1 уровня"
      ]
    },
    {
      "cell_type": "code",
      "metadata": {
        "id": "fD5HOCRNHYJ4",
        "colab_type": "code",
        "outputId": "768ae9b8-4de5-4a56-b642-97daa297f382",
        "colab": {
          "base_uri": "https://localhost:8080/",
          "height": 52
        }
      },
      "source": [
        "%%time\n",
        "\n",
        "user_pred_merged_lfm_train1 = joblib.load(os.path.join(DATA_PATH, 'models', 'user_pred_merged_lfm_train1.pkl'))\n",
        "user_pred_merged_lfm_train = joblib.load(os.path.join(DATA_PATH, 'models', 'user_pred_merged_lfm_train.pkl'))\n",
        "user_pred_merged_lfm = joblib.load(os.path.join(DATA_PATH, 'models', 'user_pred_merged_lfm.pkl'))"
      ],
      "execution_count": 0,
      "outputs": [
        {
          "output_type": "stream",
          "text": [
            "CPU times: user 12.3 s, sys: 549 ms, total: 12.9 s\n",
            "Wall time: 12.9 s\n"
          ],
          "name": "stdout"
        }
      ]
    },
    {
      "cell_type": "code",
      "metadata": {
        "id": "VuEgmr0JDnCb",
        "colab_type": "code",
        "outputId": "60092d4e-1a49-4249-d689-10e811634592",
        "colab": {
          "base_uri": "https://localhost:8080/",
          "height": 52
        }
      },
      "source": [
        "%%time\n",
        "\n",
        "user_pred_merged_B25_train1 = joblib.load(os.path.join(DATA_PATH, 'models', 'user_pred_merged_B25_train1.pkl'))\n",
        "user_pred_merged_B25_train = joblib.load(os.path.join(DATA_PATH, 'models', 'user_pred_merged_B25_train.pkl'))\n",
        "user_pred_merged_B25 = joblib.load(os.path.join(DATA_PATH, 'models', 'user_pred_merged_B25.pkl'))"
      ],
      "execution_count": 0,
      "outputs": [
        {
          "output_type": "stream",
          "text": [
            "CPU times: user 22.1 s, sys: 1.21 s, total: 23.3 s\n",
            "Wall time: 23.3 s\n"
          ],
          "name": "stdout"
        }
      ]
    },
    {
      "cell_type": "code",
      "metadata": {
        "colab_type": "code",
        "id": "JvCJ2mBfGevq",
        "outputId": "c6f61712-8bec-4439-eb41-a37909b27939",
        "colab": {
          "base_uri": "https://localhost:8080/",
          "height": 52
        }
      },
      "source": [
        "%%time\n",
        "\n",
        "user_pred_merged_TFIDF_train1 = joblib.load(os.path.join(DATA_PATH, 'models', 'user_pred_merged_TFIDF_train1.pkl'))\n",
        "user_pred_merged_TFIDF_train = joblib.load(os.path.join(DATA_PATH, 'models', 'user_pred_merged_TFIDF_train.pkl'))\n",
        "user_pred_merged_TFIDF = joblib.load(os.path.join(DATA_PATH, 'models', 'user_pred_merged_TFIDF.pkl'))"
      ],
      "execution_count": 0,
      "outputs": [
        {
          "output_type": "stream",
          "text": [
            "CPU times: user 24 s, sys: 1.2 s, total: 25.2 s\n",
            "Wall time: 25.2 s\n"
          ],
          "name": "stdout"
        }
      ]
    },
    {
      "cell_type": "code",
      "metadata": {
        "id": "B9DEYT52Dm8m",
        "colab_type": "code",
        "colab": {}
      },
      "source": [
        ""
      ],
      "execution_count": 0,
      "outputs": []
    },
    {
      "cell_type": "code",
      "metadata": {
        "id": "35c6zI0QIFU8",
        "colab_type": "code",
        "colab": {}
      },
      "source": [
        ""
      ],
      "execution_count": 0,
      "outputs": []
    },
    {
      "cell_type": "code",
      "metadata": {
        "id": "DPHMstXuIkKP",
        "colab_type": "code",
        "outputId": "cbe20601-9a29-4e40-d03f-54e480eb7bd6",
        "colab": {
          "base_uri": "https://localhost:8080/",
          "height": 52
        }
      },
      "source": [
        "%%time\n",
        "\n",
        "user_pred_merged_sum_lfm_B25_train = merge_user_pred(\n",
        "    user_pred_list=[user_pred_merged_lfm_train, user_pred_merged_B25_train], \n",
        "    test_users=test_users, \n",
        "    agg_func=np.sum,\n",
        "    top_pred=100\n",
        ")\n",
        "\n",
        "user_pred_merged_mean_lfm_B25_train = merge_user_pred(\n",
        "    user_pred_list=[user_pred_merged_lfm_train, user_pred_merged_B25_train], \n",
        "    test_users=test_users, \n",
        "    agg_func=np.mean,\n",
        "    top_pred=100\n",
        ")\n",
        "\n",
        "user_pred_merged_sum_lfm_B25_TFIDF_train = merge_user_pred(\n",
        "    user_pred_list=[user_pred_merged_lfm_train, user_pred_merged_B25_train, user_pred_merged_TFIDF_train], \n",
        "    test_users=test_users, \n",
        "    agg_func=np.sum,\n",
        "    top_pred=100\n",
        ")\n",
        "\n",
        "user_pred_merged_mean_lfm_B25_TFIDF_train = merge_user_pred(\n",
        "    user_pred_list=[user_pred_merged_lfm_train, user_pred_merged_B25_train, user_pred_merged_TFIDF_train], \n",
        "    test_users=test_users, \n",
        "    agg_func=np.mean,\n",
        "    top_pred=100\n",
        ")"
      ],
      "execution_count": 0,
      "outputs": [
        {
          "output_type": "stream",
          "text": [
            "CPU times: user 25min 15s, sys: 3.27 s, total: 25min 19s\n",
            "Wall time: 25min 20s\n"
          ],
          "name": "stdout"
        }
      ]
    },
    {
      "cell_type": "code",
      "metadata": {
        "id": "gxh4fJ51JfjL",
        "colab_type": "code",
        "outputId": "5ce6c709-a5ab-487c-fd02-4104f5ae767b",
        "colab": {
          "base_uri": "https://localhost:8080/",
          "height": 52
        }
      },
      "source": [
        "%%time\n",
        "\n",
        "user_pred_merged_sum_B25_TFIDF_train = merge_user_pred(\n",
        "    user_pred_list=[user_pred_merged_B25_train, user_pred_merged_TFIDF_train], \n",
        "    test_users=test_users, \n",
        "    agg_func=np.sum,\n",
        "    top_pred=100\n",
        ")\n",
        "\n",
        "user_pred_merged_mean_B25_TFIDF_train = merge_user_pred(\n",
        "    user_pred_list=[user_pred_merged_B25_train, user_pred_merged_TFIDF_train], \n",
        "    test_users=test_users, \n",
        "    agg_func=np.mean,\n",
        "    top_pred=100\n",
        ")"
      ],
      "execution_count": 0,
      "outputs": [
        {
          "output_type": "stream",
          "text": [
            "CPU times: user 10min 35s, sys: 1.58 s, total: 10min 37s\n",
            "Wall time: 10min 37s\n"
          ],
          "name": "stdout"
        }
      ]
    },
    {
      "cell_type": "code",
      "metadata": {
        "id": "U89LWZoAIkG6",
        "colab_type": "code",
        "outputId": "ce600fdb-58bf-477b-f036-474b9acf483a",
        "colab": {
          "base_uri": "https://localhost:8080/",
          "height": 52
        }
      },
      "source": [
        "%%time\n",
        "\n",
        "true_data = create_true_data(transactions_test, test_users)\n",
        "\n",
        "score_lfm = metric(true_data, user_pred_merged_lfm_train, k=20)\n",
        "score_B25 = metric(true_data, user_pred_merged_B25_train, k=20)\n",
        "score_TFIDF = metric(true_data, user_pred_merged_TFIDF_train, k=20)\n",
        "\n",
        "score_lfm_B25_sum = metric(true_data, user_pred_merged_sum_lfm_B25_train, k=20)\n",
        "score_lfm_B25_mean = metric(true_data, user_pred_merged_mean_lfm_B25_train, k=20)\n",
        "\n",
        "score_B25_TFIDF_sum = metric(true_data, user_pred_merged_sum_B25_TFIDF_train, k=20)\n",
        "score_B25_TFIDF_mean = metric(true_data, user_pred_merged_mean_B25_TFIDF_train, k=20)\n",
        "\n",
        "score_lfm_B25_TFIDF_sum = metric(true_data, user_pred_merged_sum_lfm_B25_TFIDF_train, k=20)\n",
        "score_lfm_B25_TFIDF_mean = metric(true_data, user_pred_merged_mean_lfm_B25_TFIDF_train, k=20)"
      ],
      "execution_count": 0,
      "outputs": [
        {
          "output_type": "stream",
          "text": [
            "CPU times: user 19 s, sys: 195 ms, total: 19.2 s\n",
            "Wall time: 19.2 s\n"
          ],
          "name": "stdout"
        }
      ]
    },
    {
      "cell_type": "code",
      "metadata": {
        "id": "-pt3vqqNIkCn",
        "colab_type": "code",
        "outputId": "79c87598-3c97-4092-8d89-334409169ae2",
        "colab": {
          "base_uri": "https://localhost:8080/",
          "height": 225
        }
      },
      "source": [
        "print('score_lfm:', score_lfm)\n",
        "print('score_B25', score_B25)\n",
        "print('score_TFIDF', score_TFIDF)\n",
        "print()\n",
        "print('score_lfm_B25_sum', score_lfm_B25_sum)\n",
        "print('score_lfm_B25_mean', score_lfm_B25_mean)\n",
        "print()\n",
        "print('score_B25_TFIDF_sum', score_B25_TFIDF_sum)\n",
        "print('score_B25_TFIDF_mean', score_B25_TFIDF_mean)\n",
        "print()\n",
        "print('score_lfm_B25_TFIDF_sum', score_lfm_B25_TFIDF_sum)\n",
        "print('score_lfm_B25_TFIDF_mean', score_lfm_B25_TFIDF_mean)"
      ],
      "execution_count": 0,
      "outputs": [
        {
          "output_type": "stream",
          "text": [
            "score_lfm: 0.0096542468871209\n",
            "score_B25 0.018955117662205156\n",
            "score_TFIDF 0.018890730071554247\n",
            "\n",
            "score_lfm_B25_sum 0.016199855095761648\n",
            "score_lfm_B25_mean 0.016199855095761648\n",
            "\n",
            "score_B25_TFIDF_sum 0.019352291209488146\n",
            "score_B25_TFIDF_mean 0.019352291209488146\n",
            "\n",
            "score_lfm_B25_TFIDF_sum 0.01452673848322284\n",
            "score_lfm_B25_TFIDF_mean 0.01452673848322284\n"
          ],
          "name": "stdout"
        }
      ]
    },
    {
      "cell_type": "code",
      "metadata": {
        "id": "TMfunsanLg4R",
        "colab_type": "code",
        "colab": {}
      },
      "source": [
        ""
      ],
      "execution_count": 0,
      "outputs": []
    },
    {
      "cell_type": "code",
      "metadata": {
        "id": "rQOEynQsLib8",
        "colab_type": "code",
        "outputId": "955e2ddf-5604-4b59-935d-ee6502fc6fcc",
        "colab": {
          "base_uri": "https://localhost:8080/",
          "height": 52
        }
      },
      "source": [
        "%%time\n",
        "\n",
        "user_pred_model1_train1 = merge_user_pred(\n",
        "    user_pred_list=[user_pred_merged_B25_train1, user_pred_merged_TFIDF_train1], \n",
        "    test_users=test_users, \n",
        "    agg_func=np.mean,\n",
        "    top_pred=100\n",
        ")\n",
        "joblib.dump(user_pred_model1_train1, os.path.join(DATA_PATH, 'models', 'user_pred_model1_train1.pkl'))"
      ],
      "execution_count": 0,
      "outputs": [
        {
          "output_type": "stream",
          "text": [
            "CPU times: user 5min 47s, sys: 752 ms, total: 5min 48s\n",
            "Wall time: 5min 48s\n"
          ],
          "name": "stdout"
        }
      ]
    },
    {
      "cell_type": "code",
      "metadata": {
        "id": "-LAB1x6zN0q9",
        "colab_type": "code",
        "outputId": "9d7a7a9a-2aa8-4893-ec10-4dd3f43726f5",
        "colab": {
          "base_uri": "https://localhost:8080/",
          "height": 52
        }
      },
      "source": [
        "%%time\n",
        "\n",
        "user_pred_model1_train = merge_user_pred(\n",
        "    user_pred_list=[user_pred_merged_B25_train, user_pred_merged_TFIDF_train], \n",
        "    test_users=test_users, \n",
        "    agg_func=np.mean,\n",
        "    top_pred=100\n",
        ")\n",
        "joblib.dump(user_pred_model1_train, os.path.join(DATA_PATH, 'models', 'user_pred_model1_train.pkl'))"
      ],
      "execution_count": 0,
      "outputs": [
        {
          "output_type": "stream",
          "text": [
            "CPU times: user 5min 19s, sys: 714 ms, total: 5min 19s\n",
            "Wall time: 5min 20s\n"
          ],
          "name": "stdout"
        }
      ]
    },
    {
      "cell_type": "code",
      "metadata": {
        "id": "8DZhVO__N3bZ",
        "colab_type": "code",
        "outputId": "39ac09c6-7b5a-4b5e-add6-73c8e16bd625",
        "colab": {
          "base_uri": "https://localhost:8080/",
          "height": 52
        }
      },
      "source": [
        "%%time\n",
        "\n",
        "user_pred_model1 = merge_user_pred(\n",
        "    user_pred_list=[user_pred_merged_B25, user_pred_merged_TFIDF], \n",
        "    test_users=test_users, \n",
        "    agg_func=np.mean,\n",
        "    top_pred=100\n",
        ")\n",
        "joblib.dump(user_pred_model1, os.path.join(DATA_PATH, 'models', 'user_pred_model1.pkl'))"
      ],
      "execution_count": 0,
      "outputs": [
        {
          "output_type": "stream",
          "text": [
            "CPU times: user 4min 54s, sys: 641 ms, total: 4min 54s\n",
            "Wall time: 4min 54s\n"
          ],
          "name": "stdout"
        }
      ]
    },
    {
      "cell_type": "code",
      "metadata": {
        "id": "deSKrl2YOO-A",
        "colab_type": "code",
        "outputId": "23a5768c-4b22-418c-8387-f3ac6cb959ca",
        "colab": {
          "base_uri": "https://localhost:8080/",
          "height": 52
        }
      },
      "source": [
        "%%time\n",
        "\n",
        "user_pred_model1_train1 = joblib.load(os.path.join(DATA_PATH, 'models', 'user_pred_model1_train1.pkl'))\n",
        "user_pred_model1_train = joblib.load(os.path.join(DATA_PATH, 'models', 'user_pred_model1_train.pkl'))\n",
        "user_pred_model1 = joblib.load(os.path.join(DATA_PATH, 'models', 'user_pred_model1.pkl'))"
      ],
      "execution_count": 0,
      "outputs": [
        {
          "output_type": "stream",
          "text": [
            "CPU times: user 11.9 s, sys: 220 ms, total: 12.1 s\n",
            "Wall time: 12.1 s\n"
          ],
          "name": "stdout"
        }
      ]
    },
    {
      "cell_type": "markdown",
      "metadata": {
        "id": "xow7LQ--CQST",
        "colab_type": "text"
      },
      "source": [
        "Получение прогнозов от модели 2 уровня"
      ]
    },
    {
      "cell_type": "code",
      "metadata": {
        "id": "8WmyLUWzhk-y",
        "colab_type": "code",
        "colab": {}
      },
      "source": [
        "def create_df(transactions, catalogue, ratings, bookmarks, test_users, user_pred_model1, transactions_test):\n",
        "    '''построение признаков для бустинга'''\n",
        "\n",
        "    transactions_ext = union_data(transactions, catalogue, ratings, bookmarks)\n",
        "    catalogue_ext = add_attr_catalogue(catalogue, n_top=25)\n",
        "    catalogue_ext = catalogue_ext.join(pd.get_dummies(catalogue_ext['type'])).drop('type', axis=1)\n",
        "\n",
        "    # признаки фильмов\n",
        "    agg_funcs = {\n",
        "        'add_bookmark': np.sum, \n",
        "        'watched_reality': np.sum, \n",
        "        'all_duration': lambda x: round(np.max(x) / 60), \n",
        "        'rating_median': np.max,\n",
        "        'watched_share': np.mean, \n",
        "        'device_type_cat': lambda x: stats.mode(x)[0][0], \n",
        "        'device_manufacturer_cat':lambda x: stats.mode(x)[0][0],\n",
        "    }\n",
        "    columns = list(agg_funcs.keys())\n",
        "    elements_transactions = (\n",
        "        transactions_ext\n",
        "            .groupby('element_uid')[columns]\n",
        "            .agg(agg_funcs)\n",
        "            .fillna({'rating_median': 6})\n",
        "            .reset_index()\n",
        "            .rename(columns={'watched_reality': 'watched_cnt'})\n",
        "    )\n",
        "\n",
        "    active_users_cnt = (\n",
        "        transactions_ext\n",
        "            .groupby('user_uid')\n",
        "            .size()\n",
        "            .to_frame('cnt')\n",
        "            .query('cnt > 10')\n",
        "            .shape[0]\n",
        "    )\n",
        "    elements_transactions['watched_cnt'] = elements_transactions['watched_cnt'] / active_users_cnt\n",
        "\n",
        "    columns = [\n",
        "        'element_uid', \n",
        "        'feature_1',\n",
        "        'feature_2',\n",
        "        'feature_3',\n",
        "        'feature_4',\n",
        "        'feature_5',\n",
        "        'available_purchase',\n",
        "        'available_rent',\n",
        "        'available_subscription',\n",
        "        'movie',\n",
        "        'multipart_movie',\n",
        "        'series'\n",
        "    ]\n",
        "    elements_transactions = elements_transactions.merge(catalogue_ext[columns], on='element_uid')\n",
        "\n",
        "    # признаки пользователей\n",
        "\n",
        "    users = set(test_users) & set(transactions_ext['user_uid'])\n",
        "    df_users = pd.DataFrame(index=users)\n",
        "    df_users.index.name = 'user_uid'\n",
        "\n",
        "    # продолжительность пользования сайтом\n",
        "    df_users['durations_ts'] = (\n",
        "        transactions_ext\n",
        "            .query('user_uid in @users')\n",
        "            .groupby('user_uid')['ts']\n",
        "            .agg(['min', 'max'])\n",
        "            .rename(columns={'min': 'min_ts', 'max': 'max_ts'})\n",
        "            .eval('(max_ts - min_ts) / 100')\n",
        "            .round()\n",
        "    )\n",
        "\n",
        "    # среднее время просмотра, средняя доля времени просморов, частый дейвайс, частый производитель\n",
        "    agg_funcs = {\n",
        "        'watched_time': 'mean', \n",
        "        'watched_share': 'mean', \n",
        "        'device_type_cat': lambda x: stats.mode(x)[0][0], \n",
        "        'device_manufacturer_cat': lambda x: stats.mode(x)[0][0]\n",
        "    }\n",
        "    columns = list(agg_funcs.keys())\n",
        "    df_users[columns] = (\n",
        "        transactions_ext\n",
        "            .query('user_uid in @users')\n",
        "            .groupby('user_uid')[columns]\n",
        "            .agg(agg_funcs)\n",
        "    )\n",
        "\n",
        "    # доли просмотров каждого вида контента, вида подписки\n",
        "    share_type_movie_consumption_mode = pd.get_dummies(\n",
        "        transactions_ext\n",
        "            .query('user_uid in @users')\n",
        "            .set_index('user_uid')[['type', 'consumption_mode']]\n",
        "    ).groupby('user_uid').mean()\n",
        "    df_users[share_type_movie_consumption_mode.columns] = share_type_movie_consumption_mode\n",
        "\n",
        "    # какие рейтинги ставит пользователь фильму\n",
        "    rating_cnt = (\n",
        "        ratings\n",
        "            .query('user_uid in @users')\n",
        "            .groupby('user_uid')['rating']\n",
        "            .value_counts()\n",
        "            .to_frame('cnt')\n",
        "            .unstack('rating')['cnt']\n",
        "            .fillna(0)\n",
        "    )\n",
        "    rating_cnt = rating_cnt.div(rating_cnt.sum(axis=1), axis=0)\n",
        "    columns = list(map(lambda x: 'rating_%s' % x, rating_cnt.columns))\n",
        "    df_users[columns] = rating_cnt\n",
        "    df_users[columns] = df_users[columns].fillna(df_users[columns].mean())\n",
        "\n",
        "    # доля просмотренных фильмов после добавления в закладки\n",
        "    df_users['bookmark_share'] = (\n",
        "        transactions\n",
        "            .merge(\n",
        "                bookmarks, \n",
        "                on=['element_uid', 'user_uid'], \n",
        "                how='right', \n",
        "                suffixes=['_trans', '_bookmark'])\n",
        "            .fillna(value={'ts_trans': 0, 'watched_reality': 0})\n",
        "            .query('ts_bookmark < ts_trans or ts_trans == 0')\n",
        "            .groupby('user_uid')['watched_reality'].mean()\n",
        "    )\n",
        "    df_users.fillna(value={'bookmark_share': 0}, inplace=True)\n",
        "\n",
        "    df_users.reset_index(inplace=True)\n",
        "\n",
        "    # обработка прогнозов\n",
        "    user_pred_df = (\n",
        "        pd.Series(user_pred_model1).apply(lambda x: pd.Series(x))\n",
        "        .stack()\n",
        "        .to_frame('element_uid')\n",
        "        .reset_index()\n",
        "        .rename(columns={\n",
        "            'level_0': 'user_uid', \n",
        "            'level_1': 'rank'\n",
        "            })\n",
        "    )\n",
        "\n",
        "    # добавляем признак смотрел/не смотрел\n",
        "    user_pred_df = user_pred_df.merge(\n",
        "        transactions_test[['user_uid', 'element_uid', 'watched_reality']],\n",
        "        on=['user_uid', 'element_uid'],\n",
        "        how='left'\n",
        "    ).fillna(value={'watched_reality': 0})\n",
        "\n",
        "    # объединение данных\n",
        "    df_modif = (\n",
        "        user_pred_df\n",
        "            .merge(\n",
        "                df_users,\n",
        "                on='user_uid',\n",
        "                suffixes=['', '_user']\n",
        "            ).merge(\n",
        "                elements_transactions,\n",
        "                on='element_uid',\n",
        "                suffixes=['_user', '_film']\n",
        "            )\n",
        "    )\n",
        "\n",
        "    # врядли эти признаки помогут\n",
        "    columns = [\n",
        "        'device_type_cat_user',\n",
        "        'device_manufacturer_cat_user',\n",
        "        'device_type_cat_film',\n",
        "        'device_manufacturer_cat_film'\n",
        "    ]\n",
        "    df_modif.drop(columns, axis=1, inplace=True)\n",
        "\n",
        "    df_modif.sort_values(['user_uid', 'rank'], inplace=True)\n",
        "    df_modif.set_index(['user_uid', 'element_uid'], inplace=True)\n",
        "\n",
        "    return df_modif"
      ],
      "execution_count": 0,
      "outputs": []
    },
    {
      "cell_type": "code",
      "metadata": {
        "id": "2N3AN1HxBThL",
        "colab_type": "code",
        "colab": {}
      },
      "source": [
        "def lgbm_fit(df_modif_train, verbose=False):\n",
        "    X_train = df_modif_train.drop('watched_reality', axis=1).values\n",
        "    y_train = df_modif_train['watched_reality'].values\n",
        "    q_train = df_modif_train.reset_index().groupby('user_uid', sort=False).size().values\n",
        "\n",
        "    gbm = lgb.LGBMRanker()\n",
        "    gbm.fit(\n",
        "        X_train, \n",
        "        y_train, \n",
        "        group=q_train, \n",
        "        eval_set=[(X_train, y_train)],\n",
        "        eval_group=[q_train], \n",
        "        early_stopping_rounds=100, \n",
        "        verbose=verbose,\n",
        "        eval_metric='ndcg'\n",
        "    )\n",
        "    del X_train\n",
        "    del y_train\n",
        "\n",
        "    return gbm\n",
        "\n",
        "def create_user_dict_lgb(gbm, df_modif):\n",
        "\n",
        "    user_pred_lgbm_df = df_modif.reset_index()\n",
        "    user_pred_lgbm_df['rank'] = gbm.predict(df_modif.drop('watched_reality', axis=1).values)\n",
        "    user_pred_lgbm = (\n",
        "        user_pred_lgbm_df\n",
        "            .sort_values(['user_uid', 'rank'], ascending=[True, False])\n",
        "            .groupby('user_uid', sort=False)\n",
        "            .apply(lambda x: x['element_uid'].tolist())\n",
        "            .to_dict()\n",
        "    )\n",
        "\n",
        "    other_users = list(set(test_users) - set(user_pred_lgbm_df['user_uid']))\n",
        "    top_films = user_pred_lgbm_df.groupby('element_uid')['rank'].sum().sort_values(ascending=False).index.tolist()[:20]\n",
        "\n",
        "    for user_uid in other_users:\n",
        "        user_pred_lgbm[user_uid] = top_films\n",
        "\n",
        "    del user_pred_lgbm_df\n",
        "\n",
        "    return user_pred_lgbm"
      ],
      "execution_count": 0,
      "outputs": []
    },
    {
      "cell_type": "code",
      "metadata": {
        "id": "MI3zdtO05e3U",
        "colab_type": "code",
        "outputId": "a751f945-9c9b-4d63-c937-425f679a40d9",
        "colab": {
          "base_uri": "https://localhost:8080/",
          "height": 52
        }
      },
      "source": [
        "%%time\n",
        "\n",
        "df_modif_train1 = create_df(\n",
        "    transactions_train, catalogue, ratings_train, \n",
        "    bookmarks_train, test_users, user_pred_model1_train1, transactions_train2\n",
        ")"
      ],
      "execution_count": 0,
      "outputs": [
        {
          "output_type": "stream",
          "text": [
            "CPU times: user 1min 51s, sys: 1.67 s, total: 1min 53s\n",
            "Wall time: 1min 53s\n"
          ],
          "name": "stdout"
        }
      ]
    },
    {
      "cell_type": "code",
      "metadata": {
        "id": "nHE_PZJ9rUr_",
        "colab_type": "code",
        "outputId": "2f4f2e62-a91a-40e5-8782-c048945a3fd0",
        "colab": {
          "base_uri": "https://localhost:8080/",
          "height": 52
        }
      },
      "source": [
        "%%time\n",
        "\n",
        "df_modif_train = create_df(\n",
        "    transactions, catalogue, ratings, \n",
        "    bookmarks, test_users, user_pred_model1_train, transactions_test\n",
        ")"
      ],
      "execution_count": 0,
      "outputs": [
        {
          "output_type": "stream",
          "text": [
            "CPU times: user 2min 17s, sys: 2.89 s, total: 2min 20s\n",
            "Wall time: 2min 20s\n"
          ],
          "name": "stdout"
        }
      ]
    },
    {
      "cell_type": "code",
      "metadata": {
        "id": "k6VWfiq_zuxV",
        "colab_type": "code",
        "outputId": "85f0108b-7729-4139-bf93-41d57e649f5d",
        "colab": {
          "base_uri": "https://localhost:8080/",
          "height": 253
        }
      },
      "source": [
        "df_modif_train.head()"
      ],
      "execution_count": 0,
      "outputs": [
        {
          "output_type": "execute_result",
          "data": {
            "text/html": [
              "<div>\n",
              "<style scoped>\n",
              "    .dataframe tbody tr th:only-of-type {\n",
              "        vertical-align: middle;\n",
              "    }\n",
              "\n",
              "    .dataframe tbody tr th {\n",
              "        vertical-align: top;\n",
              "    }\n",
              "\n",
              "    .dataframe thead th {\n",
              "        text-align: right;\n",
              "    }\n",
              "</style>\n",
              "<table border=\"1\" class=\"dataframe\">\n",
              "  <thead>\n",
              "    <tr style=\"text-align: right;\">\n",
              "      <th></th>\n",
              "      <th></th>\n",
              "      <th>rank</th>\n",
              "      <th>watched_reality</th>\n",
              "      <th>durations_ts</th>\n",
              "      <th>watched_time</th>\n",
              "      <th>watched_share_user</th>\n",
              "      <th>type_movie</th>\n",
              "      <th>type_multipart_movie</th>\n",
              "      <th>type_series</th>\n",
              "      <th>consumption_mode_P</th>\n",
              "      <th>consumption_mode_R</th>\n",
              "      <th>consumption_mode_S</th>\n",
              "      <th>rating_0</th>\n",
              "      <th>rating_1</th>\n",
              "      <th>rating_2</th>\n",
              "      <th>rating_3</th>\n",
              "      <th>rating_4</th>\n",
              "      <th>rating_5</th>\n",
              "      <th>rating_6</th>\n",
              "      <th>rating_7</th>\n",
              "      <th>rating_8</th>\n",
              "      <th>rating_9</th>\n",
              "      <th>rating_10</th>\n",
              "      <th>bookmark_share</th>\n",
              "      <th>add_bookmark</th>\n",
              "      <th>watched_cnt</th>\n",
              "      <th>all_duration</th>\n",
              "      <th>rating_median</th>\n",
              "      <th>watched_share_film</th>\n",
              "      <th>feature_1</th>\n",
              "      <th>feature_2</th>\n",
              "      <th>feature_3</th>\n",
              "      <th>feature_4</th>\n",
              "      <th>feature_5</th>\n",
              "      <th>available_purchase</th>\n",
              "      <th>available_rent</th>\n",
              "      <th>available_subscription</th>\n",
              "      <th>movie</th>\n",
              "      <th>multipart_movie</th>\n",
              "      <th>series</th>\n",
              "    </tr>\n",
              "    <tr>\n",
              "      <th>user_uid</th>\n",
              "      <th>element_uid</th>\n",
              "      <th></th>\n",
              "      <th></th>\n",
              "      <th></th>\n",
              "      <th></th>\n",
              "      <th></th>\n",
              "      <th></th>\n",
              "      <th></th>\n",
              "      <th></th>\n",
              "      <th></th>\n",
              "      <th></th>\n",
              "      <th></th>\n",
              "      <th></th>\n",
              "      <th></th>\n",
              "      <th></th>\n",
              "      <th></th>\n",
              "      <th></th>\n",
              "      <th></th>\n",
              "      <th></th>\n",
              "      <th></th>\n",
              "      <th></th>\n",
              "      <th></th>\n",
              "      <th></th>\n",
              "      <th></th>\n",
              "      <th></th>\n",
              "      <th></th>\n",
              "      <th></th>\n",
              "      <th></th>\n",
              "      <th></th>\n",
              "      <th></th>\n",
              "      <th></th>\n",
              "      <th></th>\n",
              "      <th></th>\n",
              "      <th></th>\n",
              "      <th></th>\n",
              "      <th></th>\n",
              "      <th></th>\n",
              "      <th></th>\n",
              "      <th></th>\n",
              "      <th></th>\n",
              "    </tr>\n",
              "  </thead>\n",
              "  <tbody>\n",
              "    <tr>\n",
              "      <th rowspan=\"5\" valign=\"top\">0</th>\n",
              "      <th>3757.0</th>\n",
              "      <td>0</td>\n",
              "      <td>0.0</td>\n",
              "      <td>9245.0</td>\n",
              "      <td>4372.721649</td>\n",
              "      <td>0.625719</td>\n",
              "      <td>0.969072</td>\n",
              "      <td>0.0</td>\n",
              "      <td>0.030928</td>\n",
              "      <td>0.010309</td>\n",
              "      <td>0.0</td>\n",
              "      <td>0.989691</td>\n",
              "      <td>0.00275</td>\n",
              "      <td>0.004314</td>\n",
              "      <td>0.024382</td>\n",
              "      <td>0.011015</td>\n",
              "      <td>0.044985</td>\n",
              "      <td>0.033656</td>\n",
              "      <td>0.063766</td>\n",
              "      <td>0.070644</td>\n",
              "      <td>0.183676</td>\n",
              "      <td>0.145433</td>\n",
              "      <td>0.415379</td>\n",
              "      <td>0.0</td>\n",
              "      <td>383.0</td>\n",
              "      <td>0.073293</td>\n",
              "      <td>90.0</td>\n",
              "      <td>8.0</td>\n",
              "      <td>0.600995</td>\n",
              "      <td>4.12411e+07</td>\n",
              "      <td>0.724104</td>\n",
              "      <td>16</td>\n",
              "      <td>1.14027</td>\n",
              "      <td>0.654707</td>\n",
              "      <td>1</td>\n",
              "      <td>1</td>\n",
              "      <td>1</td>\n",
              "      <td>1</td>\n",
              "      <td>0</td>\n",
              "      <td>0</td>\n",
              "    </tr>\n",
              "    <tr>\n",
              "      <th>2245.0</th>\n",
              "      <td>1</td>\n",
              "      <td>1.0</td>\n",
              "      <td>9245.0</td>\n",
              "      <td>4372.721649</td>\n",
              "      <td>0.625719</td>\n",
              "      <td>0.969072</td>\n",
              "      <td>0.0</td>\n",
              "      <td>0.030928</td>\n",
              "      <td>0.010309</td>\n",
              "      <td>0.0</td>\n",
              "      <td>0.989691</td>\n",
              "      <td>0.00275</td>\n",
              "      <td>0.004314</td>\n",
              "      <td>0.024382</td>\n",
              "      <td>0.011015</td>\n",
              "      <td>0.044985</td>\n",
              "      <td>0.033656</td>\n",
              "      <td>0.063766</td>\n",
              "      <td>0.070644</td>\n",
              "      <td>0.183676</td>\n",
              "      <td>0.145433</td>\n",
              "      <td>0.415379</td>\n",
              "      <td>0.0</td>\n",
              "      <td>956.0</td>\n",
              "      <td>0.223286</td>\n",
              "      <td>110.0</td>\n",
              "      <td>10.0</td>\n",
              "      <td>0.732245</td>\n",
              "      <td>4.09753e+07</td>\n",
              "      <td>0.784022</td>\n",
              "      <td>45</td>\n",
              "      <td>1.14027</td>\n",
              "      <td>0.449667</td>\n",
              "      <td>1</td>\n",
              "      <td>1</td>\n",
              "      <td>1</td>\n",
              "      <td>1</td>\n",
              "      <td>0</td>\n",
              "      <td>0</td>\n",
              "    </tr>\n",
              "    <tr>\n",
              "      <th>283.0</th>\n",
              "      <td>2</td>\n",
              "      <td>0.0</td>\n",
              "      <td>9245.0</td>\n",
              "      <td>4372.721649</td>\n",
              "      <td>0.625719</td>\n",
              "      <td>0.969072</td>\n",
              "      <td>0.0</td>\n",
              "      <td>0.030928</td>\n",
              "      <td>0.010309</td>\n",
              "      <td>0.0</td>\n",
              "      <td>0.989691</td>\n",
              "      <td>0.00275</td>\n",
              "      <td>0.004314</td>\n",
              "      <td>0.024382</td>\n",
              "      <td>0.011015</td>\n",
              "      <td>0.044985</td>\n",
              "      <td>0.033656</td>\n",
              "      <td>0.063766</td>\n",
              "      <td>0.070644</td>\n",
              "      <td>0.183676</td>\n",
              "      <td>0.145433</td>\n",
              "      <td>0.415379</td>\n",
              "      <td>0.0</td>\n",
              "      <td>391.0</td>\n",
              "      <td>0.079113</td>\n",
              "      <td>100.0</td>\n",
              "      <td>8.0</td>\n",
              "      <td>0.672346</td>\n",
              "      <td>3.94081e+07</td>\n",
              "      <td>0.711774</td>\n",
              "      <td>18</td>\n",
              "      <td>1.14027</td>\n",
              "      <td>0.654707</td>\n",
              "      <td>1</td>\n",
              "      <td>1</td>\n",
              "      <td>1</td>\n",
              "      <td>1</td>\n",
              "      <td>0</td>\n",
              "      <td>0</td>\n",
              "    </tr>\n",
              "    <tr>\n",
              "      <th>8152.0</th>\n",
              "      <td>3</td>\n",
              "      <td>0.0</td>\n",
              "      <td>9245.0</td>\n",
              "      <td>4372.721649</td>\n",
              "      <td>0.625719</td>\n",
              "      <td>0.969072</td>\n",
              "      <td>0.0</td>\n",
              "      <td>0.030928</td>\n",
              "      <td>0.010309</td>\n",
              "      <td>0.0</td>\n",
              "      <td>0.989691</td>\n",
              "      <td>0.00275</td>\n",
              "      <td>0.004314</td>\n",
              "      <td>0.024382</td>\n",
              "      <td>0.011015</td>\n",
              "      <td>0.044985</td>\n",
              "      <td>0.033656</td>\n",
              "      <td>0.063766</td>\n",
              "      <td>0.070644</td>\n",
              "      <td>0.183676</td>\n",
              "      <td>0.145433</td>\n",
              "      <td>0.415379</td>\n",
              "      <td>0.0</td>\n",
              "      <td>342.0</td>\n",
              "      <td>0.123861</td>\n",
              "      <td>90.0</td>\n",
              "      <td>8.0</td>\n",
              "      <td>0.677251</td>\n",
              "      <td>3.95224e+07</td>\n",
              "      <td>0.691419</td>\n",
              "      <td>17</td>\n",
              "      <td>1.14027</td>\n",
              "      <td>0.68041</td>\n",
              "      <td>1</td>\n",
              "      <td>1</td>\n",
              "      <td>1</td>\n",
              "      <td>1</td>\n",
              "      <td>0</td>\n",
              "      <td>0</td>\n",
              "    </tr>\n",
              "    <tr>\n",
              "      <th>10061.0</th>\n",
              "      <td>4</td>\n",
              "      <td>0.0</td>\n",
              "      <td>9245.0</td>\n",
              "      <td>4372.721649</td>\n",
              "      <td>0.625719</td>\n",
              "      <td>0.969072</td>\n",
              "      <td>0.0</td>\n",
              "      <td>0.030928</td>\n",
              "      <td>0.010309</td>\n",
              "      <td>0.0</td>\n",
              "      <td>0.989691</td>\n",
              "      <td>0.00275</td>\n",
              "      <td>0.004314</td>\n",
              "      <td>0.024382</td>\n",
              "      <td>0.011015</td>\n",
              "      <td>0.044985</td>\n",
              "      <td>0.033656</td>\n",
              "      <td>0.063766</td>\n",
              "      <td>0.070644</td>\n",
              "      <td>0.183676</td>\n",
              "      <td>0.145433</td>\n",
              "      <td>0.415379</td>\n",
              "      <td>0.0</td>\n",
              "      <td>960.0</td>\n",
              "      <td>0.206631</td>\n",
              "      <td>100.0</td>\n",
              "      <td>7.0</td>\n",
              "      <td>0.697307</td>\n",
              "      <td>4.15631e+07</td>\n",
              "      <td>0.66436</td>\n",
              "      <td>26</td>\n",
              "      <td>1.14193</td>\n",
              "      <td>0.654707</td>\n",
              "      <td>1</td>\n",
              "      <td>1</td>\n",
              "      <td>1</td>\n",
              "      <td>1</td>\n",
              "      <td>0</td>\n",
              "      <td>0</td>\n",
              "    </tr>\n",
              "  </tbody>\n",
              "</table>\n",
              "</div>"
            ],
            "text/plain": [
              "                      rank  watched_reality  ...  multipart_movie  series\n",
              "user_uid element_uid                         ...                         \n",
              "0        3757.0          0              0.0  ...                0       0\n",
              "         2245.0          1              1.0  ...                0       0\n",
              "         283.0           2              0.0  ...                0       0\n",
              "         8152.0          3              0.0  ...                0       0\n",
              "         10061.0         4              0.0  ...                0       0\n",
              "\n",
              "[5 rows x 39 columns]"
            ]
          },
          "metadata": {
            "tags": []
          },
          "execution_count": 39
        }
      ]
    },
    {
      "cell_type": "code",
      "metadata": {
        "id": "4RKgGFZfBM93",
        "colab_type": "code",
        "colab": {}
      },
      "source": [
        "true_data = create_true_data(transactions_test, test_users)"
      ],
      "execution_count": 0,
      "outputs": []
    },
    {
      "cell_type": "code",
      "metadata": {
        "id": "dQ8TgSD0gYy5",
        "colab_type": "code",
        "colab": {}
      },
      "source": [
        ""
      ],
      "execution_count": 0,
      "outputs": []
    },
    {
      "cell_type": "code",
      "metadata": {
        "id": "H35iVVdVMa9r",
        "colab_type": "code",
        "outputId": "c0399fb9-098e-4f54-f072-5e2270463113",
        "colab": {
          "base_uri": "https://localhost:8080/",
          "height": 52
        }
      },
      "source": [
        "%%time\n",
        "\n",
        "gbm = lgbm_fit(df_modif_train1)\n",
        "user_pred_lgbm = create_user_dict_lgb(gbm, df_modif_train)"
      ],
      "execution_count": 0,
      "outputs": [
        {
          "output_type": "stream",
          "text": [
            "CPU times: user 6min 30s, sys: 7.15 s, total: 6min 38s\n",
            "Wall time: 2min 3s\n"
          ],
          "name": "stdout"
        }
      ]
    },
    {
      "cell_type": "code",
      "metadata": {
        "id": "rxSv9pP2y_TE",
        "colab_type": "code",
        "outputId": "7673c26d-74ca-4901-9372-8101ae7078eb",
        "colab": {
          "base_uri": "https://localhost:8080/",
          "height": 35
        }
      },
      "source": [
        "score_lgbm = metric(true_data, user_pred_lgbm, k=20)\n",
        "score_lgbm"
      ],
      "execution_count": 0,
      "outputs": [
        {
          "output_type": "execute_result",
          "data": {
            "text/plain": [
              "0.02619730166303457"
            ]
          },
          "metadata": {
            "tags": []
          },
          "execution_count": 60
        }
      ]
    },
    {
      "cell_type": "code",
      "metadata": {
        "id": "szGXb1q9xY4t",
        "colab_type": "code",
        "outputId": "5e8fa37c-cadd-41f0-9d61-134393083d41",
        "colab": {
          "base_uri": "https://localhost:8080/",
          "height": 35
        }
      },
      "source": [
        "score_lfm = metric(true_data, user_pred_model1_train, k=20)\n",
        "score_lfm"
      ],
      "execution_count": 0,
      "outputs": [
        {
          "output_type": "execute_result",
          "data": {
            "text/plain": [
              "0.019352291209488146"
            ]
          },
          "metadata": {
            "tags": []
          },
          "execution_count": 52
        }
      ]
    },
    {
      "cell_type": "code",
      "metadata": {
        "id": "TXKw_kwX7jtJ",
        "colab_type": "code",
        "colab": {}
      },
      "source": [
        ""
      ],
      "execution_count": 0,
      "outputs": []
    },
    {
      "cell_type": "code",
      "metadata": {
        "id": "-6qkIo8c7jpM",
        "colab_type": "code",
        "colab": {}
      },
      "source": [
        ""
      ],
      "execution_count": 0,
      "outputs": []
    },
    {
      "cell_type": "markdown",
      "metadata": {
        "id": "blaZsK1uByUD",
        "colab_type": "text"
      },
      "source": [
        "Финал"
      ]
    },
    {
      "cell_type": "code",
      "metadata": {
        "id": "mvr0aUSo7eI6",
        "colab_type": "code",
        "outputId": "ca344285-3efb-4f9e-c8ca-843120fa16c0",
        "colab": {
          "base_uri": "https://localhost:8080/",
          "height": 52
        }
      },
      "source": [
        "%%time\n",
        "\n",
        "df_modif = create_df(\n",
        "    transactions, catalogue, ratings, \n",
        "    bookmarks, test_users, user_pred_model1, transactions_test\n",
        ")\n",
        "\n",
        "gbm = lgbm_fit(df_modif_train)\n",
        "user_pred_lgbm = create_user_dict_lgb(gbm, df_modif)\n",
        "\n",
        "with open('answer_lgbm.json', 'w') as f:\n",
        "    json.dump(user_pred_lgbm, f)"
      ],
      "execution_count": 0,
      "outputs": [
        {
          "output_type": "stream",
          "text": [
            "CPU times: user 10min 28s, sys: 8.04 s, total: 10min 36s\n",
            "Wall time: 4min 54s\n"
          ],
          "name": "stdout"
        }
      ]
    },
    {
      "cell_type": "markdown",
      "metadata": {
        "id": "LTnhnO-goeIG",
        "colab_type": "text"
      },
      "source": [
        "![image.png](data:image/png;base64,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)"
      ]
    },
    {
      "cell_type": "code",
      "metadata": {
        "id": "Lxru1i7eTb1M",
        "colab_type": "code",
        "colab": {}
      },
      "source": [
        ""
      ],
      "execution_count": 0,
      "outputs": []
    }
  ]
}